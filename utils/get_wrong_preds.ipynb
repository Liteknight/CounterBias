{
 "cells": [
  {
   "cell_type": "code",
   "id": "initial_id",
   "metadata": {
    "collapsed": true,
    "ExecuteTime": {
     "end_time": "2024-07-18T19:59:23.713420Z",
     "start_time": "2024-07-18T19:59:23.664858Z"
    }
   },
   "source": [
    "import pandas as pd\n",
    "\n",
    "df = pd.read_csv('./moin_bias/preds_moin_bias.csv')\n",
    "df = df[df['preds_raw']>.2]"
   ],
   "execution_count": 2,
   "outputs": []
  },
  {
   "metadata": {
    "ExecuteTime": {
     "end_time": "2024-07-17T22:27:07.764857Z",
     "start_time": "2024-07-17T22:27:07.755958Z"
    }
   },
   "cell_type": "code",
   "source": "df",
   "id": "1fcf438bba182125",
   "execution_count": 2,
   "outputs": []
  },
  {
   "metadata": {
    "ExecuteTime": {
     "end_time": "2024-07-17T22:27:07.772657Z",
     "start_time": "2024-07-17T22:27:07.765391Z"
    }
   },
   "cell_type": "code",
   "source": [
    "df2 = df[df['preds_raw_1']>.5]\n",
    "df2"
   ],
   "id": "371abf703bebaacd",
   "execution_count": 3,
   "outputs": []
  },
  {
   "metadata": {
    "ExecuteTime": {
     "end_time": "2024-07-17T22:28:00.685470Z",
     "start_time": "2024-07-17T22:28:00.681864Z"
    }
   },
   "cell_type": "code",
   "source": "lst = [x for x in df2['Unnamed: 0.1']]",
   "id": "b8451fb07301461d",
   "execution_count": 8,
   "outputs": []
  },
  {
   "metadata": {
    "ExecuteTime": {
     "end_time": "2024-07-17T22:28:03.351350Z",
     "start_time": "2024-07-17T22:28:03.347565Z"
    }
   },
   "cell_type": "code",
   "source": "lst",
   "id": "bd57002ea37a1dd6",
   "execution_count": 9,
   "outputs": []
  },
  {
   "metadata": {
    "ExecuteTime": {
     "end_time": "2024-07-17T22:27:07.775099Z",
     "start_time": "2024-07-17T22:27:07.773208Z"
    }
   },
   "cell_type": "code",
   "source": "1-16/248",
   "id": "5563e09312547b77",
   "execution_count": 4,
   "outputs": []
  },
  {
   "metadata": {
    "ExecuteTime": {
     "end_time": "2024-07-17T22:27:07.777035Z",
     "start_time": "2024-07-17T22:27:07.775762Z"
    }
   },
   "cell_type": "code",
   "source": "",
   "id": "58779a9f891d4298",
   "execution_count": 4,
   "outputs": []
  }
 ],
 "metadata": {
  "kernelspec": {
   "display_name": "Python 3",
   "language": "python",
   "name": "python3"
  },
  "language_info": {
   "codemirror_mode": {
    "name": "ipython",
    "version": 2
   },
   "file_extension": ".py",
   "mimetype": "text/x-python",
   "name": "python",
   "nbconvert_exporter": "python",
   "pygments_lexer": "ipython2",
   "version": "2.7.6"
  }
 },
 "nbformat": 4,
 "nbformat_minor": 5
}
