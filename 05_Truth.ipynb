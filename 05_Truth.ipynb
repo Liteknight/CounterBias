{
 "cells": [
  {
   "cell_type": "code",
   "id": "initial_id",
   "metadata": {
    "collapsed": true,
    "ExecuteTime": {
     "end_time": "2024-07-09T23:48:46.375794Z",
     "start_time": "2024-07-09T23:48:45.719812Z"
    }
   },
   "source": [
    "import os, sys\n",
    "from pathlib import Path\n",
    "import torch\n",
    "import tifffile as tiff\n",
    "\n",
    "macaw_path = Path(os.getcwd())\n",
    "sys.path.append(str(macaw_path) +'/')\n",
    "\n",
    "ncomps = 50\n",
    "model_comps = 500\n",
    "dr_method = 'PCA'\n",
    "\n",
    "exp_name=\"far_bias\"\n",
    "\n",
    "test_path = train_path = macaw_path/exp_name/f'test_hc_data_PCA_{model_comps}.pkl'\n",
    "model_base_path = macaw_path/'models'/exp_name/f'{dr_method}_{model_comps}'/f'{ncomps}'"
   ],
   "execution_count": 1,
   "outputs": []
  },
  {
   "metadata": {
    "ExecuteTime": {
     "end_time": "2024-07-09T23:48:46.699722Z",
     "start_time": "2024-07-09T23:48:46.376708Z"
    }
   },
   "cell_type": "code",
   "source": [
    "import pickle\n",
    "\n",
    "with open(test_path, 'rb') as f:\n",
    "    test = pickle.load(f)\n",
    "    \n",
    "disease = test['disease']\n",
    "bias = test['bias']\n",
    "test_imgs = test['imgs']\n",
    "\n",
    "encoded_data = test['encoded_data']\n",
    "pca = test['pca']\n",
    "\n",
    "img_names = test['img_names']"
   ],
   "id": "c0e8522f070024f6",
   "execution_count": 2,
   "outputs": []
  },
  {
   "metadata": {
    "ExecuteTime": {
     "end_time": "2024-07-09T23:48:46.703067Z",
     "start_time": "2024-07-09T23:48:46.700550Z"
    }
   },
   "cell_type": "code",
   "source": [
    "with open(model_base_path/'hyperparameters.pkl', 'rb') as f:\n",
    "    hp = pickle.load(f)\n",
    "    \n",
    "ncomps= hp['ncomps']\n",
    "nevecs= hp['nevecs']\n",
    "nbasecomps= hp['nbasecomps']\n",
    "ncauses= hp['ncauses']\n",
    "crop_size= hp['crop_size']"
   ],
   "id": "ffb6c3fe15b1243c",
   "execution_count": 3,
   "outputs": []
  },
  {
   "metadata": {
    "ExecuteTime": {
     "end_time": "2024-07-09T23:48:47.419626Z",
     "start_time": "2024-07-09T23:48:46.704211Z"
    }
   },
   "cell_type": "code",
   "source": [
    "import torchvision.transforms.functional as F\n",
    "import matplotlib.pyplot as plt\n",
    "import numpy as np\n",
    "\n",
    "def recons(age,bmi,latents, latent_offset=0):\n",
    "    \n",
    "    # bmi = scaler_b.inverse_transform(bmi)\n",
    "    # print(age)\n",
    "    latent_enc = np.zeros((latents.shape[0],ncomps))\n",
    "    latent_enc[:,latent_offset:latent_offset+latents.shape[1]] = latents    \n",
    "    # latent_enc = scaler_i.inverse_transform(latent_enc)\n",
    "    imgs = pca.inverse_transform(latent_enc)\n",
    "    return age,bmi,imgs"
   ],
   "id": "7016f42e95479030",
   "execution_count": 4,
   "outputs": []
  },
  {
   "metadata": {
    "ExecuteTime": {
     "end_time": "2024-07-09T23:48:47.437170Z",
     "start_time": "2024-07-09T23:48:47.420378Z"
    }
   },
   "cell_type": "code",
   "source": [
    "sample_imgs = test_imgs[:5,:]\n",
    "t = pca.transform(sample_imgs)\n",
    "X_recon = pca.inverse_transform(t)"
   ],
   "id": "302ad7c430bdfe1f",
   "execution_count": 5,
   "outputs": []
  },
  {
   "metadata": {
    "ExecuteTime": {
     "end_time": "2024-07-09T23:48:47.439863Z",
     "start_time": "2024-07-09T23:48:47.437782Z"
    }
   },
   "cell_type": "code",
   "source": [
    "def make_img(x):\n",
    "    img = (255*x/np.max(x)).reshape(crop_size,crop_size)\n",
    "    return np.clip(img,0, 255).astype('uint8')"
   ],
   "id": "8bc112239b561b94",
   "execution_count": 6,
   "outputs": []
  },
  {
   "metadata": {
    "ExecuteTime": {
     "end_time": "2024-07-09T23:48:47.442310Z",
     "start_time": "2024-07-09T23:48:47.440371Z"
    }
   },
   "cell_type": "code",
   "source": [
    "import glob\n",
    "from PIL import Image\n",
    "\n",
    "def make_gif(frames, save_name):    \n",
    "    frames = [Image.fromarray(f) for f in frames]\n",
    "    frame_one = frames[0]\n",
    "    return frame_one.save(save_name, format=\"GIF\", append_images=frames, save_all=True, duration=100, loop=0)"
   ],
   "id": "5c2c31c31c5d17ce",
   "execution_count": 7,
   "outputs": []
  },
  {
   "metadata": {
    "ExecuteTime": {
     "end_time": "2024-07-09T23:48:48.789572Z",
     "start_time": "2024-07-09T23:48:47.442880Z"
    }
   },
   "cell_type": "code",
   "source": [
    "from torchvision.transforms import CenterCrop\n",
    "from utils.customTransforms import ToFloatUKBB\n",
    "from monai.transforms import Compose, ToTensor\n",
    "transforms = Compose([ToTensor(),CenterCrop(crop_size),ToFloatUKBB()])"
   ],
   "id": "f68a67e80461df3e",
   "execution_count": 8,
   "outputs": []
  },
  {
   "metadata": {
    "ExecuteTime": {
     "end_time": "2024-07-09T23:48:49.342248Z",
     "start_time": "2024-07-09T23:48:48.790174Z"
    }
   },
   "cell_type": "code",
   "source": [
    "nob_gt=[]\n",
    "farb_gt=[]\n",
    "\n",
    "for i in range(251):\n",
    "    nob_gt = tiff.imread('no_bias/test/'+img_names[i])\n",
    "    nob_gt = transforms(nob_gt)\n",
    "    \n",
    "    farb_gt = tiff.imread('far_bias/test/'+img_names[i])\n",
    "    farb_gt = transforms(farb_gt)\n",
    "    "
   ],
   "id": "58198e5ab3a90070",
   "execution_count": 9,
   "outputs": []
  },
  {
   "metadata": {
    "ExecuteTime": {
     "end_time": "2024-07-09T23:48:52.085042Z",
     "start_time": "2024-07-09T23:48:49.343838Z"
    }
   },
   "cell_type": "code",
   "source": [
    "import SimpleITK as sitk\n",
    "import numpy as np\n",
    "import torch\n",
    "\n",
    "save_name = f'data/{exp_name}/cntr/'\n",
    "cf_vals = {1:0}\n",
    "nsamples = 4\n",
    "image_shape = (180, 180)  # Assuming each image is 180x180\n",
    "\n",
    "rands = np.random.randint(0, encoded_data.shape[0], nsamples)\n",
    "d_obs = test_imgs[rands, :]\n",
    "encoded_obs = encoded_data[rands, :]\n",
    "\n",
    "t = pca.transform(d_obs)\n",
    "d_obs = pca.inverse_transform(t)\n",
    "\n",
    "names = img_names[rands]\n",
    "dis_obs = disease[rands]\n",
    "bias_obs = bias[rands]\n",
    "residuals = d_obs - pca.inverse_transform(encoded_obs)\n",
    "\n",
    "cf = np.zeros((nsamples, ncomps))\n",
    "for ev in range(0, ncomps - nbasecomps, nevecs - nbasecomps):\n",
    "    ed = encoded_obs[:, ev:ev + nevecs]\n",
    "    X_obs = np.hstack([dis_obs[:, np.newaxis], bias_obs[:, np.newaxis], ed])\n",
    "    try:\n",
    "        macaw = torch.load(model_base_path / f'{ev}.pt')\n",
    "        cc = macaw.counterfactual(X_obs, cf_vals)\n",
    "    except Exception as e:\n",
    "        print(e, \"Using original\")\n",
    "        cc[:, ncauses:] = X_obs[:, ncauses:].copy()\n",
    "\n",
    "    cf[:, ev:ev + nevecs] = cc[:, ncauses:]\n",
    "\n",
    "re_cf = recons(cc[:, 0], cc[:, 1], cf)\n",
    "re_cf_resd = re_cf[2] + residuals\n",
    "\n",
    "# Convert numpy arrays to SimpleITK images\n",
    "def numpy_to_sitk(img):\n",
    "    return sitk.GetImageFromArray(img.astype(np.float32))\n",
    "\n",
    "def sitk_to_numpy(img):\n",
    "    return sitk.GetArrayFromImage(img)\n",
    "\n",
    "# Perform histogram matching\n",
    "matched_images = []\n",
    "for i in range(nsamples):\n",
    "    # Reshape the arrays to 2D images\n",
    "    source_img_2d = re_cf_resd[i].reshape(image_shape).astype(np.float32)\n",
    "    reference_img_2d = d_obs[i].reshape(image_shape).astype(np.float32)\n",
    "\n",
    "    source_img = numpy_to_sitk(source_img_2d)\n",
    "    reference_img = numpy_to_sitk(reference_img_2d)\n",
    "\n",
    "    matcher = sitk.HistogramMatchingImageFilter()\n",
    "    matcher.SetNumberOfHistogramLevels(500)\n",
    "    matcher.SetNumberOfMatchPoints(50)\n",
    "    matcher.SetThresholdAtMeanIntensity(False)\n",
    "    matched_img = matcher.Execute(source_img, reference_img)\n",
    "\n",
    "    # Convert the matched image back to a numpy array and reshape to original shape\n",
    "    matched_img_array = sitk_to_numpy(matched_img).reshape(-1)\n",
    "    matched_images.append(matched_img_array)\n",
    "\n",
    "# Convert the matched images back to a numpy array\n",
    "re_cf_resd = np.array(matched_images)\n",
    "\n",
    "# Ensuring values are still in the range [0, 1] after histogram matching\n",
    "re_cf_resd = np.clip(re_cf_resd, 0, 1)\n",
    "\n",
    "diff = d_obs - re_cf_resd\n",
    "fig,axs = plt.subplots(6,nsamples, figsize=(20,20))\n",
    "\n",
    "lim=.8\n",
    "lims=(-lim,lim)\n",
    "\n",
    "for i in range(nsamples):\n",
    "    axs[0,i].imshow(d_obs[i].reshape(crop_size,crop_size),cmap='gray')\n",
    "    axs[0,i].set(xticklabels=[], yticklabels=[], xticks=[], yticks=[], title=f'{names[i]}\\n\\nDisease:{X_obs[i,0]}, Bias:{X_obs[i,1]}')\n",
    "\n",
    "    axs[1,i].imshow(make_img(re_cf_resd[i]),cmap='gray')\n",
    "    axs[1,i].set(xticklabels=[], yticklabels=[], xticks=[], yticks=[], title=f'Disease:{cc[i,0]}, Bias:{cc[i,1]}')\n",
    "\n",
    "    axs[2,i].imshow(diff[i].reshape(crop_size,crop_size),cmap='seismic', clim=lims)\n",
    "    axs[2,i].set(xticklabels=[], yticklabels=[], xticks=[], yticks=[])\n",
    "    \n",
    "    img = tiff.imread('no_bias/test/'+img_names[rands[i]])\n",
    "    img = transforms(img)\n",
    "    \n",
    "    t = pca.transform(img.reshape(1,-1))\n",
    "    X_recon = pca.inverse_transform(t)\n",
    "    \n",
    "    # shows the bias Emma added\n",
    "    axs[3,i].imshow(d_obs[i].reshape(crop_size,crop_size) - X_recon.reshape(crop_size,crop_size),cmap='seismic', clim=lims)\n",
    "    axs[3,i].set(xticklabels=[], yticklabels=[], xticks=[], yticks=[])\n",
    "    \n",
    "    # diff between cf no_bias and ground truth no_bias, ideally would have no difference\n",
    "    axs[4,i].imshow((re_cf_resd[i].reshape(crop_size,crop_size)) - X_recon.reshape(crop_size,crop_size),cmap='seismic', clim=lims)\n",
    "    axs[4,i].set(xticklabels=[], yticklabels=[], xticks=[], yticks=[])\n",
    "    \n",
    "    axs[5,i].imshow(X_recon.reshape(crop_size,crop_size),cmap='gray')\n",
    "    axs[5,i].set(xticklabels=[], yticklabels=[], xticks=[], yticks=[])\n",
    "\n",
    "# Add labels to the left side of each row\n",
    "for ax, label in zip(axs[:, 0], ['Original image', 'CF remove bias', f'Diff of Original and CF\\nLimits: {lims}', 'SIMBA added bias', 'Diff of diffs', 'Ground truth no bias']):\n",
    "    ax.annotate(label, xy=(0, 0.5), xytext=(-ax.yaxis.labelpad - 5, 0),\n",
    "                xycoords=ax.yaxis.label, textcoords='offset points',\n",
    "                size='xx-large', ha='right', va='center')\n",
    "\n",
    "plt.tight_layout()\n",
    "plt.subplots_adjust(left=0.15)  # Adjust to make room for the labels\n",
    "plt.show()\n",
    "\n",
    "if not os.path.exists(save_name):\n",
    "    os.makedirs(save_name)\n",
    "\n",
    "plt.savefig(save_name+f\"cf1.pdf\")"
   ],
   "id": "9ad1767dd1021934",
   "execution_count": 10,
   "outputs": []
  },
  {
   "metadata": {
    "ExecuteTime": {
     "end_time": "2024-07-09T23:48:52.094526Z",
     "start_time": "2024-07-09T23:48:52.085622Z"
    }
   },
   "cell_type": "code",
   "source": [
    "for i in range(nsamples):\n",
    "    print(min(re_cf_resd[i]),max(re_cf_resd[i]))"
   ],
   "id": "63181d5feffff951",
   "execution_count": 11,
   "outputs": []
  },
  {
   "metadata": {
    "ExecuteTime": {
     "end_time": "2024-07-09T23:48:52.097235Z",
     "start_time": "2024-07-09T23:48:52.095059Z"
    }
   },
   "cell_type": "code",
   "source": "i=0",
   "id": "c0787b7e070e2196",
   "execution_count": 12,
   "outputs": []
  },
  {
   "metadata": {
    "ExecuteTime": {
     "end_time": "2024-07-09T23:48:52.175688Z",
     "start_time": "2024-07-09T23:48:52.097713Z"
    }
   },
   "cell_type": "code",
   "source": [
    "plt.hist(re_cf_resd[i], bins=20)\n",
    "# plt.yscale(\"log\")"
   ],
   "id": "cbc037513113c922",
   "execution_count": 13,
   "outputs": []
  },
  {
   "metadata": {
    "ExecuteTime": {
     "end_time": "2024-07-09T23:48:52.252136Z",
     "start_time": "2024-07-09T23:48:52.176236Z"
    }
   },
   "cell_type": "code",
   "source": [
    "plt.hist(d_obs[i], bins=20)\n",
    "# plt.yscale(\"log\")"
   ],
   "id": "787787b54f2c4f92",
   "execution_count": 14,
   "outputs": []
  },
  {
   "metadata": {
    "ExecuteTime": {
     "end_time": "2024-07-09T23:48:52.254695Z",
     "start_time": "2024-07-09T23:48:52.252849Z"
    }
   },
   "cell_type": "code",
   "source": "n = rands[2]",
   "id": "167b362e5f2769ce",
   "execution_count": 15,
   "outputs": []
  },
  {
   "metadata": {
    "ExecuteTime": {
     "end_time": "2024-07-09T23:48:52.259985Z",
     "start_time": "2024-07-09T23:48:52.255221Z"
    }
   },
   "cell_type": "code",
   "source": [
    "fb_img = tiff.imread('far_bias/test/'+ img_names[n])\n",
    "fb_img = transforms(fb_img).reshape(crop_size,crop_size)\n",
    "\n",
    "nb_img = tiff.imread('no_bias/test/'+ img_names[n])\n",
    "nb_img = transforms(nb_img).reshape(crop_size,crop_size)"
   ],
   "id": "d717dd1da87353d1",
   "execution_count": 16,
   "outputs": []
  },
  {
   "metadata": {
    "ExecuteTime": {
     "end_time": "2024-07-09T23:48:52.262470Z",
     "start_time": "2024-07-09T23:48:52.260496Z"
    }
   },
   "cell_type": "code",
   "source": "img_names[n]",
   "id": "8efef165cb9a9a0d",
   "execution_count": 17,
   "outputs": []
  },
  {
   "metadata": {
    "ExecuteTime": {
     "end_time": "2024-07-09T23:48:52.264687Z",
     "start_time": "2024-07-09T23:48:52.262981Z"
    }
   },
   "cell_type": "code",
   "source": "print(disease[n], bias[n])",
   "id": "f7eb769dca34fbd6",
   "execution_count": 18,
   "outputs": []
  },
  {
   "metadata": {
    "ExecuteTime": {
     "end_time": "2024-07-09T23:48:52.351279Z",
     "start_time": "2024-07-09T23:48:52.265163Z"
    }
   },
   "cell_type": "code",
   "source": "plt.imshow(fb_img-nb_img,cmap='seismic')",
   "id": "97e9db78f6c376c6",
   "execution_count": 19,
   "outputs": []
  },
  {
   "metadata": {
    "ExecuteTime": {
     "end_time": "2024-07-09T23:48:52.355038Z",
     "start_time": "2024-07-09T23:48:52.351825Z"
    }
   },
   "cell_type": "code",
   "source": "re_cf_resd[2]",
   "id": "dd0648c28b8d1074",
   "execution_count": 20,
   "outputs": []
  }
 ],
 "metadata": {
  "kernelspec": {
   "display_name": "Python 3",
   "language": "python",
   "name": "python3"
  },
  "language_info": {
   "codemirror_mode": {
    "name": "ipython",
    "version": 2
   },
   "file_extension": ".py",
   "mimetype": "text/x-python",
   "name": "python",
   "nbconvert_exporter": "python",
   "pygments_lexer": "ipython2",
   "version": "2.7.6"
  }
 },
 "nbformat": 4,
 "nbformat_minor": 5
}
