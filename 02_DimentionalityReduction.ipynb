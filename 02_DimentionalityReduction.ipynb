{
 "cells": [
  {
   "cell_type": "code",
   "id": "ac8ed1c3-9496-49a4-865c-56314f141a9c",
   "metadata": {
    "ExecuteTime": {
     "end_time": "2024-07-18T18:07:16.226106Z",
     "start_time": "2024-07-18T18:07:16.223798Z"
    }
   },
   "source": [
    "batch_size = 64\n",
    "ncomps = 500\n",
    "crop_size = 180"
   ],
   "execution_count": 1,
   "outputs": []
  },
  {
   "cell_type": "code",
   "id": "b83b9c84031cc918",
   "metadata": {
    "ExecuteTime": {
     "end_time": "2024-07-18T18:07:18.784314Z",
     "start_time": "2024-07-18T18:07:16.226587Z"
    }
   },
   "source": [
    "\n",
    "import os\n",
    "import sys\n",
    "import random\n",
    "import numpy as np\n",
    "import pandas as pd\n",
    "import torch\n",
    "from monai.data import DataLoader\n",
    "from monai.transforms import Compose, NormalizeIntensity, ToTensor\n",
    "import matplotlib.pyplot as plt\n",
    "# import config_file as cfg\n",
    "# from utils import get_model\n",
    "# from torchsummary import summary\n",
    "\n",
    "import torchvision.transforms.functional as F"
   ],
   "execution_count": 2,
   "outputs": []
  },
  {
   "cell_type": "code",
   "id": "35254608-4384-4c0e-a31f-078aaf88b2b9",
   "metadata": {
    "ExecuteTime": {
     "end_time": "2024-07-18T18:07:18.788347Z",
     "start_time": "2024-07-18T18:07:18.785356Z"
    }
   },
   "source": [
    "from pathlib import Path\n",
    "\n",
    "macaw_path = Path(os.getcwd())\n",
    "sys.path.append(str(macaw_path) +'/')\n",
    "exp_name = 'moin_bias'\n",
    "\n",
    "train_csv_path = macaw_path/'splits2/exp199/train.csv'\n",
    "train_img_path = macaw_path/exp_name/'train'\n",
    "\n",
    "val_csv_path = macaw_path/'splits2/exp199/val.csv'\n",
    "val_img_path = macaw_path/exp_name/'val'\n",
    "\n",
    "test_csv_path = macaw_path/'splits2/exp199/test.csv'\n",
    "test_img_path = macaw_path/exp_name/'test'\n",
    "\n",
    "pca_path = macaw_path/exp_name/f'train_hc_pca_{ncomps}.pkl'\n",
    "\n",
    "train_path = macaw_path/exp_name/f'train_hc_data_PCA_{ncomps}.pkl'\n",
    "val_path = macaw_path/exp_name/f'val_hc_data_PCA_{ncomps}.pkl'\n",
    "test_path = macaw_path/exp_name/f'test_hc_data_PCA_{ncomps}.pkl'"
   ],
   "execution_count": 3,
   "outputs": []
  },
  {
   "cell_type": "code",
   "id": "d3f0859b4e95ca8f",
   "metadata": {
    "ExecuteTime": {
     "end_time": "2024-07-18T18:07:18.797856Z",
     "start_time": "2024-07-18T18:07:18.788959Z"
    }
   },
   "source": [
    "home_dir = './'\n",
    "working_dir = home_dir + exp_name + '/'\n",
    "\n",
    "df_train = pd.read_csv(train_csv_path)\n",
    "df_val = pd.read_csv(val_csv_path)\n",
    "\n",
    "train_fpaths = [os.path.join(working_dir, \"train\", filename) for filename in df_train['filename']]\n",
    "train_class_label = df_train['class_label']\n",
    "\n",
    "val_fpaths = [os.path.join(working_dir, \"val\", filename) for filename in df_val['filename']]\n",
    "val_class_label = df_val['class_label']"
   ],
   "execution_count": 4,
   "outputs": []
  },
  {
   "metadata": {
    "ExecuteTime": {
     "end_time": "2024-07-18T18:07:18.805672Z",
     "start_time": "2024-07-18T18:07:18.798417Z"
    }
   },
   "cell_type": "code",
   "source": "df_train.head()",
   "id": "2b5f238c2cf84cc4",
   "execution_count": 5,
   "outputs": []
  },
  {
   "metadata": {
    "ExecuteTime": {
     "end_time": "2024-07-18T18:07:18.811335Z",
     "start_time": "2024-07-18T18:07:18.806199Z"
    }
   },
   "cell_type": "code",
   "source": "df_val.head()",
   "id": "6870e1d1cbd3ce00",
   "execution_count": 6,
   "outputs": []
  },
  {
   "metadata": {
    "ExecuteTime": {
     "end_time": "2024-07-18T18:07:18.815096Z",
     "start_time": "2024-07-18T18:07:18.811913Z"
    }
   },
   "cell_type": "code",
   "source": [
    "# Set bias to zero in csv for no_bias experiments\n",
    "if exp_name=='no_bias': \n",
    "    df_train['bias_label'].values[:]=0\n",
    "    df_val['bias_label'].values[:]=0\n",
    "    \n",
    "print(df_train.bias_label.mean())\n",
    "df_val.bias_label.mean()"
   ],
   "id": "81ed7b6fb4488ac6",
   "execution_count": 7,
   "outputs": []
  },
  {
   "cell_type": "code",
   "id": "a15c156d701b0913",
   "metadata": {
    "ExecuteTime": {
     "end_time": "2024-07-18T18:07:18.821713Z",
     "start_time": "2024-07-18T18:07:18.815607Z"
    }
   },
   "source": [
    "def seed_worker(worker_id):\n",
    "    worker_seed = torch.initial_seed() % 2**32\n",
    "    np.random.seed(worker_seed)\n",
    "    random.seed(worker_seed)"
   ],
   "execution_count": 8,
   "outputs": []
  },
  {
   "cell_type": "code",
   "id": "c50ca8cdc98d2247",
   "metadata": {
    "ExecuteTime": {
     "end_time": "2024-07-18T18:07:18.825893Z",
     "start_time": "2024-07-18T18:07:18.822428Z"
    }
   },
   "source": [
    "seed = 1  # You can use any integer as the seed\n",
    "torch.manual_seed(seed)\n",
    "torch.backends.cudnn.deterministic = True\n",
    "torch.backends.cudnn.benchmark = False\n",
    "random.seed(seed)\n",
    "np.random.seed(seed)\n",
    "\n",
    "g = torch.Generator()\n",
    "g.manual_seed(seed)"
   ],
   "execution_count": 9,
   "outputs": []
  },
  {
   "cell_type": "code",
   "id": "2d70a809fd625765",
   "metadata": {
    "ExecuteTime": {
     "end_time": "2024-07-18T18:07:18.839926Z",
     "start_time": "2024-07-18T18:07:18.826473Z"
    }
   },
   "source": [
    "from utils.datasets import EmmaDataset\n",
    "from monai.data import pad_list_data_collate\n",
    "from torchvision.transforms import CenterCrop\n",
    "from utils.customTransforms import ToFloatUKBB\n",
    "\n",
    "# Define transforms\n",
    "transforms = Compose([ToTensor(),CenterCrop(crop_size),ToFloatUKBB()])\n",
    "# train_dataset = UKBBT1Dataset(train_csv_path, train_img_path, transforms.Compose([ToFloatUKBB(),ToTensor(), CenterCrop(crop_size)]))\n",
    "\n",
    "# create a training data loader - include padding\n",
    "# train_ds = ImageDataset(image_files=train_fpaths, labels=train_class_label, transform=transforms, reader=\"ITKReader\")\n",
    "train_ds = EmmaDataset(train_csv_path, train_img_path, exp_name=='no_bias',transforms)\n",
    "train_loader = DataLoader(train_ds, batch_size=batch_size, shuffle=True, num_workers=0,worker_init_fn=seed_worker, generator=g, pin_memory=torch.cuda.is_available(), collate_fn=pad_list_data_collate)"
   ],
   "execution_count": 10,
   "outputs": []
  },
  {
   "cell_type": "code",
   "id": "35f6251de96a95f",
   "metadata": {
    "ExecuteTime": {
     "end_time": "2024-07-18T18:07:19.104594Z",
     "start_time": "2024-07-18T18:07:18.840501Z"
    }
   },
   "source": "plt.imshow(next(iter(train_loader))[2][1], cmap='gray')",
   "execution_count": 11,
   "outputs": []
  },
  {
   "metadata": {
    "ExecuteTime": {
     "end_time": "2024-07-18T18:07:20.216726Z",
     "start_time": "2024-07-18T18:07:19.106590Z"
    }
   },
   "cell_type": "code",
   "source": [
    "imgs = np.concatenate([d[2].numpy() for d in train_loader],axis=0)\n",
    "imgs = imgs.reshape(imgs.shape[0],-1)\n",
    "imgs_dim = imgs.shape[1]"
   ],
   "id": "c9f5e104-a243-4339-9a2b-0d9449cdc2bd",
   "execution_count": 12,
   "outputs": []
  },
  {
   "metadata": {
    "ExecuteTime": {
     "end_time": "2024-07-18T18:07:20.363135Z",
     "start_time": "2024-07-18T18:07:20.217331Z"
    }
   },
   "cell_type": "code",
   "source": "plt.imshow(imgs[0].reshape(crop_size,crop_size), cmap='gray')",
   "id": "62f2f7d49797dcf6",
   "execution_count": 13,
   "outputs": []
  },
  {
   "cell_type": "markdown",
   "id": "3bff9051-2fb7-4039-8268-9bec963fdc9f",
   "metadata": {},
   "source": [
    "## Dimensionality reduction"
   ]
  },
  {
   "cell_type": "code",
   "id": "901cde2a-5d20-45d5-8548-d17c40578ef9",
   "metadata": {
    "ExecuteTime": {
     "end_time": "2024-07-18T18:07:21.868050Z",
     "start_time": "2024-07-18T18:07:20.364024Z"
    }
   },
   "source": [
    "import pickle\n",
    "from sklearn.decomposition import PCA\n",
    "\n",
    "# if os.path.exists(pca_path):\n",
    "#     with open(pca_path, 'rb') as f:\n",
    "#         pca = pickle.load(f)\n",
    "# else:\n",
    "pca = PCA(n_components=ncomps)\n",
    "pca.fit(imgs)\n",
    "\n",
    "with open(pca_path, 'wb') as f:\n",
    "    pickle.dump(pca, f)"
   ],
   "execution_count": 14,
   "outputs": []
  },
  {
   "metadata": {
    "ExecuteTime": {
     "end_time": "2024-07-18T18:07:23.049365Z",
     "start_time": "2024-07-18T18:07:21.868741Z"
    }
   },
   "cell_type": "code",
   "source": [
    "# Initialize lists to collect data\n",
    "imgs_list = []\n",
    "disease_list = []\n",
    "bias_list = []\n",
    "train_img_names_list=[]\n",
    "\n",
    "# Process each batch in the test_loader\n",
    "for d in train_loader:\n",
    "    disease_list.append(d[0].numpy())\n",
    "    bias_list.append(d[1].numpy())\n",
    "    imgs_list.append(d[2].numpy())\n",
    "    train_img_names_list.append(d[3])\n",
    "\n",
    "# Concatenate collected data after the loop\n",
    "imgs = np.concatenate(imgs_list, axis=0)\n",
    "imgs = imgs.reshape(imgs.shape[0], -1)\n",
    "imgs_dim = imgs.shape[1]\n",
    "\n",
    "train_img_names = np.concatenate(train_img_names_list, axis=0)\n",
    "\n",
    "disease = np.concatenate(disease_list, axis=0)\n",
    "bias = np.concatenate(bias_list, axis=0)\n",
    "\n",
    "encoded_data = pca.transform(imgs)"
   ],
   "id": "d3bdb08c8967de6d",
   "execution_count": 15,
   "outputs": []
  },
  {
   "cell_type": "code",
   "id": "5329a938-73a3-4cb7-814e-7e68012656bc",
   "metadata": {
    "ExecuteTime": {
     "end_time": "2024-07-18T18:07:23.300183Z",
     "start_time": "2024-07-18T18:07:23.049974Z"
    }
   },
   "source": [
    "with open(train_path, 'wb') as f:\n",
    "    pickle.dump({'imgs':imgs, 'disease':disease,'bias':bias, 'pca':pca,'encoded_data':encoded_data, 'img_names':train_img_names}, f)"
   ],
   "execution_count": 16,
   "outputs": []
  },
  {
   "metadata": {
    "ExecuteTime": {
     "end_time": "2024-07-18T18:07:23.305866Z",
     "start_time": "2024-07-18T18:07:23.300821Z"
    }
   },
   "cell_type": "code",
   "source": [
    "val_ds = EmmaDataset(val_csv_path, val_img_path, exp_name=='no_bias',transforms)\n",
    "val_loader = DataLoader(val_ds, batch_size=batch_size, shuffle=True, num_workers=0,worker_init_fn=seed_worker, generator=g, pin_memory=torch.cuda.is_available(), collate_fn=pad_list_data_collate)"
   ],
   "id": "c803b8f4e2544bfa",
   "execution_count": 17,
   "outputs": []
  },
  {
   "metadata": {
    "ExecuteTime": {
     "end_time": "2024-07-18T18:07:24.573335Z",
     "start_time": "2024-07-18T18:07:23.306442Z"
    }
   },
   "cell_type": "code",
   "source": [
    "# Initialize lists to collect data\n",
    "imgs_list = []\n",
    "disease_list = []\n",
    "bias_list = []\n",
    "\n",
    "# Process each batch in the test_loader\n",
    "for d in train_loader:\n",
    "    disease_list.append(d[0].numpy())\n",
    "    bias_list.append(d[1].numpy())\n",
    "    imgs_list.append(d[2].numpy())\n",
    "\n",
    "# Concatenate collected data after the loop\n",
    "imgs = np.concatenate(imgs_list, axis=0)\n",
    "imgs = imgs.reshape(imgs.shape[0], -1)\n",
    "imgs_dim = imgs.shape[1]\n",
    "\n",
    "disease = np.concatenate(disease_list, axis=0)\n",
    "bias = np.concatenate(bias_list, axis=0)\n",
    "encoded_data = pca.transform(imgs)"
   ],
   "id": "1b1b4b8bf1afba66",
   "execution_count": 18,
   "outputs": []
  },
  {
   "metadata": {
    "ExecuteTime": {
     "end_time": "2024-07-18T18:07:24.854577Z",
     "start_time": "2024-07-18T18:07:24.573952Z"
    }
   },
   "cell_type": "code",
   "source": [
    "with open(val_path, 'wb') as f:\n",
    "    pickle.dump({'imgs':imgs, 'disease':disease,'bias':bias, 'pca':pca,'encoded_data':encoded_data}, f)"
   ],
   "id": "3d247c9af2680298",
   "execution_count": 19,
   "outputs": []
  },
  {
   "cell_type": "code",
   "id": "66244ee8-65d7-469d-b0ed-28cf597f2781",
   "metadata": {
    "ExecuteTime": {
     "end_time": "2024-07-18T18:07:24.863470Z",
     "start_time": "2024-07-18T18:07:24.856307Z"
    }
   },
   "source": [
    "test_ds = EmmaDataset(test_csv_path, test_img_path, exp_name=='no_bias', transforms)\n",
    "test_loader = DataLoader(test_ds, batch_size=batch_size, shuffle=False, num_workers=0, worker_init_fn=seed_worker, generator=g, pin_memory=torch.cuda.is_available(), collate_fn=pad_list_data_collate)"
   ],
   "execution_count": 20,
   "outputs": []
  },
  {
   "metadata": {
    "ExecuteTime": {
     "end_time": "2024-07-18T18:07:24.868592Z",
     "start_time": "2024-07-18T18:07:24.864046Z"
    }
   },
   "cell_type": "code",
   "source": "test_ds.df.loc[test_ds.df['filename']=='00176_0.26_S_-0.941_D_1.539_B.tiff']",
   "id": "5440da87fe23de7b",
   "execution_count": 21,
   "outputs": []
  },
  {
   "metadata": {
    "ExecuteTime": {
     "end_time": "2024-07-18T18:07:24.870633Z",
     "start_time": "2024-07-18T18:07:24.869113Z"
    }
   },
   "cell_type": "code",
   "source": [
    "# found = False\n",
    "# \n",
    "# j=0\n",
    "# \n",
    "# while not found:\n",
    "#     d,b,img,names=next(iter(test_loader))\n",
    "#     j+=1\n",
    "#     \n",
    "#     for i in range(len(d)):\n",
    "#         # print(names[i])\n",
    "#         if names[i] == '00176_0.26_S_-0.941_D_1.539_B.tiff':\n",
    "#             found = True\n",
    "#             print(d[i].item())\n",
    "#             print(b[i].item())\n",
    "#             print(i,j)"
   ],
   "id": "9e4dc880690fb70a",
   "execution_count": 22,
   "outputs": []
  },
  {
   "metadata": {
    "ExecuteTime": {
     "end_time": "2024-07-18T18:07:24.959299Z",
     "start_time": "2024-07-18T18:07:24.871179Z"
    }
   },
   "cell_type": "code",
   "source": "d,b,img,names = next(iter(test_loader))",
   "id": "860bb161a818cfa4",
   "execution_count": 23,
   "outputs": []
  },
  {
   "metadata": {
    "ExecuteTime": {
     "end_time": "2024-07-18T18:07:24.963499Z",
     "start_time": "2024-07-18T18:07:24.960032Z"
    }
   },
   "cell_type": "code",
   "source": "test_ds.df.isna().sum()",
   "id": "265b673ec4534d01",
   "execution_count": 24,
   "outputs": []
  },
  {
   "cell_type": "code",
   "id": "e5025c16-97dd-4e0a-8568-ef78e9356fec",
   "metadata": {
    "ExecuteTime": {
     "end_time": "2024-07-18T18:07:25.171294Z",
     "start_time": "2024-07-18T18:07:24.964115Z"
    }
   },
   "source": [
    "plt.imshow(next(iter(train_loader))[2][1])"
   ],
   "execution_count": 25,
   "outputs": []
  },
  {
   "metadata": {
    "ExecuteTime": {
     "end_time": "2024-07-18T18:07:25.831653Z",
     "start_time": "2024-07-18T18:07:25.171860Z"
    }
   },
   "cell_type": "code",
   "source": [
    "test_imgs = np.concatenate([d[2].numpy() for d in test_loader],axis=0)\n",
    "test_imgs = test_imgs.reshape(test_imgs.shape[0],-1)\n",
    "test_imgs_dim = test_imgs.shape[1]"
   ],
   "id": "ca0e8ee1-f776-43c6-a237-bf5b4d4776ce",
   "execution_count": 26,
   "outputs": []
  },
  {
   "metadata": {
    "ExecuteTime": {
     "end_time": "2024-07-18T18:07:26.013848Z",
     "start_time": "2024-07-18T18:07:25.832604Z"
    }
   },
   "cell_type": "code",
   "source": "plt.imshow(test_imgs[1].reshape(crop_size,crop_size), cmap='gray')",
   "id": "924e7943c9f77c11",
   "execution_count": 27,
   "outputs": []
  },
  {
   "cell_type": "code",
   "id": "381763e2-56e4-468b-900b-54580b67a56b",
   "metadata": {
    "ExecuteTime": {
     "end_time": "2024-07-18T18:07:26.069062Z",
     "start_time": "2024-07-18T18:07:26.014449Z"
    }
   },
   "source": [
    "sample_imgs = test_imgs[:5,:]\n",
    "t = pca.transform(sample_imgs)\n",
    "X_recon = pca.inverse_transform(t)"
   ],
   "execution_count": 28,
   "outputs": []
  },
  {
   "cell_type": "code",
   "id": "fcb2e687-d89c-4103-8620-368668273119",
   "metadata": {
    "ExecuteTime": {
     "end_time": "2024-07-18T18:07:26.805940Z",
     "start_time": "2024-07-18T18:07:26.069789Z"
    }
   },
   "source": [
    "import utils.visualize as vis\n",
    "print(\"Disease:\", disease[:5])\n",
    "print(\"Bias:\",bias[:5])\n",
    "\n",
    "plt.rcParams[\"figure.figsize\"] = 20,5\n",
    "\n",
    "diff = sample_imgs - X_recon\n",
    "rr = X_recon + diff\n",
    "fig = vis.img_grid([d.reshape(crop_size,crop_size) for d in sample_imgs], clim=(0,1), cols=5)\n",
    "fig = vis.img_grid([d.reshape(crop_size,crop_size) for d in X_recon], clim=(0,1), cols=5)\n",
    "fig = vis.img_grid([d.reshape(crop_size,crop_size) for d in diff],clim=(-.5,.5),cols=5, cmap='seismic')"
   ],
   "execution_count": 29,
   "outputs": []
  },
  {
   "metadata": {},
   "cell_type": "markdown",
   "source": "",
   "id": "89ffa2e0f9edbbb8"
  },
  {
   "metadata": {
    "ExecuteTime": {
     "end_time": "2024-07-18T18:07:26.809978Z",
     "start_time": "2024-07-18T18:07:26.806681Z"
    }
   },
   "cell_type": "code",
   "source": "max(diff[1])",
   "id": "ac254abf5a12f963",
   "execution_count": 30,
   "outputs": []
  },
  {
   "metadata": {
    "ExecuteTime": {
     "end_time": "2024-07-18T18:07:27.426071Z",
     "start_time": "2024-07-18T18:07:26.810489Z"
    }
   },
   "cell_type": "code",
   "source": [
    "# Initialize lists to collect data\n",
    "test_imgs_list = []\n",
    "test_img_names_list = []\n",
    "disease_list = []\n",
    "bias_list = []\n",
    "\n",
    "# Process each batch in the test_loader\n",
    "for d in test_loader:\n",
    "    disease_list.append(d[0].numpy())\n",
    "    bias_list.append(d[1].numpy())\n",
    "    test_imgs_list.append(d[2].numpy())\n",
    "    test_img_names_list.append(d[3])\n",
    "    \n",
    "# Concatenate collected data after the loop\n",
    "test_imgs = np.concatenate(test_imgs_list, axis=0)\n",
    "test_imgs = test_imgs.reshape(test_imgs.shape[0], -1)\n",
    "test_imgs_dim = test_imgs.shape[1]\n",
    "\n",
    "test_img_names = np.concatenate(test_img_names_list, axis=0)\n",
    "\n",
    "disease = np.concatenate(disease_list, axis=0)\n",
    "bias = np.concatenate(bias_list, axis=0)\n",
    "\n",
    "encoded_data = pca.transform(test_imgs)"
   ],
   "id": "e9b1bf2e71fd60c4",
   "execution_count": 31,
   "outputs": []
  },
  {
   "metadata": {
    "ExecuteTime": {
     "end_time": "2024-07-18T18:07:27.429041Z",
     "start_time": "2024-07-18T18:07:27.426681Z"
    }
   },
   "cell_type": "code",
   "source": "np.max(X_recon)",
   "id": "707a16aea660984a",
   "execution_count": 32,
   "outputs": []
  },
  {
   "cell_type": "code",
   "id": "ef7cce26-7792-4265-a4ac-96c3c94afaaf",
   "metadata": {
    "ExecuteTime": {
     "end_time": "2024-07-18T18:07:27.580822Z",
     "start_time": "2024-07-18T18:07:27.429540Z"
    }
   },
   "source": [
    "with open(test_path, 'wb') as f:\n",
    "    pickle.dump({'imgs':test_imgs, 'disease':disease,'bias':bias, 'pca':pca,'encoded_data':encoded_data, 'img_names':test_img_names}, f)"
   ],
   "execution_count": 33,
   "outputs": []
  },
  {
   "metadata": {
    "ExecuteTime": {
     "end_time": "2024-07-18T18:07:27.582750Z",
     "start_time": "2024-07-18T18:07:27.581428Z"
    }
   },
   "cell_type": "code",
   "source": "",
   "id": "61f8534123a3bb96",
   "execution_count": 33,
   "outputs": []
  }
 ],
 "metadata": {
  "kernelspec": {
   "display_name": "Python 3",
   "language": "python",
   "name": "python3"
  },
  "language_info": {
   "codemirror_mode": {
    "name": "ipython",
    "version": 3
   },
   "file_extension": ".py",
   "mimetype": "text/x-python",
   "name": "python",
   "nbconvert_exporter": "python",
   "pygments_lexer": "ipython3",
   "version": "3.10.9"
  }
 },
 "nbformat": 4,
 "nbformat_minor": 5
}
