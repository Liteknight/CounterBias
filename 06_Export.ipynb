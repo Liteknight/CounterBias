{
 "cells": [
  {
   "cell_type": "code",
   "id": "initial_id",
   "metadata": {
    "collapsed": true,
    "ExecuteTime": {
     "end_time": "2024-07-18T20:38:13.960929Z",
     "start_time": "2024-07-18T20:38:13.958040Z"
    }
   },
   "source": [
    "import os, sys\n",
    "from pathlib import Path\n",
    "import torch\n",
    "import tifffile as tiff\n",
    "\n",
    "macaw_path = Path(os.getcwd())\n",
    "sys.path.append(str(macaw_path) +'/')\n",
    "\n",
    "ncomps = 50\n",
    "model_comps = 500\n",
    "dr_method = 'PCA'\n",
    "\n",
    "exp_name=\"moin_bias\"\n",
    "\n",
    "test_path = train_path = macaw_path/exp_name/f'test_hc_data_{dr_method}_{model_comps}.pkl'\n",
    "model_base_path = macaw_path/'models'/exp_name/f'{dr_method}_{model_comps}'/f'{ncomps}'"
   ],
   "outputs": [],
   "execution_count": 18
  },
  {
   "metadata": {
    "ExecuteTime": {
     "end_time": "2024-07-18T20:38:14.007479Z",
     "start_time": "2024-07-18T20:38:13.965861Z"
    }
   },
   "cell_type": "code",
   "source": [
    "import pickle\n",
    "\n",
    "with open(test_path, 'rb') as f:\n",
    "    test = pickle.load(f)\n",
    "    \n",
    "disease = test['disease']\n",
    "bias = test['bias']\n",
    "test_imgs = test['imgs']\n",
    "\n",
    "encoded_data = test['encoded_data']\n",
    "pca = test['pca']\n",
    "\n",
    "img_names = test['img_names']"
   ],
   "id": "c0e8522f070024f6",
   "outputs": [],
   "execution_count": 19
  },
  {
   "metadata": {
    "ExecuteTime": {
     "end_time": "2024-07-18T20:38:14.010735Z",
     "start_time": "2024-07-18T20:38:14.008271Z"
    }
   },
   "cell_type": "code",
   "source": [
    "with open(model_base_path/'hyperparameters.pkl', 'rb') as f:\n",
    "    hp = pickle.load(f)\n",
    "    \n",
    "ncomps= hp['ncomps']\n",
    "nevecs= hp['nevecs']\n",
    "nbasecomps= hp['nbasecomps']\n",
    "ncauses= hp['ncauses']\n",
    "crop_size= hp['crop_size']"
   ],
   "id": "ffb6c3fe15b1243c",
   "outputs": [],
   "execution_count": 20
  },
  {
   "metadata": {
    "ExecuteTime": {
     "end_time": "2024-07-18T20:38:14.013789Z",
     "start_time": "2024-07-18T20:38:14.011269Z"
    }
   },
   "cell_type": "code",
   "source": [
    "import torchvision.transforms.functional as F\n",
    "import matplotlib.pyplot as plt\n",
    "import numpy as np\n",
    "\n",
    "def recons(age,bmi,latents, latent_offset=0):\n",
    "    \n",
    "    # bmi = scaler_b.inverse_transform(bmi)\n",
    "    # print(age)\n",
    "    latent_enc = np.zeros((latents.shape[0],ncomps))\n",
    "    latent_enc[:,latent_offset:latent_offset+latents.shape[1]] = latents    \n",
    "    # latent_enc = scaler_i.inverse_transform(latent_enc)\n",
    "    imgs = pca.inverse_transform(latent_enc)\n",
    "    return age,bmi,imgs"
   ],
   "id": "7016f42e95479030",
   "outputs": [],
   "execution_count": 21
  },
  {
   "metadata": {
    "ExecuteTime": {
     "end_time": "2024-07-18T20:38:14.025790Z",
     "start_time": "2024-07-18T20:38:14.014911Z"
    }
   },
   "cell_type": "code",
   "source": [
    "sample_imgs = test_imgs[:5,:]\n",
    "t = pca.transform(sample_imgs)\n",
    "X_recon = pca.inverse_transform(t)"
   ],
   "id": "302ad7c430bdfe1f",
   "outputs": [],
   "execution_count": 22
  },
  {
   "metadata": {
    "ExecuteTime": {
     "end_time": "2024-07-18T20:38:14.028702Z",
     "start_time": "2024-07-18T20:38:14.026659Z"
    }
   },
   "cell_type": "code",
   "source": [
    "def make_img(x):\n",
    "    img = (255*x/np.max(x)).reshape(crop_size,crop_size)\n",
    "    return np.clip(img,0, 255).astype('uint8')"
   ],
   "id": "8bc112239b561b94",
   "outputs": [],
   "execution_count": 23
  },
  {
   "metadata": {
    "ExecuteTime": {
     "end_time": "2024-07-18T20:38:14.031680Z",
     "start_time": "2024-07-18T20:38:14.029309Z"
    }
   },
   "cell_type": "code",
   "source": [
    "import glob\n",
    "from PIL import Image\n",
    "\n",
    "def make_gif(frames, save_name):    \n",
    "    frames = [Image.fromarray(f) for f in frames]\n",
    "    frame_one = frames[0]\n",
    "    return frame_one.save(save_name, format=\"GIF\", append_images=frames, save_all=True, duration=100, loop=0)"
   ],
   "id": "5c2c31c31c5d17ce",
   "outputs": [],
   "execution_count": 24
  },
  {
   "metadata": {
    "ExecuteTime": {
     "end_time": "2024-07-18T20:38:14.034192Z",
     "start_time": "2024-07-18T20:38:14.032295Z"
    }
   },
   "cell_type": "code",
   "source": "print(img_names[247], img_names[248])",
   "id": "3352973164f64eda",
   "outputs": [
    {
     "name": "stdout",
     "output_type": "stream",
     "text": [
      "00247_0.569_S_-0.517_D_2_B.tiff 00248_0.39_S_1.009_D_2_B.tiff\n"
     ]
    }
   ],
   "execution_count": 25
  },
  {
   "metadata": {
    "ExecuteTime": {
     "end_time": "2024-07-18T20:38:14.037040Z",
     "start_time": "2024-07-18T20:38:14.034827Z"
    }
   },
   "cell_type": "code",
   "source": [
    "from torchvision.transforms import CenterCrop\n",
    "from utils.customTransforms import ToFloatUKBB\n",
    "from monai.transforms import Compose, ToTensor\n",
    "transforms = Compose([ToTensor(),CenterCrop(crop_size),ToFloatUKBB()])"
   ],
   "id": "f68a67e80461df3e",
   "outputs": [],
   "execution_count": 26
  },
  {
   "metadata": {
    "ExecuteTime": {
     "end_time": "2024-07-18T20:38:16.458800Z",
     "start_time": "2024-07-18T20:38:14.037632Z"
    }
   },
   "cell_type": "code",
   "source": [
    "import SimpleITK as sitk\n",
    "import numpy as np\n",
    "import torch\n",
    "\n",
    "save_name = f'{exp_name}/cfs'\n",
    "cf_vals = {1:0}\n",
    "image_shape = (180, 180)  # Assuming each image is 180x180\n",
    "\n",
    "# rands = np.random.randint(0, encoded_data.shape[0], nsamples)\n",
    "# d_obs = test_imgs[rands, :]\n",
    "# encoded_obs = encoded_data[rands, :]\n",
    "# \n",
    "# names = img_names[rands]\n",
    "# dis_obs = disease[rands]\n",
    "# bias_obs = bias[rands]\n",
    "residuals = test_imgs - pca.inverse_transform(encoded_data)\n",
    "\n",
    "cf = np.zeros((248, ncomps))\n",
    "for ev in range(0, ncomps - nbasecomps, nevecs - nbasecomps):\n",
    "    ed = encoded_data[:248, ev:ev + nevecs]\n",
    "    X_obs = np.hstack([disease[:248, np.newaxis], bias[:248, np.newaxis], ed])\n",
    "    try:\n",
    "        macaw = torch.load(model_base_path / f'{ev}.pt')\n",
    "        cc = macaw.counterfactual(X_obs, cf_vals)\n",
    "    except Exception as e:\n",
    "        print(e, \"Using original\")\n",
    "        cc[:, ncauses:] = X_obs[:, ncauses:].copy()\n",
    "\n",
    "    cf[:, ev:ev + nevecs] = cc[:, ncauses:]\n",
    "\n",
    "re_cf = recons(cc[:, 0], cc[:, 1], cf)\n",
    "re_cf_resd = re_cf[2] + residuals[:248]\n",
    "\n",
    "# Convert numpy arrays to SimpleITK images\n",
    "def numpy_to_sitk(img):\n",
    "    return sitk.GetImageFromArray(img.astype(np.float32))\n",
    "\n",
    "def sitk_to_numpy(img):\n",
    "    return sitk.GetArrayFromImage(img)\n",
    "\n",
    "# Perform histogram matching\n",
    "matched_images = []\n",
    "for i in range(248):\n",
    "    # Reshape the arrays to 2D images\n",
    "    source_img_2d = re_cf_resd[i].reshape(image_shape).astype(np.float32)\n",
    "    reference_img_2d = test_imgs[i].reshape(image_shape).astype(np.float32)\n",
    "    \n",
    "    source_img = numpy_to_sitk(source_img_2d)\n",
    "    reference_img = numpy_to_sitk(reference_img_2d)\n",
    "    \n",
    "    matcher = sitk.HistogramMatchingImageFilter()\n",
    "    matcher.SetNumberOfHistogramLevels(500)\n",
    "    matcher.SetNumberOfMatchPoints(50)\n",
    "    matcher.SetThresholdAtMeanIntensity(False)\n",
    "    matched_img = matcher.Execute(source_img, reference_img)\n",
    "    \n",
    "    # Convert the matched image back to a numpy array and reshape to original shape\n",
    "    matched_img_array = sitk_to_numpy(matched_img).reshape(-1)\n",
    "    matched_images.append(matched_img_array)\n",
    "\n",
    "# Convert the matched images back to a numpy array\n",
    "re_cf_resd = np.array(matched_images)\n",
    "\n",
    "# Ensuring values are still in the range [0, 1] after histogram matching\n",
    "# re_cf_resd = np.clip(re_cf_resd, 0, 1)"
   ],
   "id": "529cd30aedb525ab",
   "outputs": [],
   "execution_count": 27
  },
  {
   "metadata": {
    "ExecuteTime": {
     "end_time": "2024-07-18T20:38:16.499817Z",
     "start_time": "2024-07-18T20:38:16.459930Z"
    }
   },
   "cell_type": "code",
   "source": [
    "import os\n",
    "from PIL import Image\n",
    "import numpy as np\n",
    "\n",
    "# Function to save numpy array as TIFF image\n",
    "def save_image(array, path):\n",
    "    image = Image.fromarray((array * 255).astype(np.uint8))\n",
    "    image.save(path, format='TIFF')\n",
    "\n",
    "# Create the output directory if it doesn't exist\n",
    "output_dir = save_name\n",
    "os.makedirs(output_dir, exist_ok=True)\n",
    "\n",
    "# Assuming re_cf_resd is already a numpy array with shape (248, 180*180)\n",
    "for i, img_array in enumerate(re_cf_resd):\n",
    "    img_2d = img_array.reshape(image_shape)  # Reshape to 2D image if necessary\n",
    "    output_path = os.path.join(output_dir, img_names[i])\n",
    "    save_image(img_2d, output_path)\n",
    "\n",
    "print(f\"Images saved in {output_dir}\")\n"
   ],
   "id": "be60d56c1de72861",
   "outputs": [
    {
     "name": "stdout",
     "output_type": "stream",
     "text": [
      "Images saved in moin_bias/cfs\n"
     ]
    }
   ],
   "execution_count": 28
  }
 ],
 "metadata": {
  "kernelspec": {
   "display_name": "Python 3",
   "language": "python",
   "name": "python3"
  },
  "language_info": {
   "codemirror_mode": {
    "name": "ipython",
    "version": 2
   },
   "file_extension": ".py",
   "mimetype": "text/x-python",
   "name": "python",
   "nbconvert_exporter": "python",
   "pygments_lexer": "ipython2",
   "version": "2.7.6"
  }
 },
 "nbformat": 4,
 "nbformat_minor": 5
}
