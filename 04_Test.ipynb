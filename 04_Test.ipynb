{
 "cells": [
  {
   "cell_type": "code",
   "id": "35254608-4384-4c0e-a31f-078aaf88b2b9",
   "metadata": {
    "ExecuteTime": {
     "end_time": "2024-06-07T00:05:41.220997Z",
     "start_time": "2024-06-07T00:05:40.473319Z"
    }
   },
   "source": [
    "import os, sys\n",
    "from pathlib import Path\n",
    "import torch\n",
    "\n",
    "macaw_path = Path(os.getcwd())\n",
    "sys.path.append(str(macaw_path) +'/')\n",
    "\n",
    "ncomps = 50\n",
    "model_comps = 500\n",
    "dr_method = 'PCA'\n",
    "\n",
    "exp_name=\"far_bias\"\n",
    "\n",
    "test_path = train_path = macaw_path/exp_name/f'test_hc_data_PCA_{model_comps}.pkl'\n",
    "model_base_path = macaw_path/'models'/exp_name/f'{dr_method}_{model_comps}'/f'{ncomps}'"
   ],
   "execution_count": 1,
   "outputs": []
  },
  {
   "cell_type": "code",
   "id": "07016e64-c1d5-4ffa-a57b-01ada3872cbc",
   "metadata": {
    "ExecuteTime": {
     "end_time": "2024-06-07T00:05:41.325368Z",
     "start_time": "2024-06-07T00:05:41.221770Z"
    }
   },
   "source": [
    "import pickle\n",
    "\n",
    "with open(test_path, 'rb') as f:\n",
    "    test = pickle.load(f)\n",
    "    \n",
    "disease = test['disease']\n",
    "bias = test['bias']\n",
    "test_imgs = test['imgs']\n",
    "\n",
    "encoded_data = test['encoded_data']\n",
    "pca = test['pca']"
   ],
   "execution_count": 2,
   "outputs": []
  },
  {
   "cell_type": "code",
   "id": "60a98946-80ff-4ec3-81ad-d5860862be1e",
   "metadata": {
    "ExecuteTime": {
     "end_time": "2024-06-07T00:05:41.328361Z",
     "start_time": "2024-06-07T00:05:41.326042Z"
    }
   },
   "source": [
    "with open(model_base_path/'hyperparameters.pkl', 'rb') as f:\n",
    "    hp = pickle.load(f)\n",
    "    \n",
    "ncomps= hp['ncomps']\n",
    "nevecs= hp['nevecs']\n",
    "nbasecomps= hp['nbasecomps']\n",
    "ncauses= hp['ncauses']\n",
    "crop_size= hp['crop_size']"
   ],
   "execution_count": 3,
   "outputs": []
  },
  {
   "cell_type": "code",
   "id": "807a8427-3ea1-4e59-af6c-0abc0f8f06ab",
   "metadata": {
    "ExecuteTime": {
     "end_time": "2024-06-07T00:05:41.863415Z",
     "start_time": "2024-06-07T00:05:41.329536Z"
    }
   },
   "source": [
    "import torchvision.transforms.functional as F\n",
    "import matplotlib.pyplot as plt\n",
    "import numpy as np\n",
    "\n",
    "def recons(age,bmi,latents, latent_offset=0):\n",
    "    \n",
    "    # bmi = scaler_b.inverse_transform(bmi)\n",
    "    # print(age)\n",
    "    latent_enc = np.zeros((latents.shape[0],ncomps))\n",
    "    latent_enc[:,latent_offset:latent_offset+latents.shape[1]] = latents    \n",
    "    # latent_enc = scaler_i.inverse_transform(latent_enc)\n",
    "    imgs = pca.inverse_transform(latent_enc)\n",
    "    return age,bmi,imgs"
   ],
   "execution_count": 4,
   "outputs": []
  },
  {
   "cell_type": "code",
   "id": "381763e2-56e4-468b-900b-54580b67a56b",
   "metadata": {
    "ExecuteTime": {
     "end_time": "2024-06-07T00:05:41.873455Z",
     "start_time": "2024-06-07T00:05:41.864116Z"
    }
   },
   "source": [
    "sample_imgs = test_imgs[:5,:]\n",
    "t = pca.transform(sample_imgs)\n",
    "X_recon = pca.inverse_transform(t)"
   ],
   "execution_count": 5,
   "outputs": []
  },
  {
   "cell_type": "code",
   "id": "fcb2e687-d89c-4103-8620-368668273119",
   "metadata": {
    "ExecuteTime": {
     "end_time": "2024-06-07T00:15:06.024195Z",
     "start_time": "2024-06-07T00:15:05.192657Z"
    }
   },
   "source": [
    "import utils.visualize as vis\n",
    "\n",
    "plt.rcParams[\"figure.figsize\"] = 20,5\n",
    "\n",
    "# fig, axs = plt.subplots(nrows=2, ncols=2, figsize=(20,20))\n",
    "diff = sample_imgs - X_recon\n",
    "# rr = X_recon + diff\n",
    "fig = vis.img_grid([np.rot90(d.reshape(crop_size,crop_size)) for d in sample_imgs], clim=(0,1), cols=5)\n",
    "fig = vis.img_grid([np.rot90(d.reshape(crop_size,crop_size)) for d in X_recon], clim=(0,1), cols=5)\n",
    "fig = vis.img_grid([np.rot90(d.reshape(crop_size,crop_size)) for d in diff], clim=(-.01,.01), cols=5, cmap='seismic')\n",
    "# fig = vis.img_grid([np.rot90(d.reshape(crop_size,crop_size)) for d in rr], clim=(0,1), cols=5)"
   ],
   "execution_count": 19,
   "outputs": []
  },
  {
   "cell_type": "code",
   "metadata": {
    "ExecuteTime": {
     "end_time": "2024-06-07T00:05:42.790188Z",
     "start_time": "2024-06-07T00:05:42.787758Z"
    }
   },
   "source": [
    "print(diff.min())"
   ],
   "id": "3b0001222af6a5dd",
   "execution_count": 7,
   "outputs": []
  },
  {
   "cell_type": "code",
   "id": "55d64857-7cc0-4d89-a8d3-4ea54fee654f",
   "metadata": {
    "ExecuteTime": {
     "end_time": "2024-06-07T00:05:42.793241Z",
     "start_time": "2024-06-07T00:05:42.790769Z"
    }
   },
   "source": [
    "# import seaborn as sns\n",
    "# \n",
    "# sb = 2\n",
    "# fig, axs = plt.subplots(1,sb, figsize=(sb*5,5))\n",
    "# \n",
    "# sns.histplot(disease,ax=axs[0],fill=True)\n",
    "# axs[0].set(title = \"Disease\")\n",
    "# sns.histplot(bias,ax=axs[1],fill=True)\n",
    "# axs[1].set(title = \"Bias\")"
   ],
   "execution_count": 8,
   "outputs": []
  },
  {
   "cell_type": "markdown",
   "id": "cd22746f-485e-47d8-8f12-d428232db712",
   "metadata": {
    "tags": []
   },
   "source": [
    "## Generative Sampling"
   ]
  },
  {
   "cell_type": "code",
   "id": "a4b0a06e-7c97-4d50-a596-2c204cfa7013",
   "metadata": {
    "ExecuteTime": {
     "end_time": "2024-06-07T00:05:42.795570Z",
     "start_time": "2024-06-07T00:05:42.793809Z"
    }
   },
   "source": [
    "def make_img(x):\n",
    "    img = (255*x/np.max(x)).reshape(crop_size,crop_size)\n",
    "    return np.clip(img,0, 255).astype('uint8')"
   ],
   "execution_count": 9,
   "outputs": []
  },
  {
   "cell_type": "code",
   "id": "2a1fa193-e816-4752-8075-4b284f4b96ca",
   "metadata": {
    "ExecuteTime": {
     "end_time": "2024-06-07T00:05:42.798825Z",
     "start_time": "2024-06-07T00:05:42.796853Z"
    }
   },
   "source": [
    "import glob\n",
    "from PIL import Image\n",
    "\n",
    "def make_gif(frames, save_name):    \n",
    "    frames = [Image.fromarray(f) for f in frames]\n",
    "    frame_one = frames[0]\n",
    "    return frame_one.save(save_name, format=\"GIF\", append_images=frames, save_all=True, duration=100, loop=0)"
   ],
   "execution_count": 10,
   "outputs": []
  },
  {
   "cell_type": "markdown",
   "id": "03235fa1-264c-458d-9b71-34ca9934028b",
   "metadata": {
    "tags": []
   },
   "source": [
    "## Random sampling"
   ]
  },
  {
   "cell_type": "code",
   "id": "bbda5281-7151-47da-8405-8ac150d6c22b",
   "metadata": {
    "ExecuteTime": {
     "end_time": "2024-06-07T00:05:56.669746Z",
     "start_time": "2024-06-07T00:05:42.799305Z"
    }
   },
   "source": [
    "from IPython.display import display, clear_output\n",
    "import torch\n",
    "\n",
    "for kk  in range(3):\n",
    "    ncauses=2\n",
    "    nsamples=1\n",
    "    samples_enc = np.zeros((nsamples,ncomps))\n",
    "    save_name = os.path.join(macaw_path, f'data/{exp_name}/rand/')\n",
    "\n",
    "    macaw = torch.load(model_base_path/'0.pt')\n",
    "    ss = macaw.sample(nsamples)\n",
    "\n",
    "    int_vals={}\n",
    "\n",
    "    samples_causes = ss[:,:ncauses]\n",
    "    samples_enc[:,:nevecs] = ss[:,ncauses:]\n",
    "    int_vals[0] = samples_causes[0,0]\n",
    "    int_vals[1] = samples_causes[0,1]\n",
    "\n",
    "    for i,v in enumerate(ss[0,nevecs-nbasecomps+ncauses:]):\n",
    "        int_vals[i+ncauses] = v\n",
    "\n",
    "    frames = []\n",
    "    for ev in range(nevecs-nbasecomps, 451, nevecs-nbasecomps):      \n",
    "        # print(ev)\n",
    "        try:\n",
    "            macaw = torch.load(model_base_path/f'{ev}.pt')\n",
    "            ss = macaw.intervene_parent(int_vals,n_samples=nsamples)\n",
    "\n",
    "            samples_enc[:,ev:ev+nevecs] = ss[:,ncauses:]\n",
    "\n",
    "            for i,v in enumerate(ss[0,nevecs-nbasecomps+ncauses:]):\n",
    "                int_vals[i+ncauses] = v\n",
    "\n",
    "            # print(f'Model loaded: macaw_ukbb_PCA_{ev}')\n",
    "\n",
    "            re = recons(samples_causes[:,0],samples_causes[:,1],samples_enc)      \n",
    "\n",
    "            img = make_img(re[2])\n",
    "\n",
    "\n",
    "            frames.append(img)         \n",
    "            titles_sam = [f'Disease:{d}, Bias:{b}' for d,b in zip(re[0],re[1])]\n",
    "\n",
    "            fig, ax1 = plt.subplots(1,1)\n",
    "            a = ax1.imshow(img, cmap='gray')\n",
    "            ax1.set(xticklabels=[], yticklabels=[], xticks=[], yticks=[], title=titles_sam[0])\n",
    "\n",
    "            if not os.path.exists(save_name):\n",
    "                os.makedirs(save_name)\n",
    "\n",
    "            plt.savefig(save_name+f'{kk}.pdf')      \n",
    "            plt.close()        \n",
    "\n",
    "            # clear_output()\n",
    "            # display(fig)\n",
    "        except Exception as e:\n",
    "            print(e)    \n",
    "\n",
    "    make_gif(frames,save_name+'.gif')"
   ],
   "execution_count": 11,
   "outputs": []
  },
  {
   "cell_type": "markdown",
   "id": "6fd6afdc-2ffd-4284-98d5-83be744be668",
   "metadata": {},
   "source": [
    "## Interventional sampling"
   ]
  },
  {
   "cell_type": "code",
   "id": "8ed82503-e6a5-4355-9a2d-d8b858eaefb7",
   "metadata": {
    "ExecuteTime": {
     "end_time": "2024-06-07T00:06:14.106942Z",
     "start_time": "2024-06-07T00:05:56.670540Z"
    }
   },
   "source": [
    "from IPython.display import display, clear_output\n",
    "import torch\n",
    "\n",
    "for kk  in range(5):\n",
    "    ncauses=2\n",
    "    nsamples=1\n",
    "    samples_enc = np.zeros((nsamples,ncomps))\n",
    "    save_name = f'data/{exp_name}/intrv/'\n",
    "    \n",
    "    dis_i = 0\n",
    "    bias_i=0\n",
    "\n",
    "    # int_vals ={1:age_i-min_age}\n",
    "    int_vals = {1:1}\n",
    "    \n",
    "    frames = []\n",
    "    for ev in range(0,400,nevecs-nbasecomps):      \n",
    "        try:    \n",
    "            macaw = torch.load(model_base_path/f'{ev}.pt')\n",
    "            ss = macaw.intervene_parent(int_vals,n_samples=nsamples)\n",
    "            \n",
    "            samples_causes = ss[:,:ncauses]\n",
    "            int_vals[0] = samples_causes[0,0]\n",
    "            # int_vals[1] = samples_causes[0,1]\n",
    "    \n",
    "            samples_enc[:,ev:ev+nevecs] = ss[:,ncauses:]\n",
    "    \n",
    "            for i,v in enumerate(ss[0,nevecs-nbasecomps+ncauses:]):\n",
    "                int_vals[i+ncauses] = v\n",
    "    \n",
    "            print(f'Model loaded: macaw_ukbb_PCA_{ev}')\n",
    "    \n",
    "            re = recons(samples_causes[:,0],samples_causes[:,1],samples_enc)      \n",
    "            img = make_img(re[2])\n",
    "    \n",
    "            frames.append(img)         \n",
    "            titles_sam = [f'Disease:{d}, Bias:{b}' for d,b in zip(re[0],re[1])]\n",
    "    \n",
    "            fig, ax1 = plt.subplots(1,1)\n",
    "            a = ax1.imshow(img, cmap='gray')\n",
    "            ax1.set(xticklabels=[], yticklabels=[], xticks=[], yticks=[], title=titles_sam[0])\n",
    "            \n",
    "            if not os.path.exists(save_name):\n",
    "                os.makedirs(save_name)\n",
    "            \n",
    "            plt.savefig(save_name+f'{kk}.pdf')        \n",
    "            plt.close()        \n",
    "    \n",
    "            # clear_output()\n",
    "            # display(fig)\n",
    "        except Exception as e:\n",
    "            print(e)    \n",
    "\n",
    "    make_gif(frames,save_name+'.gif')"
   ],
   "execution_count": 12,
   "outputs": []
  },
  {
   "cell_type": "markdown",
   "id": "870a423d-dc1d-4829-975b-3b178fae601b",
   "metadata": {
    "tags": []
   },
   "source": [
    "## Counterfactuals"
   ]
  },
  {
   "cell_type": "code",
   "id": "9345af7cfa651ed2",
   "metadata": {
    "ExecuteTime": {
     "end_time": "2024-06-07T00:16:10.948615Z",
     "start_time": "2024-06-07T00:16:08.580621Z"
    }
   },
   "source": [
    "for kk in range(1):\n",
    "    save_name = f'data/{exp_name}/cntr/'\n",
    "    cf_vals = {1:1}\n",
    "    nsamples = 5\n",
    "\n",
    "    rands = np.random.randint(0,encoded_data.shape[0],nsamples)\n",
    "    d_obs = test_imgs[rands,:]\n",
    "    encoded_obs = encoded_data[rands,:]\n",
    "\n",
    "    dis_obs = disease[rands]\n",
    "    bias_obs = bias[rands]\n",
    "    residuals = d_obs - pca.inverse_transform(encoded_obs)\n",
    "\n",
    "    cf = np.zeros((nsamples,ncomps))  \n",
    "    \n",
    "    for ev in range(0,ncomps-nbasecomps,nevecs-nbasecomps):\n",
    "        ed =  encoded_obs[:,ev:ev+nevecs]\n",
    "        X_obs = np.hstack([dis_obs[:,np.newaxis], bias_obs[:,np.newaxis], ed])\n",
    "        try:\n",
    "            macaw = torch.load(model_base_path/f'{ev}.pt')\n",
    "            cc = macaw.counterfactual(X_obs,cf_vals)\n",
    "        except Exception as e:\n",
    "            print(e,\"Using original\")\n",
    "            cc[:,ncauses:] = X_obs[:,ncauses:].copy()\n",
    "\n",
    "        cf[:,ev:ev+nevecs] = cc[:,ncauses:]\n",
    "\n",
    "    re_cf = recons(cc[:,1],cc[:,2],cf)\n",
    "    re_cf_resd = re_cf[2] + residuals\n",
    "\n",
    "    diff = d_obs - re_cf_resd\n",
    "\n",
    "    fig,axs = plt.subplots(3,nsamples, figsize=(18,10))\n",
    "\n",
    "    for i in range(nsamples):\n",
    "        axs[0,i].imshow(d_obs[i].reshape(crop_size,crop_size),cmap='gray')\n",
    "        axs[0,i].set(xticklabels=[], yticklabels=[], xticks=[], yticks=[], title=f'Disease:{X_obs[i,0]}, Bias:{X_obs[i,1]}')\n",
    "\n",
    "        axs[1,i].imshow(make_img(re_cf_resd[i]),cmap='gray')\n",
    "        axs[1,i].set(xticklabels=[], yticklabels=[], xticks=[], yticks=[], title=f'Disease:{cc[i,0]}, Bias:{cc[i,1]}')\n",
    "\n",
    "        axs[2,i].imshow(diff[i].reshape(crop_size,crop_size),cmap='seismic', clim=(-5e-1,5e-1))\n",
    "        axs[2,i].set(xticklabels=[], yticklabels=[], xticks=[], yticks=[])\n",
    "\n",
    "    if not os.path.exists(save_name):\n",
    "        os.makedirs(save_name)\n",
    "\n",
    "    plt.savefig(save_name+f\"{kk}.pdf\")\n",
    "    plt.show()"
   ],
   "execution_count": 20,
   "outputs": []
  },
  {
   "metadata": {
    "ExecuteTime": {
     "end_time": "2024-06-07T00:06:16.194563Z",
     "start_time": "2024-06-07T00:06:16.191936Z"
    }
   },
   "cell_type": "code",
   "source": "diff.min(axis=1)",
   "id": "d955edcfb5bce53",
   "execution_count": 14,
   "outputs": []
  },
  {
   "metadata": {
    "ExecuteTime": {
     "end_time": "2024-06-07T00:06:16.197866Z",
     "start_time": "2024-06-07T00:06:16.195091Z"
    }
   },
   "cell_type": "code",
   "source": "diff.max(axis=1)",
   "id": "b099bb4399bc7af8",
   "execution_count": 15,
   "outputs": []
  },
  {
   "metadata": {
    "ExecuteTime": {
     "end_time": "2024-06-07T00:06:16.200836Z",
     "start_time": "2024-06-07T00:06:16.198528Z"
    }
   },
   "cell_type": "code",
   "source": "test_imgs[0]",
   "id": "62c069719df25b15",
   "execution_count": 16,
   "outputs": []
  },
  {
   "cell_type": "markdown",
   "id": "4bda6348-897b-4e0d-82f2-1b68b84bf7c7",
   "metadata": {},
   "source": [
    "## Age Progression"
   ]
  },
  {
   "cell_type": "code",
   "id": "08c19485-b506-4409-912c-77bcd8792bd3",
   "metadata": {
    "ExecuteTime": {
     "end_time": "2024-06-07T00:06:16.395733Z",
     "start_time": "2024-06-07T00:06:16.201318Z"
    }
   },
   "source": [
    "for kk in range(1):\n",
    "    save_name = f'/data/Papers/TMI-MACAW/exp3/counterfactuals/progress/{kk}.pdf'\n",
    "    nsamples = 2\n",
    "\n",
    "    rands = np.random.choice(np.where(age <5)[0], nsamples)\n",
    "    rands = [3394,3394]    \n",
    "    d_obs = test_imgs[rands,:]\n",
    "    encoded_obs = encoded_data[rands,:]\n",
    "\n",
    "    sex_obs = sex[rands]\n",
    "    age_obs = age[rands]\n",
    "    bmi_obs = bmi[rands]\n",
    "    residuals = d_obs - pca.inverse_transform(encoded_obs)\n",
    "    \n",
    "    fig,axs = plt.subplots(2,6, figsize=(20,6))\n",
    "    plt.subplots_adjust(wspace=0, hspace=0)\n",
    "\n",
    "    i=0\n",
    "\n",
    "    axs[0,i].imshow(np.rot90(d_obs[i].reshape(crop_size,crop_size)),cmap='gray')\n",
    "    axs[0,i].set(xticklabels=[], yticklabels=[], xticks=[], yticks=[], title=f'Age:{re_obs[0][i]}')\n",
    "    \n",
    "    diff = d_obs - d_obs\n",
    "    axs[1,0].imshow(np.rot90(diff[i].reshape(crop_size,crop_size)),cmap='seismic', clim=[-1,1])\n",
    "    axs[1,0].set(xticklabels=[], yticklabels=[], xticks=[], yticks=[])\n",
    "\n",
    "    \n",
    "    \n",
    "    for c,cf_vals in enumerate([{1:10},{1:15},{1:20},{1:25},{1:30}]):\n",
    "\n",
    "        cf = np.zeros((nsamples,ncomps)) \n",
    "        print(cf_vals)\n",
    "\n",
    "        for ev in range(0,ncomps-nbasecomps,nevecs-nbasecomps):\n",
    "            ed =  encoded_obs[:,ev:ev+nevecs]\n",
    "            X_obs = np.hstack([sex_obs[:,np.newaxis], age_obs[:,np.newaxis], bmi_obs[:,np.newaxis], ed])\n",
    "            try:\n",
    "                macaw = torch.load(model_base_path/f'{ev}.pt')\n",
    "                cc = macaw.counterfactual(X_obs,cf_vals)\n",
    "            except Exception as e:\n",
    "                print(e,\"Using original\")\n",
    "                cc[:,ncauses:] = X_obs[:,ncauses:].copy()\n",
    "\n",
    "            cf[:,ev:ev+nevecs] = cc[:,ncauses:]\n",
    "\n",
    "\n",
    "        re_obs = recons(X_obs[:,1],X_obs[:,2],X_obs[:,3:])\n",
    "        re_cf = recons(cc[:,1],cc[:,2],cf)\n",
    "\n",
    "        re_cf_resd = re_cf[2] + residuals\n",
    "\n",
    "        diff = d_obs - re_cf_resd\n",
    "\n",
    "        sex_obs_str = ['Male' if np.round(x) else 'Female' for x in X_obs[:,0]]\n",
    "        sex_cf = ['Male' if np.round(x) else 'Female' for x in cc[:,0]]\n",
    "        \n",
    "        axs[0,c+1].imshow(np.rot90(re_cf_resd[i].reshape(crop_size,crop_size)),cmap='gray')\n",
    "        axs[0,c+1].set(xticklabels=[], yticklabels=[], xticks=[], yticks=[], title=f'Age:{re_cf[0][i]}')\n",
    "        # axs[0,c+1].set(xticklabels=[], yticklabels=[], xticks=[], yticks=[], title=f'Sex:{sex_cf[i]}, Age:{re_cf[0][i]}, BMI:{np.round(re_cf[1][i])}')\n",
    "\n",
    "        axs[1,c+1].imshow(np.rot90(diff[i].reshape(crop_size,crop_size)),cmap='seismic', clim=[-1,1])\n",
    "        axs[1,c+1].set(xticklabels=[], yticklabels=[], xticks=[], yticks=[])\n",
    "\n",
    "    plt.savefig(save_name)\n",
    "    plt.show()"
   ],
   "execution_count": 17,
   "outputs": []
  },
  {
   "cell_type": "code",
   "id": "e8d3600e-a023-4ef4-8c92-e481fb17dc02",
   "metadata": {
    "ExecuteTime": {
     "end_time": "2024-06-07T00:06:16.397056Z",
     "start_time": "2024-06-07T00:06:16.396998Z"
    }
   },
   "source": [
    "plt.savefig(save_name)"
   ],
   "execution_count": null,
   "outputs": []
  },
  {
   "cell_type": "code",
   "id": "15d30ba7-f611-4dbe-8204-b0225c50873f",
   "metadata": {},
   "source": [
    "re_obs"
   ],
   "execution_count": null,
   "outputs": []
  },
  {
   "cell_type": "markdown",
   "id": "89d6c5da-4620-4a61-a84b-9a8d2476a635",
   "metadata": {
    "tags": []
   },
   "source": [
    "## Classification"
   ]
  },
  {
   "cell_type": "code",
   "id": "e04641cf-413a-4a13-b40b-650619d7eace",
   "metadata": {},
   "source": [
    "idx = 0\n",
    "macaw = torch.load(model_base_path/f'{idx}.pt')\n",
    "X_test = np.hstack([sex[:,np.newaxis], age[:,np.newaxis], bmi[:,np.newaxis], encoded_data[:,idx:nevecs+idx]])"
   ],
   "execution_count": null,
   "outputs": []
  },
  {
   "cell_type": "code",
   "id": "802f9e35-b1b3-46ff-852c-29a6d31b58e6",
   "metadata": {},
   "source": [
    "encoded_data"
   ],
   "execution_count": null,
   "outputs": []
  },
  {
   "cell_type": "code",
   "id": "bd1134ac-d779-4c8a-af21-b02f38601dbf",
   "metadata": {},
   "source": [
    "probs=[]\n",
    "for i in range(age_bins):\n",
    "    X_test[:,1] = i\n",
    "    probs.append(macaw.log_likelihood(X_test))"
   ],
   "execution_count": null,
   "outputs": []
  },
  {
   "cell_type": "code",
   "id": "7aa8d0e5-6306-40e5-8d9c-776f8b3948dd",
   "metadata": {},
   "source": [
    "pexp = np.exp(np.array(probs))\n",
    "pexp_sum = np.sum(pexp,axis=0)\n",
    "p = pexp/pexp_sum"
   ],
   "execution_count": null,
   "outputs": []
  },
  {
   "cell_type": "code",
   "id": "09a8e828-7201-4ae2-9173-6e44a07fde96",
   "metadata": {},
   "source": [
    "pred_labels = np.argmax(probs, axis=0)"
   ],
   "execution_count": null,
   "outputs": []
  },
  {
   "cell_type": "code",
   "id": "7ad9e204-d3a8-41d4-94a0-59ad18cc0d5f",
   "metadata": {},
   "source": [],
   "execution_count": null,
   "outputs": []
  },
  {
   "cell_type": "code",
   "id": "09e2e392-00d8-4249-8bac-770aa7ae96fa",
   "metadata": {},
   "source": [
    "sns.histplot(age, bins=age_bins)\n",
    "sns.histplot(pred_labels,bins=age_bins)"
   ],
   "execution_count": null,
   "outputs": []
  },
  {
   "cell_type": "code",
   "id": "9a470c41-6874-4d25-92e2-3cab1b3313e7",
   "metadata": {},
   "source": [
    "l = np.array(probs)[:,100]\n",
    "plt.bar(np.arange(36)+min_age,l-np.min(l))"
   ],
   "execution_count": null,
   "outputs": []
  },
  {
   "cell_type": "code",
   "id": "854e874f-cda4-45a8-9da0-f85cba8db6b7",
   "metadata": {},
   "source": [
    "import pandas as pd\n",
    "ll = pd.DataFrame({'pred': l-np.min(l), 'age': np.arange(age_bins)+min_age})"
   ],
   "execution_count": null,
   "outputs": []
  },
  {
   "cell_type": "code",
   "id": "f7e68437-06a2-4994-a383-eba168ea25db",
   "metadata": {},
   "source": [
    "pal = sns.color_palette(\"blend:#7AB,#EDA\", len(l))\n",
    "rank = l.argsort().argsort() "
   ],
   "execution_count": null,
   "outputs": []
  },
  {
   "cell_type": "code",
   "id": "ab2c88a9-6a2a-44a7-9499-e395a74ffa43",
   "metadata": {},
   "source": [
    "fig,axs = plt.subplots(1,1, figsize=(4,4))\n",
    "\n",
    "sns.barplot(ll, x='age', y='pred', palette=np.array(pal)[rank], ax=axs)\n",
    "axs.set(xticklabels=[int(i+min_age) for i in range(age_bins)], yticklabels=[], xticks=[i for i in range(0,age_bins,5)], yticks=[], \n",
    "        title=f'Predicted = 71, Actual = 75', xlabel='Age', ylabel='Likelihood')\n",
    "plt.savefig('/data/Papers/TMI-MACAW/exp3/classification/barplot.pdf')\n",
    "plt.show()\n"
   ],
   "execution_count": null,
   "outputs": []
  },
  {
   "cell_type": "code",
   "id": "e8b17e31-7424-49d8-9915-ccb1387082c4",
   "metadata": {},
   "source": [
    "np.argmax(l) + min_age"
   ],
   "execution_count": null,
   "outputs": []
  },
  {
   "cell_type": "code",
   "id": "5df7d942-6d3e-44e8-842c-737afe6d64e7",
   "metadata": {},
   "source": [
    "age[100]+min_age"
   ],
   "execution_count": null,
   "outputs": []
  },
  {
   "cell_type": "code",
   "id": "ddc5b55b-4b43-45e2-8fe0-922ff612ef03",
   "metadata": {},
   "source": [
    "fig,axs = plt.subplots(1,1, figsize=(4,4))\n",
    "diff = age-pred_labels-1\n",
    "sns.histplot(diff, bins=age_bins, color='C4', ax=axs)\n",
    "\n",
    "axs.set(yticklabels=[], xticks=[i for i in range(-20,25,5)], yticks=[], \n",
    "        title=f'Difference between actual and predicted age', xlabel='Difference', ylabel='Count')\n",
    "plt.savefig('/data/Papers/TMI-MACAW/exp3/classification/error.pdf')\n",
    "plt.show()"
   ],
   "execution_count": null,
   "outputs": []
  },
  {
   "cell_type": "code",
   "id": "a9cf2c57-4aeb-4576-ad0a-47f319d63a0f",
   "metadata": {},
   "source": [
    "np.mean(np.abs(pred_labels+1 - age))"
   ],
   "execution_count": null,
   "outputs": []
  },
  {
   "cell_type": "code",
   "id": "29379992-f0cc-457b-b2f0-b59164f7bab9",
   "metadata": {},
   "source": [
    "np.mean(np.abs(20*np.ones_like(age) - age))"
   ],
   "execution_count": null,
   "outputs": []
  },
  {
   "cell_type": "code",
   "id": "a8104143-bd68-4c69-9ca8-91d575e430c1",
   "metadata": {},
   "source": [
    "np.corrcoef(age, pred_labels)"
   ],
   "execution_count": null,
   "outputs": []
  },
  {
   "cell_type": "markdown",
   "id": "1813772a-f58f-4489-8772-8b941cf5a014",
   "metadata": {},
   "source": [
    "## Outliers"
   ]
  },
  {
   "cell_type": "code",
   "id": "6eed3d00-3298-42c0-ad7c-b0871f19bf35",
   "metadata": {},
   "source": [
    "test_probs = macaw.log_likelihood(X_test)"
   ],
   "execution_count": null,
   "outputs": []
  },
  {
   "cell_type": "code",
   "id": "eba9780f-40aa-48cc-9bff-f422546e316d",
   "metadata": {},
   "source": [
    "sorted_idx = np.argsort(test_probs)"
   ],
   "execution_count": null,
   "outputs": []
  },
  {
   "cell_type": "code",
   "id": "301607c8-f110-4888-a618-42185d0297e8",
   "metadata": {},
   "source": [
    "outliers = test_imgs[sorted_idx[:10]].astype('f')\n",
    "sex_out = ['Male' if np.round(x) else 'Female' for x in sex[sorted_idx[:10]]]\n",
    "age_out = age[sorted_idx[:10]] +min_age\n",
    "bmi_out = np.round(bmi[sorted_idx[:10]])\n",
    "bmi_out"
   ],
   "execution_count": null,
   "outputs": []
  },
  {
   "cell_type": "code",
   "id": "1e9c81cb-6b87-49bf-b9e6-77dd74e56902",
   "metadata": {},
   "source": [
    "outliers[1].shape"
   ],
   "execution_count": null,
   "outputs": []
  },
  {
   "cell_type": "code",
   "id": "e3a0cbf4-e17e-40a7-86a7-e5b0eed8213c",
   "metadata": {},
   "source": [
    "fig,axs = plt.subplots(2,5,figsize=(20,8))\n",
    "\n",
    "axs = np.ravel(axs)\n",
    "for ii in range(10):\n",
    "    axs[ii].imshow(np.rot90(outliers[ii].reshape(crop_size,crop_size)),cmap='gray')\n",
    "    axs[ii].set(xticklabels=[], yticklabels=[], xticks=[], yticks=[],title=f'{sex_out[ii]},{age_out[ii]}, BMI:{bmi_out[ii]}')\n",
    "\n",
    "plt.subplots_adjust(top=0.58,bottom=0,left=0,right=0.5, wspace=0, hspace=0)\n",
    "plt.savefig('/data/Papers/TMI-MACAW/exp3/exp3-out.pdf') \n"
   ],
   "execution_count": null,
   "outputs": []
  },
  {
   "cell_type": "markdown",
   "id": "16f88560-b5ec-4d9a-a192-383c302a7df3",
   "metadata": {},
   "source": [
    "## Linear Regression"
   ]
  },
  {
   "cell_type": "code",
   "id": "60415595-0bd9-4ce6-bb8c-97a6ad027705",
   "metadata": {},
   "source": [
    "with open(model_base_path/'lr.pkl', 'rb') as f:\n",
    "    lr = pickle.load(f)\n",
    "    \n",
    "reg = lr['reg']\n",
    "\n",
    "X = np.hstack([sex[:,np.newaxis], bmi[:,np.newaxis], encoded_data[:,idx:nevecs+idx]])\n",
    "X.shape"
   ],
   "execution_count": null,
   "outputs": []
  },
  {
   "cell_type": "code",
   "id": "68b4bc85-8537-4c65-8983-47f6db3015fb",
   "metadata": {},
   "source": [
    "pred_labels_lr  = reg.predict(X)"
   ],
   "execution_count": null,
   "outputs": []
  },
  {
   "cell_type": "code",
   "id": "e148ede8-c6e2-4329-aa4d-2f26b5ae4f10",
   "metadata": {},
   "source": [
    "np.mean(np.abs(pred_labels_lr - age))"
   ],
   "execution_count": null,
   "outputs": []
  },
  {
   "cell_type": "code",
   "id": "34e06d3a-3996-448d-a060-3c94c4a3fbce",
   "metadata": {},
   "source": [
    "sns.histplot(age, bins=age_bins)\n",
    "sns.histplot(pred_labels,bins=age_bins)\n",
    "sns.histplot(pred_labels_lr,bins=age_bins)"
   ],
   "execution_count": null,
   "outputs": []
  },
  {
   "cell_type": "code",
   "id": "e31ba205-ad5a-4417-87b1-199a3d923f86",
   "metadata": {},
   "source": [
    "sns.histplot(age-pred_labels_lr, bins=age_bins)"
   ],
   "execution_count": null,
   "outputs": []
  },
  {
   "cell_type": "code",
   "id": "eb2c424e-8d19-4717-bd47-03d59a6d8244",
   "metadata": {},
   "source": [
    "sa = macaw.model.priors[1][1].sample((4078,))"
   ],
   "execution_count": null,
   "outputs": []
  },
  {
   "cell_type": "code",
   "id": "77ef800c-94c8-4a4a-a152-5a784670fc04",
   "metadata": {},
   "source": [
    "sns.histplot(sa.cpu().numpy(), bins=age_bins)"
   ],
   "execution_count": null,
   "outputs": []
  },
  {
   "cell_type": "code",
   "id": "4f44dc4b-a8b1-40c4-b378-0cb411ca613f",
   "metadata": {},
   "source": [
    "X_test.shape"
   ],
   "execution_count": null,
   "outputs": []
  },
  {
   "cell_type": "code",
   "id": "cf1489ba-942c-4cbb-9dc4-396642a84abf",
   "metadata": {},
   "source": [
    "from sklearn.model_selection import train_test_split\n",
    "\n",
    "train, valid = train_test_split(X_test, test_size=0.1, random_state=0, stratify=X_test[:,1])"
   ],
   "execution_count": null,
   "outputs": []
  },
  {
   "cell_type": "code",
   "id": "1b7e5ea8-ba74-4104-8a74-5e05bc9f9beb",
   "metadata": {},
   "source": [
    "train.shape"
   ],
   "execution_count": null,
   "outputs": []
  },
  {
   "cell_type": "code",
   "id": "f32e1b4a-3e17-4881-9cfb-3607bbddc2b9",
   "metadata": {},
   "source": [
    "pred_labels_lr"
   ],
   "execution_count": null,
   "outputs": []
  },
  {
   "cell_type": "code",
   "id": "3f889a78-5846-45a9-901b-651254ca4cc7",
   "metadata": {},
   "source": [
    "test_vals = [4.97,5.047,5.012,5.1,5.11]"
   ],
   "execution_count": null,
   "outputs": []
  },
  {
   "cell_type": "code",
   "id": "277764dd-9500-452b-9123-a60bcf2ee812",
   "metadata": {},
   "source": [
    "np.mean(test_vals)"
   ],
   "execution_count": null,
   "outputs": []
  },
  {
   "cell_type": "code",
   "id": "cebf9fb5-11ba-4ed5-95b1-0cb070cf21fc",
   "metadata": {},
   "source": [
    "np.std(test_vals)"
   ],
   "execution_count": null,
   "outputs": []
  },
  {
   "cell_type": "code",
   "id": "d6f7de25-2fc6-4a53-bd68-f4a5417c8072",
   "metadata": {},
   "source": [],
   "execution_count": null,
   "outputs": []
  }
 ],
 "metadata": {
  "kernelspec": {
   "display_name": "Python 3",
   "language": "python",
   "name": "python3"
  },
  "language_info": {
   "codemirror_mode": {
    "name": "ipython",
    "version": 3
   },
   "file_extension": ".py",
   "mimetype": "text/x-python",
   "name": "python",
   "nbconvert_exporter": "python",
   "pygments_lexer": "ipython3",
   "version": "3.10.9"
  }
 },
 "nbformat": 4,
 "nbformat_minor": 5
}
