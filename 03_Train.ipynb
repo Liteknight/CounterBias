{
 "cells": [
  {
   "cell_type": "code",
   "id": "ac8ed1c3-9496-49a4-865c-56314f141a9c",
   "metadata": {
    "ExecuteTime": {
     "end_time": "2024-06-12T19:33:53.157908Z",
     "start_time": "2024-06-12T19:33:53.155623Z"
    }
   },
   "source": [
    "nevecs = 50\n",
    "ncomps = 500\n",
    "nbasecomps = 25\n",
    "crop_size=180\n",
    "ncauses = 2\n",
    "dr_method = 'PCA'"
   ],
   "execution_count": 1,
   "outputs": []
  },
  {
   "metadata": {
    "ExecuteTime": {
     "end_time": "2024-06-12T19:33:54.367592Z",
     "start_time": "2024-06-12T19:33:53.172663Z"
    }
   },
   "cell_type": "code",
   "source": [
    "from pathlib import Path\n",
    "import os, sys\n",
    "import torchvision.transforms.functional as F\n",
    "import matplotlib.pyplot as plt\n",
    "import numpy as np\n",
    "import seaborn as sns"
   ],
   "id": "fcd9e09a79faea7c",
   "execution_count": 2,
   "outputs": []
  },
  {
   "cell_type": "code",
   "id": "dc4bfa8c-b51e-4db7-a6c6-48e284f06081",
   "metadata": {
    "ExecuteTime": {
     "end_time": "2024-06-12T19:33:54.371220Z",
     "start_time": "2024-06-12T19:33:54.368549Z"
    }
   },
   "source": [
    "\n",
    "macaw_path = Path(os.getcwd())\n",
    "sys.path.append(str(macaw_path) +'/')\n",
    "\n",
    "exp_name = 'far_bias'\n",
    "\n",
    "train_csv_path = macaw_path/'splits'/'train.csv'\n",
    "train_img_path = macaw_path/'no_bias'/'train'\n",
    "\n",
    "val_csv_path = macaw_path/'splits'/'val.csv'\n",
    "val_img_path = macaw_path/exp_name/'val'\n",
    "\n",
    "pca_path = macaw_path/exp_name/f'train_hc_pca_{ncomps}.pkl'\n",
    "\n",
    "train_path = macaw_path/exp_name/f'train_hc_data_PCA_{ncomps}.pkl'\n",
    "val_path = macaw_path/exp_name/f'val_hc_data_PCA_{ncomps}.pkl'\n",
    "model_base_path = macaw_path/'models'/exp_name/f'{dr_method}_{ncomps}'/f'{nevecs}'\n",
    "\n",
    "if not os.path.exists(model_base_path):\n",
    "    os.makedirs(model_base_path)"
   ],
   "execution_count": 3,
   "outputs": []
  },
  {
   "cell_type": "code",
   "id": "5a5449c7-9cf7-45db-9535-4c0eb6ce6da9",
   "metadata": {
    "ExecuteTime": {
     "end_time": "2024-06-12T19:33:54.488160Z",
     "start_time": "2024-06-12T19:33:54.371816Z"
    }
   },
   "source": [
    "import pickle\n",
    "\n",
    "with open(train_path, 'rb') as f:\n",
    "    train = pickle.load(f)\n",
    "    \n",
    "disease_t = train['disease']\n",
    "bias_t = train['bias']\n",
    "\n",
    "encoded_t = train['encoded_data']\n",
    "pca_t = train['pca']"
   ],
   "execution_count": 4,
   "outputs": []
  },
  {
   "metadata": {
    "ExecuteTime": {
     "end_time": "2024-06-12T19:33:54.540108Z",
     "start_time": "2024-06-12T19:33:54.489242Z"
    }
   },
   "cell_type": "code",
   "source": [
    "with open(val_path, 'rb') as f:\n",
    "    val = pickle.load(f)\n",
    "    \n",
    "disease_v = val['disease']\n",
    "bias_v = val['bias']\n",
    "\n",
    "encoded_v = val['encoded_data']\n",
    "pca_v = val['pca']"
   ],
   "id": "7e0e3588590e626c",
   "execution_count": 5,
   "outputs": []
  },
  {
   "metadata": {
    "ExecuteTime": {
     "end_time": "2024-06-12T19:33:54.543959Z",
     "start_time": "2024-06-12T19:33:54.540707Z"
    }
   },
   "cell_type": "code",
   "source": "encoded_t.shape",
   "id": "8541fe03a78b9024",
   "execution_count": 6,
   "outputs": []
  },
  {
   "metadata": {
    "ExecuteTime": {
     "end_time": "2024-06-12T19:33:54.546503Z",
     "start_time": "2024-06-12T19:33:54.544476Z"
    }
   },
   "cell_type": "code",
   "source": "encoded_v.shape",
   "id": "480a1449e0e91446",
   "execution_count": 7,
   "outputs": []
  },
  {
   "cell_type": "code",
   "id": "d913b8ea-75cf-4ab0-820c-9eb460a83870",
   "metadata": {
    "ExecuteTime": {
     "end_time": "2024-06-12T19:33:54.549332Z",
     "start_time": "2024-06-12T19:33:54.547026Z"
    }
   },
   "source": "bias_t.sum()",
   "execution_count": 8,
   "outputs": []
  },
  {
   "metadata": {
    "ExecuteTime": {
     "end_time": "2024-06-12T19:33:54.551838Z",
     "start_time": "2024-06-12T19:33:54.549813Z"
    }
   },
   "cell_type": "code",
   "source": "bias_v.sum()",
   "id": "27cf076eaabd4f99",
   "execution_count": 9,
   "outputs": []
  },
  {
   "metadata": {
    "ExecuteTime": {
     "end_time": "2024-06-12T19:33:54.554101Z",
     "start_time": "2024-06-12T19:33:54.552292Z"
    }
   },
   "cell_type": "code",
   "source": "disease_t.sum()",
   "id": "10881b350992ae4d",
   "execution_count": 10,
   "outputs": []
  },
  {
   "metadata": {
    "ExecuteTime": {
     "end_time": "2024-06-12T19:33:54.557823Z",
     "start_time": "2024-06-12T19:33:54.555901Z"
    }
   },
   "cell_type": "code",
   "source": "disease_v.sum()",
   "id": "7ef8bfd674404f82",
   "execution_count": 11,
   "outputs": []
  },
  {
   "cell_type": "markdown",
   "id": "e33defe2-6af3-468d-bd9e-3f830c804527",
   "metadata": {},
   "source": [
    "## Causal Graph"
   ]
  },
  {
   "cell_type": "code",
   "id": "6daf4154-f20b-4cad-86eb-7bf0de118187",
   "metadata": {
    "ExecuteTime": {
     "end_time": "2024-06-12T19:33:54.560446Z",
     "start_time": "2024-06-12T19:33:54.558336Z"
    }
   },
   "source": [
    "disease_to_latents = [(0,i) for i in range(ncauses,nevecs+ncauses)]\n",
    "\n",
    "bias_to_latents = [(1,i) for i in range(ncauses,nevecs+ncauses)]\n",
    "\n",
    "autoregressive_latents = [(i,j) for i in range(ncauses,nevecs+ncauses) for j in range(i+1,nevecs+ncauses)]\n",
    "# autoregressive_latents = [(i,j) for i in range(ncauses,2*ncauses) for j in range(i+1,nevecs+ncauses)]\n",
    "# autoregressive_latents = []\n",
    "edges = disease_to_latents + bias_to_latents + autoregressive_latents"
   ],
   "execution_count": 12,
   "outputs": []
  },
  {
   "cell_type": "markdown",
   "id": "2aa28e2b-0e9f-4b35-88d9-20ffb827b630",
   "metadata": {},
   "source": [
    "## Priors"
   ]
  },
  {
   "cell_type": "code",
   "id": "e84c3590-a881-43a5-800a-80a19f47fe89",
   "metadata": {
    "ExecuteTime": {
     "end_time": "2024-06-12T19:33:54.563322Z",
     "start_time": "2024-06-12T19:33:54.560890Z"
    }
   },
   "source": [
    "P_bias = np.sum(bias_t)/len(bias_t)\n",
    "print(P_bias)\n",
    "\n",
    "P_dis = np.sum(disease_t)/len(disease_t)\n",
    "print(P_dis)"
   ],
   "execution_count": 13,
   "outputs": []
  },
  {
   "metadata": {
    "ExecuteTime": {
     "end_time": "2024-06-12T19:33:54.598250Z",
     "start_time": "2024-06-12T19:33:54.563874Z"
    }
   },
   "cell_type": "code",
   "source": [
    "import torch\n",
    "import yaml\n",
    "from utils.helpers import dict2namespace\n",
    "\n",
    "with open(macaw_path/'config'/'ukbb.yaml', 'r') as f:\n",
    "    config_raw = yaml.load(f, Loader=yaml.FullLoader)\n",
    "    \n",
    "config = dict2namespace(config_raw)\n",
    "config.device = torch.device('cuda') if torch.cuda.is_available() else torch.device('cpu')"
   ],
   "id": "700b254703b316a0",
   "execution_count": 14,
   "outputs": []
  },
  {
   "metadata": {
    "ExecuteTime": {
     "end_time": "2024-06-12T19:33:54.602487Z",
     "start_time": "2024-06-12T19:33:54.599457Z"
    }
   },
   "cell_type": "code",
   "source": "config.device",
   "id": "86c08c0619624c25",
   "execution_count": 15,
   "outputs": []
  },
  {
   "cell_type": "code",
   "id": "e9e4cdea-a3ed-4b41-9c93-59a4b048e7e4",
   "metadata": {
    "ExecuteTime": {
     "end_time": "2024-06-12T19:33:54.683271Z",
     "start_time": "2024-06-12T19:33:54.603201Z"
    }
   },
   "source": [
    "import torch.distributions as td\n",
    "\n",
    "priors = [(slice(0,1),td.Bernoulli(torch.tensor([P_dis]).to(torch.device(config.device)))), # disease\n",
    "          (slice(1,2),td.Bernoulli(torch.tensor([P_bias]).to(torch.device(config.device)))), # bias\n",
    "          (slice(2,nbasecomps+2),td.Normal(torch.zeros(nbasecomps).to(config.device), torch.ones(nbasecomps).to(config.device))), # base_comps\n",
    "          (slice(nbasecomps+2,nevecs+2),td.Normal(torch.zeros(nevecs-nbasecomps).to(config.device), torch.ones(nevecs-nbasecomps).to(config.device))), # new_comps\n",
    "         ]"
   ],
   "execution_count": 16,
   "outputs": []
  },
  {
   "metadata": {
    "ExecuteTime": {
     "end_time": "2024-06-12T19:33:54.685457Z",
     "start_time": "2024-06-12T19:33:54.683857Z"
    }
   },
   "cell_type": "code",
   "source": [
    "import torch.distributions as td\n",
    "# \n",
    "# priors = [(slice(0,1),td.Bernoulli(torch.tensor([P_dis]).to(torch.device(config.device)))), # disease\n",
    "#           (slice(1,2),td.Bernoulli(torch.tensor([P_bias]).to(torch.device(torch.device(config.device))))), # bias\n",
    "#           (slice(2,nbasecomps+2),td.Normal(torch.zeros(nbasecomps).to(torch.device(config.device)), torch.ones(nbasecomps).to(torch.device(config.device)))), # base_comps\n",
    "#           (slice(nbasecomps+2,nevecs+2),td.Normal(torch.zeros(nevecs-nbasecomps).to(torch.device(config.device)), torch.ones(nevecs-nbasecomps).to(torch.device(config.device)))), # new_comps\n",
    "#          ]"
   ],
   "id": "b7cd3b9f4dba160a",
   "execution_count": 17,
   "outputs": []
  },
  {
   "cell_type": "code",
   "id": "63391695-0396-45ac-ad67-9e62e7340c3e",
   "metadata": {
    "ExecuteTime": {
     "end_time": "2024-06-12T19:33:55.676346Z",
     "start_time": "2024-06-12T19:33:54.685965Z"
    }
   },
   "source": [
    "from torch.utils.tensorboard import SummaryWriter\n",
    "from torchvision import datasets, transforms\n",
    "\n",
    "# Writer will output to ./runs/ directory by default\n",
    "writer = SummaryWriter()"
   ],
   "execution_count": 18,
   "outputs": []
  },
  {
   "metadata": {
    "ExecuteTime": {
     "end_time": "2024-06-12T19:33:55.678591Z",
     "start_time": "2024-06-12T19:33:55.676945Z"
    }
   },
   "cell_type": "code",
   "source": "loss_vals = []",
   "id": "f285ab184989a6f",
   "execution_count": 19,
   "outputs": []
  },
  {
   "metadata": {
    "ExecuteTime": {
     "end_time": "2024-06-12T19:33:55.682465Z",
     "start_time": "2024-06-12T19:33:55.679299Z"
    }
   },
   "cell_type": "code",
   "source": [
    "# from macaw import MACAW\n",
    "# \n",
    "# e=0\n",
    "# \n",
    "# save_path = model_base_path/f'0.pt'    \n",
    "# ed_t = encoded_t[:,e:e+nevecs]\n",
    "# ed_v = encoded_v[:,e:e+nevecs]\n",
    "# print(e,e+nevecs)\n",
    "# \n",
    "# # if os.path.exists(save_path): \n",
    "# \n",
    "# X = np.hstack([disease_t[:,np.newaxis], bias_t[:,np.newaxis], ed_t])   \n",
    "# Y = np.hstack([disease_v[:,np.newaxis], bias_v[:,np.newaxis], ed_v])   \n",
    "# \n",
    "# # config.training.num_epochs = 20\n",
    "# # config.optim.learning_rate = 0.001\n",
    "# \n",
    "# macaw = MACAW.MACAW(config)\n",
    "# loss_vals.append(macaw.fit_with_priors(X, Y, edges, priors))\n",
    "# \n",
    "# torch.save(macaw,save_path)"
   ],
   "id": "51d226739a35255c",
   "execution_count": 20,
   "outputs": []
  },
  {
   "cell_type": "code",
   "id": "d7f8b8f4-7da3-4a47-a923-b7840808a8a5",
   "metadata": {
    "ExecuteTime": {
     "end_time": "2024-06-12T19:36:09.113214Z",
     "start_time": "2024-06-12T19:33:55.683127Z"
    }
   },
   "source": [
    "from macaw import MACAW\n",
    "\n",
    "for e in range(0,ncomps-nbasecomps-1,nevecs-nbasecomps):\n",
    "    save_path = model_base_path/f'{e}.pt'    \n",
    "    ed_t = encoded_t[:,e:e+nevecs]\n",
    "    ed_v = encoded_v[:,e:e+nevecs]\n",
    "    print(e,e+nevecs)\n",
    "\n",
    "    # if os.path.exists(save_path): \n",
    "\n",
    "    X = np.hstack([disease_t[:,np.newaxis], bias_t[:,np.newaxis], ed_t])   \n",
    "    Y = np.hstack([disease_v[:,np.newaxis], bias_v[:,np.newaxis], ed_v])   \n",
    "\n",
    "    macaw = MACAW.MACAW(config)\n",
    "    loss_vals.append(macaw.fit_with_priors(X, Y, edges, priors, e))\n",
    "\n",
    "    torch.save(macaw,save_path)"
   ],
   "execution_count": 21,
   "outputs": []
  },
  {
   "metadata": {
    "ExecuteTime": {
     "end_time": "2024-06-12T19:36:09.116413Z",
     "start_time": "2024-06-12T19:36:09.113871Z"
    }
   },
   "cell_type": "code",
   "source": "len(loss_vals)",
   "id": "a8df5daa19131318",
   "execution_count": 22,
   "outputs": []
  },
  {
   "metadata": {
    "ExecuteTime": {
     "end_time": "2024-06-12T19:36:09.121360Z",
     "start_time": "2024-06-12T19:36:09.117063Z"
    }
   },
   "cell_type": "code",
   "source": "len(loss_vals[0][0])",
   "id": "b4319e0bec7c6e3d",
   "execution_count": 23,
   "outputs": []
  },
  {
   "metadata": {
    "ExecuteTime": {
     "end_time": "2024-06-12T19:41:01.001891Z",
     "start_time": "2024-06-12T19:40:59.358050Z"
    }
   },
   "cell_type": "code",
   "source": [
    "# Set up a grid with 3 rows and 4 columns\n",
    "fig, axs = plt.subplots(5, 4, figsize=(15, 10))\n",
    "\n",
    "# Flatten the axes array for easy iteration\n",
    "axs = axs.flatten()\n",
    "\n",
    "# Plot each loss value in the grid\n",
    "for i in range(len(loss_vals)):\n",
    "    axs[i].plot(np.array(loss_vals[i][0]), 'r+')\n",
    "    axs[i].plot(np.array(loss_vals[i][1]), 'b.')\n",
    "    axs[i].set_title(f'Plot {i+1}')\n",
    "\n",
    "# Hide any empty subplots\n",
    "for i in range(len(loss_vals), len(axs)):\n",
    "    fig.delaxes(axs[i])\n",
    "\n",
    "plt.tight_layout()\n",
    "plt.show()"
   ],
   "id": "b398086578c6b01a",
   "execution_count": 28,
   "outputs": []
  },
  {
   "metadata": {
    "ExecuteTime": {
     "end_time": "2024-06-12T19:36:10.779001Z",
     "start_time": "2024-06-12T19:36:10.777475Z"
    }
   },
   "cell_type": "code",
   "source": [
    "# for i in range(len(loss_vals)):\n",
    "#     plt.figure(i)  # Create a new figure for each plot\n",
    "#     plt.plot(np.array(loss_vals[i][0]), 'r+')\n",
    "#     plt.plot(np.array(loss_vals[i][1]), 'b.')\n",
    "#     plt.show()  # Display the plot"
   ],
   "id": "a6b91ebf4e3a2e6f",
   "execution_count": 25,
   "outputs": []
  },
  {
   "cell_type": "code",
   "id": "8e05c561-30a9-4328-be20-06302dc7425c",
   "metadata": {
    "ExecuteTime": {
     "end_time": "2024-06-12T19:36:10.781954Z",
     "start_time": "2024-06-12T19:36:10.779591Z"
    }
   },
   "source": [
    "model_path = model_base_path/'hyperparameters.pkl'\n",
    "\n",
    "with open(model_path, 'wb') as f:\n",
    "    pickle.dump({'ncomps':ncomps, 'nevecs':nevecs,'nbasecomps':nbasecomps, 'ncauses':ncauses, 'crop_size':crop_size}, f)"
   ],
   "execution_count": 26,
   "outputs": []
  },
  {
   "metadata": {
    "ExecuteTime": {
     "end_time": "2024-06-12T19:36:10.786059Z",
     "start_time": "2024-06-12T19:36:10.782510Z"
    }
   },
   "cell_type": "code",
   "source": "loss_vals[0][1]",
   "id": "ffd9b08a4d664a7d",
   "execution_count": 27,
   "outputs": []
  },
  {
   "metadata": {
    "ExecuteTime": {
     "end_time": "2024-06-12T19:36:10.788043Z",
     "start_time": "2024-06-12T19:36:10.786717Z"
    }
   },
   "cell_type": "code",
   "source": "",
   "id": "6e42e0ae2f53ab12",
   "execution_count": 27,
   "outputs": []
  }
 ],
 "metadata": {
  "kernelspec": {
   "display_name": "Python 3",
   "language": "python",
   "name": "python3"
  },
  "language_info": {
   "codemirror_mode": {
    "name": "ipython",
    "version": 3
   },
   "file_extension": ".py",
   "mimetype": "text/x-python",
   "name": "python",
   "nbconvert_exporter": "python",
   "pygments_lexer": "ipython3",
   "version": "3.8.13"
  }
 },
 "nbformat": 4,
 "nbformat_minor": 5
}
