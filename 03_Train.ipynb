{
 "cells": [
  {
   "cell_type": "code",
   "id": "ac8ed1c3-9496-49a4-865c-56314f141a9c",
   "metadata": {
    "ExecuteTime": {
     "end_time": "2024-05-28T18:22:44.380330Z",
     "start_time": "2024-05-28T18:22:44.378427Z"
    }
   },
   "source": [
    "nevecs = 60\n",
    "ncomps = 500\n",
    "nbasecomps = 20\n",
    "crop_size=180\n",
    "ncauses = 2\n",
    "dr_method = 'PCA'"
   ],
   "outputs": [],
   "execution_count": 1
  },
  {
   "metadata": {
    "ExecuteTime": {
     "end_time": "2024-05-28T18:22:44.383351Z",
     "start_time": "2024-05-28T18:22:44.381144Z"
    }
   },
   "cell_type": "code",
   "source": [
    "from pathlib import Path\n",
    "import os, sys"
   ],
   "id": "fcd9e09a79faea7c",
   "outputs": [],
   "execution_count": 2
  },
  {
   "cell_type": "code",
   "id": "dc4bfa8c-b51e-4db7-a6c6-48e284f06081",
   "metadata": {
    "ExecuteTime": {
     "end_time": "2024-05-28T18:22:44.407503Z",
     "start_time": "2024-05-28T18:22:44.404616Z"
    }
   },
   "source": [
    "\n",
    "macaw_path = Path(os.getcwd())\n",
    "sys.path.append(str(macaw_path) +'/')\n",
    "\n",
    "exp_name = 'no_bias'\n",
    "\n",
    "train_csv_path = macaw_path/'splits'/'train.csv'\n",
    "train_img_path = macaw_path/'no_bias'/'train'\n",
    "\n",
    "# test_csv_path = macaw_path/'data'/'ukbb'/'test_hc.csv'\n",
    "# test_img_path = macaw_path/'data'/'ukbb'/'axial'/'test_hc'\n",
    "# \n",
    "pca_path = macaw_path/exp_name/f'train_hc_pca_{ncomps}.pkl'\n",
    "# \n",
    "train_path = macaw_path/exp_name/f'train_hc_data_PCA_{ncomps}.pkl'\n",
    "# test_path = macaw_path/'data'/'ukbb'/'axial'/f'test_hc_data_PCA_{ncomps}.pkl'\n",
    "model_base_path = macaw_path/'models'/exp_name/f'{dr_method}_{ncomps}'/f'{nevecs}'\n",
    "\n",
    "if not os.path.exists(model_base_path):\n",
    "    os.makedirs(model_base_path)"
   ],
   "outputs": [],
   "execution_count": 3
  },
  {
   "cell_type": "code",
   "id": "5a5449c7-9cf7-45db-9535-4c0eb6ce6da9",
   "metadata": {
    "ExecuteTime": {
     "end_time": "2024-05-28T18:22:44.599141Z",
     "start_time": "2024-05-28T18:22:44.414677Z"
    }
   },
   "source": [
    "import pickle\n",
    "\n",
    "with open(train_path, 'rb') as f:\n",
    "    train = pickle.load(f)\n",
    "    \n",
    "disease = train['disease']\n",
    "bias = train['bias']\n",
    "\n",
    "encoded_data = train['encoded_data']\n",
    "pca = train['pca']"
   ],
   "outputs": [],
   "execution_count": 4
  },
  {
   "metadata": {
    "ExecuteTime": {
     "end_time": "2024-05-28T18:22:44.603310Z",
     "start_time": "2024-05-28T18:22:44.599979Z"
    }
   },
   "cell_type": "code",
   "source": "encoded_data.shape",
   "id": "8541fe03a78b9024",
   "outputs": [
    {
     "data": {
      "text/plain": [
       "(1005, 500)"
      ]
     },
     "execution_count": 5,
     "metadata": {},
     "output_type": "execute_result"
    }
   ],
   "execution_count": 5
  },
  {
   "cell_type": "code",
   "id": "00a80963-08f9-42d0-a786-304c80838e59",
   "metadata": {
    "ExecuteTime": {
     "end_time": "2024-05-28T18:22:45.745296Z",
     "start_time": "2024-05-28T18:22:44.603946Z"
    }
   },
   "source": [
    "import torchvision.transforms.functional as F\n",
    "import matplotlib.pyplot as plt\n",
    "import numpy as np"
   ],
   "outputs": [],
   "execution_count": 6
  },
  {
   "cell_type": "code",
   "id": "d913b8ea-75cf-4ab0-820c-9eb460a83870",
   "metadata": {
    "ExecuteTime": {
     "end_time": "2024-05-28T18:22:45.987388Z",
     "start_time": "2024-05-28T18:22:45.746239Z"
    }
   },
   "source": [
    "import seaborn as sns\n",
    "\n",
    "sb = 2\n",
    "fig, axs = plt.subplots(1,sb, figsize=(sb*5,5))\n",
    "\n",
    "sns.histplot(bias,ax=axs[0],fill=True)\n",
    "axs[0].set(title = \"bias\")\n",
    "sns.histplot(disease,ax=axs[1], fill=True)\n",
    "axs[1].set(title=\"disease\")\n",
    "# sns.histplot(encoded_data[0],ax=axs[3], fill=True)\n",
    "# axs[3].set(title=\"PCA0\")"
   ],
   "outputs": [
    {
     "data": {
      "text/plain": [
       "[Text(0.5, 1.0, 'disease')]"
      ]
     },
     "execution_count": 7,
     "metadata": {},
     "output_type": "execute_result"
    },
    {
     "data": {
      "text/plain": [
       "<Figure size 1000x500 with 2 Axes>"
      ],
      "image/png": "[encoded data removed]"
     },
     "metadata": {},
     "output_type": "display_data"
    }
   ],
   "execution_count": 7
  },
  {
   "cell_type": "markdown",
   "id": "e33defe2-6af3-468d-bd9e-3f830c804527",
   "metadata": {},
   "source": [
    "## Causal Graph"
   ]
  },
  {
   "cell_type": "code",
   "id": "6daf4154-f20b-4cad-86eb-7bf0de118187",
   "metadata": {
    "ExecuteTime": {
     "end_time": "2024-05-28T18:22:45.990859Z",
     "start_time": "2024-05-28T18:22:45.987941Z"
    }
   },
   "source": [
    "disease_to_latents = [(0,i) for i in range(ncauses,nevecs+ncauses)]\n",
    "\n",
    "bias_to_latents = [(1,i) for i in range(ncauses,nevecs+ncauses)]\n",
    "\n",
    "autoregressive_latents = [(i,j) for i in range(ncauses,nevecs+ncauses) for j in range(i+1,nevecs+ncauses)]\n",
    "# autoregressive_latents = [(i,j) for i in range(ncauses,2*ncauses) for j in range(i+1,nevecs+ncauses)]\n",
    "# autoregressive_latents = []\n",
    "edges = disease_to_latents + bias_to_latents + autoregressive_latents"
   ],
   "outputs": [],
   "execution_count": 8
  },
  {
   "cell_type": "markdown",
   "id": "2aa28e2b-0e9f-4b35-88d9-20ffb827b630",
   "metadata": {},
   "source": [
    "## Priors"
   ]
  },
  {
   "cell_type": "code",
   "id": "e84c3590-a881-43a5-800a-80a19f47fe89",
   "metadata": {
    "ExecuteTime": {
     "end_time": "2024-05-28T18:22:45.994250Z",
     "start_time": "2024-05-28T18:22:45.991406Z"
    }
   },
   "source": [
    "P_bias = np.sum(bias)/len(bias)\n",
    "print(P_bias)\n",
    "\n",
    "P_dis = np.sum(disease)/len(disease)\n",
    "print(P_dis)"
   ],
   "outputs": [
    {
     "name": "stdout",
     "output_type": "stream",
     "text": [
      "0.0\n",
      "0.4975124378109453\n"
     ]
    }
   ],
   "execution_count": 9
  },
  {
   "metadata": {
    "ExecuteTime": {
     "end_time": "2024-05-28T18:22:46.028846Z",
     "start_time": "2024-05-28T18:22:45.994776Z"
    }
   },
   "cell_type": "code",
   "source": [
    "import torch\n",
    "import yaml\n",
    "from utils.helpers import dict2namespace\n",
    "\n",
    "with open(macaw_path/'config'/'ukbb.yaml', 'r') as f:\n",
    "    config_raw = yaml.load(f, Loader=yaml.FullLoader)\n",
    "    \n",
    "config = dict2namespace(config_raw)\n",
    "config.device = torch.device('cuda') if torch.cuda.is_available() else torch.device('cpu')"
   ],
   "id": "700b254703b316a0",
   "outputs": [],
   "execution_count": 10
  },
  {
   "metadata": {
    "ExecuteTime": {
     "end_time": "2024-05-28T18:22:46.031655Z",
     "start_time": "2024-05-28T18:22:46.029496Z"
    }
   },
   "cell_type": "code",
   "source": "torch.cuda.is_available()",
   "id": "f9bed2886d08b24c",
   "outputs": [
    {
     "data": {
      "text/plain": [
       "True"
      ]
     },
     "execution_count": 11,
     "metadata": {},
     "output_type": "execute_result"
    }
   ],
   "execution_count": 11
  },
  {
   "metadata": {
    "ExecuteTime": {
     "end_time": "2024-05-28T18:22:46.033951Z",
     "start_time": "2024-05-28T18:22:46.032106Z"
    }
   },
   "cell_type": "code",
   "source": "config.device",
   "id": "86c08c0619624c25",
   "outputs": [
    {
     "data": {
      "text/plain": [
       "device(type='cuda')"
      ]
     },
     "execution_count": 12,
     "metadata": {},
     "output_type": "execute_result"
    }
   ],
   "execution_count": 12
  },
  {
   "cell_type": "code",
   "id": "e9e4cdea-a3ed-4b41-9c93-59a4b048e7e4",
   "metadata": {
    "ExecuteTime": {
     "end_time": "2024-05-28T18:22:46.112356Z",
     "start_time": "2024-05-28T18:22:46.035111Z"
    }
   },
   "source": [
    "import torch.distributions as td\n",
    "\n",
    "priors = [(slice(0,1),td.Bernoulli(torch.tensor([P_bias]).to(torch.device(config.device)))), # bias\n",
    "          (slice(1,2),td.Bernoulli(torch.tensor([P_dis]).to(torch.device(config.device)))), # disease\n",
    "          (slice(nbasecomps+2,nevecs+2),td.Normal(torch.zeros(nevecs-nbasecomps).to(torch.device(config.device)), torch.ones(nevecs-nbasecomps).to(torch.device(config.device)))), # new_comps\n",
    "         ]"
   ],
   "outputs": [],
   "execution_count": 13
  },
  {
   "cell_type": "code",
   "id": "63391695-0396-45ac-ad67-9e62e7340c3e",
   "metadata": {
    "ExecuteTime": {
     "end_time": "2024-05-28T18:22:47.099536Z",
     "start_time": "2024-05-28T18:22:46.113005Z"
    }
   },
   "source": [
    "from torch.utils.tensorboard import SummaryWriter\n",
    "from torchvision import datasets, transforms\n",
    "\n",
    "# Writer will output to ./runs/ directory by default\n",
    "writer = SummaryWriter()"
   ],
   "outputs": [
    {
     "name": "stderr",
     "output_type": "stream",
     "text": [
      "2024-05-28 12:22:46.275107: I tensorflow/core/util/port.cc:110] oneDNN custom operations are on. You may see slightly different numerical results due to floating-point round-off errors from different computation orders. To turn them off, set the environment variable `TF_ENABLE_ONEDNN_OPTS=0`.\n",
      "2024-05-28 12:22:46.276145: I tensorflow/tsl/cuda/cudart_stub.cc:28] Could not find cuda drivers on your machine, GPU will not be used.\n",
      "2024-05-28 12:22:46.300511: I tensorflow/core/platform/cpu_feature_guard.cc:182] This TensorFlow binary is optimized to use available CPU instructions in performance-critical operations.\n",
      "To enable the following instructions: AVX2 AVX512F AVX512_VNNI FMA, in other operations, rebuild TensorFlow with the appropriate compiler flags.\n",
      "2024-05-28 12:22:46.827795: W tensorflow/compiler/tf2tensorrt/utils/py_utils.cc:38] TF-TRT Warning: Could not find TensorRT\n"
     ]
    }
   ],
   "execution_count": 14
  },
  {
   "metadata": {
    "ExecuteTime": {
     "end_time": "2024-05-28T18:22:47.101915Z",
     "start_time": "2024-05-28T18:22:47.100157Z"
    }
   },
   "cell_type": "code",
   "source": "loss_vals = []",
   "id": "f285ab184989a6f",
   "outputs": [],
   "execution_count": 15
  },
  {
   "cell_type": "code",
   "id": "d7f8b8f4-7da3-4a47-a923-b7840808a8a5",
   "metadata": {
    "ExecuteTime": {
     "end_time": "2024-05-28T18:23:12.715324Z",
     "start_time": "2024-05-28T18:22:47.102409Z"
    }
   },
   "source": [
    "from macaw import MACAW\n",
    "\n",
    "for e in range(0,479,nevecs-nbasecomps):\n",
    "    save_path = model_base_path/f'{e}.pt'    \n",
    "    ed =  encoded_data[:,e:e+nevecs]\n",
    "    print(e,e+nevecs)\n",
    "    \n",
    "    if os.path.exists(save_path): \n",
    "       \n",
    "        X = np.hstack([bias[:,np.newaxis], disease[:,np.newaxis], ed])    \n",
    "\n",
    "        macaw = MACAW.MACAW(config)\n",
    "        loss_vals.append(macaw.fit_with_priors(X,edges, priors))\n",
    "\n",
    "        torch.save(macaw,save_path)\n",
    "    else:\n",
    "        print(\"Skipping\")"
   ],
   "outputs": [
    {
     "name": "stdout",
     "output_type": "stream",
     "text": [
      "0 60\n"
     ]
    },
    {
     "data": {
      "text/plain": [
       "  0%|          | 0/50 [00:00<?, ?it/s]"
      ],
      "application/vnd.jupyter.widget-view+json": {
       "version_major": 2,
       "version_minor": 0,
       "model_id": "d9afa6e24c0344169c4453100f82d90a"
      }
     },
     "metadata": {},
     "output_type": "display_data"
    },
    {
     "name": "stdout",
     "output_type": "stream",
     "text": [
      "40 100\n"
     ]
    },
    {
     "data": {
      "text/plain": [
       "  0%|          | 0/50 [00:00<?, ?it/s]"
      ],
      "application/vnd.jupyter.widget-view+json": {
       "version_major": 2,
       "version_minor": 0,
       "model_id": "3e4d96e18cce404892712ea563843cf2"
      }
     },
     "metadata": {},
     "output_type": "display_data"
    },
    {
     "name": "stdout",
     "output_type": "stream",
     "text": [
      "80 140\n"
     ]
    },
    {
     "data": {
      "text/plain": [
       "  0%|          | 0/50 [00:00<?, ?it/s]"
      ],
      "application/vnd.jupyter.widget-view+json": {
       "version_major": 2,
       "version_minor": 0,
       "model_id": "61cfcd14d1cc4cf69bbf522cb93a5d9e"
      }
     },
     "metadata": {},
     "output_type": "display_data"
    },
    {
     "name": "stdout",
     "output_type": "stream",
     "text": [
      "120 180\n"
     ]
    },
    {
     "data": {
      "text/plain": [
       "  0%|          | 0/50 [00:00<?, ?it/s]"
      ],
      "application/vnd.jupyter.widget-view+json": {
       "version_major": 2,
       "version_minor": 0,
       "model_id": "7cf9888f354f44b19ba94f996e7c70d2"
      }
     },
     "metadata": {},
     "output_type": "display_data"
    },
    {
     "name": "stdout",
     "output_type": "stream",
     "text": [
      "160 220\n"
     ]
    },
    {
     "data": {
      "text/plain": [
       "  0%|          | 0/50 [00:00<?, ?it/s]"
      ],
      "application/vnd.jupyter.widget-view+json": {
       "version_major": 2,
       "version_minor": 0,
       "model_id": "5b04167f332044309d4b9f7ec85c3ba6"
      }
     },
     "metadata": {},
     "output_type": "display_data"
    },
    {
     "name": "stdout",
     "output_type": "stream",
     "text": [
      "200 260\n"
     ]
    },
    {
     "data": {
      "text/plain": [
       "  0%|          | 0/50 [00:00<?, ?it/s]"
      ],
      "application/vnd.jupyter.widget-view+json": {
       "version_major": 2,
       "version_minor": 0,
       "model_id": "37640f6c8655467d8262f54ba3c137a7"
      }
     },
     "metadata": {},
     "output_type": "display_data"
    },
    {
     "name": "stdout",
     "output_type": "stream",
     "text": [
      "240 300\n"
     ]
    },
    {
     "data": {
      "text/plain": [
       "  0%|          | 0/50 [00:00<?, ?it/s]"
      ],
      "application/vnd.jupyter.widget-view+json": {
       "version_major": 2,
       "version_minor": 0,
       "model_id": "e6504da4b047472d896f356696bcd754"
      }
     },
     "metadata": {},
     "output_type": "display_data"
    },
    {
     "name": "stdout",
     "output_type": "stream",
     "text": [
      "280 340\n"
     ]
    },
    {
     "data": {
      "text/plain": [
       "  0%|          | 0/50 [00:00<?, ?it/s]"
      ],
      "application/vnd.jupyter.widget-view+json": {
       "version_major": 2,
       "version_minor": 0,
       "model_id": "4504dfedfe334b55bd8712f65011f3f2"
      }
     },
     "metadata": {},
     "output_type": "display_data"
    },
    {
     "name": "stdout",
     "output_type": "stream",
     "text": [
      "320 380\n"
     ]
    },
    {
     "data": {
      "text/plain": [
       "  0%|          | 0/50 [00:00<?, ?it/s]"
      ],
      "application/vnd.jupyter.widget-view+json": {
       "version_major": 2,
       "version_minor": 0,
       "model_id": "35a0ed6ec3fc47868bf3674538a57218"
      }
     },
     "metadata": {},
     "output_type": "display_data"
    },
    {
     "name": "stdout",
     "output_type": "stream",
     "text": [
      "360 420\n"
     ]
    },
    {
     "data": {
      "text/plain": [
       "  0%|          | 0/50 [00:00<?, ?it/s]"
      ],
      "application/vnd.jupyter.widget-view+json": {
       "version_major": 2,
       "version_minor": 0,
       "model_id": "a2df5c4963674ba0ae34a03564f783b7"
      }
     },
     "metadata": {},
     "output_type": "display_data"
    },
    {
     "name": "stdout",
     "output_type": "stream",
     "text": [
      "400 460\n"
     ]
    },
    {
     "data": {
      "text/plain": [
       "  0%|          | 0/50 [00:00<?, ?it/s]"
      ],
      "application/vnd.jupyter.widget-view+json": {
       "version_major": 2,
       "version_minor": 0,
       "model_id": "cdfe8987445e42249af5b54c13121efb"
      }
     },
     "metadata": {},
     "output_type": "display_data"
    },
    {
     "name": "stdout",
     "output_type": "stream",
     "text": [
      "440 500\n"
     ]
    },
    {
     "data": {
      "text/plain": [
       "  0%|          | 0/50 [00:00<?, ?it/s]"
      ],
      "application/vnd.jupyter.widget-view+json": {
       "version_major": 2,
       "version_minor": 0,
       "model_id": "8973c893af45416a8751208b02793e45"
      }
     },
     "metadata": {},
     "output_type": "display_data"
    }
   ],
   "execution_count": 16
  },
  {
   "metadata": {
    "ExecuteTime": {
     "end_time": "2024-05-28T18:23:12.721708Z",
     "start_time": "2024-05-28T18:23:12.715995Z"
    }
   },
   "cell_type": "code",
   "source": "loss_vals",
   "id": "f69389db8c55c45f",
   "outputs": [
    {
     "data": {
      "text/plain": [
       "[([4233.83581161499,\n",
       "   4137.556209564209,\n",
       "   4035.6130981445312,\n",
       "   3916.390937805176,\n",
       "   3765.329750061035,\n",
       "   3558.8500061035156,\n",
       "   3261.9266815185547,\n",
       "   2820.904188156128,\n",
       "   2167.5961627960205,\n",
       "   1356.7122988700867,\n",
       "   634.6195907592773,\n",
       "   -50.63605785369873,\n",
       "   -671.5561547279358,\n",
       "   -1261.9669017791748,\n",
       "   -1796.4074974060059,\n",
       "   -2242.303665161133,\n",
       "   -2598.608142852783,\n",
       "   -2894.3495559692383,\n",
       "   -3138.44820022583,\n",
       "   -3344.048948287964,\n",
       "   -3523.7064304351807,\n",
       "   -3682.3926849365234,\n",
       "   -3824.951332092285,\n",
       "   -3949.422866821289,\n",
       "   -4060.826484680176,\n",
       "   -4167.205604553223,\n",
       "   -4266.6889724731445,\n",
       "   -4363.579402923584,\n",
       "   -4460.451370239258,\n",
       "   -4552.478435516357,\n",
       "   -4653.3852615356445,\n",
       "   -4757.509376525879,\n",
       "   -4870.528274536133,\n",
       "   -4991.1406326293945,\n",
       "   -5131.516216278076,\n",
       "   -5285.3749351501465,\n",
       "   -5459.228179931641,\n",
       "   -5662.148536682129,\n",
       "   -5895.913955688477,\n",
       "   -6168.88302230835,\n",
       "   -6491.778022766113,\n",
       "   -6874.560348510742,\n",
       "   -7332.6722412109375,\n",
       "   -7876.925888061523,\n",
       "   -8532.569473266602,\n",
       "   -9317.207359313965,\n",
       "   -10233.285888671875,\n",
       "   -11324.236061096191,\n",
       "   -12617.981903076172,\n",
       "   -14108.647979736328],\n",
       "  [3729.943359375,\n",
       "   3643.313720703125,\n",
       "   3545.5380859375,\n",
       "   3425.609619140625,\n",
       "   3266.91357421875,\n",
       "   3042.97314453125,\n",
       "   2713.09423828125,\n",
       "   2222.044189453125,\n",
       "   1530.38037109375,\n",
       "   827.5413818359375,\n",
       "   192.888916015625,\n",
       "   -385.13385009765625,\n",
       "   -972.0360107421875,\n",
       "   -1494.7125244140625,\n",
       "   -1924.086181640625,\n",
       "   -2275.080322265625,\n",
       "   -2560.121337890625,\n",
       "   -2795.625732421875,\n",
       "   -2992.66650390625,\n",
       "   -3162.939208984375,\n",
       "   -3307.85302734375,\n",
       "   -3444.712890625,\n",
       "   -3564.67724609375,\n",
       "   -3665.234619140625,\n",
       "   -3763.1611328125,\n",
       "   -3854.723388671875,\n",
       "   -3936.01123046875,\n",
       "   -4020.21240234375,\n",
       "   -4106.15185546875,\n",
       "   -4193.36328125,\n",
       "   -4271.921875,\n",
       "   -4377.2255859375,\n",
       "   -4476.7763671875,\n",
       "   -4595.28857421875,\n",
       "   -4724.64599609375,\n",
       "   -4873.81005859375,\n",
       "   -5045.6494140625,\n",
       "   -5236.095703125,\n",
       "   -5470.0185546875,\n",
       "   -5732.4775390625,\n",
       "   -6054.1865234375,\n",
       "   -6430.8642578125,\n",
       "   -6879.41455078125,\n",
       "   -7422.6201171875,\n",
       "   -8074.900390625,\n",
       "   -8838.703125,\n",
       "   -9715.80859375,\n",
       "   -10794.796875,\n",
       "   -12007.0048828125,\n",
       "   -13371.1669921875]),\n",
       " ([4105.205860137939,\n",
       "   4028.2661666870117,\n",
       "   3952.760425567627,\n",
       "   3875.0972442626953,\n",
       "   3792.118995666504,\n",
       "   3700.143527984619,\n",
       "   3595.599678039551,\n",
       "   3473.5641288757324,\n",
       "   3326.0383644104004,\n",
       "   3142.5707569122314,\n",
       "   2909.0228996276855,\n",
       "   2606.0131301879883,\n",
       "   2206.9630126953125,\n",
       "   1676.9067888259888,\n",
       "   972.0599484443665,\n",
       "   38.99430513381958,\n",
       "   -1100.6050128936768,\n",
       "   -2007.6709156036377,\n",
       "   -2782.362745285034,\n",
       "   -3536.0715675354004,\n",
       "   -4224.576713562012,\n",
       "   -4855.18204498291,\n",
       "   -5381.525695800781,\n",
       "   -5846.505279541016,\n",
       "   -6262.45431137085,\n",
       "   -6651.097690582275,\n",
       "   -7015.093246459961,\n",
       "   -7355.293670654297,\n",
       "   -7673.695365905762,\n",
       "   -7953.003578186035,\n",
       "   -8200.215934753418,\n",
       "   -8421.12068939209,\n",
       "   -8627.10385131836,\n",
       "   -8805.790977478027,\n",
       "   -8970.253631591797,\n",
       "   -9121.916946411133,\n",
       "   -9269.73696899414,\n",
       "   -9410.079223632812,\n",
       "   -9548.623847961426,\n",
       "   -9682.712097167969,\n",
       "   -9823.280822753906,\n",
       "   -9955.690475463867,\n",
       "   -10087.03012084961,\n",
       "   -10223.460144042969,\n",
       "   -10353.076202392578,\n",
       "   -10477.933990478516,\n",
       "   -10609.318908691406,\n",
       "   -10744.849044799805,\n",
       "   -10883.547241210938,\n",
       "   -11026.798446655273],\n",
       "  [3625.690185546875,\n",
       "   3558.32861328125,\n",
       "   3490.08251953125,\n",
       "   3418.15771484375,\n",
       "   3339.50537109375,\n",
       "   3250.76611328125,\n",
       "   3148.422119140625,\n",
       "   3026.38232421875,\n",
       "   2876.10107421875,\n",
       "   2686.374755859375,\n",
       "   2441.52880859375,\n",
       "   2120.6142578125,\n",
       "   1696.282958984375,\n",
       "   1130.728515625,\n",
       "   379.1639099121094,\n",
       "   -581.78857421875,\n",
       "   -1506.441650390625,\n",
       "   -2053.655029296875,\n",
       "   -2861.79150390625,\n",
       "   -3546.9013671875,\n",
       "   -4138.43701171875,\n",
       "   -4645.1171875,\n",
       "   -5058.287109375,\n",
       "   -5416.171875,\n",
       "   -5730.09619140625,\n",
       "   -6042.62060546875,\n",
       "   -6341.50927734375,\n",
       "   -6623.6328125,\n",
       "   -6892.634765625,\n",
       "   -7113.50439453125,\n",
       "   -7328.615234375,\n",
       "   -7528.298828125,\n",
       "   -7673.296875,\n",
       "   -7834.29296875,\n",
       "   -7970.064453125,\n",
       "   -8095.326171875,\n",
       "   -8226.6904296875,\n",
       "   -8353.642578125,\n",
       "   -8466.1171875,\n",
       "   -8600.84375,\n",
       "   -8712.9873046875,\n",
       "   -8837.8828125,\n",
       "   -8942.771484375,\n",
       "   -9068.1279296875,\n",
       "   -9181.998046875,\n",
       "   -9283.7353515625,\n",
       "   -9417.3505859375,\n",
       "   -9526.3779296875,\n",
       "   -9655.529296875,\n",
       "   -9777.3984375]),\n",
       " ([4039.9903564453125,\n",
       "   3958.2144317626953,\n",
       "   3877.3158111572266,\n",
       "   3793.716018676758,\n",
       "   3704.4000091552734,\n",
       "   3606.3986644744873,\n",
       "   3496.0512733459473,\n",
       "   3368.332790374756,\n",
       "   3216.9769020080566,\n",
       "   3033.251600265503,\n",
       "   2805.608428955078,\n",
       "   2518.712007522583,\n",
       "   2152.042766571045,\n",
       "   1678.8910102844238,\n",
       "   1065.2541513442993,\n",
       "   268.56866216659546,\n",
       "   -766.5200042724609,\n",
       "   -2061.9218978881836,\n",
       "   -3327.628463745117,\n",
       "   -4148.608150482178,\n",
       "   -5016.514965057373,\n",
       "   -5776.510627746582,\n",
       "   -6456.997283935547,\n",
       "   -7081.416862487793,\n",
       "   -7650.140716552734,\n",
       "   -8156.051979064941,\n",
       "   -8635.228538513184,\n",
       "   -9075.627639770508,\n",
       "   -9506.228820800781,\n",
       "   -9917.115005493164,\n",
       "   -10291.925315856934,\n",
       "   -10630.17748260498,\n",
       "   -10935.617401123047,\n",
       "   -11212.313919067383,\n",
       "   -11472.277549743652,\n",
       "   -11720.732284545898,\n",
       "   -11945.238960266113,\n",
       "   -12148.472434997559,\n",
       "   -12341.174392700195,\n",
       "   -12515.575012207031,\n",
       "   -12690.396438598633,\n",
       "   -12859.204154968262,\n",
       "   -13026.420303344727,\n",
       "   -13190.570991516113,\n",
       "   -13351.159317016602,\n",
       "   -13501.322082519531,\n",
       "   -13650.715576171875,\n",
       "   -13800.916152954102,\n",
       "   -13944.853073120117,\n",
       "   -14089.324081420898],\n",
       "  [3564.955078125,\n",
       "   3493.092529296875,\n",
       "   3419.631103515625,\n",
       "   3342.2412109375,\n",
       "   3257.9501953125,\n",
       "   3164.232421875,\n",
       "   3056.78955078125,\n",
       "   2930.7841796875,\n",
       "   2779.23681640625,\n",
       "   2592.993408203125,\n",
       "   2360.068603515625,\n",
       "   2063.78271484375,\n",
       "   1683.26806640625,\n",
       "   1191.2283935546875,\n",
       "   551.7930908203125,\n",
       "   -278.7044677734375,\n",
       "   -1340.324951171875,\n",
       "   -2554.7744140625,\n",
       "   -3313.87255859375,\n",
       "   -4147.26953125,\n",
       "   -4822.49853515625,\n",
       "   -5481.18212890625,\n",
       "   -6043.865234375,\n",
       "   -6579.35888671875,\n",
       "   -7041.0791015625,\n",
       "   -7488.7587890625,\n",
       "   -7900.8251953125,\n",
       "   -8274.87890625,\n",
       "   -8649.982421875,\n",
       "   -8971.9130859375,\n",
       "   -9303.794921875,\n",
       "   -9559.6416015625,\n",
       "   -9824.68359375,\n",
       "   -10056.7646484375,\n",
       "   -10268.603515625,\n",
       "   -10514.46484375,\n",
       "   -10684.9208984375,\n",
       "   -10888.2548828125,\n",
       "   -11036.1611328125,\n",
       "   -11210.775390625,\n",
       "   -11359.6298828125,\n",
       "   -11503.646484375,\n",
       "   -11647.9091796875,\n",
       "   -11809.77734375,\n",
       "   -11918.400390625,\n",
       "   -12081.7490234375,\n",
       "   -12202.8720703125,\n",
       "   -12326.087890625,\n",
       "   -12470.048828125,\n",
       "   -12587.2939453125]),\n",
       " ([4127.4628829956055,\n",
       "   4045.382843017578,\n",
       "   3964.799789428711,\n",
       "   3881.141014099121,\n",
       "   3792.010440826416,\n",
       "   3693.8662109375,\n",
       "   3582.658250808716,\n",
       "   3452.859176635742,\n",
       "   3297.4573154449463,\n",
       "   3107.407470703125,\n",
       "   2869.368288040161,\n",
       "   2566.73002243042,\n",
       "   2179.229242324829,\n",
       "   1678.1275882720947,\n",
       "   1027.4947700500488,\n",
       "   181.49938917160034,\n",
       "   -921.8135414123535,\n",
       "   -2329.548896789551,\n",
       "   -3873.4817810058594,\n",
       "   -4839.753520965576,\n",
       "   -5920.382106781006,\n",
       "   -6834.609939575195,\n",
       "   -7663.284538269043,\n",
       "   -8449.471687316895,\n",
       "   -9164.390571594238,\n",
       "   -9780.106903076172,\n",
       "   -10317.113861083984,\n",
       "   -10786.000869750977,\n",
       "   -11211.734024047852,\n",
       "   -11606.056716918945,\n",
       "   -11982.226020812988,\n",
       "   -12365.748397827148,\n",
       "   -12713.40412902832,\n",
       "   -13063.298278808594,\n",
       "   -13380.616607666016,\n",
       "   -13651.382530212402,\n",
       "   -13907.865051269531,\n",
       "   -14138.041961669922,\n",
       "   -14359.520904541016,\n",
       "   -14578.691192626953,\n",
       "   -14785.344955444336,\n",
       "   -14991.970306396484,\n",
       "   -15176.1552734375,\n",
       "   -15362.794311523438,\n",
       "   -15532.542846679688,\n",
       "   -15685.566848754883,\n",
       "   -15845.686584472656,\n",
       "   -16000.9931640625,\n",
       "   -16144.246307373047,\n",
       "   -16297.662643432617],\n",
       "  [3642.67236328125,\n",
       "   3571.02001953125,\n",
       "   3497.67578125,\n",
       "   3420.145751953125,\n",
       "   3336.0947265625,\n",
       "   3241.559326171875,\n",
       "   3132.759521484375,\n",
       "   3003.346923828125,\n",
       "   2846.61328125,\n",
       "   2651.938720703125,\n",
       "   2405.58984375,\n",
       "   2090.8798828125,\n",
       "   1684.955078125,\n",
       "   1158.734130859375,\n",
       "   473.5187072753906,\n",
       "   -419.2091064453125,\n",
       "   -1571.717529296875,\n",
       "   -2974.505615234375,\n",
       "   -3917.170166015625,\n",
       "   -4891.189453125,\n",
       "   -5770.7763671875,\n",
       "   -6538.60205078125,\n",
       "   -7269.0078125,\n",
       "   -7923.4892578125,\n",
       "   -8517.6171875,\n",
       "   -9015.916015625,\n",
       "   -9455.287109375,\n",
       "   -9842.630859375,\n",
       "   -10173.740234375,\n",
       "   -10489.244140625,\n",
       "   -10822.92578125,\n",
       "   -11167.6240234375,\n",
       "   -11472.908203125,\n",
       "   -11793.099609375,\n",
       "   -12061.9609375,\n",
       "   -12292.42578125,\n",
       "   -12535.904296875,\n",
       "   -12728.072265625,\n",
       "   -12913.8115234375,\n",
       "   -13132.62109375,\n",
       "   -13297.3916015625,\n",
       "   -13477.431640625,\n",
       "   -13642.6953125,\n",
       "   -13806.98046875,\n",
       "   -13945.705078125,\n",
       "   -14084.37109375,\n",
       "   -14231.2451171875,\n",
       "   -14344.1953125,\n",
       "   -14479.7578125,\n",
       "   -14617.505859375]),\n",
       " ([4262.5266036987305,\n",
       "   4179.730529785156,\n",
       "   4097.839164733887,\n",
       "   4012.8452072143555,\n",
       "   3922.2134017944336,\n",
       "   3823.143753051758,\n",
       "   3711.8412551879883,\n",
       "   3583.543441772461,\n",
       "   3431.3261642456055,\n",
       "   3245.8780097961426,\n",
       "   3015.133945465088,\n",
       "   2723.4824295043945,\n",
       "   2349.9214038848877,\n",
       "   1867.8119268417358,\n",
       "   1242.0411458015442,\n",
       "   425.16065788269043,\n",
       "   -638.2038288116455,\n",
       "   -2011.9419898986816,\n",
       "   -3606.8500747680664,\n",
       "   -4780.416847229004,\n",
       "   -5958.980323791504,\n",
       "   -7010.350479125977,\n",
       "   -7960.7745361328125,\n",
       "   -8807.959602355957,\n",
       "   -9588.853225708008,\n",
       "   -10298.480911254883,\n",
       "   -10990.858352661133,\n",
       "   -11634.299331665039,\n",
       "   -12186.074165344238,\n",
       "   -12679.286643981934,\n",
       "   -13110.336898803711,\n",
       "   -13498.201675415039,\n",
       "   -13848.057113647461,\n",
       "   -14192.317413330078,\n",
       "   -14502.600006103516,\n",
       "   -14795.181838989258,\n",
       "   -15069.882232666016,\n",
       "   -15373.517471313477,\n",
       "   -15637.788650512695,\n",
       "   -15896.820770263672,\n",
       "   -16141.298812866211,\n",
       "   -16359.97494506836,\n",
       "   -16555.081481933594,\n",
       "   -16734.370819091797,\n",
       "   -16926.59309387207,\n",
       "   -17112.151779174805,\n",
       "   -17295.65576171875,\n",
       "   -17471.674774169922,\n",
       "   -17653.28759765625,\n",
       "   -17832.642211914062],\n",
       "  [3763.154296875,\n",
       "   3690.50048828125,\n",
       "   3615.9755859375,\n",
       "   3537.1826171875,\n",
       "   3452.06103515625,\n",
       "   3357.373046875,\n",
       "   3249.33251953125,\n",
       "   3122.83935546875,\n",
       "   2970.22119140625,\n",
       "   2781.999755859375,\n",
       "   2545.881591796875,\n",
       "   2245.060302734375,\n",
       "   1858.250732421875,\n",
       "   1357.870849609375,\n",
       "   707.3189697265625,\n",
       "   -140.23492431640625,\n",
       "   -1242.668701171875,\n",
       "   -2640.330322265625,\n",
       "   -3959.822265625,\n",
       "   -4990.87744140625,\n",
       "   -5932.486328125,\n",
       "   -6876.900390625,\n",
       "   -7695.2900390625,\n",
       "   -8409.955078125,\n",
       "   -9032.8203125,\n",
       "   -9668.5,\n",
       "   -10311.162109375,\n",
       "   -10840.552734375,\n",
       "   -11304.640625,\n",
       "   -11744.8681640625,\n",
       "   -12078.255859375,\n",
       "   -12395.8125,\n",
       "   -12712.0810546875,\n",
       "   -12997.130859375,\n",
       "   -13266.310546875,\n",
       "   -13515.1376953125,\n",
       "   -13794.044921875,\n",
       "   -14045.685546875,\n",
       "   -14260.5,\n",
       "   -14521.5400390625,\n",
       "   -14700.978515625,\n",
       "   -14882.4208984375,\n",
       "   -15087.130859375,\n",
       "   -15263.830078125,\n",
       "   -15401.421875,\n",
       "   -15599.7060546875,\n",
       "   -15719.4169921875,\n",
       "   -15874.5888671875,\n",
       "   -16046.564453125,\n",
       "   -16211.6162109375]),\n",
       " ([4176.686737060547,\n",
       "   4096.279281616211,\n",
       "   4016.841972351074,\n",
       "   3934.9384002685547,\n",
       "   3847.5675201416016,\n",
       "   3752.0087127685547,\n",
       "   3645.0288429260254,\n",
       "   3522.0209579467773,\n",
       "   3376.9841537475586,\n",
       "   3201.684715270996,\n",
       "   2984.9154930114746,\n",
       "   2711.777000427246,\n",
       "   2364.5441398620605,\n",
       "   1918.9797611236572,\n",
       "   1341.0054121017456,\n",
       "   588.4868497848511,\n",
       "   -388.3117413520813,\n",
       "   -1644.5270977020264,\n",
       "   -3029.5716609954834,\n",
       "   -4083.928928375244,\n",
       "   -5234.975551605225,\n",
       "   -6396.3957595825195,\n",
       "   -7444.1103591918945,\n",
       "   -8519.943893432617,\n",
       "   -9449.184692382812,\n",
       "   -10229.48397064209,\n",
       "   -10967.481300354004,\n",
       "   -11691.667091369629,\n",
       "   -12335.224159240723,\n",
       "   -12959.088188171387,\n",
       "   -13529.06118774414,\n",
       "   -14035.180480957031,\n",
       "   -14529.057708740234,\n",
       "   -14941.869644165039,\n",
       "   -15304.425537109375,\n",
       "   -15622.880905151367,\n",
       "   -15935.55355834961,\n",
       "   -16259.836822509766,\n",
       "   -16540.44985961914,\n",
       "   -16799.431243896484,\n",
       "   -17053.18197631836,\n",
       "   -17294.97035217285,\n",
       "   -17527.530151367188,\n",
       "   -17734.283111572266,\n",
       "   -17952.945343017578,\n",
       "   -18166.49380493164,\n",
       "   -18381.202911376953,\n",
       "   -18588.449325561523,\n",
       "   -18770.166625976562,\n",
       "   -18971.913146972656],\n",
       "  [3687.71240234375,\n",
       "   3617.189208984375,\n",
       "   3545.2001953125,\n",
       "   3469.39990234375,\n",
       "   3387.166015625,\n",
       "   3296.0673828125,\n",
       "   3192.386474609375,\n",
       "   3071.43896484375,\n",
       "   2926.7119140625,\n",
       "   2749.4306640625,\n",
       "   2527.64599609375,\n",
       "   2246.8544921875,\n",
       "   1887.978515625,\n",
       "   1424.744873046875,\n",
       "   823.2044067382812,\n",
       "   41.196067810058594,\n",
       "   -972.9187622070312,\n",
       "   -2234.49365234375,\n",
       "   -3301.608642578125,\n",
       "   -4328.5185546875,\n",
       "   -5365.1201171875,\n",
       "   -6255.78857421875,\n",
       "   -7278.5224609375,\n",
       "   -8155.70654296875,\n",
       "   -8871.46484375,\n",
       "   -9472.4404296875,\n",
       "   -10193.248046875,\n",
       "   -10834.1103515625,\n",
       "   -11455.5546875,\n",
       "   -11979.2421875,\n",
       "   -12454.994140625,\n",
       "   -12912.6357421875,\n",
       "   -13289.5927734375,\n",
       "   -13673.8671875,\n",
       "   -13931.830078125,\n",
       "   -14245.01953125,\n",
       "   -14542.1689453125,\n",
       "   -14789.873046875,\n",
       "   -15047.568359375,\n",
       "   -15264.009765625,\n",
       "   -15490.50390625,\n",
       "   -15695.1728515625,\n",
       "   -15894.0244140625,\n",
       "   -16084.0732421875,\n",
       "   -16286.7392578125,\n",
       "   -16478.44140625,\n",
       "   -16675.6640625,\n",
       "   -16829.572265625,\n",
       "   -17006.37109375,\n",
       "   -17196.796875]),\n",
       " ([4221.899795532227,\n",
       "   4144.675045013428,\n",
       "   4068.9220695495605,\n",
       "   3990.9576263427734,\n",
       "   3907.462013244629,\n",
       "   3815.3195877075195,\n",
       "   3710.2775650024414,\n",
       "   3587.94864654541,\n",
       "   3441.710496902466,\n",
       "   3263.28857421875,\n",
       "   3041.5959815979004,\n",
       "   2761.988748550415,\n",
       "   2404.0191593170166,\n",
       "   1941.7749948501587,\n",
       "   1341.1419095993042,\n",
       "   559.9236340522766,\n",
       "   -458.6019582748413,\n",
       "   -1783.831340789795,\n",
       "   -3431.44779586792,\n",
       "   -4870.276748657227,\n",
       "   -5990.231216430664,\n",
       "   -7193.569664001465,\n",
       "   -8286.839965820312,\n",
       "   -9239.24154663086,\n",
       "   -10155.663970947266,\n",
       "   -10922.225601196289,\n",
       "   -11647.711288452148,\n",
       "   -12322.244537353516,\n",
       "   -12921.349502563477,\n",
       "   -13578.569091796875,\n",
       "   -14176.326797485352,\n",
       "   -14680.338562011719,\n",
       "   -15128.466094970703,\n",
       "   -15533.756134033203,\n",
       "   -15928.688201904297,\n",
       "   -16298.80014038086,\n",
       "   -16639.805053710938,\n",
       "   -16954.426864624023,\n",
       "   -17276.643280029297,\n",
       "   -17563.026885986328,\n",
       "   -17847.970916748047,\n",
       "   -18125.4168548584,\n",
       "   -18366.14292907715,\n",
       "   -18634.23077392578,\n",
       "   -18838.630798339844,\n",
       "   -19051.017379760742,\n",
       "   -19263.85321044922,\n",
       "   -19467.818313598633,\n",
       "   -19676.98519897461,\n",
       "   -19891.856201171875],\n",
       "  [3730.04296875,\n",
       "   3662.453857421875,\n",
       "   3593.943603515625,\n",
       "   3521.525634765625,\n",
       "   3442.486328125,\n",
       "   3353.36767578125,\n",
       "   3250.376953125,\n",
       "   3128.4091796875,\n",
       "   2980.470703125,\n",
       "   2797.728759765625,\n",
       "   2568.3173828125,\n",
       "   2275.77734375,\n",
       "   1898.7786865234375,\n",
       "   1409.05859375,\n",
       "   771.61279296875,\n",
       "   -60.329185485839844,\n",
       "   -1145.4921875,\n",
       "   -2528.431396484375,\n",
       "   -3983.676513671875,\n",
       "   -4498.6728515625,\n",
       "   -6004.8505859375,\n",
       "   -7008.51220703125,\n",
       "   -7711.62548828125,\n",
       "   -8589.740234375,\n",
       "   -9313.0830078125,\n",
       "   -10048.662109375,\n",
       "   -10644.498046875,\n",
       "   -11161.212890625,\n",
       "   -11741.216796875,\n",
       "   -12299.1962890625,\n",
       "   -12773.9140625,\n",
       "   -13249.6572265625,\n",
       "   -13629.5703125,\n",
       "   -13969.7255859375,\n",
       "   -14287.380859375,\n",
       "   -14618.421875,\n",
       "   -14865.3095703125,\n",
       "   -15141.310546875,\n",
       "   -15372.853515625,\n",
       "   -15663.9619140625,\n",
       "   -15916.7724609375,\n",
       "   -16131.232421875,\n",
       "   -16385.7421875,\n",
       "   -16578.96875,\n",
       "   -16760.171875,\n",
       "   -16932.259765625,\n",
       "   -17093.59375,\n",
       "   -17315.986328125,\n",
       "   -17513.7109375,\n",
       "   -17664.435546875]),\n",
       " ([4285.232727050781,\n",
       "   4208.623935699463,\n",
       "   4132.442893981934,\n",
       "   4053.229331970215,\n",
       "   3968.512908935547,\n",
       "   3875.5572509765625,\n",
       "   3771.0328369140625,\n",
       "   3650.87068939209,\n",
       "   3508.7623863220215,\n",
       "   3336.6219158172607,\n",
       "   3124.4810791015625,\n",
       "   2858.4615688323975,\n",
       "   2521.602294921875,\n",
       "   2089.020932197571,\n",
       "   1531.9765357971191,\n",
       "   811.8803544044495,\n",
       "   -125.16350984573364,\n",
       "   -1341.8614692687988,\n",
       "   -2908.790153503418,\n",
       "   -4697.484893798828,\n",
       "   -5958.374938964844,\n",
       "   -7248.714920043945,\n",
       "   -8328.413116455078,\n",
       "   -9158.73624420166,\n",
       "   -9964.581726074219,\n",
       "   -10756.746322631836,\n",
       "   -11609.386993408203,\n",
       "   -12406.308288574219,\n",
       "   -13155.879539489746,\n",
       "   -13849.53084564209,\n",
       "   -14430.744903564453,\n",
       "   -14969.420318603516,\n",
       "   -15441.445526123047,\n",
       "   -15881.551239013672,\n",
       "   -16278.434356689453,\n",
       "   -16632.786651611328,\n",
       "   -16959.51824951172,\n",
       "   -17283.002639770508,\n",
       "   -17619.44058227539,\n",
       "   -17899.03823852539,\n",
       "   -18151.96565246582,\n",
       "   -18434.931549072266,\n",
       "   -18711.15397644043,\n",
       "   -18957.502639770508,\n",
       "   -19200.556259155273,\n",
       "   -19456.261627197266,\n",
       "   -19698.404739379883,\n",
       "   -19928.767288208008,\n",
       "   -20136.108108520508,\n",
       "   -20329.71208190918],\n",
       "  [3786.990966796875,\n",
       "   3719.501220703125,\n",
       "   3650.0556640625,\n",
       "   3576.5458984375,\n",
       "   3496.63916015625,\n",
       "   3407.64111328125,\n",
       "   3306.197998046875,\n",
       "   3187.60595703125,\n",
       "   3045.2587890625,\n",
       "   2870.762939453125,\n",
       "   2653.5400390625,\n",
       "   2379.35546875,\n",
       "   2029.290771484375,\n",
       "   1579.186279296875,\n",
       "   997.3721313476562,\n",
       "   241.9677734375,\n",
       "   -738.307861328125,\n",
       "   -2006.3873291015625,\n",
       "   -3586.021484375,\n",
       "   -4864.03759765625,\n",
       "   -6001.337890625,\n",
       "   -7070.9267578125,\n",
       "   -7840.2060546875,\n",
       "   -8571.099609375,\n",
       "   -9296.98046875,\n",
       "   -10119.3232421875,\n",
       "   -10795.13671875,\n",
       "   -11475.033203125,\n",
       "   -12171.056640625,\n",
       "   -12681.08984375,\n",
       "   -13176.6064453125,\n",
       "   -13641.9736328125,\n",
       "   -14080.2001953125,\n",
       "   -14457.29296875,\n",
       "   -14792.912109375,\n",
       "   -15074.251953125,\n",
       "   -15391.705078125,\n",
       "   -15680.044921875,\n",
       "   -15906.412109375,\n",
       "   -16112.3837890625,\n",
       "   -16365.8369140625,\n",
       "   -16663.01171875,\n",
       "   -16896.8828125,\n",
       "   -17089.94140625,\n",
       "   -17298.4453125,\n",
       "   -17523.31640625,\n",
       "   -17771.560546875,\n",
       "   -17947.7890625,\n",
       "   -18117.56640625,\n",
       "   -18293.34375]),\n",
       " ([4179.467212677002,\n",
       "   4101.506950378418,\n",
       "   4024.0888061523438,\n",
       "   3943.4664916992188,\n",
       "   3857.257183074951,\n",
       "   3762.1455688476562,\n",
       "   3655.2983932495117,\n",
       "   3532.143829345703,\n",
       "   3386.3780879974365,\n",
       "   3209.8338947296143,\n",
       "   2991.7016944885254,\n",
       "   2718.167293548584,\n",
       "   2370.5192947387695,\n",
       "   1926.334394454956,\n",
       "   1353.999677658081,\n",
       "   614.1585326194763,\n",
       "   -342.49995374679565,\n",
       "   -1577.4602851867676,\n",
       "   -3138.0208053588867,\n",
       "   -4668.365371704102,\n",
       "   -6004.848815917969,\n",
       "   -7299.622993469238,\n",
       "   -8437.518455505371,\n",
       "   -9526.749526977539,\n",
       "   -10572.716796875,\n",
       "   -11424.612014770508,\n",
       "   -12282.141540527344,\n",
       "   -13138.7074508667,\n",
       "   -13916.19546508789,\n",
       "   -14662.668685913086,\n",
       "   -15251.75439453125,\n",
       "   -15848.65478515625,\n",
       "   -16347.717193603516,\n",
       "   -16817.22982788086,\n",
       "   -17284.663635253906,\n",
       "   -17706.354583740234,\n",
       "   -18142.36343383789,\n",
       "   -18505.350799560547,\n",
       "   -18912.32208251953,\n",
       "   -19223.629669189453,\n",
       "   -19521.294891357422,\n",
       "   -19824.502655029297,\n",
       "   -20077.460968017578,\n",
       "   -20364.55731201172,\n",
       "   -20618.529754638672,\n",
       "   -20863.337158203125,\n",
       "   -21082.141540527344,\n",
       "   -21289.896514892578,\n",
       "   -21457.46499633789,\n",
       "   -21672.977111816406],\n",
       "  [3691.705078125,\n",
       "   3623.06298828125,\n",
       "   3552.3955078125,\n",
       "   3477.603515625,\n",
       "   3395.9521484375,\n",
       "   3304.74072265625,\n",
       "   3200.912109375,\n",
       "   3079.034912109375,\n",
       "   2932.655029296875,\n",
       "   2752.89794921875,\n",
       "   2528.50048828125,\n",
       "   2244.789306640625,\n",
       "   1882.808837890625,\n",
       "   1416.962646484375,\n",
       "   815.2007446289062,\n",
       "   36.672969818115234,\n",
       "   -970.04296875,\n",
       "   -2266.9033203125,\n",
       "   -3659.806396484375,\n",
       "   -4940.65087890625,\n",
       "   -6187.1591796875,\n",
       "   -7193.8779296875,\n",
       "   -8216.96484375,\n",
       "   -9126.13671875,\n",
       "   -9865.509765625,\n",
       "   -10611.107421875,\n",
       "   -11397.9189453125,\n",
       "   -12156.306640625,\n",
       "   -12858.9228515625,\n",
       "   -13328.587890625,\n",
       "   -13934.4111328125,\n",
       "   -14456.654296875,\n",
       "   -14908.0546875,\n",
       "   -15254.73046875,\n",
       "   -15675.4267578125,\n",
       "   -16036.611328125,\n",
       "   -16337.4443359375,\n",
       "   -16815.875,\n",
       "   -17071.64453125,\n",
       "   -17401.328125,\n",
       "   -17684.580078125,\n",
       "   -17840.25390625,\n",
       "   -18128.853515625,\n",
       "   -18307.716796875,\n",
       "   -18573.333984375,\n",
       "   -18777.64453125,\n",
       "   -18979.23828125,\n",
       "   -19103.025390625,\n",
       "   -19342.625,\n",
       "   -19561.328125]),\n",
       " ([4333.608619689941,\n",
       "   4253.551582336426,\n",
       "   4174.386436462402,\n",
       "   4092.0339851379395,\n",
       "   4003.332622528076,\n",
       "   3904.7494888305664,\n",
       "   3792.852336883545,\n",
       "   3662.932674407959,\n",
       "   3507.434341430664,\n",
       "   3317.126874923706,\n",
       "   3079.657730102539,\n",
       "   2779.129613876343,\n",
       "   2393.833932876587,\n",
       "   1898.8186082839966,\n",
       "   1258.49862575531,\n",
       "   427.3553829193115,\n",
       "   -650.8341979980469,\n",
       "   -2042.96577835083,\n",
       "   -3774.690818786621,\n",
       "   -5290.354377746582,\n",
       "   -6405.323463439941,\n",
       "   -7422.691184997559,\n",
       "   -8378.107131958008,\n",
       "   -9237.751998901367,\n",
       "   -10150.149551391602,\n",
       "   -11086.735511779785,\n",
       "   -11934.08383178711,\n",
       "   -12774.549560546875,\n",
       "   -13616.961402893066,\n",
       "   -14424.256652832031,\n",
       "   -15201.24641418457,\n",
       "   -15961.981353759766,\n",
       "   -16568.777770996094,\n",
       "   -17149.793655395508,\n",
       "   -17680.28187561035,\n",
       "   -18181.159759521484,\n",
       "   -18634.450744628906,\n",
       "   -19054.518981933594,\n",
       "   -19423.218948364258,\n",
       "   -19792.566833496094,\n",
       "   -20158.283599853516,\n",
       "   -20453.386291503906,\n",
       "   -20744.97998046875,\n",
       "   -21045.004333496094,\n",
       "   -21323.891021728516,\n",
       "   -21605.115676879883,\n",
       "   -21863.860916137695,\n",
       "   -22127.847122192383,\n",
       "   -22394.730926513672,\n",
       "   -22620.362411499023],\n",
       "  [3828.26904296875,\n",
       "   3757.9384765625,\n",
       "   3685.8193359375,\n",
       "   3609.140869140625,\n",
       "   3524.84326171875,\n",
       "   3429.645263671875,\n",
       "   3320.50927734375,\n",
       "   3191.18798828125,\n",
       "   3034.1845703125,\n",
       "   2839.47705078125,\n",
       "   2594.36474609375,\n",
       "   2281.61572265625,\n",
       "   1879.757080078125,\n",
       "   1360.8128662109375,\n",
       "   687.758056640625,\n",
       "   -184.89505004882812,\n",
       "   -1315.36865234375,\n",
       "   -2764.14990234375,\n",
       "   -4247.80712890625,\n",
       "   -5135.4404296875,\n",
       "   -6181.02197265625,\n",
       "   -7070.7412109375,\n",
       "   -7775.75048828125,\n",
       "   -8577.7529296875,\n",
       "   -9472.109375,\n",
       "   -10218.8671875,\n",
       "   -10980.9873046875,\n",
       "   -11746.3408203125,\n",
       "   -12489.0810546875,\n",
       "   -13144.1201171875,\n",
       "   -13917.798828125,\n",
       "   -14472.201171875,\n",
       "   -14993.111328125,\n",
       "   -15517.779296875,\n",
       "   -15873.798828125,\n",
       "   -16299.263671875,\n",
       "   -16586.85546875,\n",
       "   -16915.65234375,\n",
       "   -17252.84765625,\n",
       "   -17670.203125,\n",
       "   -17873.408203125,\n",
       "   -18141.712890625,\n",
       "   -18409.859375,\n",
       "   -18668.02734375,\n",
       "   -18922.08203125,\n",
       "   -19196.03125,\n",
       "   -19423.171875,\n",
       "   -19712.728515625,\n",
       "   -19893.01171875,\n",
       "   -20042.22265625]),\n",
       " ([4234.253486633301,\n",
       "   4151.098171234131,\n",
       "   4070.032875061035,\n",
       "   3987.0776863098145,\n",
       "   3899.6175270080566,\n",
       "   3804.36376953125,\n",
       "   3697.6560592651367,\n",
       "   3575.221143722534,\n",
       "   3431.2413368225098,\n",
       "   3257.795530319214,\n",
       "   3045.0847396850586,\n",
       "   2779.032117843628,\n",
       "   2440.6577682495117,\n",
       "   2006.6604290008545,\n",
       "   1447.0725784301758,\n",
       "   724.4067349433899,\n",
       "   -211.07556343078613,\n",
       "   -1427.062744140625,\n",
       "   -2988.5846366882324,\n",
       "   -4878.781772613525,\n",
       "   -6392.3130531311035,\n",
       "   -7603.553634643555,\n",
       "   -8800.146759033203,\n",
       "   -9979.432777404785,\n",
       "   -11021.636611938477,\n",
       "   -12043.187896728516,\n",
       "   -12895.812088012695,\n",
       "   -13710.547996520996,\n",
       "   -14503.569854736328,\n",
       "   -15155.677444458008,\n",
       "   -15773.319702148438,\n",
       "   -16422.396484375,\n",
       "   -17031.762176513672,\n",
       "   -17593.361907958984,\n",
       "   -18137.89599609375,\n",
       "   -18640.71501159668,\n",
       "   -19101.366943359375,\n",
       "   -19467.271194458008,\n",
       "   -19779.38882446289,\n",
       "   -20113.11309814453,\n",
       "   -20443.694747924805,\n",
       "   -20780.539184570312,\n",
       "   -21037.240783691406,\n",
       "   -21335.674774169922,\n",
       "   -21592.841888427734,\n",
       "   -21820.252227783203,\n",
       "   -22022.89976501465,\n",
       "   -22244.990509033203,\n",
       "   -22473.188766479492,\n",
       "   -22670.795379638672],\n",
       "  [3737.561279296875,\n",
       "   3665.1494140625,\n",
       "   3592.055908203125,\n",
       "   3515.765625,\n",
       "   3433.70654296875,\n",
       "   3342.698974609375,\n",
       "   3239.22509765625,\n",
       "   3118.74267578125,\n",
       "   2974.804931640625,\n",
       "   2799.539306640625,\n",
       "   2582.03076171875,\n",
       "   2306.783203125,\n",
       "   1954.652099609375,\n",
       "   1501.30859375,\n",
       "   916.4921264648438,\n",
       "   159.64370727539062,\n",
       "   -821.56689453125,\n",
       "   -2091.056640625,\n",
       "   -3706.071044921875,\n",
       "   -5286.02734375,\n",
       "   -6190.19140625,\n",
       "   -7339.421875,\n",
       "   -8525.9208984375,\n",
       "   -9427.9814453125,\n",
       "   -10408.828125,\n",
       "   -11142.380859375,\n",
       "   -11896.3203125,\n",
       "   -12661.18359375,\n",
       "   -13186.607421875,\n",
       "   -13649.9375,\n",
       "   -14275.4375,\n",
       "   -14805.71875,\n",
       "   -15307.365234375,\n",
       "   -15839.8486328125,\n",
       "   -16270.4287109375,\n",
       "   -16762.779296875,\n",
       "   -17060.109375,\n",
       "   -17309.34765625,\n",
       "   -17601.44140625,\n",
       "   -17904.201171875,\n",
       "   -18278.5625,\n",
       "   -18503.109375,\n",
       "   -18769.5,\n",
       "   -18988.841796875,\n",
       "   -19213.21484375,\n",
       "   -19405.91796875,\n",
       "   -19621.2578125,\n",
       "   -19828.41015625,\n",
       "   -19945.087890625,\n",
       "   -20055.8984375]),\n",
       " ([4244.405666351318,\n",
       "   4160.924491882324,\n",
       "   4078.3235626220703,\n",
       "   3992.656867980957,\n",
       "   3901.6044158935547,\n",
       "   3801.602153778076,\n",
       "   3688.6592330932617,\n",
       "   3558.372615814209,\n",
       "   3404.462671279907,\n",
       "   3218.1886100769043,\n",
       "   2988.52490234375,\n",
       "   2700.803421020508,\n",
       "   2335.294969558716,\n",
       "   1867.4631605148315,\n",
       "   1264.0945167541504,\n",
       "   481.63160514831543,\n",
       "   -533.7237606048584,\n",
       "   -1850.9303722381592,\n",
       "   -3546.525287628174,\n",
       "   -5397.097423553467,\n",
       "   -6664.212814331055,\n",
       "   -7839.253463745117,\n",
       "   -9053.724800109863,\n",
       "   -10083.269081115723,\n",
       "   -11069.574691772461,\n",
       "   -12067.521324157715,\n",
       "   -12931.403900146484,\n",
       "   -13719.194305419922,\n",
       "   -14452.497833251953,\n",
       "   -15202.339050292969,\n",
       "   -15897.870986938477,\n",
       "   -16538.989303588867,\n",
       "   -17133.813354492188,\n",
       "   -17650.409301757812,\n",
       "   -18198.46760559082,\n",
       "   -18718.711364746094,\n",
       "   -19130.668045043945,\n",
       "   -19617.516677856445,\n",
       "   -20052.17384338379,\n",
       "   -20440.504852294922,\n",
       "   -20786.229949951172,\n",
       "   -21120.01904296875,\n",
       "   -21419.26708984375,\n",
       "   -21691.11309814453,\n",
       "   -21951.274353027344,\n",
       "   -22193.891998291016,\n",
       "   -22445.03109741211,\n",
       "   -22693.22329711914,\n",
       "   -22931.224365234375,\n",
       "   -23152.801483154297],\n",
       "  [3746.615234375,\n",
       "   3673.26708984375,\n",
       "   3598.083984375,\n",
       "   3518.943359375,\n",
       "   3433.09423828125,\n",
       "   3337.180908203125,\n",
       "   3227.28564453125,\n",
       "   3098.949951171875,\n",
       "   2944.923583984375,\n",
       "   2756.458251953125,\n",
       "   2521.680908203125,\n",
       "   2225.213623046875,\n",
       "   1847.0911865234375,\n",
       "   1360.8065185546875,\n",
       "   731.279541015625,\n",
       "   -84.01766967773438,\n",
       "   -1142.1983642578125,\n",
       "   -2514.67919921875,\n",
       "   -4213.423828125,\n",
       "   -5422.2900390625,\n",
       "   -6277.73046875,\n",
       "   -7591.955078125,\n",
       "   -8587.974609375,\n",
       "   -9411.7939453125,\n",
       "   -10383.716796875,\n",
       "   -11139.427734375,\n",
       "   -11921.7919921875,\n",
       "   -12548.6943359375,\n",
       "   -13214.341796875,\n",
       "   -13831.76953125,\n",
       "   -14385.9580078125,\n",
       "   -14945.1279296875,\n",
       "   -15395.158203125,\n",
       "   -15967.5341796875,\n",
       "   -16466.892578125,\n",
       "   -16823.328125,\n",
       "   -17259.060546875,\n",
       "   -17653.10546875,\n",
       "   -18044.0859375,\n",
       "   -18323.91796875,\n",
       "   -18708.74609375,\n",
       "   -18943.81640625,\n",
       "   -19210.1015625,\n",
       "   -19450.54296875,\n",
       "   -19666.173828125,\n",
       "   -19860.5859375,\n",
       "   -20111.30078125,\n",
       "   -20398.689453125,\n",
       "   -20571.986328125,\n",
       "   -20745.26953125])]"
      ]
     },
     "execution_count": 17,
     "metadata": {},
     "output_type": "execute_result"
    }
   ],
   "execution_count": 17
  },
  {
   "metadata": {
    "ExecuteTime": {
     "end_time": "2024-05-28T18:23:13.576285Z",
     "start_time": "2024-05-28T18:23:12.722468Z"
    }
   },
   "cell_type": "code",
   "source": [
    "for i in range(10):\n",
    "    plt.figure(i)  # Create a new figure for each plot\n",
    "    plt.plot(np.array(loss_vals[i][0]))\n",
    "    plt.plot(np.array(loss_vals[i][1]))\n",
    "    plt.show()  # Display the plot"
   ],
   "id": "a6b91ebf4e3a2e6f",
   "outputs": [
    {
     "data": {
      "text/plain": [
       "<Figure size 640x480 with 1 Axes>"
      ],
      "image/png": "[encoded data removed]"
     },
     "metadata": {},
     "output_type": "display_data"
    },
    {
     "data": {
      "text/plain": [
       "<Figure size 640x480 with 1 Axes>"
      ],
      "image/png": "[encoded data removed]"
     },
     "metadata": {},
     "output_type": "display_data"
    },
    {
     "data": {
      "text/plain": [
       "<Figure size 640x480 with 1 Axes>"
      ],
      "image/png": "[encoded data removed]"
     },
     "metadata": {},
     "output_type": "display_data"
    },
    {
     "data": {
      "text/plain": [
       "<Figure size 640x480 with 1 Axes>"
      ],
      "image/png": "[encoded data removed]"
     },
     "metadata": {},
     "output_type": "display_data"
    },
    {
     "data": {
      "text/plain": [
       "<Figure size 640x480 with 1 Axes>"
      ],
      "image/png": "[encoded data removed]"
     },
     "metadata": {},
     "output_type": "display_data"
    },
    {
     "data": {
      "text/plain": [
       "<Figure size 640x480 with 1 Axes>"
      ],
      "image/png": "[encoded data removed]"
     },
     "metadata": {},
     "output_type": "display_data"
    },
    {
     "data": {
      "text/plain": [
       "<Figure size 640x480 with 1 Axes>"
      ],
      "image/png": "[encoded data removed]"
     },
     "metadata": {},
     "output_type": "display_data"
    },
    {
     "data": {
      "text/plain": [
       "<Figure size 640x480 with 1 Axes>"
      ],
      "image/png": "[encoded data removed]"
     },
     "metadata": {},
     "output_type": "display_data"
    },
    {
     "data": {
      "text/plain": [
       "<Figure size 640x480 with 1 Axes>"
      ],
      "image/png": "[encoded data removed]"
     },
     "metadata": {},
     "output_type": "display_data"
    },
    {
     "data": {
      "text/plain": [
       "<Figure size 640x480 with 1 Axes>"
      ],
      "image/png": "[encoded data removed]"
     },
     "metadata": {},
     "output_type": "display_data"
    }
   ],
   "execution_count": 18
  },
  {
   "cell_type": "code",
   "id": "8e05c561-30a9-4328-be20-06302dc7425c",
   "metadata": {
    "ExecuteTime": {
     "end_time": "2024-05-28T18:23:13.579077Z",
     "start_time": "2024-05-28T18:23:13.576937Z"
    }
   },
   "source": [
    "model_path = model_base_path/'hyperparameters.pkl'\n",
    "\n",
    "with open(model_path, 'wb') as f:\n",
    "    pickle.dump({'ncomps':ncomps, 'nevecs':nevecs,'nbasecomps':nbasecomps, 'ncauses':ncauses, 'crop_size':crop_size}, f)"
   ],
   "outputs": [],
   "execution_count": 19
  },
  {
   "cell_type": "markdown",
   "id": "8c4aa32a-457e-44ea-804e-ffc137b45bbc",
   "metadata": {},
   "source": [
    "## Linear regression"
   ]
  },
  {
   "metadata": {
    "ExecuteTime": {
     "end_time": "2024-05-28T18:23:13.582737Z",
     "start_time": "2024-05-28T18:23:13.579647Z"
    }
   },
   "cell_type": "code",
   "source": [
    "import torch\n",
    "import yaml\n",
    "from utils.helpers import dict2namespace\n",
    "\n",
    "with open(macaw_path/'config'/'ukbb.yaml', 'r') as f:\n",
    "    config_raw = yaml.load(f, Loader=yaml.FullLoader)\n",
    "    \n",
    "config = dict2namespace(config_raw)\n",
    "config.device = torch.device('cuda') if torch.cuda.is_available() else torch.device('cpu')"
   ],
   "id": "d46b7a4d-6573-454d-b6dc-cb53cb9c4b8e",
   "outputs": [],
   "execution_count": 20
  },
  {
   "cell_type": "code",
   "id": "e5e1a75d-d78b-4f63-a364-ba6ab01d8b95",
   "metadata": {
    "ExecuteTime": {
     "end_time": "2024-05-28T18:23:13.927924Z",
     "start_time": "2024-05-28T18:23:13.583283Z"
    }
   },
   "source": [
    "ed =  encoded_data[:,:nevecs]\n",
    "X = np.hstack([sex[:,np.newaxis], bmi[:,np.newaxis], ed])    "
   ],
   "outputs": [
    {
     "ename": "NameError",
     "evalue": "name 'sex' is not defined",
     "output_type": "error",
     "traceback": [
      "\u001B[0;31m---------------------------------------------------------------------------\u001B[0m",
      "\u001B[0;31mNameError\u001B[0m                                 Traceback (most recent call last)",
      "Cell \u001B[0;32mIn[21], line 2\u001B[0m\n\u001B[1;32m      1\u001B[0m ed \u001B[38;5;241m=\u001B[39m  encoded_data[:,:nevecs]\n\u001B[0;32m----> 2\u001B[0m X \u001B[38;5;241m=\u001B[39m np\u001B[38;5;241m.\u001B[39mhstack([sex[:,np\u001B[38;5;241m.\u001B[39mnewaxis], bmi[:,np\u001B[38;5;241m.\u001B[39mnewaxis], ed])\n",
      "\u001B[0;31mNameError\u001B[0m: name 'sex' is not defined"
     ]
    }
   ],
   "execution_count": 21
  },
  {
   "cell_type": "code",
   "id": "d4bca575-c1c5-4172-8b46-663bab7d25b4",
   "metadata": {
    "ExecuteTime": {
     "end_time": "2024-05-28T18:23:13.928886Z",
     "start_time": "2024-05-28T18:23:13.928719Z"
    }
   },
   "source": [
    "from sklearn.linear_model import LinearRegression\n",
    "reg = LinearRegression().fit(X, age)"
   ],
   "outputs": [],
   "execution_count": null
  },
  {
   "cell_type": "code",
   "id": "b17490f3-02df-44b5-9904-c84e286a1e9f",
   "metadata": {},
   "source": [
    "reg.score(X, age)"
   ],
   "outputs": [],
   "execution_count": null
  },
  {
   "cell_type": "code",
   "id": "b1c6039d-93e2-44f3-91b8-8fac4f1a37b2",
   "metadata": {},
   "source": [
    "lr_path = model_base_path/'lr.pkl'\n",
    "\n",
    "with open(lr_path, 'wb') as f:\n",
    "    pickle.dump({'reg':reg}, f)"
   ],
   "outputs": [],
   "execution_count": null
  },
  {
   "cell_type": "code",
   "id": "64d8691b-68ee-4b77-8f17-a9b97b71f900",
   "metadata": {},
   "source": [
    "lr_path"
   ],
   "outputs": [],
   "execution_count": null
  },
  {
   "cell_type": "code",
   "id": "0b0ab90e-6bd4-417b-89a0-784773a9c82c",
   "metadata": {},
   "source": [
    "reg.coef_"
   ],
   "outputs": [],
   "execution_count": null
  },
  {
   "cell_type": "code",
   "id": "2c83dd74-2b7b-43d2-b56f-34ab907b6e35",
   "metadata": {},
   "source": [
    "np.mean(np.abs(reg.predict(X) - age))"
   ],
   "outputs": [],
   "execution_count": null
  },
  {
   "cell_type": "code",
   "id": "32e7720e-e9c7-4377-a86d-b5be161c3c12",
   "metadata": {},
   "source": [
    "idx = 0\n",
    "macaw = torch.load(model_base_path/f'{idx}.pt')\n",
    "X_test = np.hstack([sex[:,np.newaxis], age[:,np.newaxis], bmi[:,np.newaxis], encoded_data[:,idx:nevecs+idx]])"
   ],
   "outputs": [],
   "execution_count": null
  },
  {
   "cell_type": "code",
   "id": "b9f68acb-c37c-4da3-bd4b-20a22b2496f8",
   "metadata": {},
   "source": [
    "encoded_data.shape"
   ],
   "outputs": [],
   "execution_count": null
  },
  {
   "cell_type": "code",
   "id": "d0d12a02-37c0-448f-8bb5-0f26dd70758a",
   "metadata": {},
   "source": [
    "probs=[]\n",
    "for i in range(36):\n",
    "    X_test[:,1] = i\n",
    "    probs.append(macaw.log_likelihood(X_test))"
   ],
   "outputs": [],
   "execution_count": null
  },
  {
   "cell_type": "code",
   "id": "ceb04aa1-9cba-4977-9465-8f7ce52f7be3",
   "metadata": {},
   "source": [
    "pexp = np.exp(np.array(probs))\n",
    "pexp_sum = np.sum(pexp,axis=0)\n",
    "p = pexp/pexp_sum"
   ],
   "outputs": [],
   "execution_count": null
  },
  {
   "cell_type": "code",
   "id": "dd3010e4-fb4f-41e6-9099-39e1f76b9eff",
   "metadata": {},
   "source": [
    "pred_labels = np.argmax(probs, axis=0)"
   ],
   "outputs": [],
   "execution_count": null
  },
  {
   "cell_type": "code",
   "id": "26f76ba2-a646-47d8-87b9-29c3883725b1",
   "metadata": {},
   "source": [
    "age_bins=36"
   ],
   "outputs": [],
   "execution_count": null
  },
  {
   "cell_type": "code",
   "id": "8f865e26-867d-4372-acbe-27e201d54bde",
   "metadata": {},
   "source": [
    "sns.histplot(age, bins=age_bins)\n",
    "sns.histplot(pred_labels,bins=age_bins)"
   ],
   "outputs": [],
   "execution_count": null
  },
  {
   "cell_type": "code",
   "id": "03e95595-9173-4561-ac6c-39d91843db9c",
   "metadata": {},
   "source": [
    "l = np.array(probs)[:,80]\n",
    "plt.bar(np.arange(36),l-np.min(l))"
   ],
   "outputs": [],
   "execution_count": null
  },
  {
   "cell_type": "code",
   "id": "c55aab19-9403-42aa-86c9-561ce71e7f2f",
   "metadata": {},
   "source": [
    "sns.histplot(age-pred_labels, bins=age_bins)"
   ],
   "outputs": [],
   "execution_count": null
  },
  {
   "cell_type": "code",
   "id": "572878ef-3df8-4d69-8df0-4141a7f262ed",
   "metadata": {},
   "source": [
    "np.mean(np.abs(pred_labels - age))"
   ],
   "outputs": [],
   "execution_count": null
  },
  {
   "cell_type": "code",
   "id": "c925f853-d3ce-4c70-9830-5f3bbb4572fe",
   "metadata": {},
   "source": [],
   "outputs": [],
   "execution_count": null
  },
  {
   "cell_type": "code",
   "id": "32e37e65-74b9-49b1-b3b4-97ecbff3415c",
   "metadata": {},
   "source": [],
   "outputs": [],
   "execution_count": null
  }
 ],
 "metadata": {
  "kernelspec": {
   "display_name": "Python 3",
   "language": "python",
   "name": "python3"
  },
  "language_info": {
   "codemirror_mode": {
    "name": "ipython",
    "version": 3
   },
   "file_extension": ".py",
   "mimetype": "text/x-python",
   "name": "python",
   "nbconvert_exporter": "python",
   "pygments_lexer": "ipython3",
   "version": "3.8.13"
  }
 },
 "nbformat": 4,
 "nbformat_minor": 5
}
