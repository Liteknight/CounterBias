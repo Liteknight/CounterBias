{
 "cells": [
  {
   "cell_type": "code",
   "id": "ac8ed1c3-9496-49a4-865c-56314f141a9c",
   "metadata": {
    "ExecuteTime": {
     "end_time": "2024-05-22T21:31:34.711904Z",
     "start_time": "2024-05-22T21:31:34.710033Z"
    }
   },
   "source": [
    "nevecs = 60\n",
    "ncomps = 500\n",
    "nbasecomps = 20\n",
    "crop_size=180\n",
    "ncauses = 2\n",
    "dr_method = 'KPCA'"
   ],
   "outputs": [],
   "execution_count": 1
  },
  {
   "metadata": {
    "ExecuteTime": {
     "end_time": "2024-05-22T21:31:34.714923Z",
     "start_time": "2024-05-22T21:31:34.712427Z"
    }
   },
   "cell_type": "code",
   "source": [
    "from pathlib import Path\n",
    "import os, sys"
   ],
   "id": "fcd9e09a79faea7c",
   "outputs": [],
   "execution_count": 2
  },
  {
   "cell_type": "code",
   "id": "dc4bfa8c-b51e-4db7-a6c6-48e284f06081",
   "metadata": {
    "ExecuteTime": {
     "end_time": "2024-05-22T21:31:34.718242Z",
     "start_time": "2024-05-22T21:31:34.715473Z"
    }
   },
   "source": [
    "\n",
    "macaw_path = Path(os.getcwd())\n",
    "sys.path.append(str(macaw_path) +'/')\n",
    "\n",
    "exp_name = 'near_bias'\n",
    "\n",
    "train_csv_path = macaw_path/'splits'/'train.csv'\n",
    "train_img_path = macaw_path/'no_bias'/'train'\n",
    "\n",
    "# test_csv_path = macaw_path/'data'/'ukbb'/'test_hc.csv'\n",
    "# test_img_path = macaw_path/'data'/'ukbb'/'axial'/'test_hc'\n",
    "# \n",
    "kpca_path = macaw_path/exp_name/f'train_hc_kpca_{ncomps}.pkl'\n",
    "# \n",
    "train_path = macaw_path/exp_name/f'train_hc_data_KPCA_{ncomps}.pkl'\n",
    "# test_path = macaw_path/'data'/'ukbb'/'axial'/f'test_hc_data_KPCA_{ncomps}.pkl'\n",
    "model_base_path = macaw_path/'models'/exp_name/f'{dr_method}_{ncomps}'/f'{nevecs}'\n",
    "\n",
    "if not os.path.exists(model_base_path):\n",
    "    os.makedirs(model_base_path)"
   ],
   "outputs": [],
   "execution_count": 3
  },
  {
   "cell_type": "code",
   "id": "5a5449c7-9cf7-45db-9535-4c0eb6ce6da9",
   "metadata": {
    "ExecuteTime": {
     "end_time": "2024-05-22T21:31:34.926185Z",
     "start_time": "2024-05-22T21:31:34.718799Z"
    }
   },
   "source": [
    "import pickle\n",
    "\n",
    "with open(train_path, 'rb') as f:\n",
    "    train = pickle.load(f)\n",
    "    \n",
    "disease = train['disease']\n",
    "bias = train['bias']\n",
    "\n",
    "encoded_data = train['encoded_data']\n",
    "kpca = train['kpca']"
   ],
   "outputs": [],
   "execution_count": 4
  },
  {
   "metadata": {
    "ExecuteTime": {
     "end_time": "2024-05-22T21:31:34.930047Z",
     "start_time": "2024-05-22T21:31:34.926794Z"
    }
   },
   "cell_type": "code",
   "source": "encoded_data.shape",
   "id": "8541fe03a78b9024",
   "outputs": [
    {
     "data": {
      "text/plain": [
       "(1005, 500)"
      ]
     },
     "execution_count": 5,
     "metadata": {},
     "output_type": "execute_result"
    }
   ],
   "execution_count": 5
  },
  {
   "cell_type": "code",
   "id": "00a80963-08f9-42d0-a786-304c80838e59",
   "metadata": {
    "ExecuteTime": {
     "end_time": "2024-05-22T21:31:36.192599Z",
     "start_time": "2024-05-22T21:31:34.930726Z"
    }
   },
   "source": [
    "import torchvision.transforms.functional as F\n",
    "import matplotlib.pyplot as plt\n",
    "import numpy as np\n",
    "\n",
    "def recons(age,bmi,latents, latent_offset=0):\n",
    "    age+=min_age\n",
    "    \n",
    "    latent_enc = np.zeros((latents.shape[0],ncomps))\n",
    "    latent_enc[:,latent_offset:latent_offset+latents.shape[1]] = latents    \n",
    "    imgs = kpca.inverse_transform(latent_enc)\n",
    "    return age,bmi,imgs"
   ],
   "outputs": [],
   "execution_count": 6
  },
  {
   "cell_type": "code",
   "id": "d913b8ea-75cf-4ab0-820c-9eb460a83870",
   "metadata": {
    "ExecuteTime": {
     "end_time": "2024-05-22T21:31:36.650431Z",
     "start_time": "2024-05-22T21:31:36.193322Z"
    }
   },
   "source": [
    "import seaborn as sns\n",
    "\n",
    "sb = 4\n",
    "fig, axs = plt.subplots(1,sb, figsize=(sb*5,5))\n",
    "\n",
    "sns.histplot(bias,ax=axs[0],fill=True)\n",
    "axs[0].set(title = \"bias\")\n",
    "sns.histplot(disease,ax=axs[1], fill=True)\n",
    "axs[1].set(title=\"disease\")\n",
    "# sns.histplot(encoded_data[0],ax=axs[3], fill=True)\n",
    "# axs[3].set(title=\"PCA0\")"
   ],
   "outputs": [
    {
     "data": {
      "text/plain": [
       "[Text(0.5, 1.0, 'disease')]"
      ]
     },
     "execution_count": 7,
     "metadata": {},
     "output_type": "execute_result"
    },
    {
     "data": {
      "text/plain": [
       "<Figure size 2000x500 with 4 Axes>"
      ],
      "image/png": "[encoded data removed]"
     },
     "metadata": {},
     "output_type": "display_data"
    }
   ],
   "execution_count": 7
  },
  {
   "cell_type": "code",
   "id": "f1aa2a96-05b7-49a7-b022-7995e99d4952",
   "metadata": {
    "ExecuteTime": {
     "end_time": "2024-05-22T21:31:36.653026Z",
     "start_time": "2024-05-22T21:31:36.651296Z"
    }
   },
   "source": [
    "# import utils.visualize as vis\n",
    "# \n",
    "# plt.rcParams['figure.figsize'] = (20,4)\n",
    "# nsamples = 5\n",
    "# \n",
    "# idx = np.random.randint(0,disease.shape[0],nsamples)\n",
    "# re = recons(disease[idx],bias[idx],encoded_data[idx])\n",
    "# \n",
    "# sex_t = ['Male' if round(s) else 'Female' for s in disease[idx]]\n",
    "# titles_sam = [f'Sex:{s}, Age:{a}, BMI:{np.round(b)}' for s,a,b in zip(sex_t, re[0],re[1])]\n",
    "# fig  = vis.img_grid([i.reshape(crop_size,crop_size).T for i in re[2]],cols=nsamples,titles=titles_sam)"
   ],
   "outputs": [],
   "execution_count": 8
  },
  {
   "cell_type": "markdown",
   "id": "e33defe2-6af3-468d-bd9e-3f830c804527",
   "metadata": {},
   "source": [
    "## Causal Graph"
   ]
  },
  {
   "cell_type": "code",
   "id": "6daf4154-f20b-4cad-86eb-7bf0de118187",
   "metadata": {
    "ExecuteTime": {
     "end_time": "2024-05-22T21:31:36.656195Z",
     "start_time": "2024-05-22T21:31:36.653637Z"
    }
   },
   "source": [
    "disease_to_latents = [(0,i) for i in range(ncauses,nevecs+ncauses)]\n",
    "\n",
    "bias_to_latents = [(1,i) for i in range(ncauses,nevecs+ncauses)]\n",
    "\n",
    "autoregressive_latents = [(i,j) for i in range(ncauses,nevecs+ncauses) for j in range(i+1,nevecs+ncauses)]\n",
    "# autoregressive_latents = [(i,j) for i in range(ncauses,2*ncauses) for j in range(i+1,nevecs+ncauses)]\n",
    "# autoregressive_latents = []\n",
    "edges = disease_to_latents + bias_to_latents + autoregressive_latents"
   ],
   "outputs": [],
   "execution_count": 9
  },
  {
   "cell_type": "markdown",
   "id": "2aa28e2b-0e9f-4b35-88d9-20ffb827b630",
   "metadata": {},
   "source": [
    "## Priors"
   ]
  },
  {
   "cell_type": "code",
   "id": "e84c3590-a881-43a5-800a-80a19f47fe89",
   "metadata": {
    "ExecuteTime": {
     "end_time": "2024-05-22T21:31:36.659896Z",
     "start_time": "2024-05-22T21:31:36.657912Z"
    }
   },
   "source": [
    "P_bias = np.sum(bias)/len(bias)\n",
    "print(P_bias)\n",
    "\n",
    "P_dis = np.sum(disease)/len(disease)\n",
    "print(P_dis)"
   ],
   "outputs": [
    {
     "name": "stdout",
     "output_type": "stream",
     "text": [
      "0.5024875621890548\n",
      "0.4975124378109453\n"
     ]
    }
   ],
   "execution_count": 10
  },
  {
   "metadata": {
    "ExecuteTime": {
     "end_time": "2024-05-22T21:31:36.665293Z",
     "start_time": "2024-05-22T21:31:36.660534Z"
    }
   },
   "cell_type": "code",
   "source": [
    "import torch\n",
    "import yaml\n",
    "from utils.helpers import dict2namespace\n",
    "\n",
    "with open(macaw_path/'config'/'ukbb.yaml', 'r') as f:\n",
    "    config_raw = yaml.load(f, Loader=yaml.FullLoader)\n",
    "    \n",
    "config = dict2namespace(config_raw)\n",
    "config.device = torch.device('cuda') if torch.cuda.is_available() else torch.device('cpu')"
   ],
   "id": "700b254703b316a0",
   "outputs": [],
   "execution_count": 11
  },
  {
   "cell_type": "code",
   "id": "e9e4cdea-a3ed-4b41-9c93-59a4b048e7e4",
   "metadata": {
    "ExecuteTime": {
     "end_time": "2024-05-22T21:31:36.668716Z",
     "start_time": "2024-05-22T21:31:36.665816Z"
    }
   },
   "source": [
    "import torch.distributions as td\n",
    "\n",
    "dev='cpu'\n",
    "\n",
    "priors = [(slice(0,1),td.Bernoulli(torch.tensor([P_bias]).to(torch.device(dev)))), # bias\n",
    "          (slice(1,2),td.Bernoulli(torch.tensor([P_dis]).to(torch.device(dev)))), # disease\n",
    "          (slice(nbasecomps+2,nevecs+2),td.Normal(torch.zeros(nevecs-nbasecomps).to(torch.device(dev)), torch.ones(nevecs-nbasecomps).to(torch.device(dev)))), # new_comps\n",
    "         ]"
   ],
   "outputs": [],
   "execution_count": 12
  },
  {
   "cell_type": "code",
   "id": "63391695-0396-45ac-ad67-9e62e7340c3e",
   "metadata": {
    "ExecuteTime": {
     "end_time": "2024-05-22T21:31:37.757055Z",
     "start_time": "2024-05-22T21:31:36.669230Z"
    }
   },
   "source": [
    "from torch.utils.tensorboard import SummaryWriter\n",
    "from torchvision import datasets, transforms\n",
    "\n",
    "# Writer will output to ./runs/ directory by default\n",
    "writer = SummaryWriter()"
   ],
   "outputs": [
    {
     "name": "stderr",
     "output_type": "stream",
     "text": [
      "2024-05-22 15:31:36.916328: I tensorflow/core/util/port.cc:110] oneDNN custom operations are on. You may see slightly different numerical results due to floating-point round-off errors from different computation orders. To turn them off, set the environment variable `TF_ENABLE_ONEDNN_OPTS=0`.\n",
      "2024-05-22 15:31:36.917589: I tensorflow/tsl/cuda/cudart_stub.cc:28] Could not find cuda drivers on your machine, GPU will not be used.\n",
      "2024-05-22 15:31:36.946029: I tensorflow/core/platform/cpu_feature_guard.cc:182] This TensorFlow binary is optimized to use available CPU instructions in performance-critical operations.\n",
      "To enable the following instructions: AVX2 AVX512F AVX512_VNNI FMA, in other operations, rebuild TensorFlow with the appropriate compiler flags.\n",
      "2024-05-22 15:31:37.432904: W tensorflow/compiler/tf2tensorrt/utils/py_utils.cc:38] TF-TRT Warning: Could not find TensorRT\n"
     ]
    }
   ],
   "execution_count": 13
  },
  {
   "metadata": {
    "ExecuteTime": {
     "end_time": "2024-05-22T21:31:37.759479Z",
     "start_time": "2024-05-22T21:31:37.757694Z"
    }
   },
   "cell_type": "code",
   "source": "loss_vals = []",
   "id": "f285ab184989a6f",
   "outputs": [],
   "execution_count": 14
  },
  {
   "cell_type": "code",
   "id": "d7f8b8f4-7da3-4a47-a923-b7840808a8a5",
   "metadata": {
    "ExecuteTime": {
     "end_time": "2024-05-22T21:32:32.784974Z",
     "start_time": "2024-05-22T21:31:37.759941Z"
    }
   },
   "source": [
    "from macaw import MACAW\n",
    "\n",
    "for e in range(0,479,nevecs-nbasecomps):\n",
    "    save_path = model_base_path/f'{e}.pt'    \n",
    "    ed =  encoded_data[:,e:e+nevecs]\n",
    "    print(e,e+nevecs)\n",
    "    \n",
    "    if not os.path.exists(save_path): \n",
    "       \n",
    "        X = np.hstack([bias[:,np.newaxis], disease[:,np.newaxis], ed])    \n",
    "\n",
    "        macaw = MACAW.MACAW(config)\n",
    "        loss_vals.append(macaw.fit_with_priors(X,edges, priors))\n",
    "\n",
    "        torch.save(macaw,save_path)\n",
    "    else:\n",
    "        print(\"Skipping\")"
   ],
   "outputs": [
    {
     "name": "stdout",
     "output_type": "stream",
     "text": [
      "0 60\n"
     ]
    },
    {
     "name": "stderr",
     "output_type": "stream",
     "text": [
      "/home/volatope/Software/anaconda3/lib/python3.11/site-packages/torch/optim/lr_scheduler.py:28: UserWarning: The verbose parameter is deprecated. Please use get_last_lr() to access the learning rate.\n",
      "  warnings.warn(\"The verbose parameter is deprecated. Please use get_last_lr() \"\n"
     ]
    },
    {
     "data": {
      "text/plain": [
       "  0%|          | 0/30 [00:00<?, ?it/s]"
      ],
      "application/vnd.jupyter.widget-view+json": {
       "version_major": 2,
       "version_minor": 0,
       "model_id": "599c18d215874b89bd0b6d60b3c220dc"
      }
     },
     "metadata": {},
     "output_type": "display_data"
    },
    {
     "name": "stdout",
     "output_type": "stream",
     "text": [
      "40 100\n"
     ]
    },
    {
     "data": {
      "text/plain": [
       "  0%|          | 0/30 [00:00<?, ?it/s]"
      ],
      "application/vnd.jupyter.widget-view+json": {
       "version_major": 2,
       "version_minor": 0,
       "model_id": "91c6279736e043ef9d48b143e765b38e"
      }
     },
     "metadata": {},
     "output_type": "display_data"
    },
    {
     "name": "stdout",
     "output_type": "stream",
     "text": [
      "80 140\n"
     ]
    },
    {
     "data": {
      "text/plain": [
       "  0%|          | 0/30 [00:00<?, ?it/s]"
      ],
      "application/vnd.jupyter.widget-view+json": {
       "version_major": 2,
       "version_minor": 0,
       "model_id": "44efef72e15148a984de2046e4830735"
      }
     },
     "metadata": {},
     "output_type": "display_data"
    },
    {
     "name": "stdout",
     "output_type": "stream",
     "text": [
      "120 180\n"
     ]
    },
    {
     "data": {
      "text/plain": [
       "  0%|          | 0/30 [00:00<?, ?it/s]"
      ],
      "application/vnd.jupyter.widget-view+json": {
       "version_major": 2,
       "version_minor": 0,
       "model_id": "d4a0d7983769497cba23b25505f5aea9"
      }
     },
     "metadata": {},
     "output_type": "display_data"
    },
    {
     "name": "stdout",
     "output_type": "stream",
     "text": [
      "160 220\n"
     ]
    },
    {
     "data": {
      "text/plain": [
       "  0%|          | 0/30 [00:00<?, ?it/s]"
      ],
      "application/vnd.jupyter.widget-view+json": {
       "version_major": 2,
       "version_minor": 0,
       "model_id": "9a72bd0cb83c42e0a4af8a25f78840bf"
      }
     },
     "metadata": {},
     "output_type": "display_data"
    },
    {
     "name": "stdout",
     "output_type": "stream",
     "text": [
      "200 260\n"
     ]
    },
    {
     "data": {
      "text/plain": [
       "  0%|          | 0/30 [00:00<?, ?it/s]"
      ],
      "application/vnd.jupyter.widget-view+json": {
       "version_major": 2,
       "version_minor": 0,
       "model_id": "7819e42099e54ce9b31a4a15f82b6502"
      }
     },
     "metadata": {},
     "output_type": "display_data"
    },
    {
     "name": "stdout",
     "output_type": "stream",
     "text": [
      "240 300\n"
     ]
    },
    {
     "data": {
      "text/plain": [
       "  0%|          | 0/30 [00:00<?, ?it/s]"
      ],
      "application/vnd.jupyter.widget-view+json": {
       "version_major": 2,
       "version_minor": 0,
       "model_id": "a634454c35ef40f59d48138710509010"
      }
     },
     "metadata": {},
     "output_type": "display_data"
    },
    {
     "name": "stdout",
     "output_type": "stream",
     "text": [
      "280 340\n"
     ]
    },
    {
     "data": {
      "text/plain": [
       "  0%|          | 0/30 [00:00<?, ?it/s]"
      ],
      "application/vnd.jupyter.widget-view+json": {
       "version_major": 2,
       "version_minor": 0,
       "model_id": "55f78cc5a6f241f3b056d7c5a8d90817"
      }
     },
     "metadata": {},
     "output_type": "display_data"
    },
    {
     "name": "stdout",
     "output_type": "stream",
     "text": [
      "320 380\n"
     ]
    },
    {
     "data": {
      "text/plain": [
       "  0%|          | 0/30 [00:00<?, ?it/s]"
      ],
      "application/vnd.jupyter.widget-view+json": {
       "version_major": 2,
       "version_minor": 0,
       "model_id": "4df916b2c3bf4a558c50dd098f1a2fbc"
      }
     },
     "metadata": {},
     "output_type": "display_data"
    },
    {
     "name": "stdout",
     "output_type": "stream",
     "text": [
      "360 420\n"
     ]
    },
    {
     "data": {
      "text/plain": [
       "  0%|          | 0/30 [00:00<?, ?it/s]"
      ],
      "application/vnd.jupyter.widget-view+json": {
       "version_major": 2,
       "version_minor": 0,
       "model_id": "6746a7862bf94125945060c647c623be"
      }
     },
     "metadata": {},
     "output_type": "display_data"
    },
    {
     "name": "stdout",
     "output_type": "stream",
     "text": [
      "400 460\n"
     ]
    },
    {
     "data": {
      "text/plain": [
       "  0%|          | 0/30 [00:00<?, ?it/s]"
      ],
      "application/vnd.jupyter.widget-view+json": {
       "version_major": 2,
       "version_minor": 0,
       "model_id": "202d1fa0f8b242d189ce7426117f1687"
      }
     },
     "metadata": {},
     "output_type": "display_data"
    },
    {
     "name": "stdout",
     "output_type": "stream",
     "text": [
      "440 500\n"
     ]
    },
    {
     "data": {
      "text/plain": [
       "  0%|          | 0/30 [00:00<?, ?it/s]"
      ],
      "application/vnd.jupyter.widget-view+json": {
       "version_major": 2,
       "version_minor": 0,
       "model_id": "b9ee966b22bf42eba9268e707b58f483"
      }
     },
     "metadata": {},
     "output_type": "display_data"
    }
   ],
   "execution_count": 15
  },
  {
   "metadata": {
    "ExecuteTime": {
     "end_time": "2024-05-22T21:32:32.789671Z",
     "start_time": "2024-05-22T21:32:32.785601Z"
    }
   },
   "cell_type": "code",
   "source": "loss_vals",
   "id": "f69389db8c55c45f",
   "outputs": [
    {
     "data": {
      "text/plain": [
       "[([9541.84557062785,\n",
       "   -2640.835909016927,\n",
       "   -4997.6735432942705,\n",
       "   -10608.050813802083,\n",
       "   -23986.38466796875,\n",
       "   -5206.049645996094,\n",
       "   2310.5653483072915,\n",
       "   2310.565323893229,\n",
       "   2310.5653869628904,\n",
       "   2310.565291341146,\n",
       "   2310.565311686198,\n",
       "   2310.565301513672,\n",
       "   2310.565352376302,\n",
       "   2310.5653279622397,\n",
       "   2310.5653096516926,\n",
       "   2310.565329996745,\n",
       "   2310.565358479818,\n",
       "   2310.5653442382813,\n",
       "   2310.5653727213544,\n",
       "   2310.5653727213544,\n",
       "   2310.5653483072915,\n",
       "   2310.565334065755,\n",
       "   2310.5653076171875,\n",
       "   2310.565334065755,\n",
       "   2310.565321858724,\n",
       "   2310.5653157552083,\n",
       "   2310.5653686523438,\n",
       "   2310.565311686198,\n",
       "   2310.565321858724,\n",
       "   2310.565362548828],\n",
       "  [-1094.4076843261719,\n",
       "   -3175.121826171875,\n",
       "   -6304.594970703125,\n",
       "   -14178.67919921875,\n",
       "   -40257.328125,\n",
       "   1936.35302734375,\n",
       "   1936.3530883789062,\n",
       "   1936.35302734375,\n",
       "   1936.3532104492188,\n",
       "   1936.3531494140625,\n",
       "   1936.3530883789062,\n",
       "   1936.3530883789062,\n",
       "   1936.35302734375,\n",
       "   1936.35302734375,\n",
       "   1936.3529052734375,\n",
       "   1936.3529663085938,\n",
       "   1936.35302734375,\n",
       "   1936.3529052734375,\n",
       "   1936.3529052734375,\n",
       "   1936.3529663085938,\n",
       "   1936.3529663085938,\n",
       "   1936.35302734375,\n",
       "   1936.3529663085938,\n",
       "   1936.35302734375,\n",
       "   1936.35302734375,\n",
       "   1936.35302734375,\n",
       "   1936.35302734375,\n",
       "   1936.3529052734375,\n",
       "   1936.35302734375,\n",
       "   1936.3529663085938]),\n",
       " ([512.3077819824218,\n",
       "   -5020.8594156901045,\n",
       "   -7970.9195556640625,\n",
       "   -16076.081770833332,\n",
       "   -20111.198303222656,\n",
       "   2299.9614705403646,\n",
       "   2299.9614074707033,\n",
       "   2299.961484781901,\n",
       "   2299.9614379882814,\n",
       "   2299.9614685058596,\n",
       "   2299.961393229167,\n",
       "   2299.9613911946612,\n",
       "   2299.961433919271,\n",
       "   2299.9614217122394,\n",
       "   2299.9614705403646,\n",
       "   2299.961484781901,\n",
       "   2299.961435953776,\n",
       "   2299.961397298177,\n",
       "   2299.9614217122394,\n",
       "   2299.9614400227865,\n",
       "   2299.961417643229,\n",
       "   2299.9614685058596,\n",
       "   2299.961474609375,\n",
       "   2299.961427815755,\n",
       "   2299.9614217122394,\n",
       "   2299.9615275065103,\n",
       "   2299.961466471354,\n",
       "   2299.9614501953124,\n",
       "   2299.9614135742186,\n",
       "   2299.9614013671876],\n",
       "  [-2854.1661376953125,\n",
       "   -5536.9737548828125,\n",
       "   -8819.513671875,\n",
       "   -18550.009765625,\n",
       "   1927.2216796875,\n",
       "   1927.2214965820312,\n",
       "   1927.2216186523438,\n",
       "   1927.2215576171875,\n",
       "   1927.221435546875,\n",
       "   1927.2216796875,\n",
       "   1927.2215576171875,\n",
       "   1927.2216796875,\n",
       "   1927.2215576171875,\n",
       "   1927.2216796875,\n",
       "   1927.2216186523438,\n",
       "   1927.2217407226562,\n",
       "   1927.2216186523438,\n",
       "   1927.2216186523438,\n",
       "   1927.2215576171875,\n",
       "   1927.2216186523438,\n",
       "   1927.2215576171875,\n",
       "   1927.2215576171875,\n",
       "   1927.221435546875,\n",
       "   1927.2216186523438,\n",
       "   1927.2217407226562,\n",
       "   1927.2216186523438,\n",
       "   1927.2216186523438,\n",
       "   1927.2216186523438,\n",
       "   1927.2216796875,\n",
       "   1927.2216186523438]),\n",
       " ([125.29742024739583,\n",
       "   -6784.785994466146,\n",
       "   -10489.570149739584,\n",
       "   -19668.798942057292,\n",
       "   -27408.55947265625,\n",
       "   2299.136348470052,\n",
       "   2299.136334228516,\n",
       "   2299.1363525390625,\n",
       "   2299.1363159179687,\n",
       "   2299.136346435547,\n",
       "   2299.1363810221355,\n",
       "   2299.1363545735676,\n",
       "   2299.1363240559895,\n",
       "   2299.1363850911457,\n",
       "   2299.136364746094,\n",
       "   2299.136336263021,\n",
       "   2299.1363830566406,\n",
       "   2299.136346435547,\n",
       "   2299.1364237467446,\n",
       "   2299.1363871256513,\n",
       "   2299.136364746094,\n",
       "   2299.1363728841147,\n",
       "   2299.1363321940103,\n",
       "   2299.136368815104,\n",
       "   2299.136437988281,\n",
       "   2299.1363871256513,\n",
       "   2299.136297607422,\n",
       "   2299.1364318847654,\n",
       "   2299.1364298502604,\n",
       "   2299.136364746094],\n",
       "  [-3761.98583984375,\n",
       "   -7150.984619140625,\n",
       "   -11771.28759765625,\n",
       "   -25028.0048828125,\n",
       "   1926.5342407226562,\n",
       "   1926.5341186523438,\n",
       "   1926.5342407226562,\n",
       "   1926.5340576171875,\n",
       "   1926.5339965820312,\n",
       "   1926.5340576171875,\n",
       "   1926.5341186523438,\n",
       "   1926.5342407226562,\n",
       "   1926.5341186523438,\n",
       "   1926.5341796875,\n",
       "   1926.5341796875,\n",
       "   1926.5341796875,\n",
       "   1926.5341186523438,\n",
       "   1926.5341186523438,\n",
       "   1926.5342407226562,\n",
       "   1926.5341796875,\n",
       "   1926.5341796875,\n",
       "   1926.5342407226562,\n",
       "   1926.5341796875,\n",
       "   1926.5341796875,\n",
       "   1926.5341796875,\n",
       "   1926.5342407226562,\n",
       "   1926.5340576171875,\n",
       "   1926.5341186523438,\n",
       "   1926.5343017578125,\n",
       "   1926.5342407226562]),\n",
       " ([4851.051302083333,\n",
       "   -5892.870939127604,\n",
       "   -9372.630021158855,\n",
       "   -13655.084423828124,\n",
       "   -26262.008268229165,\n",
       "   -29850.376348876955,\n",
       "   2298.9484619140626,\n",
       "   2298.9485066731772,\n",
       "   2298.9484985351564,\n",
       "   2298.9485127766925,\n",
       "   2298.948453776042,\n",
       "   2298.9484924316407,\n",
       "   2298.9485209147138,\n",
       "   2298.948496500651,\n",
       "   2298.9485473632812,\n",
       "   2298.9484436035154,\n",
       "   2298.94853515625,\n",
       "   2298.948494466146,\n",
       "   2298.948518880208,\n",
       "   2298.9484985351564,\n",
       "   2298.9485127766925,\n",
       "   2298.948514811198,\n",
       "   2298.9485026041666,\n",
       "   2298.9485209147138,\n",
       "   2298.94848429362,\n",
       "   2298.9485209147138,\n",
       "   2298.9484741210936,\n",
       "   2298.9484354654946,\n",
       "   2298.9485046386717,\n",
       "   2298.9485107421874],\n",
       "  [-2581.4282836914062,\n",
       "   -6889.525390625,\n",
       "   -9211.52490234375,\n",
       "   -15771.48828125,\n",
       "   -25543.9638671875,\n",
       "   1926.3560180664062,\n",
       "   1926.35595703125,\n",
       "   1926.3560791015625,\n",
       "   1926.3560180664062,\n",
       "   1926.3560180664062,\n",
       "   1926.3558959960938,\n",
       "   1926.35595703125,\n",
       "   1926.35595703125,\n",
       "   1926.3560791015625,\n",
       "   1926.3561401367188,\n",
       "   1926.3560180664062,\n",
       "   1926.35595703125,\n",
       "   1926.3560180664062,\n",
       "   1926.3560180664062,\n",
       "   1926.356201171875,\n",
       "   1926.35595703125,\n",
       "   1926.3560791015625,\n",
       "   1926.35595703125,\n",
       "   1926.35595703125,\n",
       "   1926.35595703125,\n",
       "   1926.3560180664062,\n",
       "   1926.3560791015625,\n",
       "   1926.3560791015625,\n",
       "   1926.3560180664062,\n",
       "   1926.35595703125]),\n",
       " ([-832.5661641438802,\n",
       "   -9017.976334635418,\n",
       "   -13650.014143880207,\n",
       "   -18536.131803385415,\n",
       "   -19264.948177083334,\n",
       "   -36064.98180338542,\n",
       "   2298.8747599283856,\n",
       "   2298.8747802734374,\n",
       "   2298.874684651693,\n",
       "   2298.8747619628907,\n",
       "   2298.8747517903644,\n",
       "   2298.874727376302,\n",
       "   2298.874719238281,\n",
       "   2298.8746927897137,\n",
       "   2298.8747111002604,\n",
       "   2298.874717203776,\n",
       "   2298.874794514974,\n",
       "   2298.8747762044272,\n",
       "   2298.8747680664064,\n",
       "   2298.874715169271,\n",
       "   2298.8747334798177,\n",
       "   2298.8747314453126,\n",
       "   2298.874755859375,\n",
       "   2298.87475789388,\n",
       "   2298.874763997396,\n",
       "   2298.8747782389323,\n",
       "   2298.874727376302,\n",
       "   2298.8747436523436,\n",
       "   2298.8747904459638,\n",
       "   2298.8747375488283],\n",
       "  [-5002.897216796875,\n",
       "   -9405.859619140625,\n",
       "   -15915.853515625,\n",
       "   -13837.8916015625,\n",
       "   -21480.7939453125,\n",
       "   1926.3256225585938,\n",
       "   1926.3256225585938,\n",
       "   1926.3256225585938,\n",
       "   1926.3255615234375,\n",
       "   1926.3255615234375,\n",
       "   1926.32568359375,\n",
       "   1926.3255615234375,\n",
       "   1926.3255004882812,\n",
       "   1926.32568359375,\n",
       "   1926.3256225585938,\n",
       "   1926.3255004882812,\n",
       "   1926.3255004882812,\n",
       "   1926.3255004882812,\n",
       "   1926.3256225585938,\n",
       "   1926.3255615234375,\n",
       "   1926.3255615234375,\n",
       "   1926.3255615234375,\n",
       "   1926.325439453125,\n",
       "   1926.3255615234375,\n",
       "   1926.325439453125,\n",
       "   1926.3256225585938,\n",
       "   1926.3255615234375,\n",
       "   1926.3255615234375,\n",
       "   1926.3255615234375,\n",
       "   1926.32568359375]),\n",
       " ([-805.0800984700521,\n",
       "   -8624.93681640625,\n",
       "   -12631.025423177083,\n",
       "   -18932.47421875,\n",
       "   -32888.71393229167,\n",
       "   -12459.302124023438,\n",
       "   2298.8335713704428,\n",
       "   2298.8334696451825,\n",
       "   2298.833555094401,\n",
       "   2298.833504231771,\n",
       "   2298.8335144042967,\n",
       "   2298.833534749349,\n",
       "   2298.8335225423175,\n",
       "   2298.8335001627606,\n",
       "   2298.833532714844,\n",
       "   2298.8335388183596,\n",
       "   2298.833485921224,\n",
       "   2298.8335001627606,\n",
       "   2298.8335408528646,\n",
       "   2298.8335184733073,\n",
       "   2298.8335123697916,\n",
       "   2298.8335225423175,\n",
       "   2298.833561197917,\n",
       "   2298.833504231771,\n",
       "   2298.8335428873697,\n",
       "   2298.8334716796876,\n",
       "   2298.8335388183596,\n",
       "   2298.833561197917,\n",
       "   2298.8335896809895,\n",
       "   2298.8335021972657],\n",
       "  [-3566.80517578125,\n",
       "   -8744.9833984375,\n",
       "   -12960.57421875,\n",
       "   -18152.4765625,\n",
       "   -51358.013671875,\n",
       "   1926.3823852539062,\n",
       "   1926.3822631835938,\n",
       "   1926.382080078125,\n",
       "   1926.3823852539062,\n",
       "   1926.3824462890625,\n",
       "   1926.3824462890625,\n",
       "   1926.3824462890625,\n",
       "   1926.38232421875,\n",
       "   1926.38232421875,\n",
       "   1926.3822021484375,\n",
       "   1926.3822631835938,\n",
       "   1926.38232421875,\n",
       "   1926.3822021484375,\n",
       "   1926.3822631835938,\n",
       "   1926.38232421875,\n",
       "   1926.382568359375,\n",
       "   1926.3822631835938,\n",
       "   1926.3822631835938,\n",
       "   1926.38232421875,\n",
       "   1926.3822021484375,\n",
       "   1926.3822021484375,\n",
       "   1926.3822021484375,\n",
       "   1926.3822021484375,\n",
       "   1926.3824462890625,\n",
       "   1926.3822631835938]),\n",
       " ([918.014990234375,\n",
       "   -7196.255525716146,\n",
       "   -11464.384513346355,\n",
       "   -15836.772916666667,\n",
       "   -30340.356966145835,\n",
       "   -20351.881945800782,\n",
       "   2298.8326171875,\n",
       "   2298.8326436360676,\n",
       "   2298.832666015625,\n",
       "   2298.832655843099,\n",
       "   2298.8327209472654,\n",
       "   2298.8326131184895,\n",
       "   2298.832655843099,\n",
       "   2298.832686360677,\n",
       "   2298.8326497395833,\n",
       "   2298.832629394531,\n",
       "   2298.83266398112,\n",
       "   2298.832635498047,\n",
       "   2298.832596842448,\n",
       "   2298.8325724283854,\n",
       "   2298.832584635417,\n",
       "   2298.8326619466147,\n",
       "   2298.832653808594,\n",
       "   2298.8326436360676,\n",
       "   2298.832647705078,\n",
       "   2298.832657877604,\n",
       "   2298.8326334635417,\n",
       "   2298.8326904296873,\n",
       "   2298.8326517740884,\n",
       "   2298.8326517740884],\n",
       "  [-3818.975830078125,\n",
       "   -8397.6533203125,\n",
       "   -11138.535400390625,\n",
       "   -17363.74951171875,\n",
       "   -30562.0166015625,\n",
       "   1926.2817993164062,\n",
       "   1926.2817993164062,\n",
       "   1926.2817993164062,\n",
       "   1926.2818603515625,\n",
       "   1926.2816772460938,\n",
       "   1926.2816162109375,\n",
       "   1926.28173828125,\n",
       "   1926.28173828125,\n",
       "   1926.28173828125,\n",
       "   1926.28173828125,\n",
       "   1926.28173828125,\n",
       "   1926.2816162109375,\n",
       "   1926.2817993164062,\n",
       "   1926.28173828125,\n",
       "   1926.2816772460938,\n",
       "   1926.2817993164062,\n",
       "   1926.2818603515625,\n",
       "   1926.2816772460938,\n",
       "   1926.2816772460938,\n",
       "   1926.2818603515625,\n",
       "   1926.2817993164062,\n",
       "   1926.2818603515625,\n",
       "   1926.2816162109375,\n",
       "   1926.28173828125,\n",
       "   1926.2816772460938]),\n",
       " ([-1527.113458251953,\n",
       "   -7053.143493652344,\n",
       "   -12251.51131998698,\n",
       "   -17773.853125,\n",
       "   -26529.306282552083,\n",
       "   -26678.954264322918,\n",
       "   -40874.69863688151,\n",
       "   2298.82749226888,\n",
       "   2298.8274943033853,\n",
       "   2298.82748819987,\n",
       "   2298.8275146484375,\n",
       "   2298.8275065104167,\n",
       "   2298.8274739583335,\n",
       "   2298.8274820963543,\n",
       "   2298.827469889323,\n",
       "   2298.8275349934897,\n",
       "   2298.827537027995,\n",
       "   2298.8274943033853,\n",
       "   2298.8274780273437,\n",
       "   2298.827530924479,\n",
       "   2298.8274780273437,\n",
       "   2298.8275431315105,\n",
       "   2298.827557373047,\n",
       "   2298.827498372396,\n",
       "   2298.827520751953,\n",
       "   2298.8275126139324,\n",
       "   2298.8275614420572,\n",
       "   2298.827471923828,\n",
       "   2298.8274536132812,\n",
       "   2298.8275390625],\n",
       "  [68.16458892822266,\n",
       "   -8981.77197265625,\n",
       "   -12361.5146484375,\n",
       "   -19115.72802734375,\n",
       "   -28846.326171875,\n",
       "   -25247.74609375,\n",
       "   1926.2550048828125,\n",
       "   1926.2548828125,\n",
       "   1926.2550048828125,\n",
       "   1926.2550048828125,\n",
       "   1926.2550048828125,\n",
       "   1926.2550659179688,\n",
       "   1926.2550048828125,\n",
       "   1926.2548828125,\n",
       "   1926.2548217773438,\n",
       "   1926.2550659179688,\n",
       "   1926.2548828125,\n",
       "   1926.2550659179688,\n",
       "   1926.2550048828125,\n",
       "   1926.2550659179688,\n",
       "   1926.2549438476562,\n",
       "   1926.2549438476562,\n",
       "   1926.2550659179688,\n",
       "   1926.2550048828125,\n",
       "   1926.2550048828125,\n",
       "   1926.2550659179688,\n",
       "   1926.2550048828125,\n",
       "   1926.2548828125,\n",
       "   1926.2550659179688,\n",
       "   1926.255126953125]),\n",
       " ([1766.2245137532552,\n",
       "   -8572.342635091145,\n",
       "   -12967.17724609375,\n",
       "   -19841.16775716146,\n",
       "   -40825.153981526695,\n",
       "   2298.827770996094,\n",
       "   2298.827734375,\n",
       "   2298.827809651693,\n",
       "   2298.8277384440103,\n",
       "   2298.827770996094,\n",
       "   2298.8276997884113,\n",
       "   2298.82778116862,\n",
       "   2298.8278361002604,\n",
       "   2298.827770996094,\n",
       "   2298.827809651693,\n",
       "   2298.8277913411457,\n",
       "   2298.8278462727862,\n",
       "   2298.82778523763,\n",
       "   2298.8278198242188,\n",
       "   2298.827783203125,\n",
       "   2298.827764892578,\n",
       "   2298.8278381347654,\n",
       "   2298.8278564453126,\n",
       "   2298.8277872721355,\n",
       "   2298.8277262369793,\n",
       "   2298.827764892578,\n",
       "   2298.8277669270833,\n",
       "   2298.827773030599,\n",
       "   2298.827777099609,\n",
       "   2298.8277567545574],\n",
       "  [-3903.14990234375,\n",
       "   -9383.46337890625,\n",
       "   -12834.4912109375,\n",
       "   -23399.58984375,\n",
       "   1926.2279663085938,\n",
       "   1926.22802734375,\n",
       "   1926.2279052734375,\n",
       "   1926.2280883789062,\n",
       "   1926.2280883789062,\n",
       "   1926.2280883789062,\n",
       "   1926.2279663085938,\n",
       "   1926.2279663085938,\n",
       "   1926.2279663085938,\n",
       "   1926.2280883789062,\n",
       "   1926.22802734375,\n",
       "   1926.2280883789062,\n",
       "   1926.22802734375,\n",
       "   1926.2279663085938,\n",
       "   1926.2281494140625,\n",
       "   1926.22802734375,\n",
       "   1926.22802734375,\n",
       "   1926.2281494140625,\n",
       "   1926.2280883789062,\n",
       "   1926.22802734375,\n",
       "   1926.2281494140625,\n",
       "   1926.2280883789062,\n",
       "   1926.22802734375,\n",
       "   1926.2281494140625,\n",
       "   1926.22802734375,\n",
       "   1926.22802734375]),\n",
       " ([-2266.7628560384114,\n",
       "   -11098.778255208334,\n",
       "   -16696.841373697916,\n",
       "   -37829.78997192383,\n",
       "   2298.826072184245,\n",
       "   2298.826135253906,\n",
       "   2298.8261494954427,\n",
       "   2298.8261372884112,\n",
       "   2298.8261169433595,\n",
       "   2298.826092529297,\n",
       "   2298.8261189778646,\n",
       "   2298.826033528646,\n",
       "   2298.826094563802,\n",
       "   2298.8260965983072,\n",
       "   2298.8260864257813,\n",
       "   2298.8260803222656,\n",
       "   2298.8260823567707,\n",
       "   2298.826064046224,\n",
       "   2298.8260498046875,\n",
       "   2298.8260986328123,\n",
       "   2298.8260884602864,\n",
       "   2298.826173909505,\n",
       "   2298.8261210123696,\n",
       "   2298.8261169433595,\n",
       "   2298.826100667318,\n",
       "   2298.826143391927,\n",
       "   2298.8260803222656,\n",
       "   2298.8261169433595,\n",
       "   2298.8260864257813,\n",
       "   2298.8261596679686],\n",
       "  [-6474.28955078125,\n",
       "   -11152.89697265625,\n",
       "   -19415.71630859375,\n",
       "   1926.2203369140625,\n",
       "   1926.2203369140625,\n",
       "   1926.2202758789062,\n",
       "   1926.2201538085938,\n",
       "   1926.2201538085938,\n",
       "   1926.2201538085938,\n",
       "   1926.2201538085938,\n",
       "   1926.2201538085938,\n",
       "   1926.2201538085938,\n",
       "   1926.2200927734375,\n",
       "   1926.2202758789062,\n",
       "   1926.22021484375,\n",
       "   1926.2201538085938,\n",
       "   1926.2200927734375,\n",
       "   1926.22021484375,\n",
       "   1926.22021484375,\n",
       "   1926.2201538085938,\n",
       "   1926.22021484375,\n",
       "   1926.2201538085938,\n",
       "   1926.2200927734375,\n",
       "   1926.2202758789062,\n",
       "   1926.2202758789062,\n",
       "   1926.22021484375,\n",
       "   1926.2201538085938,\n",
       "   1926.2200927734375,\n",
       "   1926.2203369140625,\n",
       "   1926.22021484375]),\n",
       " ([-1829.4647806803384,\n",
       "   -10074.253776041667,\n",
       "   -14655.688313802084,\n",
       "   -23771.711881510415,\n",
       "   -18406.924318440757,\n",
       "   2298.8136474609373,\n",
       "   2298.8136372884114,\n",
       "   2298.8136576334637,\n",
       "   2298.813680013021,\n",
       "   2298.8137084960936,\n",
       "   2298.813671875,\n",
       "   2298.813653564453,\n",
       "   2298.8135701497395,\n",
       "   2298.813653564453,\n",
       "   2298.8136596679688,\n",
       "   2298.8136088053384,\n",
       "   2298.8136454264322,\n",
       "   2298.8135965983074,\n",
       "   2298.813604736328,\n",
       "   2298.8136271158855,\n",
       "   2298.8136332194013,\n",
       "   2298.8136189778647,\n",
       "   2298.813655598958,\n",
       "   2298.8136698404946,\n",
       "   2298.8136291503906,\n",
       "   2298.8136393229165,\n",
       "   2298.813643391927,\n",
       "   2298.8136637369794,\n",
       "   2298.81362508138,\n",
       "   2298.8136637369794],\n",
       "  [-3171.9404296875,\n",
       "   -10679.626708984375,\n",
       "   -15149.08251953125,\n",
       "   -25030.345703125,\n",
       "   1926.29833984375,\n",
       "   1926.29833984375,\n",
       "   1926.2984619140625,\n",
       "   1926.2982788085938,\n",
       "   1926.2984008789062,\n",
       "   1926.2982177734375,\n",
       "   1926.2982177734375,\n",
       "   1926.29833984375,\n",
       "   1926.2982788085938,\n",
       "   1926.2982177734375,\n",
       "   1926.2982788085938,\n",
       "   1926.29833984375,\n",
       "   1926.2982177734375,\n",
       "   1926.2982788085938,\n",
       "   1926.2982788085938,\n",
       "   1926.2984619140625,\n",
       "   1926.2982177734375,\n",
       "   1926.29833984375,\n",
       "   1926.29833984375,\n",
       "   1926.29833984375,\n",
       "   1926.2982788085938,\n",
       "   1926.29833984375,\n",
       "   1926.2984008789062,\n",
       "   1926.29833984375,\n",
       "   1926.29833984375,\n",
       "   1926.2981567382812]),\n",
       " ([-1592.712870279948,\n",
       "   -8107.166967773437,\n",
       "   -12947.409651692707,\n",
       "   -18366.802701822915,\n",
       "   -22749.837825520834,\n",
       "   -37889.33297526042,\n",
       "   -31977.15565999349,\n",
       "   2298.81127726237,\n",
       "   2298.811238606771,\n",
       "   2298.8112833658856,\n",
       "   2298.8112284342446,\n",
       "   2298.8112650553385,\n",
       "   2298.8112548828126,\n",
       "   2298.8112955729166,\n",
       "   2298.8112609863283,\n",
       "   2298.8112263997396,\n",
       "   2298.811287434896,\n",
       "   2298.8112182617188,\n",
       "   2298.8112569173177,\n",
       "   2298.811250813802,\n",
       "   2298.8112528483075,\n",
       "   2298.8111775716147,\n",
       "   2298.811208089193,\n",
       "   2298.8112182617188,\n",
       "   2298.811242675781,\n",
       "   2298.8112548828126,\n",
       "   2298.811242675781,\n",
       "   2298.8112609863283,\n",
       "   2298.8112569173177,\n",
       "   2298.811240641276],\n",
       "  [-1696.8430786132812,\n",
       "   -9359.3037109375,\n",
       "   -12929.82275390625,\n",
       "   -16060.51953125,\n",
       "   -20706.6845703125,\n",
       "   -43538.1806640625,\n",
       "   1926.2910766601562,\n",
       "   1926.2909545898438,\n",
       "   1926.2910766601562,\n",
       "   1926.291015625,\n",
       "   1926.291015625,\n",
       "   1926.291015625,\n",
       "   1926.291015625,\n",
       "   1926.2908935546875,\n",
       "   1926.2908935546875,\n",
       "   1926.2911376953125,\n",
       "   1926.291015625,\n",
       "   1926.2908935546875,\n",
       "   1926.2910766601562,\n",
       "   1926.2908935546875,\n",
       "   1926.2909545898438,\n",
       "   1926.291015625,\n",
       "   1926.2910766601562,\n",
       "   1926.2909545898438,\n",
       "   1926.291015625,\n",
       "   1926.291015625,\n",
       "   1926.2909545898438,\n",
       "   1926.2909545898438,\n",
       "   1926.2911376953125,\n",
       "   1926.2910766601562])]"
      ]
     },
     "execution_count": 16,
     "metadata": {},
     "output_type": "execute_result"
    }
   ],
   "execution_count": 16
  },
  {
   "cell_type": "code",
   "id": "84c1ebc0-3d71-47b8-8709-7a758113d675",
   "metadata": {
    "ExecuteTime": {
     "end_time": "2024-05-22T21:32:32.970681Z",
     "start_time": "2024-05-22T21:32:32.790310Z"
    }
   },
   "source": [
    "plt.plot(np.array(loss_vals[0][0]))\n",
    "plt.plot(np.array(loss_vals[0][1]))"
   ],
   "outputs": [
    {
     "data": {
      "text/plain": [
       "[<matplotlib.lines.Line2D at 0x77876f9e8910>]"
      ]
     },
     "execution_count": 17,
     "metadata": {},
     "output_type": "execute_result"
    },
    {
     "data": {
      "text/plain": [
       "<Figure size 640x480 with 1 Axes>"
      ],
      "image/png": "[encoded data removed]"
     },
     "metadata": {},
     "output_type": "display_data"
    }
   ],
   "execution_count": 17
  },
  {
   "cell_type": "code",
   "id": "8e05c561-30a9-4328-be20-06302dc7425c",
   "metadata": {
    "ExecuteTime": {
     "end_time": "2024-05-22T21:32:32.973557Z",
     "start_time": "2024-05-22T21:32:32.971438Z"
    }
   },
   "source": [
    "model_path = model_base_path/'hyperparameters.pkl'\n",
    "\n",
    "with open(model_path, 'wb') as f:\n",
    "    pickle.dump({'ncomps':ncomps, 'nevecs':nevecs,'nbasecomps':nbasecomps, 'ncauses':ncauses, 'crop_size':crop_size}, f)"
   ],
   "outputs": [],
   "execution_count": 18
  },
  {
   "cell_type": "markdown",
   "id": "8c4aa32a-457e-44ea-804e-ffc137b45bbc",
   "metadata": {},
   "source": [
    "## Linear regression"
   ]
  },
  {
   "metadata": {
    "ExecuteTime": {
     "end_time": "2024-05-22T21:32:32.977526Z",
     "start_time": "2024-05-22T21:32:32.974062Z"
    }
   },
   "cell_type": "code",
   "source": [
    "import torch\n",
    "import yaml\n",
    "from utils.helpers import dict2namespace\n",
    "\n",
    "with open(macaw_path/'config'/'ukbb.yaml', 'r') as f:\n",
    "    config_raw = yaml.load(f, Loader=yaml.FullLoader)\n",
    "    \n",
    "config = dict2namespace(config_raw)\n",
    "config.device = torch.device('cuda') if torch.cuda.is_available() else torch.device('cpu')"
   ],
   "id": "d46b7a4d-6573-454d-b6dc-cb53cb9c4b8e",
   "outputs": [],
   "execution_count": 19
  },
  {
   "cell_type": "code",
   "id": "e5e1a75d-d78b-4f63-a364-ba6ab01d8b95",
   "metadata": {
    "ExecuteTime": {
     "end_time": "2024-05-22T21:32:33.303033Z",
     "start_time": "2024-05-22T21:32:32.978017Z"
    }
   },
   "source": [
    "ed =  encoded_data[:,:nevecs]\n",
    "X = np.hstack([sex[:,np.newaxis], bmi[:,np.newaxis], ed])    "
   ],
   "outputs": [
    {
     "ename": "NameError",
     "evalue": "name 'sex' is not defined",
     "output_type": "error",
     "traceback": [
      "\u001B[0;31m---------------------------------------------------------------------------\u001B[0m",
      "\u001B[0;31mNameError\u001B[0m                                 Traceback (most recent call last)",
      "Cell \u001B[0;32mIn[20], line 2\u001B[0m\n\u001B[1;32m      1\u001B[0m ed \u001B[38;5;241m=\u001B[39m  encoded_data[:,:nevecs]\n\u001B[0;32m----> 2\u001B[0m X \u001B[38;5;241m=\u001B[39m np\u001B[38;5;241m.\u001B[39mhstack([sex[:,np\u001B[38;5;241m.\u001B[39mnewaxis], bmi[:,np\u001B[38;5;241m.\u001B[39mnewaxis], ed])\n",
      "\u001B[0;31mNameError\u001B[0m: name 'sex' is not defined"
     ]
    }
   ],
   "execution_count": 20
  },
  {
   "cell_type": "code",
   "id": "d4bca575-c1c5-4172-8b46-663bab7d25b4",
   "metadata": {
    "ExecuteTime": {
     "end_time": "2024-05-22T21:32:33.303798Z",
     "start_time": "2024-05-22T21:32:33.303742Z"
    }
   },
   "source": [
    "from sklearn.linear_model import LinearRegression\n",
    "reg = LinearRegression().fit(X, age)"
   ],
   "outputs": [],
   "execution_count": null
  },
  {
   "cell_type": "code",
   "id": "b17490f3-02df-44b5-9904-c84e286a1e9f",
   "metadata": {},
   "source": [
    "reg.score(X, age)"
   ],
   "outputs": [],
   "execution_count": null
  },
  {
   "cell_type": "code",
   "id": "b1c6039d-93e2-44f3-91b8-8fac4f1a37b2",
   "metadata": {},
   "source": [
    "lr_path = model_base_path/'lr.pkl'\n",
    "\n",
    "with open(lr_path, 'wb') as f:\n",
    "    pickle.dump({'reg':reg}, f)"
   ],
   "outputs": [],
   "execution_count": null
  },
  {
   "cell_type": "code",
   "id": "64d8691b-68ee-4b77-8f17-a9b97b71f900",
   "metadata": {},
   "source": [
    "lr_path"
   ],
   "outputs": [],
   "execution_count": null
  },
  {
   "cell_type": "code",
   "id": "0b0ab90e-6bd4-417b-89a0-784773a9c82c",
   "metadata": {},
   "source": [
    "reg.coef_"
   ],
   "outputs": [],
   "execution_count": null
  },
  {
   "cell_type": "code",
   "id": "2c83dd74-2b7b-43d2-b56f-34ab907b6e35",
   "metadata": {},
   "source": [
    "np.mean(np.abs(reg.predict(X) - age))"
   ],
   "outputs": [],
   "execution_count": null
  },
  {
   "cell_type": "code",
   "id": "32e7720e-e9c7-4377-a86d-b5be161c3c12",
   "metadata": {},
   "source": [
    "idx = 0\n",
    "macaw = torch.load(model_base_path/f'{idx}.pt')\n",
    "X_test = np.hstack([sex[:,np.newaxis], age[:,np.newaxis], bmi[:,np.newaxis], encoded_data[:,idx:nevecs+idx]])"
   ],
   "outputs": [],
   "execution_count": null
  },
  {
   "cell_type": "code",
   "id": "b9f68acb-c37c-4da3-bd4b-20a22b2496f8",
   "metadata": {},
   "source": [
    "encoded_data.shape"
   ],
   "outputs": [],
   "execution_count": null
  },
  {
   "cell_type": "code",
   "id": "d0d12a02-37c0-448f-8bb5-0f26dd70758a",
   "metadata": {},
   "source": [
    "probs=[]\n",
    "for i in range(36):\n",
    "    X_test[:,1] = i\n",
    "    probs.append(macaw.log_likelihood(X_test))"
   ],
   "outputs": [],
   "execution_count": null
  },
  {
   "cell_type": "code",
   "id": "ceb04aa1-9cba-4977-9465-8f7ce52f7be3",
   "metadata": {},
   "source": [
    "pexp = np.exp(np.array(probs))\n",
    "pexp_sum = np.sum(pexp,axis=0)\n",
    "p = pexp/pexp_sum"
   ],
   "outputs": [],
   "execution_count": null
  },
  {
   "cell_type": "code",
   "id": "dd3010e4-fb4f-41e6-9099-39e1f76b9eff",
   "metadata": {},
   "source": [
    "pred_labels = np.argmax(probs, axis=0)"
   ],
   "outputs": [],
   "execution_count": null
  },
  {
   "cell_type": "code",
   "id": "26f76ba2-a646-47d8-87b9-29c3883725b1",
   "metadata": {},
   "source": [
    "age_bins=36"
   ],
   "outputs": [],
   "execution_count": null
  },
  {
   "cell_type": "code",
   "id": "8f865e26-867d-4372-acbe-27e201d54bde",
   "metadata": {},
   "source": [
    "sns.histplot(age, bins=age_bins)\n",
    "sns.histplot(pred_labels,bins=age_bins)"
   ],
   "outputs": [],
   "execution_count": null
  },
  {
   "cell_type": "code",
   "id": "03e95595-9173-4561-ac6c-39d91843db9c",
   "metadata": {},
   "source": [
    "l = np.array(probs)[:,80]\n",
    "plt.bar(np.arange(36),l-np.min(l))"
   ],
   "outputs": [],
   "execution_count": null
  },
  {
   "cell_type": "code",
   "id": "c55aab19-9403-42aa-86c9-561ce71e7f2f",
   "metadata": {},
   "source": [
    "sns.histplot(age-pred_labels, bins=age_bins)"
   ],
   "outputs": [],
   "execution_count": null
  },
  {
   "cell_type": "code",
   "id": "572878ef-3df8-4d69-8df0-4141a7f262ed",
   "metadata": {},
   "source": [
    "np.mean(np.abs(pred_labels - age))"
   ],
   "outputs": [],
   "execution_count": null
  },
  {
   "cell_type": "code",
   "id": "c925f853-d3ce-4c70-9830-5f3bbb4572fe",
   "metadata": {},
   "source": [],
   "outputs": [],
   "execution_count": null
  },
  {
   "cell_type": "code",
   "id": "32e37e65-74b9-49b1-b3b4-97ecbff3415c",
   "metadata": {},
   "source": [],
   "outputs": [],
   "execution_count": null
  }
 ],
 "metadata": {
  "kernelspec": {
   "display_name": "Python 3",
   "language": "python",
   "name": "python3"
  },
  "language_info": {
   "codemirror_mode": {
    "name": "ipython",
    "version": 3
   },
   "file_extension": ".py",
   "mimetype": "text/x-python",
   "name": "python",
   "nbconvert_exporter": "python",
   "pygments_lexer": "ipython3",
   "version": "3.8.13"
  }
 },
 "nbformat": 4,
 "nbformat_minor": 5
}
