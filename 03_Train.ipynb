{
 "cells": [
  {
   "cell_type": "code",
   "id": "ac8ed1c3-9496-49a4-865c-56314f141a9c",
   "metadata": {
    "ExecuteTime": {
     "end_time": "2024-06-06T17:16:15.421367Z",
     "start_time": "2024-06-06T17:16:15.419558Z"
    }
   },
   "source": [
    "nevecs = 50\n",
    "ncomps = 500\n",
    "nbasecomps = 25\n",
    "crop_size=180\n",
    "ncauses = 2\n",
    "dr_method = 'PCA'"
   ],
   "outputs": [],
   "execution_count": 1
  },
  {
   "metadata": {
    "ExecuteTime": {
     "end_time": "2024-06-06T17:16:17.136142Z",
     "start_time": "2024-06-06T17:16:15.422110Z"
    }
   },
   "cell_type": "code",
   "source": [
    "from pathlib import Path\n",
    "import os, sys\n",
    "import torchvision.transforms.functional as F\n",
    "import matplotlib.pyplot as plt\n",
    "import numpy as np\n",
    "import seaborn as sns"
   ],
   "id": "fcd9e09a79faea7c",
   "outputs": [],
   "execution_count": 2
  },
  {
   "cell_type": "code",
   "id": "dc4bfa8c-b51e-4db7-a6c6-48e284f06081",
   "metadata": {
    "ExecuteTime": {
     "end_time": "2024-06-06T17:16:17.139735Z",
     "start_time": "2024-06-06T17:16:17.136998Z"
    }
   },
   "source": [
    "\n",
    "macaw_path = Path(os.getcwd())\n",
    "sys.path.append(str(macaw_path) +'/')\n",
    "\n",
    "exp_name = 'far_bias'\n",
    "\n",
    "train_csv_path = macaw_path/'splits'/'train.csv'\n",
    "train_img_path = macaw_path/'no_bias'/'train'\n",
    "\n",
    "val_csv_path = macaw_path/'splits'/'val.csv'\n",
    "val_img_path = macaw_path/exp_name/'val'\n",
    "\n",
    "pca_path = macaw_path/exp_name/f'train_hc_pca_{ncomps}.pkl'\n",
    "\n",
    "train_path = macaw_path/exp_name/f'train_hc_data_PCA_{ncomps}.pkl'\n",
    "val_path = macaw_path/exp_name/f'val_hc_data_PCA_{ncomps}.pkl'\n",
    "model_base_path = macaw_path/'models'/exp_name/f'{dr_method}_{ncomps}'/f'{nevecs}'\n",
    "\n",
    "if not os.path.exists(model_base_path):\n",
    "    os.makedirs(model_base_path)"
   ],
   "outputs": [],
   "execution_count": 3
  },
  {
   "cell_type": "code",
   "id": "5a5449c7-9cf7-45db-9535-4c0eb6ce6da9",
   "metadata": {
    "ExecuteTime": {
     "end_time": "2024-06-06T17:16:17.344578Z",
     "start_time": "2024-06-06T17:16:17.140315Z"
    }
   },
   "source": [
    "import pickle\n",
    "\n",
    "with open(train_path, 'rb') as f:\n",
    "    train = pickle.load(f)\n",
    "    \n",
    "disease_t = train['disease']\n",
    "bias_t = train['bias']\n",
    "\n",
    "encoded_t = train['encoded_data']\n",
    "pca_t = train['pca']"
   ],
   "outputs": [],
   "execution_count": 4
  },
  {
   "metadata": {
    "ExecuteTime": {
     "end_time": "2024-06-06T17:16:17.424609Z",
     "start_time": "2024-06-06T17:16:17.345393Z"
    }
   },
   "cell_type": "code",
   "source": [
    "with open(val_path, 'rb') as f:\n",
    "    val = pickle.load(f)\n",
    "    \n",
    "disease_v = val['disease']\n",
    "bias_v = val['bias']\n",
    "\n",
    "encoded_v = val['encoded_data']\n",
    "pca_v = val['pca']"
   ],
   "id": "7e0e3588590e626c",
   "outputs": [],
   "execution_count": 5
  },
  {
   "metadata": {
    "ExecuteTime": {
     "end_time": "2024-06-06T17:16:17.428378Z",
     "start_time": "2024-06-06T17:16:17.425153Z"
    }
   },
   "cell_type": "code",
   "source": "encoded_t.shape",
   "id": "8541fe03a78b9024",
   "outputs": [
    {
     "data": {
      "text/plain": [
       "(1005, 500)"
      ]
     },
     "execution_count": 6,
     "metadata": {},
     "output_type": "execute_result"
    }
   ],
   "execution_count": 6
  },
  {
   "metadata": {
    "ExecuteTime": {
     "end_time": "2024-06-06T17:16:17.431824Z",
     "start_time": "2024-06-06T17:16:17.429696Z"
    }
   },
   "cell_type": "code",
   "source": "encoded_v.shape",
   "id": "480a1449e0e91446",
   "outputs": [
    {
     "data": {
      "text/plain": [
       "(1005, 500)"
      ]
     },
     "execution_count": 7,
     "metadata": {},
     "output_type": "execute_result"
    }
   ],
   "execution_count": 7
  },
  {
   "cell_type": "code",
   "id": "d913b8ea-75cf-4ab0-820c-9eb460a83870",
   "metadata": {
    "ExecuteTime": {
     "end_time": "2024-06-06T17:16:17.435490Z",
     "start_time": "2024-06-06T17:16:17.432533Z"
    }
   },
   "source": "bias_t.sum()",
   "outputs": [
    {
     "data": {
      "text/plain": [
       "505"
      ]
     },
     "execution_count": 8,
     "metadata": {},
     "output_type": "execute_result"
    }
   ],
   "execution_count": 8
  },
  {
   "metadata": {
    "ExecuteTime": {
     "end_time": "2024-06-06T17:16:17.438811Z",
     "start_time": "2024-06-06T17:16:17.436193Z"
    }
   },
   "cell_type": "code",
   "source": "bias_v.sum()",
   "id": "27cf076eaabd4f99",
   "outputs": [
    {
     "data": {
      "text/plain": [
       "505"
      ]
     },
     "execution_count": 9,
     "metadata": {},
     "output_type": "execute_result"
    }
   ],
   "execution_count": 9
  },
  {
   "metadata": {
    "ExecuteTime": {
     "end_time": "2024-06-06T17:16:17.442093Z",
     "start_time": "2024-06-06T17:16:17.439429Z"
    }
   },
   "cell_type": "code",
   "source": "disease_t.sum()",
   "id": "10881b350992ae4d",
   "outputs": [
    {
     "data": {
      "text/plain": [
       "500"
      ]
     },
     "execution_count": 10,
     "metadata": {},
     "output_type": "execute_result"
    }
   ],
   "execution_count": 10
  },
  {
   "metadata": {
    "ExecuteTime": {
     "end_time": "2024-06-06T17:16:17.444968Z",
     "start_time": "2024-06-06T17:16:17.442700Z"
    }
   },
   "cell_type": "code",
   "source": "disease_v.sum()",
   "id": "7ef8bfd674404f82",
   "outputs": [
    {
     "data": {
      "text/plain": [
       "500"
      ]
     },
     "execution_count": 11,
     "metadata": {},
     "output_type": "execute_result"
    }
   ],
   "execution_count": 11
  },
  {
   "cell_type": "markdown",
   "id": "e33defe2-6af3-468d-bd9e-3f830c804527",
   "metadata": {},
   "source": [
    "## Causal Graph"
   ]
  },
  {
   "cell_type": "code",
   "id": "6daf4154-f20b-4cad-86eb-7bf0de118187",
   "metadata": {
    "ExecuteTime": {
     "end_time": "2024-06-06T17:16:17.447903Z",
     "start_time": "2024-06-06T17:16:17.445481Z"
    }
   },
   "source": [
    "disease_to_latents = [(0,i) for i in range(ncauses,nevecs+ncauses)]\n",
    "\n",
    "bias_to_latents = [(1,i) for i in range(ncauses,nevecs+ncauses)]\n",
    "\n",
    "autoregressive_latents = [(i,j) for i in range(ncauses,nevecs+ncauses) for j in range(i+1,nevecs+ncauses)]\n",
    "# autoregressive_latents = [(i,j) for i in range(ncauses,2*ncauses) for j in range(i+1,nevecs+ncauses)]\n",
    "# autoregressive_latents = []\n",
    "edges = disease_to_latents + bias_to_latents + autoregressive_latents"
   ],
   "outputs": [],
   "execution_count": 12
  },
  {
   "cell_type": "markdown",
   "id": "2aa28e2b-0e9f-4b35-88d9-20ffb827b630",
   "metadata": {},
   "source": [
    "## Priors"
   ]
  },
  {
   "cell_type": "code",
   "id": "e84c3590-a881-43a5-800a-80a19f47fe89",
   "metadata": {
    "ExecuteTime": {
     "end_time": "2024-06-06T17:16:17.451385Z",
     "start_time": "2024-06-06T17:16:17.448722Z"
    }
   },
   "source": [
    "P_bias = np.sum(bias_t)/len(bias_t)\n",
    "print(P_bias)\n",
    "\n",
    "P_dis = np.sum(disease_t)/len(disease_t)\n",
    "print(P_dis)"
   ],
   "outputs": [
    {
     "name": "stdout",
     "output_type": "stream",
     "text": [
      "0.5024875621890548\n",
      "0.4975124378109453\n"
     ]
    }
   ],
   "execution_count": 13
  },
  {
   "metadata": {
    "ExecuteTime": {
     "end_time": "2024-06-06T17:16:17.487300Z",
     "start_time": "2024-06-06T17:16:17.452163Z"
    }
   },
   "cell_type": "code",
   "source": [
    "import torch\n",
    "import yaml\n",
    "from utils.helpers import dict2namespace\n",
    "\n",
    "with open(macaw_path/'config'/'ukbb.yaml', 'r') as f:\n",
    "    config_raw = yaml.load(f, Loader=yaml.FullLoader)\n",
    "    \n",
    "config = dict2namespace(config_raw)\n",
    "config.device = torch.device('cuda') if torch.cuda.is_available() else torch.device('cpu')"
   ],
   "id": "700b254703b316a0",
   "outputs": [],
   "execution_count": 14
  },
  {
   "metadata": {
    "ExecuteTime": {
     "end_time": "2024-06-06T17:16:17.491035Z",
     "start_time": "2024-06-06T17:16:17.488331Z"
    }
   },
   "cell_type": "code",
   "source": "config.device",
   "id": "86c08c0619624c25",
   "outputs": [
    {
     "data": {
      "text/plain": [
       "device(type='cuda')"
      ]
     },
     "execution_count": 15,
     "metadata": {},
     "output_type": "execute_result"
    }
   ],
   "execution_count": 15
  },
  {
   "cell_type": "code",
   "id": "e9e4cdea-a3ed-4b41-9c93-59a4b048e7e4",
   "metadata": {
    "ExecuteTime": {
     "end_time": "2024-06-06T17:16:17.577342Z",
     "start_time": "2024-06-06T17:16:17.491830Z"
    }
   },
   "source": [
    "import torch.distributions as td\n",
    "\n",
    "priors = [(slice(0,1),td.Bernoulli(torch.tensor([P_dis]).to(torch.device(config.device)))), # disease\n",
    "          (slice(1,2),td.Bernoulli(torch.tensor([P_bias]).to(torch.device(config.device)))), # bias\n",
    "          (slice(2,nbasecomps+2),td.Normal(torch.zeros(nbasecomps).to(config.device), torch.ones(nbasecomps).to(config.device))), # base_comps\n",
    "          (slice(nbasecomps+2,nevecs+2),td.Normal(torch.zeros(nevecs-nbasecomps).to(config.device), torch.ones(nevecs-nbasecomps).to(config.device))), # new_comps\n",
    "         ]"
   ],
   "outputs": [],
   "execution_count": 16
  },
  {
   "metadata": {
    "ExecuteTime": {
     "end_time": "2024-06-06T17:16:17.579829Z",
     "start_time": "2024-06-06T17:16:17.578113Z"
    }
   },
   "cell_type": "code",
   "source": [
    "import torch.distributions as td\n",
    "# \n",
    "# priors = [(slice(0,1),td.Bernoulli(torch.tensor([P_dis]).to(torch.device(config.device)))), # disease\n",
    "#           (slice(1,2),td.Bernoulli(torch.tensor([P_bias]).to(torch.device(torch.device(config.device))))), # bias\n",
    "#           (slice(2,nbasecomps+2),td.Normal(torch.zeros(nbasecomps).to(torch.device(config.device)), torch.ones(nbasecomps).to(torch.device(config.device)))), # base_comps\n",
    "#           (slice(nbasecomps+2,nevecs+2),td.Normal(torch.zeros(nevecs-nbasecomps).to(torch.device(config.device)), torch.ones(nevecs-nbasecomps).to(torch.device(config.device)))), # new_comps\n",
    "#          ]"
   ],
   "id": "b7cd3b9f4dba160a",
   "outputs": [],
   "execution_count": 17
  },
  {
   "cell_type": "code",
   "id": "63391695-0396-45ac-ad67-9e62e7340c3e",
   "metadata": {
    "ExecuteTime": {
     "end_time": "2024-06-06T17:16:19.346618Z",
     "start_time": "2024-06-06T17:16:17.580553Z"
    }
   },
   "source": [
    "from torch.utils.tensorboard import SummaryWriter\n",
    "from torchvision import datasets, transforms\n",
    "\n",
    "# Writer will output to ./runs/ directory by default\n",
    "writer = SummaryWriter()"
   ],
   "outputs": [
    {
     "name": "stderr",
     "output_type": "stream",
     "text": [
      "2024-06-06 11:16:17.905524: I tensorflow/core/util/port.cc:110] oneDNN custom operations are on. You may see slightly different numerical results due to floating-point round-off errors from different computation orders. To turn them off, set the environment variable `TF_ENABLE_ONEDNN_OPTS=0`.\n",
      "2024-06-06 11:16:17.931673: I tensorflow/tsl/cuda/cudart_stub.cc:28] Could not find cuda drivers on your machine, GPU will not be used.\n",
      "2024-06-06 11:16:18.106469: I tensorflow/core/platform/cpu_feature_guard.cc:182] This TensorFlow binary is optimized to use available CPU instructions in performance-critical operations.\n",
      "To enable the following instructions: AVX2 AVX512F AVX512_VNNI FMA, in other operations, rebuild TensorFlow with the appropriate compiler flags.\n",
      "2024-06-06 11:16:18.881735: W tensorflow/compiler/tf2tensorrt/utils/py_utils.cc:38] TF-TRT Warning: Could not find TensorRT\n"
     ]
    }
   ],
   "execution_count": 18
  },
  {
   "metadata": {
    "ExecuteTime": {
     "end_time": "2024-06-06T17:16:19.349666Z",
     "start_time": "2024-06-06T17:16:19.347267Z"
    }
   },
   "cell_type": "code",
   "source": "loss_vals = []",
   "id": "f285ab184989a6f",
   "outputs": [],
   "execution_count": 19
  },
  {
   "cell_type": "code",
   "id": "d7f8b8f4-7da3-4a47-a923-b7840808a8a5",
   "metadata": {
    "ExecuteTime": {
     "end_time": "2024-06-06T17:18:58.275384Z",
     "start_time": "2024-06-06T17:16:19.350314Z"
    }
   },
   "source": [
    "from macaw import MACAW\n",
    "\n",
    "for e in range(0,ncomps-nbasecomps-1,nevecs-nbasecomps):\n",
    "    save_path = model_base_path/f'{e}.pt'    \n",
    "    ed_t = encoded_t[:,e:e+nevecs]\n",
    "    ed_v = encoded_v[:,e:e+nevecs]\n",
    "    print(e,e+nevecs)\n",
    "    \n",
    "    # if os.path.exists(save_path): \n",
    "       \n",
    "    X = np.hstack([disease_t[:,np.newaxis], bias_t[:,np.newaxis], ed_t])   \n",
    "    Y = np.hstack([disease_v[:,np.newaxis], bias_v[:,np.newaxis], ed_v])   \n",
    "\n",
    "    macaw = MACAW.MACAW(config)\n",
    "    loss_vals.append(macaw.fit_with_priors(X, Y, edges, priors))\n",
    "\n",
    "    torch.save(macaw,save_path)"
   ],
   "outputs": [
    {
     "name": "stdout",
     "output_type": "stream",
     "text": [
      "0 50\n"
     ]
    },
    {
     "data": {
      "text/plain": [
       "  0%|          | 0/40 [00:00<?, ?it/s]"
      ],
      "application/vnd.jupyter.widget-view+json": {
       "version_major": 2,
       "version_minor": 0,
       "model_id": "4395e19d633a421096f30458418161ea"
      }
     },
     "metadata": {},
     "output_type": "display_data"
    },
    {
     "name": "stdout",
     "output_type": "stream",
     "text": [
      "25 75\n"
     ]
    },
    {
     "data": {
      "text/plain": [
       "  0%|          | 0/40 [00:00<?, ?it/s]"
      ],
      "application/vnd.jupyter.widget-view+json": {
       "version_major": 2,
       "version_minor": 0,
       "model_id": "39162b4cedbc4833af07570e920e31ce"
      }
     },
     "metadata": {},
     "output_type": "display_data"
    },
    {
     "name": "stdout",
     "output_type": "stream",
     "text": [
      "50 100\n"
     ]
    },
    {
     "data": {
      "text/plain": [
       "  0%|          | 0/40 [00:00<?, ?it/s]"
      ],
      "application/vnd.jupyter.widget-view+json": {
       "version_major": 2,
       "version_minor": 0,
       "model_id": "e32394bd2bba40f08859fdd764caf2eb"
      }
     },
     "metadata": {},
     "output_type": "display_data"
    },
    {
     "name": "stdout",
     "output_type": "stream",
     "text": [
      "75 125\n"
     ]
    },
    {
     "data": {
      "text/plain": [
       "  0%|          | 0/40 [00:00<?, ?it/s]"
      ],
      "application/vnd.jupyter.widget-view+json": {
       "version_major": 2,
       "version_minor": 0,
       "model_id": "ba9a1282f500453da6b73494e881ada0"
      }
     },
     "metadata": {},
     "output_type": "display_data"
    },
    {
     "name": "stdout",
     "output_type": "stream",
     "text": [
      "100 150\n"
     ]
    },
    {
     "data": {
      "text/plain": [
       "  0%|          | 0/40 [00:00<?, ?it/s]"
      ],
      "application/vnd.jupyter.widget-view+json": {
       "version_major": 2,
       "version_minor": 0,
       "model_id": "b358d64d31ff49c6a1bd72593fa21f8d"
      }
     },
     "metadata": {},
     "output_type": "display_data"
    },
    {
     "name": "stdout",
     "output_type": "stream",
     "text": [
      "125 175\n"
     ]
    },
    {
     "data": {
      "text/plain": [
       "  0%|          | 0/40 [00:00<?, ?it/s]"
      ],
      "application/vnd.jupyter.widget-view+json": {
       "version_major": 2,
       "version_minor": 0,
       "model_id": "d44226f7a8294a52a053a19f69d7e3c5"
      }
     },
     "metadata": {},
     "output_type": "display_data"
    },
    {
     "name": "stdout",
     "output_type": "stream",
     "text": [
      "150 200\n"
     ]
    },
    {
     "data": {
      "text/plain": [
       "  0%|          | 0/40 [00:00<?, ?it/s]"
      ],
      "application/vnd.jupyter.widget-view+json": {
       "version_major": 2,
       "version_minor": 0,
       "model_id": "917c1305a68141e1ba11f062270afe68"
      }
     },
     "metadata": {},
     "output_type": "display_data"
    },
    {
     "name": "stdout",
     "output_type": "stream",
     "text": [
      "175 225\n"
     ]
    },
    {
     "data": {
      "text/plain": [
       "  0%|          | 0/40 [00:00<?, ?it/s]"
      ],
      "application/vnd.jupyter.widget-view+json": {
       "version_major": 2,
       "version_minor": 0,
       "model_id": "08cebb01cb414657bc0906c87fe4bddf"
      }
     },
     "metadata": {},
     "output_type": "display_data"
    },
    {
     "name": "stdout",
     "output_type": "stream",
     "text": [
      "200 250\n"
     ]
    },
    {
     "data": {
      "text/plain": [
       "  0%|          | 0/40 [00:00<?, ?it/s]"
      ],
      "application/vnd.jupyter.widget-view+json": {
       "version_major": 2,
       "version_minor": 0,
       "model_id": "6016402fa8554351be36a19821a0cde4"
      }
     },
     "metadata": {},
     "output_type": "display_data"
    },
    {
     "name": "stdout",
     "output_type": "stream",
     "text": [
      "225 275\n"
     ]
    },
    {
     "data": {
      "text/plain": [
       "  0%|          | 0/40 [00:00<?, ?it/s]"
      ],
      "application/vnd.jupyter.widget-view+json": {
       "version_major": 2,
       "version_minor": 0,
       "model_id": "16ecec2a284b4e15a9212baacdc2a65c"
      }
     },
     "metadata": {},
     "output_type": "display_data"
    },
    {
     "name": "stdout",
     "output_type": "stream",
     "text": [
      "250 300\n"
     ]
    },
    {
     "data": {
      "text/plain": [
       "  0%|          | 0/40 [00:00<?, ?it/s]"
      ],
      "application/vnd.jupyter.widget-view+json": {
       "version_major": 2,
       "version_minor": 0,
       "model_id": "0470bcaea08f46219cb4daef9c7a23be"
      }
     },
     "metadata": {},
     "output_type": "display_data"
    },
    {
     "name": "stdout",
     "output_type": "stream",
     "text": [
      "275 325\n"
     ]
    },
    {
     "data": {
      "text/plain": [
       "  0%|          | 0/40 [00:00<?, ?it/s]"
      ],
      "application/vnd.jupyter.widget-view+json": {
       "version_major": 2,
       "version_minor": 0,
       "model_id": "8de29f8145fe4e33a2780f69f389ddd8"
      }
     },
     "metadata": {},
     "output_type": "display_data"
    },
    {
     "name": "stdout",
     "output_type": "stream",
     "text": [
      "300 350\n"
     ]
    },
    {
     "data": {
      "text/plain": [
       "  0%|          | 0/40 [00:00<?, ?it/s]"
      ],
      "application/vnd.jupyter.widget-view+json": {
       "version_major": 2,
       "version_minor": 0,
       "model_id": "0d97430a3351417eb4f4d7d51f009f0c"
      }
     },
     "metadata": {},
     "output_type": "display_data"
    },
    {
     "name": "stdout",
     "output_type": "stream",
     "text": [
      "325 375\n"
     ]
    },
    {
     "data": {
      "text/plain": [
       "  0%|          | 0/40 [00:00<?, ?it/s]"
      ],
      "application/vnd.jupyter.widget-view+json": {
       "version_major": 2,
       "version_minor": 0,
       "model_id": "0e90a60b59134c12af73f531c2a89a11"
      }
     },
     "metadata": {},
     "output_type": "display_data"
    },
    {
     "name": "stdout",
     "output_type": "stream",
     "text": [
      "350 400\n"
     ]
    },
    {
     "data": {
      "text/plain": [
       "  0%|          | 0/40 [00:00<?, ?it/s]"
      ],
      "application/vnd.jupyter.widget-view+json": {
       "version_major": 2,
       "version_minor": 0,
       "model_id": "638a993f31444dbe855e772cddcaef7a"
      }
     },
     "metadata": {},
     "output_type": "display_data"
    },
    {
     "name": "stdout",
     "output_type": "stream",
     "text": [
      "375 425\n"
     ]
    },
    {
     "data": {
      "text/plain": [
       "  0%|          | 0/40 [00:00<?, ?it/s]"
      ],
      "application/vnd.jupyter.widget-view+json": {
       "version_major": 2,
       "version_minor": 0,
       "model_id": "b74c0dce18c34696901ad7ee4ef4f627"
      }
     },
     "metadata": {},
     "output_type": "display_data"
    },
    {
     "name": "stdout",
     "output_type": "stream",
     "text": [
      "400 450\n"
     ]
    },
    {
     "data": {
      "text/plain": [
       "  0%|          | 0/40 [00:00<?, ?it/s]"
      ],
      "application/vnd.jupyter.widget-view+json": {
       "version_major": 2,
       "version_minor": 0,
       "model_id": "d2cbac0e1913458380c431c5bc1d8c16"
      }
     },
     "metadata": {},
     "output_type": "display_data"
    },
    {
     "name": "stdout",
     "output_type": "stream",
     "text": [
      "425 475\n"
     ]
    },
    {
     "data": {
      "text/plain": [
       "  0%|          | 0/40 [00:00<?, ?it/s]"
      ],
      "application/vnd.jupyter.widget-view+json": {
       "version_major": 2,
       "version_minor": 0,
       "model_id": "41d8ea38b76d4af78f7fa94d5c4f1222"
      }
     },
     "metadata": {},
     "output_type": "display_data"
    },
    {
     "name": "stdout",
     "output_type": "stream",
     "text": [
      "450 500\n"
     ]
    },
    {
     "data": {
      "text/plain": [
       "  0%|          | 0/40 [00:00<?, ?it/s]"
      ],
      "application/vnd.jupyter.widget-view+json": {
       "version_major": 2,
       "version_minor": 0,
       "model_id": "63f4f45f29c34f129c81d501e3ae37f3"
      }
     },
     "metadata": {},
     "output_type": "display_data"
    }
   ],
   "execution_count": 20
  },
  {
   "metadata": {
    "ExecuteTime": {
     "end_time": "2024-06-06T17:18:58.278617Z",
     "start_time": "2024-06-06T17:18:58.276092Z"
    }
   },
   "cell_type": "code",
   "source": "len(loss_vals)",
   "id": "a8df5daa19131318",
   "outputs": [
    {
     "data": {
      "text/plain": [
       "19"
      ]
     },
     "execution_count": 21,
     "metadata": {},
     "output_type": "execute_result"
    }
   ],
   "execution_count": 21
  },
  {
   "metadata": {
    "ExecuteTime": {
     "end_time": "2024-06-06T17:19:00.157152Z",
     "start_time": "2024-06-06T17:18:58.280081Z"
    }
   },
   "cell_type": "code",
   "source": [
    "# Set up a grid with 3 rows and 4 columns\n",
    "fig, axs = plt.subplots(5, 4, figsize=(15, 10))\n",
    "\n",
    "# Flatten the axes array for easy iteration\n",
    "axs = axs.flatten()\n",
    "\n",
    "# Plot each loss value in the grid\n",
    "for i in range(len(loss_vals)):\n",
    "    axs[i].plot(np.array(loss_vals[i][0]), 'r+')\n",
    "    axs[i].plot(np.array(loss_vals[i][1]), 'b.')\n",
    "    axs[i].set_title(f'Plot {i+1}')\n",
    "\n",
    "# Hide any empty subplots\n",
    "for i in range(len(loss_vals), len(axs)):\n",
    "    fig.delaxes(axs[i])\n",
    "\n",
    "plt.tight_layout()\n",
    "plt.show()"
   ],
   "id": "b398086578c6b01a",
   "outputs": [
    {
     "data": {
      "text/plain": [
       "<Figure size 1500x1000 with 19 Axes>"
      ],
      "image/png": "[encoded data removed]"
     },
     "metadata": {},
     "output_type": "display_data"
    }
   ],
   "execution_count": 22
  },
  {
   "metadata": {
    "ExecuteTime": {
     "end_time": "2024-06-06T17:19:00.159292Z",
     "start_time": "2024-06-06T17:19:00.157770Z"
    }
   },
   "cell_type": "code",
   "source": [
    "# for i in range(len(loss_vals)):\n",
    "#     plt.figure(i)  # Create a new figure for each plot\n",
    "#     plt.plot(np.array(loss_vals[i][0]), 'r+')\n",
    "#     plt.plot(np.array(loss_vals[i][1]), 'b.')\n",
    "#     plt.show()  # Display the plot"
   ],
   "id": "a6b91ebf4e3a2e6f",
   "outputs": [],
   "execution_count": 23
  },
  {
   "cell_type": "code",
   "id": "8e05c561-30a9-4328-be20-06302dc7425c",
   "metadata": {
    "ExecuteTime": {
     "end_time": "2024-06-06T17:19:00.162761Z",
     "start_time": "2024-06-06T17:19:00.160055Z"
    }
   },
   "source": [
    "model_path = model_base_path/'hyperparameters.pkl'\n",
    "\n",
    "with open(model_path, 'wb') as f:\n",
    "    pickle.dump({'ncomps':ncomps, 'nevecs':nevecs,'nbasecomps':nbasecomps, 'ncauses':ncauses, 'crop_size':crop_size}, f)"
   ],
   "outputs": [],
   "execution_count": 24
  },
  {
   "metadata": {
    "ExecuteTime": {
     "end_time": "2024-06-06T17:19:00.165004Z",
     "start_time": "2024-06-06T17:19:00.163455Z"
    }
   },
   "cell_type": "code",
   "source": "",
   "id": "ffd9b08a4d664a7d",
   "outputs": [],
   "execution_count": 24
  }
 ],
 "metadata": {
  "kernelspec": {
   "display_name": "Python 3",
   "language": "python",
   "name": "python3"
  },
  "language_info": {
   "codemirror_mode": {
    "name": "ipython",
    "version": 3
   },
   "file_extension": ".py",
   "mimetype": "text/x-python",
   "name": "python",
   "nbconvert_exporter": "python",
   "pygments_lexer": "ipython3",
   "version": "3.8.13"
  }
 },
 "nbformat": 4,
 "nbformat_minor": 5
}
