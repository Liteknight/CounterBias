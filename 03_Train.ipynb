{
 "cells": [
  {
   "cell_type": "code",
   "id": "ac8ed1c3-9496-49a4-865c-56314f141a9c",
   "metadata": {
    "ExecuteTime": {
     "end_time": "2024-06-06T22:18:15.488929Z",
     "start_time": "2024-06-06T22:18:15.486713Z"
    }
   },
   "source": [
    "nevecs = 50\n",
    "ncomps = 500\n",
    "nbasecomps = 25\n",
    "crop_size=180\n",
    "ncauses = 2\n",
    "dr_method = 'PCA'"
   ],
   "outputs": [],
   "execution_count": 1
  },
  {
   "metadata": {
    "ExecuteTime": {
     "end_time": "2024-06-06T22:18:16.747112Z",
     "start_time": "2024-06-06T22:18:15.541972Z"
    }
   },
   "cell_type": "code",
   "source": [
    "from pathlib import Path\n",
    "import os, sys\n",
    "import torchvision.transforms.functional as F\n",
    "import matplotlib.pyplot as plt\n",
    "import numpy as np\n",
    "import seaborn as sns"
   ],
   "id": "fcd9e09a79faea7c",
   "outputs": [],
   "execution_count": 2
  },
  {
   "cell_type": "code",
   "id": "dc4bfa8c-b51e-4db7-a6c6-48e284f06081",
   "metadata": {
    "ExecuteTime": {
     "end_time": "2024-06-06T22:18:16.750725Z",
     "start_time": "2024-06-06T22:18:16.747853Z"
    }
   },
   "source": [
    "\n",
    "macaw_path = Path(os.getcwd())\n",
    "sys.path.append(str(macaw_path) +'/')\n",
    "\n",
    "exp_name = 'far_bias'\n",
    "\n",
    "train_csv_path = macaw_path/'splits'/'train.csv'\n",
    "train_img_path = macaw_path/'no_bias'/'train'\n",
    "\n",
    "val_csv_path = macaw_path/'splits'/'val.csv'\n",
    "val_img_path = macaw_path/exp_name/'val'\n",
    "\n",
    "pca_path = macaw_path/exp_name/f'train_hc_pca_{ncomps}.pkl'\n",
    "\n",
    "train_path = macaw_path/exp_name/f'train_hc_data_PCA_{ncomps}.pkl'\n",
    "val_path = macaw_path/exp_name/f'val_hc_data_PCA_{ncomps}.pkl'\n",
    "model_base_path = macaw_path/'models'/exp_name/f'{dr_method}_{ncomps}'/f'{nevecs}'\n",
    "\n",
    "if not os.path.exists(model_base_path):\n",
    "    os.makedirs(model_base_path)"
   ],
   "outputs": [],
   "execution_count": 3
  },
  {
   "cell_type": "code",
   "id": "5a5449c7-9cf7-45db-9535-4c0eb6ce6da9",
   "metadata": {
    "ExecuteTime": {
     "end_time": "2024-06-06T22:18:16.869473Z",
     "start_time": "2024-06-06T22:18:16.751339Z"
    }
   },
   "source": [
    "import pickle\n",
    "\n",
    "with open(train_path, 'rb') as f:\n",
    "    train = pickle.load(f)\n",
    "    \n",
    "disease_t = train['disease']\n",
    "bias_t = train['bias']\n",
    "\n",
    "encoded_t = train['encoded_data']\n",
    "pca_t = train['pca']"
   ],
   "outputs": [],
   "execution_count": 4
  },
  {
   "metadata": {
    "ExecuteTime": {
     "end_time": "2024-06-06T22:18:16.923607Z",
     "start_time": "2024-06-06T22:18:16.870537Z"
    }
   },
   "cell_type": "code",
   "source": [
    "with open(val_path, 'rb') as f:\n",
    "    val = pickle.load(f)\n",
    "    \n",
    "disease_v = val['disease']\n",
    "bias_v = val['bias']\n",
    "\n",
    "encoded_v = val['encoded_data']\n",
    "pca_v = val['pca']"
   ],
   "id": "7e0e3588590e626c",
   "outputs": [],
   "execution_count": 5
  },
  {
   "metadata": {
    "ExecuteTime": {
     "end_time": "2024-06-06T22:18:16.928071Z",
     "start_time": "2024-06-06T22:18:16.924310Z"
    }
   },
   "cell_type": "code",
   "source": "encoded_t.shape",
   "id": "8541fe03a78b9024",
   "outputs": [
    {
     "data": {
      "text/plain": [
       "(1005, 500)"
      ]
     },
     "execution_count": 6,
     "metadata": {},
     "output_type": "execute_result"
    }
   ],
   "execution_count": 6
  },
  {
   "metadata": {
    "ExecuteTime": {
     "end_time": "2024-06-06T22:18:16.930767Z",
     "start_time": "2024-06-06T22:18:16.928582Z"
    }
   },
   "cell_type": "code",
   "source": "encoded_v.shape",
   "id": "480a1449e0e91446",
   "outputs": [
    {
     "data": {
      "text/plain": [
       "(1005, 500)"
      ]
     },
     "execution_count": 7,
     "metadata": {},
     "output_type": "execute_result"
    }
   ],
   "execution_count": 7
  },
  {
   "cell_type": "code",
   "id": "d913b8ea-75cf-4ab0-820c-9eb460a83870",
   "metadata": {
    "ExecuteTime": {
     "end_time": "2024-06-06T22:18:16.933339Z",
     "start_time": "2024-06-06T22:18:16.931291Z"
    }
   },
   "source": "bias_t.sum()",
   "outputs": [
    {
     "data": {
      "text/plain": [
       "505"
      ]
     },
     "execution_count": 8,
     "metadata": {},
     "output_type": "execute_result"
    }
   ],
   "execution_count": 8
  },
  {
   "metadata": {
    "ExecuteTime": {
     "end_time": "2024-06-06T22:18:16.936976Z",
     "start_time": "2024-06-06T22:18:16.933808Z"
    }
   },
   "cell_type": "code",
   "source": "bias_v.sum()",
   "id": "27cf076eaabd4f99",
   "outputs": [
    {
     "data": {
      "text/plain": [
       "505"
      ]
     },
     "execution_count": 9,
     "metadata": {},
     "output_type": "execute_result"
    }
   ],
   "execution_count": 9
  },
  {
   "metadata": {
    "ExecuteTime": {
     "end_time": "2024-06-06T22:18:16.939503Z",
     "start_time": "2024-06-06T22:18:16.937545Z"
    }
   },
   "cell_type": "code",
   "source": "disease_t.sum()",
   "id": "10881b350992ae4d",
   "outputs": [
    {
     "data": {
      "text/plain": [
       "500"
      ]
     },
     "execution_count": 10,
     "metadata": {},
     "output_type": "execute_result"
    }
   ],
   "execution_count": 10
  },
  {
   "metadata": {
    "ExecuteTime": {
     "end_time": "2024-06-06T22:18:16.942950Z",
     "start_time": "2024-06-06T22:18:16.940758Z"
    }
   },
   "cell_type": "code",
   "source": "disease_v.sum()",
   "id": "7ef8bfd674404f82",
   "outputs": [
    {
     "data": {
      "text/plain": [
       "500"
      ]
     },
     "execution_count": 11,
     "metadata": {},
     "output_type": "execute_result"
    }
   ],
   "execution_count": 11
  },
  {
   "cell_type": "markdown",
   "id": "e33defe2-6af3-468d-bd9e-3f830c804527",
   "metadata": {},
   "source": [
    "## Causal Graph"
   ]
  },
  {
   "cell_type": "code",
   "id": "6daf4154-f20b-4cad-86eb-7bf0de118187",
   "metadata": {
    "ExecuteTime": {
     "end_time": "2024-06-06T22:18:16.945611Z",
     "start_time": "2024-06-06T22:18:16.943358Z"
    }
   },
   "source": [
    "disease_to_latents = [(0,i) for i in range(ncauses,nevecs+ncauses)]\n",
    "\n",
    "bias_to_latents = [(1,i) for i in range(ncauses,nevecs+ncauses)]\n",
    "\n",
    "autoregressive_latents = [(i,j) for i in range(ncauses,nevecs+ncauses) for j in range(i+1,nevecs+ncauses)]\n",
    "# autoregressive_latents = [(i,j) for i in range(ncauses,2*ncauses) for j in range(i+1,nevecs+ncauses)]\n",
    "# autoregressive_latents = []\n",
    "edges = disease_to_latents + bias_to_latents + autoregressive_latents"
   ],
   "outputs": [],
   "execution_count": 12
  },
  {
   "cell_type": "markdown",
   "id": "2aa28e2b-0e9f-4b35-88d9-20ffb827b630",
   "metadata": {},
   "source": [
    "## Priors"
   ]
  },
  {
   "cell_type": "code",
   "id": "e84c3590-a881-43a5-800a-80a19f47fe89",
   "metadata": {
    "ExecuteTime": {
     "end_time": "2024-06-06T22:18:16.948076Z",
     "start_time": "2024-06-06T22:18:16.946156Z"
    }
   },
   "source": [
    "P_bias = np.sum(bias_t)/len(bias_t)\n",
    "print(P_bias)\n",
    "\n",
    "P_dis = np.sum(disease_t)/len(disease_t)\n",
    "print(P_dis)"
   ],
   "outputs": [
    {
     "name": "stdout",
     "output_type": "stream",
     "text": [
      "0.5024875621890548\n",
      "0.4975124378109453\n"
     ]
    }
   ],
   "execution_count": 13
  },
  {
   "metadata": {
    "ExecuteTime": {
     "end_time": "2024-06-06T22:18:16.970655Z",
     "start_time": "2024-06-06T22:18:16.948645Z"
    }
   },
   "cell_type": "code",
   "source": [
    "import torch\n",
    "import yaml\n",
    "from utils.helpers import dict2namespace\n",
    "\n",
    "with open(macaw_path/'config'/'ukbb.yaml', 'r') as f:\n",
    "    config_raw = yaml.load(f, Loader=yaml.FullLoader)\n",
    "    \n",
    "config = dict2namespace(config_raw)\n",
    "config.device = torch.device('cuda') if torch.cuda.is_available() else torch.device('cpu')"
   ],
   "id": "700b254703b316a0",
   "outputs": [],
   "execution_count": 14
  },
  {
   "metadata": {
    "ExecuteTime": {
     "end_time": "2024-06-06T22:18:16.973532Z",
     "start_time": "2024-06-06T22:18:16.971289Z"
    }
   },
   "cell_type": "code",
   "source": "config.device",
   "id": "86c08c0619624c25",
   "outputs": [
    {
     "data": {
      "text/plain": [
       "device(type='cuda')"
      ]
     },
     "execution_count": 15,
     "metadata": {},
     "output_type": "execute_result"
    }
   ],
   "execution_count": 15
  },
  {
   "cell_type": "code",
   "id": "e9e4cdea-a3ed-4b41-9c93-59a4b048e7e4",
   "metadata": {
    "ExecuteTime": {
     "end_time": "2024-06-06T22:18:17.054816Z",
     "start_time": "2024-06-06T22:18:16.973986Z"
    }
   },
   "source": [
    "import torch.distributions as td\n",
    "\n",
    "priors = [(slice(0,1),td.Bernoulli(torch.tensor([P_dis]).to(torch.device(config.device)))), # disease\n",
    "          (slice(1,2),td.Bernoulli(torch.tensor([P_bias]).to(torch.device(config.device)))), # bias\n",
    "          (slice(2,nbasecomps+2),td.Normal(torch.zeros(nbasecomps).to(config.device), torch.ones(nbasecomps).to(config.device))), # base_comps\n",
    "          (slice(nbasecomps+2,nevecs+2),td.Normal(torch.zeros(nevecs-nbasecomps).to(config.device), torch.ones(nevecs-nbasecomps).to(config.device))), # new_comps\n",
    "         ]"
   ],
   "outputs": [],
   "execution_count": 16
  },
  {
   "metadata": {
    "ExecuteTime": {
     "end_time": "2024-06-06T22:18:17.057129Z",
     "start_time": "2024-06-06T22:18:17.055460Z"
    }
   },
   "cell_type": "code",
   "source": [
    "import torch.distributions as td\n",
    "# \n",
    "# priors = [(slice(0,1),td.Bernoulli(torch.tensor([P_dis]).to(torch.device(config.device)))), # disease\n",
    "#           (slice(1,2),td.Bernoulli(torch.tensor([P_bias]).to(torch.device(torch.device(config.device))))), # bias\n",
    "#           (slice(2,nbasecomps+2),td.Normal(torch.zeros(nbasecomps).to(torch.device(config.device)), torch.ones(nbasecomps).to(torch.device(config.device)))), # base_comps\n",
    "#           (slice(nbasecomps+2,nevecs+2),td.Normal(torch.zeros(nevecs-nbasecomps).to(torch.device(config.device)), torch.ones(nevecs-nbasecomps).to(torch.device(config.device)))), # new_comps\n",
    "#          ]"
   ],
   "id": "b7cd3b9f4dba160a",
   "outputs": [],
   "execution_count": 17
  },
  {
   "cell_type": "code",
   "id": "63391695-0396-45ac-ad67-9e62e7340c3e",
   "metadata": {
    "ExecuteTime": {
     "end_time": "2024-06-06T22:18:18.050373Z",
     "start_time": "2024-06-06T22:18:17.057534Z"
    }
   },
   "source": [
    "from torch.utils.tensorboard import SummaryWriter\n",
    "from torchvision import datasets, transforms\n",
    "\n",
    "# Writer will output to ./runs/ directory by default\n",
    "writer = SummaryWriter()"
   ],
   "outputs": [
    {
     "name": "stderr",
     "output_type": "stream",
     "text": [
      "2024-06-06 16:18:17.229335: I tensorflow/core/util/port.cc:110] oneDNN custom operations are on. You may see slightly different numerical results due to floating-point round-off errors from different computation orders. To turn them off, set the environment variable `TF_ENABLE_ONEDNN_OPTS=0`.\n",
      "2024-06-06 16:18:17.230553: I tensorflow/tsl/cuda/cudart_stub.cc:28] Could not find cuda drivers on your machine, GPU will not be used.\n",
      "2024-06-06 16:18:17.255974: I tensorflow/core/platform/cpu_feature_guard.cc:182] This TensorFlow binary is optimized to use available CPU instructions in performance-critical operations.\n",
      "To enable the following instructions: AVX2 AVX512F AVX512_VNNI FMA, in other operations, rebuild TensorFlow with the appropriate compiler flags.\n",
      "2024-06-06 16:18:17.783838: W tensorflow/compiler/tf2tensorrt/utils/py_utils.cc:38] TF-TRT Warning: Could not find TensorRT\n"
     ]
    }
   ],
   "execution_count": 18
  },
  {
   "metadata": {
    "ExecuteTime": {
     "end_time": "2024-06-06T22:18:18.052682Z",
     "start_time": "2024-06-06T22:18:18.050989Z"
    }
   },
   "cell_type": "code",
   "source": "loss_vals = []",
   "id": "f285ab184989a6f",
   "outputs": [],
   "execution_count": 19
  },
  {
   "metadata": {
    "ExecuteTime": {
     "end_time": "2024-06-06T22:18:37.395985Z",
     "start_time": "2024-06-06T22:18:18.053280Z"
    }
   },
   "cell_type": "code",
   "source": [
    "from macaw import MACAW\n",
    "\n",
    "e=0\n",
    "\n",
    "save_path = model_base_path/f'0.pt'    \n",
    "ed_t = encoded_t[:,e:e+nevecs]\n",
    "ed_v = encoded_v[:,e:e+nevecs]\n",
    "print(e,e+nevecs)\n",
    "\n",
    "# if os.path.exists(save_path): \n",
    "\n",
    "X = np.hstack([disease_t[:,np.newaxis], bias_t[:,np.newaxis], ed_t])   \n",
    "Y = np.hstack([disease_v[:,np.newaxis], bias_v[:,np.newaxis], ed_v])   \n",
    "\n",
    "# config.training.num_epochs = 20\n",
    "# config.optim.learning_rate = 0.001\n",
    "\n",
    "macaw = MACAW.MACAW(config)\n",
    "loss_vals.append(macaw.fit_with_priors(X, Y, edges, priors))\n",
    "\n",
    "torch.save(macaw,save_path)"
   ],
   "id": "51d226739a35255c",
   "outputs": [
    {
     "name": "stdout",
     "output_type": "stream",
     "text": [
      "0 50\n"
     ]
    },
    {
     "data": {
      "text/plain": [
       "  0%|          | 0/200 [00:00<?, ?it/s]"
      ],
      "application/vnd.jupyter.widget-view+json": {
       "version_major": 2,
       "version_minor": 0,
       "model_id": "35b289efae08425c8609a7d264cdedcb"
      }
     },
     "metadata": {},
     "output_type": "display_data"
    },
    {
     "name": "stdout",
     "output_type": "stream",
     "text": [
      "Early stopping at epoch 154\n"
     ]
    }
   ],
   "execution_count": 20
  },
  {
   "cell_type": "code",
   "id": "d7f8b8f4-7da3-4a47-a923-b7840808a8a5",
   "metadata": {
    "ExecuteTime": {
     "end_time": "2024-06-06T22:20:16.882523Z",
     "start_time": "2024-06-06T22:18:37.398148Z"
    }
   },
   "source": [
    "for e in range(nevecs,ncomps-nbasecomps-1,nevecs-nbasecomps):\n",
    "    save_path = model_base_path/f'{e}.pt'    \n",
    "    ed_t = encoded_t[:,e:e+nevecs]\n",
    "    ed_v = encoded_v[:,e:e+nevecs]\n",
    "    print(e,e+nevecs)\n",
    "\n",
    "    # if os.path.exists(save_path): \n",
    "\n",
    "    X = np.hstack([disease_t[:,np.newaxis], bias_t[:,np.newaxis], ed_t])   \n",
    "    Y = np.hstack([disease_v[:,np.newaxis], bias_v[:,np.newaxis], ed_v])   \n",
    "\n",
    "    macaw = MACAW.MACAW(config)\n",
    "    loss_vals.append(macaw.fit_with_priors(X, Y, edges, priors))\n",
    "\n",
    "    torch.save(macaw,save_path)"
   ],
   "outputs": [
    {
     "name": "stdout",
     "output_type": "stream",
     "text": [
      "50 100\n"
     ]
    },
    {
     "data": {
      "text/plain": [
       "  0%|          | 0/200 [00:00<?, ?it/s]"
      ],
      "application/vnd.jupyter.widget-view+json": {
       "version_major": 2,
       "version_minor": 0,
       "model_id": "0ee7056860134219929a114bfc313be2"
      }
     },
     "metadata": {},
     "output_type": "display_data"
    },
    {
     "name": "stdout",
     "output_type": "stream",
     "text": [
      "Early stopping at epoch 83\n",
      "75 125\n"
     ]
    },
    {
     "data": {
      "text/plain": [
       "  0%|          | 0/200 [00:00<?, ?it/s]"
      ],
      "application/vnd.jupyter.widget-view+json": {
       "version_major": 2,
       "version_minor": 0,
       "model_id": "fe989382245c4c3fa7b5ac42eda67274"
      }
     },
     "metadata": {},
     "output_type": "display_data"
    },
    {
     "name": "stdout",
     "output_type": "stream",
     "text": [
      "Early stopping at epoch 50\n",
      "100 150\n"
     ]
    },
    {
     "data": {
      "text/plain": [
       "  0%|          | 0/200 [00:00<?, ?it/s]"
      ],
      "application/vnd.jupyter.widget-view+json": {
       "version_major": 2,
       "version_minor": 0,
       "model_id": "163c3573c1324a51bf21c66aec2c659e"
      }
     },
     "metadata": {},
     "output_type": "display_data"
    },
    {
     "name": "stdout",
     "output_type": "stream",
     "text": [
      "Early stopping at epoch 61\n",
      "125 175\n"
     ]
    },
    {
     "data": {
      "text/plain": [
       "  0%|          | 0/200 [00:00<?, ?it/s]"
      ],
      "application/vnd.jupyter.widget-view+json": {
       "version_major": 2,
       "version_minor": 0,
       "model_id": "657ce0d1c8e5451faa8353c2691d120f"
      }
     },
     "metadata": {},
     "output_type": "display_data"
    },
    {
     "name": "stdout",
     "output_type": "stream",
     "text": [
      "Early stopping at epoch 45\n",
      "150 200\n"
     ]
    },
    {
     "data": {
      "text/plain": [
       "  0%|          | 0/200 [00:00<?, ?it/s]"
      ],
      "application/vnd.jupyter.widget-view+json": {
       "version_major": 2,
       "version_minor": 0,
       "model_id": "6993c7cc092f4479b9290c93ad5f847e"
      }
     },
     "metadata": {},
     "output_type": "display_data"
    },
    {
     "name": "stdout",
     "output_type": "stream",
     "text": [
      "Early stopping at epoch 74\n",
      "175 225\n"
     ]
    },
    {
     "data": {
      "text/plain": [
       "  0%|          | 0/200 [00:00<?, ?it/s]"
      ],
      "application/vnd.jupyter.widget-view+json": {
       "version_major": 2,
       "version_minor": 0,
       "model_id": "ec51c3ef6eb7462bb74e428f85a8760d"
      }
     },
     "metadata": {},
     "output_type": "display_data"
    },
    {
     "name": "stdout",
     "output_type": "stream",
     "text": [
      "Early stopping at epoch 43\n",
      "200 250\n"
     ]
    },
    {
     "data": {
      "text/plain": [
       "  0%|          | 0/200 [00:00<?, ?it/s]"
      ],
      "application/vnd.jupyter.widget-view+json": {
       "version_major": 2,
       "version_minor": 0,
       "model_id": "054cc3589610400693e01b42935a0a3b"
      }
     },
     "metadata": {},
     "output_type": "display_data"
    },
    {
     "name": "stdout",
     "output_type": "stream",
     "text": [
      "Early stopping at epoch 41\n",
      "225 275\n"
     ]
    },
    {
     "data": {
      "text/plain": [
       "  0%|          | 0/200 [00:00<?, ?it/s]"
      ],
      "application/vnd.jupyter.widget-view+json": {
       "version_major": 2,
       "version_minor": 0,
       "model_id": "5adf5b8a634647e4b7ba7d1f5dde9927"
      }
     },
     "metadata": {},
     "output_type": "display_data"
    },
    {
     "name": "stdout",
     "output_type": "stream",
     "text": [
      "Early stopping at epoch 46\n",
      "250 300\n"
     ]
    },
    {
     "data": {
      "text/plain": [
       "  0%|          | 0/200 [00:00<?, ?it/s]"
      ],
      "application/vnd.jupyter.widget-view+json": {
       "version_major": 2,
       "version_minor": 0,
       "model_id": "63573733d6a94b6598defc36420e3aa3"
      }
     },
     "metadata": {},
     "output_type": "display_data"
    },
    {
     "name": "stdout",
     "output_type": "stream",
     "text": [
      "Early stopping at epoch 62\n",
      "275 325\n"
     ]
    },
    {
     "data": {
      "text/plain": [
       "  0%|          | 0/200 [00:00<?, ?it/s]"
      ],
      "application/vnd.jupyter.widget-view+json": {
       "version_major": 2,
       "version_minor": 0,
       "model_id": "85002c76dc77403dba72a8e8a357926a"
      }
     },
     "metadata": {},
     "output_type": "display_data"
    },
    {
     "name": "stdout",
     "output_type": "stream",
     "text": [
      "Early stopping at epoch 45\n",
      "300 350\n"
     ]
    },
    {
     "data": {
      "text/plain": [
       "  0%|          | 0/200 [00:00<?, ?it/s]"
      ],
      "application/vnd.jupyter.widget-view+json": {
       "version_major": 2,
       "version_minor": 0,
       "model_id": "41afc6589a50484b888032a4bf6abb0b"
      }
     },
     "metadata": {},
     "output_type": "display_data"
    },
    {
     "name": "stdout",
     "output_type": "stream",
     "text": [
      "Early stopping at epoch 48\n",
      "325 375\n"
     ]
    },
    {
     "data": {
      "text/plain": [
       "  0%|          | 0/200 [00:00<?, ?it/s]"
      ],
      "application/vnd.jupyter.widget-view+json": {
       "version_major": 2,
       "version_minor": 0,
       "model_id": "7f728573523c4738a32bf71ab11f331e"
      }
     },
     "metadata": {},
     "output_type": "display_data"
    },
    {
     "name": "stdout",
     "output_type": "stream",
     "text": [
      "Early stopping at epoch 55\n",
      "350 400\n"
     ]
    },
    {
     "data": {
      "text/plain": [
       "  0%|          | 0/200 [00:00<?, ?it/s]"
      ],
      "application/vnd.jupyter.widget-view+json": {
       "version_major": 2,
       "version_minor": 0,
       "model_id": "51c6dcd7f0104212933ab00b21a45dba"
      }
     },
     "metadata": {},
     "output_type": "display_data"
    },
    {
     "name": "stdout",
     "output_type": "stream",
     "text": [
      "Early stopping at epoch 50\n",
      "375 425\n"
     ]
    },
    {
     "data": {
      "text/plain": [
       "  0%|          | 0/200 [00:00<?, ?it/s]"
      ],
      "application/vnd.jupyter.widget-view+json": {
       "version_major": 2,
       "version_minor": 0,
       "model_id": "6b6358c179034e009d3a1494e91599d0"
      }
     },
     "metadata": {},
     "output_type": "display_data"
    },
    {
     "name": "stdout",
     "output_type": "stream",
     "text": [
      "Early stopping at epoch 48\n",
      "400 450\n"
     ]
    },
    {
     "data": {
      "text/plain": [
       "  0%|          | 0/200 [00:00<?, ?it/s]"
      ],
      "application/vnd.jupyter.widget-view+json": {
       "version_major": 2,
       "version_minor": 0,
       "model_id": "bf745e4004384e559b481b1332fd38fb"
      }
     },
     "metadata": {},
     "output_type": "display_data"
    },
    {
     "name": "stdout",
     "output_type": "stream",
     "text": [
      "Early stopping at epoch 52\n",
      "425 475\n"
     ]
    },
    {
     "data": {
      "text/plain": [
       "  0%|          | 0/200 [00:00<?, ?it/s]"
      ],
      "application/vnd.jupyter.widget-view+json": {
       "version_major": 2,
       "version_minor": 0,
       "model_id": "6d1d4b9cfaac407e8281d65098516eae"
      }
     },
     "metadata": {},
     "output_type": "display_data"
    },
    {
     "name": "stdout",
     "output_type": "stream",
     "text": [
      "Early stopping at epoch 53\n",
      "450 500\n"
     ]
    },
    {
     "data": {
      "text/plain": [
       "  0%|          | 0/200 [00:00<?, ?it/s]"
      ],
      "application/vnd.jupyter.widget-view+json": {
       "version_major": 2,
       "version_minor": 0,
       "model_id": "ee7cb861caf046f88d91a7bb4e4727f4"
      }
     },
     "metadata": {},
     "output_type": "display_data"
    },
    {
     "name": "stdout",
     "output_type": "stream",
     "text": [
      "Early stopping at epoch 56\n"
     ]
    }
   ],
   "execution_count": 21
  },
  {
   "metadata": {
    "ExecuteTime": {
     "end_time": "2024-06-06T22:20:16.885808Z",
     "start_time": "2024-06-06T22:20:16.883213Z"
    }
   },
   "cell_type": "code",
   "source": "len(loss_vals)",
   "id": "a8df5daa19131318",
   "outputs": [
    {
     "data": {
      "text/plain": [
       "18"
      ]
     },
     "execution_count": 22,
     "metadata": {},
     "output_type": "execute_result"
    }
   ],
   "execution_count": 22
  },
  {
   "metadata": {
    "ExecuteTime": {
     "end_time": "2024-06-06T22:20:16.888803Z",
     "start_time": "2024-06-06T22:20:16.886320Z"
    }
   },
   "cell_type": "code",
   "source": "len(loss_vals[0][0])",
   "id": "b4319e0bec7c6e3d",
   "outputs": [
    {
     "data": {
      "text/plain": [
       "154"
      ]
     },
     "execution_count": 23,
     "metadata": {},
     "output_type": "execute_result"
    }
   ],
   "execution_count": 23
  },
  {
   "metadata": {
    "ExecuteTime": {
     "end_time": "2024-06-06T22:20:18.557725Z",
     "start_time": "2024-06-06T22:20:16.889318Z"
    }
   },
   "cell_type": "code",
   "source": [
    "# Set up a grid with 3 rows and 4 columns\n",
    "fig, axs = plt.subplots(5, 4, figsize=(15, 10))\n",
    "\n",
    "# Flatten the axes array for easy iteration\n",
    "axs = axs.flatten()\n",
    "\n",
    "# Plot each loss value in the grid\n",
    "for i in range(len(loss_vals)):\n",
    "    axs[i].plot(np.array(loss_vals[i][0]), 'r+')\n",
    "    axs[i].plot(np.array(loss_vals[i][1]), 'b.')\n",
    "    axs[i].set_title(f'Plot {i+1}')\n",
    "\n",
    "# Hide any empty subplots\n",
    "for i in range(len(loss_vals), len(axs)):\n",
    "    fig.delaxes(axs[i])\n",
    "\n",
    "plt.tight_layout()\n",
    "plt.show()"
   ],
   "id": "b398086578c6b01a",
   "outputs": [
    {
     "data": {
      "text/plain": [
       "<Figure size 1500x1000 with 18 Axes>"
      ],
      "image/png": "[encoded data removed]"
     },
     "metadata": {},
     "output_type": "display_data"
    }
   ],
   "execution_count": 24
  },
  {
   "metadata": {
    "ExecuteTime": {
     "end_time": "2024-06-06T22:20:18.560265Z",
     "start_time": "2024-06-06T22:20:18.558442Z"
    }
   },
   "cell_type": "code",
   "source": [
    "# for i in range(len(loss_vals)):\n",
    "#     plt.figure(i)  # Create a new figure for each plot\n",
    "#     plt.plot(np.array(loss_vals[i][0]), 'r+')\n",
    "#     plt.plot(np.array(loss_vals[i][1]), 'b.')\n",
    "#     plt.show()  # Display the plot"
   ],
   "id": "a6b91ebf4e3a2e6f",
   "outputs": [],
   "execution_count": 25
  },
  {
   "cell_type": "code",
   "id": "8e05c561-30a9-4328-be20-06302dc7425c",
   "metadata": {
    "ExecuteTime": {
     "end_time": "2024-06-06T22:20:18.563237Z",
     "start_time": "2024-06-06T22:20:18.560802Z"
    }
   },
   "source": [
    "model_path = model_base_path/'hyperparameters.pkl'\n",
    "\n",
    "with open(model_path, 'wb') as f:\n",
    "    pickle.dump({'ncomps':ncomps, 'nevecs':nevecs,'nbasecomps':nbasecomps, 'ncauses':ncauses, 'crop_size':crop_size}, f)"
   ],
   "outputs": [],
   "execution_count": 26
  },
  {
   "metadata": {
    "ExecuteTime": {
     "end_time": "2024-06-06T22:20:18.567324Z",
     "start_time": "2024-06-06T22:20:18.563743Z"
    }
   },
   "cell_type": "code",
   "source": "loss_vals[0][1]",
   "id": "ffd9b08a4d664a7d",
   "outputs": [
    {
     "data": {
      "text/plain": [
       "[4913.278747558594,\n",
       " 3792.933883666992,\n",
       " 3388.781707763672,\n",
       " 3106.0249938964844,\n",
       " 2863.4142303466797,\n",
       " 2653.577163696289,\n",
       " 2460.721405029297,\n",
       " 2273.253273010254,\n",
       " 2078.6636657714844,\n",
       " 1871.9625930786133,\n",
       " 1687.009292602539,\n",
       " 1551.7465515136719,\n",
       " 1461.164436340332,\n",
       " 1394.3456497192383,\n",
       " 1315.4211502075195,\n",
       " 1249.0037841796875,\n",
       " 1173.057861328125,\n",
       " 1086.629768371582,\n",
       " 967.2553863525391,\n",
       " 885.1479454040527,\n",
       " 778.4392757415771,\n",
       " 756.6917915344238,\n",
       " 617.6834926605225,\n",
       " 525.9290904998779,\n",
       " 381.8319010734558,\n",
       " 282.4028973579407,\n",
       " 191.43657970428467,\n",
       " 117.63455629348755,\n",
       " -47.299341440200806,\n",
       " -132.0866150856018,\n",
       " -221.99874830245972,\n",
       " -325.9888560771942,\n",
       " -414.3675923347473,\n",
       " -477.26797342300415,\n",
       " -645.6582069396973,\n",
       " -630.5265560150146,\n",
       " -747.832371711731,\n",
       " -936.8302803039551,\n",
       " -1058.4746932983398,\n",
       " -1103.3542594909668,\n",
       " -1206.902198791504,\n",
       " -1265.8147163391113,\n",
       " -1142.734619140625,\n",
       " -1301.6048316955566,\n",
       " -1378.507698059082,\n",
       " -1383.5245933532715,\n",
       " -1507.2718238830566,\n",
       " -1717.462028503418,\n",
       " -1638.1553039550781,\n",
       " -1656.353271484375,\n",
       " -1854.2604064941406,\n",
       " -1798.2897567749023,\n",
       " -1897.6240158081055,\n",
       " -2066.8330459594727,\n",
       " -2019.4252395629883,\n",
       " -2135.7146759033203,\n",
       " -2040.1959762573242,\n",
       " -2168.643928527832,\n",
       " -2136.650947570801,\n",
       " -2235.815986633301,\n",
       " -2237.7972259521484,\n",
       " -2299.769157409668,\n",
       " -2330.129364013672,\n",
       " -2285.775062561035,\n",
       " -2420.493522644043,\n",
       " -2495.2671127319336,\n",
       " -2580.044502258301,\n",
       " -2540.4729537963867,\n",
       " -2577.499069213867,\n",
       " -2544.9030685424805,\n",
       " -2779.86083984375,\n",
       " -2844.9760971069336,\n",
       " -2802.270980834961,\n",
       " -2877.353744506836,\n",
       " -2888.985336303711,\n",
       " -3023.056709289551,\n",
       " -2733.748825073242,\n",
       " -2947.839553833008,\n",
       " -2863.7441482543945,\n",
       " -2941.7171478271484,\n",
       " -2869.8676147460938,\n",
       " -2968.7322540283203,\n",
       " -3059.3497619628906,\n",
       " -3126.3998413085938,\n",
       " -3237.451202392578,\n",
       " -3207.230697631836,\n",
       " -3159.8019104003906,\n",
       " -2956.478988647461,\n",
       " -3070.9938201904297,\n",
       " -3166.349868774414,\n",
       " -3794.1217041015625,\n",
       " -3956.2832641601562,\n",
       " -4042.132049560547,\n",
       " -4096.080017089844,\n",
       " -4123.732025146484,\n",
       " -4149.693420410156,\n",
       " -4168.017181396484,\n",
       " -4184.784362792969,\n",
       " -4202.19075012207,\n",
       " -4220.045013427734,\n",
       " -4236.454132080078,\n",
       " -4251.092483520508,\n",
       " -4264.439376831055,\n",
       " -4277.382751464844,\n",
       " -4289.289276123047,\n",
       " -4301.434661865234,\n",
       " -4312.448822021484,\n",
       " -4323.015594482422,\n",
       " -4333.583099365234,\n",
       " -4344.48664855957,\n",
       " -4354.157730102539,\n",
       " -4364.295455932617,\n",
       " -4374.021743774414,\n",
       " -4383.694732666016,\n",
       " -4393.196807861328,\n",
       " -4401.800048828125,\n",
       " -4410.72673034668,\n",
       " -4420.011703491211,\n",
       " -4427.776916503906,\n",
       " -4436.346939086914,\n",
       " -4444.716461181641,\n",
       " -4452.006896972656,\n",
       " -4460.118881225586,\n",
       " -4469.184661865234,\n",
       " -4476.074935913086,\n",
       " -4480.010559082031,\n",
       " -4486.890655517578,\n",
       " -4498.847396850586,\n",
       " -4512.96076965332,\n",
       " -4514.127029418945,\n",
       " -4491.357116699219,\n",
       " -4500.937026977539,\n",
       " -4533.031631469727,\n",
       " -4553.606552124023,\n",
       " -4557.929748535156,\n",
       " -4446.810241699219,\n",
       " -4526.86572265625,\n",
       " -4528.446426391602,\n",
       " -4544.877410888672,\n",
       " -4663.292175292969,\n",
       " -4693.666580200195,\n",
       " -4703.498626708984,\n",
       " -4709.015899658203,\n",
       " -4714.100845336914,\n",
       " -4717.729736328125,\n",
       " -4721.4102783203125,\n",
       " -4724.758682250977,\n",
       " -4727.788528442383,\n",
       " -4730.62028503418,\n",
       " -4733.272262573242,\n",
       " -4735.803863525391,\n",
       " -4738.170883178711,\n",
       " -4740.468276977539,\n",
       " -4742.628723144531]"
      ]
     },
     "execution_count": 27,
     "metadata": {},
     "output_type": "execute_result"
    }
   ],
   "execution_count": 27
  },
  {
   "metadata": {
    "ExecuteTime": {
     "end_time": "2024-06-06T22:20:18.569328Z",
     "start_time": "2024-06-06T22:20:18.567863Z"
    }
   },
   "cell_type": "code",
   "source": "",
   "id": "6e42e0ae2f53ab12",
   "outputs": [],
   "execution_count": 27
  }
 ],
 "metadata": {
  "kernelspec": {
   "display_name": "Python 3",
   "language": "python",
   "name": "python3"
  },
  "language_info": {
   "codemirror_mode": {
    "name": "ipython",
    "version": 3
   },
   "file_extension": ".py",
   "mimetype": "text/x-python",
   "name": "python",
   "nbconvert_exporter": "python",
   "pygments_lexer": "ipython3",
   "version": "3.8.13"
  }
 },
 "nbformat": 4,
 "nbformat_minor": 5
}
