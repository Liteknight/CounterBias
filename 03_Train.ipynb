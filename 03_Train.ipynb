{
 "cells": [
  {
   "cell_type": "code",
   "id": "ac8ed1c3-9496-49a4-865c-56314f141a9c",
   "metadata": {
    "ExecuteTime": {
     "end_time": "2024-05-22T20:56:30.985676Z",
     "start_time": "2024-05-22T20:56:30.984080Z"
    }
   },
   "source": [
    "nevecs = 60\n",
    "ncomps = 500\n",
    "nbasecomps = 20\n",
    "crop_size=180\n",
    "ncauses = 2\n",
    "dr_method = 'KPCA'"
   ],
   "outputs": [],
   "execution_count": 1
  },
  {
   "metadata": {
    "ExecuteTime": {
     "end_time": "2024-05-22T20:56:31.360267Z",
     "start_time": "2024-05-22T20:56:31.358401Z"
    }
   },
   "cell_type": "code",
   "source": [
    "from pathlib import Path\n",
    "import os, sys"
   ],
   "id": "fcd9e09a79faea7c",
   "outputs": [],
   "execution_count": 2
  },
  {
   "cell_type": "code",
   "id": "dc4bfa8c-b51e-4db7-a6c6-48e284f06081",
   "metadata": {
    "ExecuteTime": {
     "end_time": "2024-05-22T20:58:26.299978Z",
     "start_time": "2024-05-22T20:58:26.296889Z"
    }
   },
   "source": [
    "\n",
    "macaw_path = Path(os.getcwd())\n",
    "sys.path.append(str(macaw_path) +'/')\n",
    "\n",
    "exp_name = 'no_bias'\n",
    "\n",
    "train_csv_path = macaw_path/'splits'/'train.csv'\n",
    "train_img_path = macaw_path/'no_bias'/'train'\n",
    "\n",
    "# test_csv_path = macaw_path/'data'/'ukbb'/'test_hc.csv'\n",
    "# test_img_path = macaw_path/'data'/'ukbb'/'axial'/'test_hc'\n",
    "# \n",
    "kpca_path = macaw_path/exp_name/f'train_hc_kpca_{ncomps}.pkl'\n",
    "# \n",
    "train_path = macaw_path/exp_name/f'train_hc_data_KPCA_{ncomps}.pkl'\n",
    "# test_path = macaw_path/'data'/'ukbb'/'axial'/f'test_hc_data_KPCA_{ncomps}.pkl'\n",
    "model_base_path = macaw_path/'models'/exp_name/f'{dr_method}_{ncomps}'/f'{nevecs}'\n",
    "\n",
    "if not os.path.exists(model_base_path):\n",
    "    os.makedirs(model_base_path)"
   ],
   "outputs": [],
   "execution_count": 16
  },
  {
   "cell_type": "code",
   "id": "5a5449c7-9cf7-45db-9535-4c0eb6ce6da9",
   "metadata": {
    "ExecuteTime": {
     "end_time": "2024-05-22T20:57:33.658058Z",
     "start_time": "2024-05-22T20:57:33.435936Z"
    }
   },
   "source": [
    "import pickle\n",
    "\n",
    "with open(train_path, 'rb') as f:\n",
    "    train = pickle.load(f)\n",
    "    \n",
    "disease = train['disease']\n",
    "bias = train['bias']\n",
    "\n",
    "encoded_data = train['encoded_data']\n",
    "kpca = train['kpca']"
   ],
   "outputs": [],
   "execution_count": 4
  },
  {
   "metadata": {
    "ExecuteTime": {
     "end_time": "2024-05-22T20:57:35.229391Z",
     "start_time": "2024-05-22T20:57:35.225807Z"
    }
   },
   "cell_type": "code",
   "source": "encoded_data.shape",
   "id": "8541fe03a78b9024",
   "outputs": [
    {
     "data": {
      "text/plain": [
       "(1005, 500)"
      ]
     },
     "execution_count": 5,
     "metadata": {},
     "output_type": "execute_result"
    }
   ],
   "execution_count": 5
  },
  {
   "cell_type": "code",
   "id": "00a80963-08f9-42d0-a786-304c80838e59",
   "metadata": {
    "ExecuteTime": {
     "end_time": "2024-05-22T20:57:38.286790Z",
     "start_time": "2024-05-22T20:57:37.087432Z"
    }
   },
   "source": [
    "import torchvision.transforms.functional as F\n",
    "import matplotlib.pyplot as plt\n",
    "import numpy as np\n",
    "\n",
    "def recons(age,bmi,latents, latent_offset=0):\n",
    "    age+=min_age\n",
    "    \n",
    "    latent_enc = np.zeros((latents.shape[0],ncomps))\n",
    "    latent_enc[:,latent_offset:latent_offset+latents.shape[1]] = latents    \n",
    "    imgs = kpca.inverse_transform(latent_enc)\n",
    "    return age,bmi,imgs"
   ],
   "outputs": [],
   "execution_count": 6
  },
  {
   "cell_type": "code",
   "id": "d913b8ea-75cf-4ab0-820c-9eb460a83870",
   "metadata": {
    "ExecuteTime": {
     "end_time": "2024-05-22T20:57:39.174938Z",
     "start_time": "2024-05-22T20:57:38.731497Z"
    }
   },
   "source": [
    "import seaborn as sns\n",
    "\n",
    "sb = 4\n",
    "fig, axs = plt.subplots(1,sb, figsize=(sb*5,5))\n",
    "\n",
    "sns.histplot(bias,ax=axs[0],fill=True)\n",
    "axs[0].set(title = \"bias\")\n",
    "sns.histplot(disease,ax=axs[1], fill=True)\n",
    "axs[1].set(title=\"disease\")\n",
    "# sns.histplot(encoded_data[0],ax=axs[3], fill=True)\n",
    "# axs[3].set(title=\"PCA0\")"
   ],
   "outputs": [
    {
     "data": {
      "text/plain": [
       "[Text(0.5, 1.0, 'disease')]"
      ]
     },
     "execution_count": 7,
     "metadata": {},
     "output_type": "execute_result"
    },
    {
     "data": {
      "text/plain": [
       "<Figure size 2000x500 with 4 Axes>"
      ],
      "image/png": "[encoded data removed]"
     },
     "metadata": {},
     "output_type": "display_data"
    }
   ],
   "execution_count": 7
  },
  {
   "cell_type": "code",
   "id": "f1aa2a96-05b7-49a7-b022-7995e99d4952",
   "metadata": {
    "ExecuteTime": {
     "end_time": "2024-05-22T20:57:40.604981Z",
     "start_time": "2024-05-22T20:57:40.603067Z"
    }
   },
   "source": [
    "# import utils.visualize as vis\n",
    "# \n",
    "# plt.rcParams['figure.figsize'] = (20,4)\n",
    "# nsamples = 5\n",
    "# \n",
    "# idx = np.random.randint(0,disease.shape[0],nsamples)\n",
    "# re = recons(disease[idx],bias[idx],encoded_data[idx])\n",
    "# \n",
    "# sex_t = ['Male' if round(s) else 'Female' for s in disease[idx]]\n",
    "# titles_sam = [f'Sex:{s}, Age:{a}, BMI:{np.round(b)}' for s,a,b in zip(sex_t, re[0],re[1])]\n",
    "# fig  = vis.img_grid([i.reshape(crop_size,crop_size).T for i in re[2]],cols=nsamples,titles=titles_sam)"
   ],
   "outputs": [],
   "execution_count": 8
  },
  {
   "cell_type": "markdown",
   "id": "e33defe2-6af3-468d-bd9e-3f830c804527",
   "metadata": {},
   "source": [
    "## Causal Graph"
   ]
  },
  {
   "cell_type": "code",
   "id": "6daf4154-f20b-4cad-86eb-7bf0de118187",
   "metadata": {
    "ExecuteTime": {
     "end_time": "2024-05-22T20:57:45.238443Z",
     "start_time": "2024-05-22T20:57:45.235625Z"
    }
   },
   "source": [
    "disease_to_latents = [(0,i) for i in range(ncauses,nevecs+ncauses)]\n",
    "\n",
    "bias_to_latents = [(1,i) for i in range(ncauses,nevecs+ncauses)]\n",
    "\n",
    "autoregressive_latents = [(i,j) for i in range(ncauses,nevecs+ncauses) for j in range(i+1,nevecs+ncauses)]\n",
    "# autoregressive_latents = [(i,j) for i in range(ncauses,2*ncauses) for j in range(i+1,nevecs+ncauses)]\n",
    "# autoregressive_latents = []\n",
    "edges = disease_to_latents + bias_to_latents + autoregressive_latents"
   ],
   "outputs": [],
   "execution_count": 9
  },
  {
   "cell_type": "markdown",
   "id": "2aa28e2b-0e9f-4b35-88d9-20ffb827b630",
   "metadata": {},
   "source": [
    "## Priors"
   ]
  },
  {
   "cell_type": "code",
   "id": "e84c3590-a881-43a5-800a-80a19f47fe89",
   "metadata": {
    "ExecuteTime": {
     "end_time": "2024-05-22T20:57:46.664407Z",
     "start_time": "2024-05-22T20:57:46.662273Z"
    }
   },
   "source": [
    "P_bias = np.sum(bias)/len(bias)\n",
    "print(P_bias)\n",
    "\n",
    "P_dis = np.sum(disease)/len(disease)\n",
    "print(P_dis)"
   ],
   "outputs": [
    {
     "name": "stdout",
     "output_type": "stream",
     "text": [
      "0.5024875621890548\n",
      "0.4975124378109453\n"
     ]
    }
   ],
   "execution_count": 10
  },
  {
   "metadata": {
    "ExecuteTime": {
     "end_time": "2024-05-22T20:57:47.371455Z",
     "start_time": "2024-05-22T20:57:47.365839Z"
    }
   },
   "cell_type": "code",
   "source": [
    "import torch\n",
    "import yaml\n",
    "from utils.helpers import dict2namespace\n",
    "\n",
    "with open(macaw_path/'config'/'ukbb.yaml', 'r') as f:\n",
    "    config_raw = yaml.load(f, Loader=yaml.FullLoader)\n",
    "    \n",
    "config = dict2namespace(config_raw)\n",
    "config.device = torch.device('cuda') if torch.cuda.is_available() else torch.device('cpu')"
   ],
   "id": "700b254703b316a0",
   "outputs": [],
   "execution_count": 11
  },
  {
   "cell_type": "code",
   "id": "e9e4cdea-a3ed-4b41-9c93-59a4b048e7e4",
   "metadata": {
    "ExecuteTime": {
     "end_time": "2024-05-22T20:57:49.897941Z",
     "start_time": "2024-05-22T20:57:49.894469Z"
    }
   },
   "source": [
    "import torch.distributions as td\n",
    "\n",
    "dev='cpu'\n",
    "\n",
    "priors = [(slice(0,1),td.Bernoulli(torch.tensor([P_bias]).to(torch.device(dev)))), # bias\n",
    "          (slice(1,2),td.Bernoulli(torch.tensor([P_dis]).to(torch.device(dev)))), # disease\n",
    "          (slice(nbasecomps+2,nevecs+2),td.Normal(torch.zeros(nevecs-nbasecomps).to(torch.device(dev)), torch.ones(nevecs-nbasecomps).to(torch.device(dev)))), # new_comps\n",
    "         ]"
   ],
   "outputs": [],
   "execution_count": 12
  },
  {
   "cell_type": "code",
   "id": "63391695-0396-45ac-ad67-9e62e7340c3e",
   "metadata": {
    "ExecuteTime": {
     "end_time": "2024-05-22T20:57:51.543233Z",
     "start_time": "2024-05-22T20:57:50.445275Z"
    }
   },
   "source": [
    "from torch.utils.tensorboard import SummaryWriter\n",
    "from torchvision import datasets, transforms\n",
    "\n",
    "# Writer will output to ./runs/ directory by default\n",
    "writer = SummaryWriter()"
   ],
   "outputs": [
    {
     "name": "stderr",
     "output_type": "stream",
     "text": [
      "2024-05-22 14:57:50.688549: I tensorflow/core/util/port.cc:110] oneDNN custom operations are on. You may see slightly different numerical results due to floating-point round-off errors from different computation orders. To turn them off, set the environment variable `TF_ENABLE_ONEDNN_OPTS=0`.\n",
      "2024-05-22 14:57:50.689661: I tensorflow/tsl/cuda/cudart_stub.cc:28] Could not find cuda drivers on your machine, GPU will not be used.\n",
      "2024-05-22 14:57:50.713596: I tensorflow/core/platform/cpu_feature_guard.cc:182] This TensorFlow binary is optimized to use available CPU instructions in performance-critical operations.\n",
      "To enable the following instructions: AVX2 AVX512F AVX512_VNNI FMA, in other operations, rebuild TensorFlow with the appropriate compiler flags.\n",
      "2024-05-22 14:57:51.238201: W tensorflow/compiler/tf2tensorrt/utils/py_utils.cc:38] TF-TRT Warning: Could not find TensorRT\n"
     ]
    }
   ],
   "execution_count": 13
  },
  {
   "metadata": {
    "ExecuteTime": {
     "end_time": "2024-05-22T20:57:52.293611Z",
     "start_time": "2024-05-22T20:57:52.291620Z"
    }
   },
   "cell_type": "code",
   "source": "loss_vals = []",
   "id": "f285ab184989a6f",
   "outputs": [],
   "execution_count": 14
  },
  {
   "cell_type": "code",
   "id": "d7f8b8f4-7da3-4a47-a923-b7840808a8a5",
   "metadata": {
    "ExecuteTime": {
     "end_time": "2024-05-22T21:00:01.246363Z",
     "start_time": "2024-05-22T20:59:07.001123Z"
    }
   },
   "source": [
    "from macaw import MACAW\n",
    "\n",
    "for e in range(0,479,nevecs-nbasecomps):\n",
    "    save_path = model_base_path/f'{e}.pt'    \n",
    "    ed =  encoded_data[:,e:e+nevecs]\n",
    "    print(e,e+nevecs)\n",
    "    \n",
    "    if not os.path.exists(save_path): \n",
    "       \n",
    "        X = np.hstack([bias[:,np.newaxis], disease[:,np.newaxis], ed])    \n",
    "\n",
    "        macaw = MACAW.MACAW(config)\n",
    "        loss_vals.append(macaw.fit_with_priors(X,edges, priors))\n",
    "\n",
    "        torch.save(macaw,save_path)\n",
    "    else:\n",
    "        print(\"Skipping\")"
   ],
   "outputs": [
    {
     "name": "stdout",
     "output_type": "stream",
     "text": [
      "0 60\n"
     ]
    },
    {
     "name": "stderr",
     "output_type": "stream",
     "text": [
      "/home/volatope/Software/anaconda3/lib/python3.11/site-packages/torch/optim/lr_scheduler.py:28: UserWarning: The verbose parameter is deprecated. Please use get_last_lr() to access the learning rate.\n",
      "  warnings.warn(\"The verbose parameter is deprecated. Please use get_last_lr() \"\n"
     ]
    },
    {
     "data": {
      "text/plain": [
       "  0%|          | 0/30 [00:00<?, ?it/s]"
      ],
      "application/vnd.jupyter.widget-view+json": {
       "version_major": 2,
       "version_minor": 0,
       "model_id": "aa32461ada7a4455a2bc03db4dcbf3d9"
      }
     },
     "metadata": {},
     "output_type": "display_data"
    },
    {
     "name": "stdout",
     "output_type": "stream",
     "text": [
      "40 100\n"
     ]
    },
    {
     "data": {
      "text/plain": [
       "  0%|          | 0/30 [00:00<?, ?it/s]"
      ],
      "application/vnd.jupyter.widget-view+json": {
       "version_major": 2,
       "version_minor": 0,
       "model_id": "88c6edfdba4e45f1a24ad3c2135aa1d9"
      }
     },
     "metadata": {},
     "output_type": "display_data"
    },
    {
     "name": "stdout",
     "output_type": "stream",
     "text": [
      "80 140\n"
     ]
    },
    {
     "data": {
      "text/plain": [
       "  0%|          | 0/30 [00:00<?, ?it/s]"
      ],
      "application/vnd.jupyter.widget-view+json": {
       "version_major": 2,
       "version_minor": 0,
       "model_id": "a0311f11bd6d4db28528621a1f9209e5"
      }
     },
     "metadata": {},
     "output_type": "display_data"
    },
    {
     "name": "stdout",
     "output_type": "stream",
     "text": [
      "120 180\n"
     ]
    },
    {
     "data": {
      "text/plain": [
       "  0%|          | 0/30 [00:00<?, ?it/s]"
      ],
      "application/vnd.jupyter.widget-view+json": {
       "version_major": 2,
       "version_minor": 0,
       "model_id": "8b70ac99f6bf4c7c95749e8b5ccde6c5"
      }
     },
     "metadata": {},
     "output_type": "display_data"
    },
    {
     "name": "stdout",
     "output_type": "stream",
     "text": [
      "160 220\n"
     ]
    },
    {
     "data": {
      "text/plain": [
       "  0%|          | 0/30 [00:00<?, ?it/s]"
      ],
      "application/vnd.jupyter.widget-view+json": {
       "version_major": 2,
       "version_minor": 0,
       "model_id": "5f50a7d452be44cea96b7d7f10d0a8d4"
      }
     },
     "metadata": {},
     "output_type": "display_data"
    },
    {
     "name": "stdout",
     "output_type": "stream",
     "text": [
      "200 260\n"
     ]
    },
    {
     "data": {
      "text/plain": [
       "  0%|          | 0/30 [00:00<?, ?it/s]"
      ],
      "application/vnd.jupyter.widget-view+json": {
       "version_major": 2,
       "version_minor": 0,
       "model_id": "8fc2ddbaefbd487e909e309fa45cb37f"
      }
     },
     "metadata": {},
     "output_type": "display_data"
    },
    {
     "name": "stdout",
     "output_type": "stream",
     "text": [
      "240 300\n"
     ]
    },
    {
     "data": {
      "text/plain": [
       "  0%|          | 0/30 [00:00<?, ?it/s]"
      ],
      "application/vnd.jupyter.widget-view+json": {
       "version_major": 2,
       "version_minor": 0,
       "model_id": "1b93cc537ebc4eb184f267b430b362e5"
      }
     },
     "metadata": {},
     "output_type": "display_data"
    },
    {
     "name": "stdout",
     "output_type": "stream",
     "text": [
      "280 340\n"
     ]
    },
    {
     "data": {
      "text/plain": [
       "  0%|          | 0/30 [00:00<?, ?it/s]"
      ],
      "application/vnd.jupyter.widget-view+json": {
       "version_major": 2,
       "version_minor": 0,
       "model_id": "d9357c032bfe405caa14924fdd734c70"
      }
     },
     "metadata": {},
     "output_type": "display_data"
    },
    {
     "name": "stdout",
     "output_type": "stream",
     "text": [
      "320 380\n"
     ]
    },
    {
     "data": {
      "text/plain": [
       "  0%|          | 0/30 [00:00<?, ?it/s]"
      ],
      "application/vnd.jupyter.widget-view+json": {
       "version_major": 2,
       "version_minor": 0,
       "model_id": "b38d2be1323a44de93fb574ba99979dc"
      }
     },
     "metadata": {},
     "output_type": "display_data"
    },
    {
     "name": "stdout",
     "output_type": "stream",
     "text": [
      "360 420\n"
     ]
    },
    {
     "data": {
      "text/plain": [
       "  0%|          | 0/30 [00:00<?, ?it/s]"
      ],
      "application/vnd.jupyter.widget-view+json": {
       "version_major": 2,
       "version_minor": 0,
       "model_id": "a8d97635c9d9452f951f25fa38187356"
      }
     },
     "metadata": {},
     "output_type": "display_data"
    },
    {
     "name": "stdout",
     "output_type": "stream",
     "text": [
      "400 460\n"
     ]
    },
    {
     "data": {
      "text/plain": [
       "  0%|          | 0/30 [00:00<?, ?it/s]"
      ],
      "application/vnd.jupyter.widget-view+json": {
       "version_major": 2,
       "version_minor": 0,
       "model_id": "41d7ce3f5f5b4c2eb87854b9bef3549a"
      }
     },
     "metadata": {},
     "output_type": "display_data"
    },
    {
     "name": "stdout",
     "output_type": "stream",
     "text": [
      "440 500\n"
     ]
    },
    {
     "data": {
      "text/plain": [
       "  0%|          | 0/30 [00:00<?, ?it/s]"
      ],
      "application/vnd.jupyter.widget-view+json": {
       "version_major": 2,
       "version_minor": 0,
       "model_id": "6f46813914e3465ea5fabb091677a6e3"
      }
     },
     "metadata": {},
     "output_type": "display_data"
    }
   ],
   "execution_count": 18
  },
  {
   "metadata": {
    "ExecuteTime": {
     "end_time": "2024-05-22T21:02:24.705301Z",
     "start_time": "2024-05-22T21:02:24.700293Z"
    }
   },
   "cell_type": "code",
   "source": "loss_vals",
   "id": "f69389db8c55c45f",
   "outputs": [
    {
     "data": {
      "text/plain": [
       "[([11299.28812230428,\n",
       "   -2878.1593302408855,\n",
       "   -4773.701635742187,\n",
       "   -8520.904825846354,\n",
       "   -22047.579675292967,\n",
       "   2306.504182942708,\n",
       "   2306.504121907552,\n",
       "   2306.504085286458,\n",
       "   2306.504158528646,\n",
       "   2306.5041361490885,\n",
       "   2306.5041748046874,\n",
       "   2306.5040669759114,\n",
       "   2306.5040690104165,\n",
       "   2306.504142252604,\n",
       "   2306.5041280110677,\n",
       "   2306.5041564941407,\n",
       "   2306.5040751139322,\n",
       "   2306.5041381835936,\n",
       "   2306.5041341145834,\n",
       "   2306.504121907552,\n",
       "   2306.504121907552,\n",
       "   2306.504121907552,\n",
       "   2306.50415242513,\n",
       "   2306.5040974934896,\n",
       "   2306.5041280110677,\n",
       "   2306.5041381835936,\n",
       "   2306.504109700521,\n",
       "   2306.5041748046874,\n",
       "   2306.5041361490885,\n",
       "   2306.5041015625],\n",
       "  [-1074.8651733398438,\n",
       "   -3448.06005859375,\n",
       "   -5298.7921142578125,\n",
       "   -10973.529052734375,\n",
       "   1931.7432861328125,\n",
       "   1931.7431640625,\n",
       "   1931.7431640625,\n",
       "   1931.7431640625,\n",
       "   1931.7432861328125,\n",
       "   1931.7431640625,\n",
       "   1931.7432250976562,\n",
       "   1931.7432250976562,\n",
       "   1931.7432250976562,\n",
       "   1931.7432250976562,\n",
       "   1931.7431030273438,\n",
       "   1931.7431030273438,\n",
       "   1931.7431030273438,\n",
       "   1931.7431640625,\n",
       "   1931.7432861328125,\n",
       "   1931.7431030273438,\n",
       "   1931.7431030273438,\n",
       "   1931.7431030273438,\n",
       "   1931.7431640625,\n",
       "   1931.7431030273438,\n",
       "   1931.7431030273438,\n",
       "   1931.7431030273438,\n",
       "   1931.7432861328125,\n",
       "   1931.7432250976562,\n",
       "   1931.7430419921875,\n",
       "   1931.7432861328125]),\n",
       " ([-1330.7466990152996,\n",
       "   -7213.644034830729,\n",
       "   -11673.914754231771,\n",
       "   -24203.663606770835,\n",
       "   -1559.5463012695313,\n",
       "   2299.3893107096355,\n",
       "   2299.389324951172,\n",
       "   2299.3893229166665,\n",
       "   2299.3893513997396,\n",
       "   2299.3892618815103,\n",
       "   2299.3892415364585,\n",
       "   2299.38930460612,\n",
       "   2299.3892578125,\n",
       "   2299.3892923990884,\n",
       "   2299.389255777995,\n",
       "   2299.389286295573,\n",
       "   2299.3893229166665,\n",
       "   2299.3892903645833,\n",
       "   2299.389265950521,\n",
       "   2299.3893025716147,\n",
       "   2299.389333089193,\n",
       "   2299.3892456054687,\n",
       "   2299.389298502604,\n",
       "   2299.389270019531,\n",
       "   2299.3892842610676,\n",
       "   2299.3893412272137,\n",
       "   2299.389306640625,\n",
       "   2299.3893188476563,\n",
       "   2299.3892903645833,\n",
       "   2299.3892537434895],\n",
       "  [-4560.9619140625,\n",
       "   -7809.046630859375,\n",
       "   -11732.24755859375,\n",
       "   -44052.26171875,\n",
       "   1926.7769775390625,\n",
       "   1926.7770385742188,\n",
       "   1926.7770385742188,\n",
       "   1926.7770385742188,\n",
       "   1926.7770385742188,\n",
       "   1926.7769775390625,\n",
       "   1926.7770385742188,\n",
       "   1926.7772216796875,\n",
       "   1926.7769775390625,\n",
       "   1926.7769165039062,\n",
       "   1926.777099609375,\n",
       "   1926.777099609375,\n",
       "   1926.777099609375,\n",
       "   1926.777099609375,\n",
       "   1926.777099609375,\n",
       "   1926.777099609375,\n",
       "   1926.777099609375,\n",
       "   1926.777099609375,\n",
       "   1926.7769775390625,\n",
       "   1926.7770385742188,\n",
       "   1926.7769775390625,\n",
       "   1926.777099609375,\n",
       "   1926.7770385742188,\n",
       "   1926.777099609375,\n",
       "   1926.7769775390625,\n",
       "   1926.7770385742188]),\n",
       " ([-1041.8419596354167,\n",
       "   -6963.920174153646,\n",
       "   -10637.499837239584,\n",
       "   -14507.173665364584,\n",
       "   -19087.973372395834,\n",
       "   -34825.58729248047,\n",
       "   2298.9603881835938,\n",
       "   2298.960384114583,\n",
       "   2298.960408528646,\n",
       "   2298.9604309082033,\n",
       "   2298.960420735677,\n",
       "   2298.960418701172,\n",
       "   2298.9603861490887,\n",
       "   2298.960384114583,\n",
       "   2298.9604248046876,\n",
       "   2298.9603637695313,\n",
       "   2298.9604431152343,\n",
       "   2298.9604044596354,\n",
       "   2298.960349527995,\n",
       "   2298.960489908854,\n",
       "   2298.960441080729,\n",
       "   2298.960349527995,\n",
       "   2298.960416666667,\n",
       "   2298.960451253255,\n",
       "   2298.9604309082033,\n",
       "   2298.9604024251303,\n",
       "   2298.9603678385415,\n",
       "   2298.960384114583,\n",
       "   2298.960439046224,\n",
       "   2298.960408528646],\n",
       "  [-2321.3170166015625,\n",
       "   -7474.769287109375,\n",
       "   -10885.912109375,\n",
       "   -13046.724609375,\n",
       "   -20993.09912109375,\n",
       "   1926.355224609375,\n",
       "   1926.3553466796875,\n",
       "   1926.3551635742188,\n",
       "   1926.355224609375,\n",
       "   1926.3553466796875,\n",
       "   1926.3552856445312,\n",
       "   1926.3553466796875,\n",
       "   1926.355224609375,\n",
       "   1926.3553466796875,\n",
       "   1926.355224609375,\n",
       "   1926.355224609375,\n",
       "   1926.3553466796875,\n",
       "   1926.3554077148438,\n",
       "   1926.3553466796875,\n",
       "   1926.355224609375,\n",
       "   1926.3553466796875,\n",
       "   1926.3552856445312,\n",
       "   1926.3552856445312,\n",
       "   1926.3553466796875,\n",
       "   1926.355224609375,\n",
       "   1926.3552856445312,\n",
       "   1926.3553466796875,\n",
       "   1926.3552856445312,\n",
       "   1926.3553466796875,\n",
       "   1926.3552856445312]),\n",
       " ([-863.8744059244792,\n",
       "   -8531.301871744792,\n",
       "   -12737.659700520833,\n",
       "   112746.71306152343,\n",
       "   -12428.396223958332,\n",
       "   -16554.724772135418,\n",
       "   -25295.379943847656,\n",
       "   2298.872141520182,\n",
       "   2298.8720825195314,\n",
       "   2298.8721577962237,\n",
       "   2298.8721232096354,\n",
       "   2298.8721211751304,\n",
       "   2298.872111002604,\n",
       "   2298.8721638997395,\n",
       "   2298.8721313476562,\n",
       "   2298.872039794922,\n",
       "   2298.8721313476562,\n",
       "   2298.8720703125,\n",
       "   2298.8721232096354,\n",
       "   2298.8721130371096,\n",
       "   2298.872106933594,\n",
       "   2298.8721435546877,\n",
       "   2298.8720906575522,\n",
       "   2298.8720703125,\n",
       "   2298.8720845540365,\n",
       "   2298.8721048990888,\n",
       "   2298.8720662434894,\n",
       "   2298.872147623698,\n",
       "   2298.872106933594,\n",
       "   2298.8721618652344],\n",
       "  [-4344.29443359375,\n",
       "   -8951.1767578125,\n",
       "   -13343.09521484375,\n",
       "   -11147.52294921875,\n",
       "   -11125.269775390625,\n",
       "   -19778.81005859375,\n",
       "   1926.2731323242188,\n",
       "   1926.2730102539062,\n",
       "   1926.2730712890625,\n",
       "   1926.2730712890625,\n",
       "   1926.2730712890625,\n",
       "   1926.273193359375,\n",
       "   1926.2730102539062,\n",
       "   1926.2731323242188,\n",
       "   1926.273193359375,\n",
       "   1926.2731323242188,\n",
       "   1926.2730712890625,\n",
       "   1926.2731323242188,\n",
       "   1926.2730712890625,\n",
       "   1926.2731323242188,\n",
       "   1926.27294921875,\n",
       "   1926.2730712890625,\n",
       "   1926.2731323242188,\n",
       "   1926.27294921875,\n",
       "   1926.2731323242188,\n",
       "   1926.2730712890625,\n",
       "   1926.2730102539062,\n",
       "   1926.273193359375,\n",
       "   1926.27294921875,\n",
       "   1926.2730712890625]),\n",
       " ([800.6911834716797,\n",
       "   -8227.734171549479,\n",
       "   -12221.443595377605,\n",
       "   -18265.633365885416,\n",
       "   -38916.44970906575,\n",
       "   2298.830187988281,\n",
       "   2298.83017578125,\n",
       "   2298.830214436849,\n",
       "   2298.8302022298176,\n",
       "   2298.830185953776,\n",
       "   2298.8301696777344,\n",
       "   2298.8301676432293,\n",
       "   2298.8301635742187,\n",
       "   2298.8302022298176,\n",
       "   2298.830157470703,\n",
       "   2298.830204264323,\n",
       "   2298.830212402344,\n",
       "   2298.8302408854165,\n",
       "   2298.830143229167,\n",
       "   2298.8302347819013,\n",
       "   2298.8302022298176,\n",
       "   2298.830216471354,\n",
       "   2298.830110677083,\n",
       "   2298.830183919271,\n",
       "   2298.8301900227866,\n",
       "   2298.830242919922,\n",
       "   2298.8302083333333,\n",
       "   2298.830177815755,\n",
       "   2298.8302368164063,\n",
       "   2298.8301310221354],\n",
       "  [-3969.0653076171875,\n",
       "   -8827.015380859375,\n",
       "   -12066.67529296875,\n",
       "   -19848.04150390625,\n",
       "   1926.31884765625,\n",
       "   1926.31884765625,\n",
       "   1926.3189086914062,\n",
       "   1926.3187866210938,\n",
       "   1926.3189086914062,\n",
       "   1926.3187866210938,\n",
       "   1926.3187255859375,\n",
       "   1926.31884765625,\n",
       "   1926.3189086914062,\n",
       "   1926.31884765625,\n",
       "   1926.3187255859375,\n",
       "   1926.31884765625,\n",
       "   1926.3189086914062,\n",
       "   1926.3187255859375,\n",
       "   1926.3189697265625,\n",
       "   1926.3189697265625,\n",
       "   1926.31884765625,\n",
       "   1926.3187866210938,\n",
       "   1926.3187866210938,\n",
       "   1926.3189086914062,\n",
       "   1926.31884765625,\n",
       "   1926.3189086914062,\n",
       "   1926.3189086914062,\n",
       "   1926.3189086914062,\n",
       "   1926.3187866210938,\n",
       "   1926.3189086914062]),\n",
       " ([1416.3410807291666,\n",
       "   -7443.633317057292,\n",
       "   -11750.697737630207,\n",
       "   -16447.8697265625,\n",
       "   -31552.8078125,\n",
       "   -27454.63201904297,\n",
       "   2298.8232930501304,\n",
       "   2298.8232666015624,\n",
       "   2298.8232950846354,\n",
       "   2298.823319498698,\n",
       "   2298.8232482910157,\n",
       "   2298.8233174641928,\n",
       "   2298.823307291667,\n",
       "   2298.8232666015624,\n",
       "   2298.8233154296877,\n",
       "   2298.823270670573,\n",
       "   2298.823272705078,\n",
       "   2298.8232869466146,\n",
       "   2298.8233032226562,\n",
       "   2298.8234029134114,\n",
       "   2298.8232930501304,\n",
       "   2298.823282877604,\n",
       "   2298.8232869466146,\n",
       "   2298.8232564290365,\n",
       "   2298.823307291667,\n",
       "   2298.8232950846354,\n",
       "   2298.8232686360675,\n",
       "   2298.8232991536456,\n",
       "   2298.823319498698,\n",
       "   2298.8232930501304],\n",
       "  [-3250.0406494140625,\n",
       "   -8437.440673828125,\n",
       "   -11342.8564453125,\n",
       "   -18636.04345703125,\n",
       "   -36404.935546875,\n",
       "   1926.3068237304688,\n",
       "   1926.3068237304688,\n",
       "   1926.3067626953125,\n",
       "   1926.3067626953125,\n",
       "   1926.3068237304688,\n",
       "   1926.306884765625,\n",
       "   1926.3069458007812,\n",
       "   1926.3067626953125,\n",
       "   1926.3069458007812,\n",
       "   1926.306884765625,\n",
       "   1926.3069458007812,\n",
       "   1926.306884765625,\n",
       "   1926.3067626953125,\n",
       "   1926.3067626953125,\n",
       "   1926.3067626953125,\n",
       "   1926.3069458007812,\n",
       "   1926.306640625,\n",
       "   1926.3068237304688,\n",
       "   1926.3067626953125,\n",
       "   1926.3067016601562,\n",
       "   1926.306884765625,\n",
       "   1926.306884765625,\n",
       "   1926.3070068359375,\n",
       "   1926.3069458007812,\n",
       "   1926.3067626953125]),\n",
       " ([-1019.2339060465495,\n",
       "   -7463.011279296875,\n",
       "   -12667.005802408854,\n",
       "   -17572.44871419271,\n",
       "   -28245.999544270835,\n",
       "   -44819.54743448893,\n",
       "   2298.817732747396,\n",
       "   2298.817736816406,\n",
       "   2298.817761230469,\n",
       "   2298.817793782552,\n",
       "   2298.817822265625,\n",
       "   2298.817755126953,\n",
       "   2298.8177083333335,\n",
       "   2298.8177836100263,\n",
       "   2298.81772664388,\n",
       "   2298.817736816406,\n",
       "   2298.817744954427,\n",
       "   2298.8177775065105,\n",
       "   2298.8177815755207,\n",
       "   2298.817761230469,\n",
       "   2298.817744954427,\n",
       "   2298.8177836100263,\n",
       "   2298.817685953776,\n",
       "   2298.8177388509116,\n",
       "   2298.8177144368487,\n",
       "   2298.8177103678386,\n",
       "   2298.8177775065105,\n",
       "   2298.8177408854167,\n",
       "   2298.8177490234375,\n",
       "   2298.8177693684897],\n",
       "  [-2891.692626953125,\n",
       "   -8935.04345703125,\n",
       "   -12291.70068359375,\n",
       "   -19055.9052734375,\n",
       "   -27530.7099609375,\n",
       "   1926.3082275390625,\n",
       "   1926.3081665039062,\n",
       "   1926.3082275390625,\n",
       "   1926.3082275390625,\n",
       "   1926.3082275390625,\n",
       "   1926.3082885742188,\n",
       "   1926.3082275390625,\n",
       "   1926.3082275390625,\n",
       "   1926.3080444335938,\n",
       "   1926.30810546875,\n",
       "   1926.3081665039062,\n",
       "   1926.3081665039062,\n",
       "   1926.30810546875,\n",
       "   1926.3082275390625,\n",
       "   1926.3081665039062,\n",
       "   1926.3082885742188,\n",
       "   1926.3081665039062,\n",
       "   1926.3081665039062,\n",
       "   1926.3081665039062,\n",
       "   1926.3081665039062,\n",
       "   1926.30810546875,\n",
       "   1926.3082275390625,\n",
       "   1926.3082275390625,\n",
       "   1926.3082275390625,\n",
       "   1926.3082275390625]),\n",
       " ([-1410.5448974609376,\n",
       "   -7397.514135742187,\n",
       "   -11676.608813476563,\n",
       "   -16616.429166666665,\n",
       "   11657077351.022005,\n",
       "   -27119.435774739584,\n",
       "   -36374.61614583333,\n",
       "   -1311.4617045084635,\n",
       "   2298.816611735026,\n",
       "   2298.8165873209637,\n",
       "   2298.8166239420575,\n",
       "   2298.8166341145834,\n",
       "   2298.816660563151,\n",
       "   2298.8165608723957,\n",
       "   2298.8166259765626,\n",
       "   2298.8166564941407,\n",
       "   2298.8166259765626,\n",
       "   2298.816687011719,\n",
       "   2298.816613769531,\n",
       "   2298.8166442871093,\n",
       "   2298.8166381835936,\n",
       "   2298.816650390625,\n",
       "   2298.8166463216144,\n",
       "   2298.81665242513,\n",
       "   2298.816619873047,\n",
       "   2298.8166341145834,\n",
       "   2298.8166564941407,\n",
       "   2298.8166341145834,\n",
       "   2298.8166544596356,\n",
       "   2298.8165893554688],\n",
       "  [597.1026763916016,\n",
       "   -7534.81591796875,\n",
       "   -11717.16650390625,\n",
       "   -17319.47900390625,\n",
       "   -23152.2763671875,\n",
       "   -23383.2978515625,\n",
       "   -40371.7490234375,\n",
       "   1926.301513671875,\n",
       "   1926.301513671875,\n",
       "   1926.3013916015625,\n",
       "   1926.3014526367188,\n",
       "   1926.3013305664062,\n",
       "   1926.3012084960938,\n",
       "   1926.3014526367188,\n",
       "   1926.3014526367188,\n",
       "   1926.3012084960938,\n",
       "   1926.3014526367188,\n",
       "   1926.3013916015625,\n",
       "   1926.3014526367188,\n",
       "   1926.3014526367188,\n",
       "   1926.3013916015625,\n",
       "   1926.3014526367188,\n",
       "   1926.30126953125,\n",
       "   1926.3014526367188,\n",
       "   1926.3014526367188,\n",
       "   1926.3013916015625,\n",
       "   1926.3013916015625,\n",
       "   1926.3014526367188,\n",
       "   1926.3013916015625,\n",
       "   1926.3013305664062]),\n",
       " ([3377.863317871094,\n",
       "   -7780.494563802084,\n",
       "   -12440.738802083333,\n",
       "   -17089.696647135417,\n",
       "   -32450.6509765625,\n",
       "   -28048.098887125652,\n",
       "   2298.8223795572917,\n",
       "   2298.8223876953125,\n",
       "   2298.822344970703,\n",
       "   2298.8223470052085,\n",
       "   2298.822369384766,\n",
       "   2298.822330729167,\n",
       "   2298.822361246745,\n",
       "   2298.822391764323,\n",
       "   2298.8223531087237,\n",
       "   2298.8223185221354,\n",
       "   2298.8224222819013,\n",
       "   2298.822336832682,\n",
       "   2298.822336832682,\n",
       "   2298.822403971354,\n",
       "   2298.8223795572917,\n",
       "   2298.822342936198,\n",
       "   2298.822381591797,\n",
       "   2298.8224202473957,\n",
       "   2298.8224222819013,\n",
       "   2298.8224527994794,\n",
       "   2298.8223958333333,\n",
       "   2298.82241414388,\n",
       "   2298.822399902344,\n",
       "   2298.8223551432293],\n",
       "  [-3057.8770751953125,\n",
       "   -9069.994873046875,\n",
       "   -11916.18994140625,\n",
       "   -19026.06884765625,\n",
       "   -35893.630859375,\n",
       "   1926.2340087890625,\n",
       "   1926.2340087890625,\n",
       "   1926.2339477539062,\n",
       "   1926.2340698242188,\n",
       "   1926.2342529296875,\n",
       "   1926.234130859375,\n",
       "   1926.234130859375,\n",
       "   1926.2340087890625,\n",
       "   1926.2341918945312,\n",
       "   1926.2340087890625,\n",
       "   1926.2340698242188,\n",
       "   1926.2341918945312,\n",
       "   1926.2341918945312,\n",
       "   1926.2341918945312,\n",
       "   1926.2340698242188,\n",
       "   1926.2340698242188,\n",
       "   1926.234130859375,\n",
       "   1926.234130859375,\n",
       "   1926.2340698242188,\n",
       "   1926.2340698242188,\n",
       "   1926.2340087890625,\n",
       "   1926.2340698242188,\n",
       "   1926.2340698242188,\n",
       "   1926.2340698242188,\n",
       "   1926.2340698242188]),\n",
       " ([-790.6329345703125,\n",
       "   -9857.303841145833,\n",
       "   -14142.183561197917,\n",
       "   -20645.524576822918,\n",
       "   -27018.506477864583,\n",
       "   -36227.72788289388,\n",
       "   2298.8068705240885,\n",
       "   2298.8069315592447,\n",
       "   2298.8069478352863,\n",
       "   2298.806955973307,\n",
       "   2298.8069071451823,\n",
       "   2298.806953938802,\n",
       "   2298.8069702148437,\n",
       "   2298.8069274902346,\n",
       "   2298.8069030761717,\n",
       "   2298.80698445638,\n",
       "   2298.8069742838543,\n",
       "   2298.8069396972655,\n",
       "   2298.8068725585936,\n",
       "   2298.806994628906,\n",
       "   2298.8069396972655,\n",
       "   2298.8069722493487,\n",
       "   2298.806953938802,\n",
       "   2298.8069396972655,\n",
       "   2298.806892903646,\n",
       "   2298.806953938802,\n",
       "   2298.8069010416666,\n",
       "   2298.8069783528645,\n",
       "   2298.80688680013,\n",
       "   2298.8069458007812],\n",
       "  [-5477.5850830078125,\n",
       "   -10057.0224609375,\n",
       "   -14293.16748046875,\n",
       "   -18772.3818359375,\n",
       "   -29174.90625,\n",
       "   1926.3317260742188,\n",
       "   1926.3317260742188,\n",
       "   1926.3317260742188,\n",
       "   1926.33154296875,\n",
       "   1926.3317260742188,\n",
       "   1926.3317260742188,\n",
       "   1926.331787109375,\n",
       "   1926.3314819335938,\n",
       "   1926.3316650390625,\n",
       "   1926.3316650390625,\n",
       "   1926.3316040039062,\n",
       "   1926.3319091796875,\n",
       "   1926.3317260742188,\n",
       "   1926.33154296875,\n",
       "   1926.3316650390625,\n",
       "   1926.331787109375,\n",
       "   1926.3316650390625,\n",
       "   1926.3316650390625,\n",
       "   1926.3317260742188,\n",
       "   1926.3316650390625,\n",
       "   1926.3316650390625,\n",
       "   1926.331787109375,\n",
       "   1926.3316650390625,\n",
       "   1926.3316650390625,\n",
       "   1926.3316650390625]),\n",
       " ([-298.8079325358073,\n",
       "   -7832.233911132813,\n",
       "   -13360.656306966146,\n",
       "   -18282.94404296875,\n",
       "   -25342.443033854168,\n",
       "   -37742.01291910807,\n",
       "   2298.8176208496093,\n",
       "   2298.817655436198,\n",
       "   2298.817596435547,\n",
       "   2298.81762898763,\n",
       "   2298.8176228841144,\n",
       "   2298.8176472981772,\n",
       "   2298.8176147460936,\n",
       "   2298.8176391601564,\n",
       "   2298.8176432291666,\n",
       "   2298.817555745443,\n",
       "   2298.8176147460936,\n",
       "   2298.8176452636717,\n",
       "   2298.817586263021,\n",
       "   2298.8175923665362,\n",
       "   2298.8176106770834,\n",
       "   2298.8175720214845,\n",
       "   2298.817578125,\n",
       "   2298.8175699869794,\n",
       "   2298.817588297526,\n",
       "   2298.817598470052,\n",
       "   2298.8176086425783,\n",
       "   2298.8175842285154,\n",
       "   2298.817626953125,\n",
       "   2298.8176472981772],\n",
       "  [-4621.8485107421875,\n",
       "   -9822.031982421875,\n",
       "   -12980.068359375,\n",
       "   -19676.7724609375,\n",
       "   -25592.064453125,\n",
       "   1926.24072265625,\n",
       "   1926.2409057617188,\n",
       "   1926.2408447265625,\n",
       "   1926.2408447265625,\n",
       "   1926.24072265625,\n",
       "   1926.2409057617188,\n",
       "   1926.2408447265625,\n",
       "   1926.2408447265625,\n",
       "   1926.2407836914062,\n",
       "   1926.2407836914062,\n",
       "   1926.24072265625,\n",
       "   1926.2407836914062,\n",
       "   1926.2407836914062,\n",
       "   1926.2408447265625,\n",
       "   1926.2408447265625,\n",
       "   1926.24072265625,\n",
       "   1926.2408447265625,\n",
       "   1926.2407836914062,\n",
       "   1926.2408447265625,\n",
       "   1926.24072265625,\n",
       "   1926.2408447265625,\n",
       "   1926.24072265625,\n",
       "   1926.2407836914062,\n",
       "   1926.24072265625,\n",
       "   1926.2408447265625]),\n",
       " ([-1704.996165974935,\n",
       "   -7501.088635253906,\n",
       "   -12577.908984375,\n",
       "   -17945.713037109374,\n",
       "   -24778.55398763021,\n",
       "   -36486.71005859375,\n",
       "   -43997.0782430013,\n",
       "   2298.814837646484,\n",
       "   2298.8147827148437,\n",
       "   2298.8148783365887,\n",
       "   2298.814837646484,\n",
       "   2298.814831542969,\n",
       "   2298.814831542969,\n",
       "   2298.8148213704426,\n",
       "   2298.8148396809897,\n",
       "   2298.81484375,\n",
       "   2298.8147847493487,\n",
       "   2298.8147867838543,\n",
       "   2298.814833577474,\n",
       "   2298.8148478190105,\n",
       "   2298.814815266927,\n",
       "   2298.814835611979,\n",
       "   2298.8148986816404,\n",
       "   2298.814833577474,\n",
       "   2298.814882405599,\n",
       "   2298.81484375,\n",
       "   2298.814823404948,\n",
       "   2298.8148559570313,\n",
       "   2298.814801025391,\n",
       "   2298.814833577474],\n",
       "  [1619.2835083007812,\n",
       "   -8841.77880859375,\n",
       "   -12508.8447265625,\n",
       "   -19292.1962890625,\n",
       "   -22999.5625,\n",
       "   -38168.46484375,\n",
       "   1926.2386474609375,\n",
       "   1926.2387084960938,\n",
       "   1926.2385864257812,\n",
       "   1926.2385864257812,\n",
       "   1926.238525390625,\n",
       "   1926.238525390625,\n",
       "   1926.238525390625,\n",
       "   1926.2387084960938,\n",
       "   1926.238525390625,\n",
       "   1926.2384033203125,\n",
       "   1926.2385864257812,\n",
       "   1926.2385864257812,\n",
       "   1926.2384643554688,\n",
       "   1926.238525390625,\n",
       "   1926.2385864257812,\n",
       "   1926.2386474609375,\n",
       "   1926.2386474609375,\n",
       "   1926.2385864257812,\n",
       "   1926.2386474609375,\n",
       "   1926.238525390625,\n",
       "   1926.2386474609375,\n",
       "   1926.2385864257812,\n",
       "   1926.238525390625,\n",
       "   1926.238525390625])]"
      ]
     },
     "execution_count": 19,
     "metadata": {},
     "output_type": "execute_result"
    }
   ],
   "execution_count": 19
  },
  {
   "cell_type": "code",
   "id": "84c1ebc0-3d71-47b8-8709-7a758113d675",
   "metadata": {
    "ExecuteTime": {
     "end_time": "2024-05-22T21:02:35.958799Z",
     "start_time": "2024-05-22T21:02:35.807950Z"
    }
   },
   "source": [
    "plt.plot(np.array(loss_vals[0][0]))\n",
    "plt.plot(np.array(loss_vals[0][1]))"
   ],
   "outputs": [
    {
     "data": {
      "text/plain": [
       "[<matplotlib.lines.Line2D at 0x75c5fa9ef4d0>]"
      ]
     },
     "execution_count": 20,
     "metadata": {},
     "output_type": "execute_result"
    },
    {
     "data": {
      "text/plain": [
       "<Figure size 640x480 with 1 Axes>"
      ],
      "image/png": "[encoded data removed]"
     },
     "metadata": {},
     "output_type": "display_data"
    }
   ],
   "execution_count": 20
  },
  {
   "cell_type": "code",
   "id": "8e05c561-30a9-4328-be20-06302dc7425c",
   "metadata": {
    "ExecuteTime": {
     "end_time": "2024-05-22T21:02:41.274661Z",
     "start_time": "2024-05-22T21:02:41.271735Z"
    }
   },
   "source": [
    "model_path = model_base_path/'hyperparameters.pkl'\n",
    "\n",
    "with open(model_path, 'wb') as f:\n",
    "    pickle.dump({'ncomps':ncomps, 'nevecs':nevecs,'nbasecomps':nbasecomps, 'ncauses':ncauses, 'crop_size':crop_size}, f)"
   ],
   "outputs": [],
   "execution_count": 21
  },
  {
   "cell_type": "markdown",
   "id": "8c4aa32a-457e-44ea-804e-ffc137b45bbc",
   "metadata": {},
   "source": [
    "## Linear regression"
   ]
  },
  {
   "metadata": {
    "ExecuteTime": {
     "end_time": "2024-05-21T22:03:38.655190Z",
     "start_time": "2024-05-21T22:03:38.651634Z"
    }
   },
   "cell_type": "code",
   "source": [
    "import torch\n",
    "import yaml\n",
    "from utils.helpers import dict2namespace\n",
    "\n",
    "with open(macaw_path/'config'/'ukbb.yaml', 'r') as f:\n",
    "    config_raw = yaml.load(f, Loader=yaml.FullLoader)\n",
    "    \n",
    "config = dict2namespace(config_raw)\n",
    "config.device = torch.device('cuda') if torch.cuda.is_available() else torch.device('cpu')"
   ],
   "id": "d46b7a4d-6573-454d-b6dc-cb53cb9c4b8e",
   "outputs": [],
   "execution_count": 50
  },
  {
   "cell_type": "code",
   "id": "e5e1a75d-d78b-4f63-a364-ba6ab01d8b95",
   "metadata": {},
   "source": [
    "ed =  encoded_data[:,:nevecs]\n",
    "X = np.hstack([sex[:,np.newaxis], bmi[:,np.newaxis], ed])    "
   ],
   "outputs": [],
   "execution_count": null
  },
  {
   "cell_type": "code",
   "id": "d4bca575-c1c5-4172-8b46-663bab7d25b4",
   "metadata": {},
   "source": [
    "from sklearn.linear_model import LinearRegression\n",
    "reg = LinearRegression().fit(X, age)"
   ],
   "outputs": [],
   "execution_count": null
  },
  {
   "cell_type": "code",
   "id": "b17490f3-02df-44b5-9904-c84e286a1e9f",
   "metadata": {},
   "source": [
    "reg.score(X, age)"
   ],
   "outputs": [],
   "execution_count": null
  },
  {
   "cell_type": "code",
   "id": "b1c6039d-93e2-44f3-91b8-8fac4f1a37b2",
   "metadata": {},
   "source": [
    "lr_path = model_base_path/'lr.pkl'\n",
    "\n",
    "with open(lr_path, 'wb') as f:\n",
    "    pickle.dump({'reg':reg}, f)"
   ],
   "outputs": [],
   "execution_count": null
  },
  {
   "cell_type": "code",
   "id": "64d8691b-68ee-4b77-8f17-a9b97b71f900",
   "metadata": {},
   "source": [
    "lr_path"
   ],
   "outputs": [],
   "execution_count": null
  },
  {
   "cell_type": "code",
   "id": "0b0ab90e-6bd4-417b-89a0-784773a9c82c",
   "metadata": {},
   "source": [
    "reg.coef_"
   ],
   "outputs": [],
   "execution_count": null
  },
  {
   "cell_type": "code",
   "id": "2c83dd74-2b7b-43d2-b56f-34ab907b6e35",
   "metadata": {},
   "source": [
    "np.mean(np.abs(reg.predict(X) - age))"
   ],
   "outputs": [],
   "execution_count": null
  },
  {
   "cell_type": "code",
   "id": "32e7720e-e9c7-4377-a86d-b5be161c3c12",
   "metadata": {},
   "source": [
    "idx = 0\n",
    "macaw = torch.load(model_base_path/f'{idx}.pt')\n",
    "X_test = np.hstack([sex[:,np.newaxis], age[:,np.newaxis], bmi[:,np.newaxis], encoded_data[:,idx:nevecs+idx]])"
   ],
   "outputs": [],
   "execution_count": null
  },
  {
   "cell_type": "code",
   "id": "b9f68acb-c37c-4da3-bd4b-20a22b2496f8",
   "metadata": {},
   "source": [
    "encoded_data.shape"
   ],
   "outputs": [],
   "execution_count": null
  },
  {
   "cell_type": "code",
   "id": "d0d12a02-37c0-448f-8bb5-0f26dd70758a",
   "metadata": {},
   "source": [
    "probs=[]\n",
    "for i in range(36):\n",
    "    X_test[:,1] = i\n",
    "    probs.append(macaw.log_likelihood(X_test))"
   ],
   "outputs": [],
   "execution_count": null
  },
  {
   "cell_type": "code",
   "id": "ceb04aa1-9cba-4977-9465-8f7ce52f7be3",
   "metadata": {},
   "source": [
    "pexp = np.exp(np.array(probs))\n",
    "pexp_sum = np.sum(pexp,axis=0)\n",
    "p = pexp/pexp_sum"
   ],
   "outputs": [],
   "execution_count": null
  },
  {
   "cell_type": "code",
   "id": "dd3010e4-fb4f-41e6-9099-39e1f76b9eff",
   "metadata": {},
   "source": [
    "pred_labels = np.argmax(probs, axis=0)"
   ],
   "outputs": [],
   "execution_count": null
  },
  {
   "cell_type": "code",
   "id": "26f76ba2-a646-47d8-87b9-29c3883725b1",
   "metadata": {},
   "source": [
    "age_bins=36"
   ],
   "outputs": [],
   "execution_count": null
  },
  {
   "cell_type": "code",
   "id": "8f865e26-867d-4372-acbe-27e201d54bde",
   "metadata": {},
   "source": [
    "sns.histplot(age, bins=age_bins)\n",
    "sns.histplot(pred_labels,bins=age_bins)"
   ],
   "outputs": [],
   "execution_count": null
  },
  {
   "cell_type": "code",
   "id": "03e95595-9173-4561-ac6c-39d91843db9c",
   "metadata": {},
   "source": [
    "l = np.array(probs)[:,80]\n",
    "plt.bar(np.arange(36),l-np.min(l))"
   ],
   "outputs": [],
   "execution_count": null
  },
  {
   "cell_type": "code",
   "id": "c55aab19-9403-42aa-86c9-561ce71e7f2f",
   "metadata": {},
   "source": [
    "sns.histplot(age-pred_labels, bins=age_bins)"
   ],
   "outputs": [],
   "execution_count": null
  },
  {
   "cell_type": "code",
   "id": "572878ef-3df8-4d69-8df0-4141a7f262ed",
   "metadata": {},
   "source": [
    "np.mean(np.abs(pred_labels - age))"
   ],
   "outputs": [],
   "execution_count": null
  },
  {
   "cell_type": "code",
   "id": "c925f853-d3ce-4c70-9830-5f3bbb4572fe",
   "metadata": {},
   "source": [],
   "outputs": [],
   "execution_count": null
  },
  {
   "cell_type": "code",
   "id": "32e37e65-74b9-49b1-b3b4-97ecbff3415c",
   "metadata": {},
   "source": [],
   "outputs": [],
   "execution_count": null
  }
 ],
 "metadata": {
  "kernelspec": {
   "display_name": "Python 3",
   "language": "python",
   "name": "python3"
  },
  "language_info": {
   "codemirror_mode": {
    "name": "ipython",
    "version": 3
   },
   "file_extension": ".py",
   "mimetype": "text/x-python",
   "name": "python",
   "nbconvert_exporter": "python",
   "pygments_lexer": "ipython3",
   "version": "3.8.13"
  }
 },
 "nbformat": 4,
 "nbformat_minor": 5
}
