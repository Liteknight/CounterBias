{
 "cells": [
  {
   "cell_type": "code",
   "id": "ac8ed1c3-9496-49a4-865c-56314f141a9c",
   "metadata": {
    "ExecuteTime": {
     "end_time": "2024-06-12T19:33:53.157908Z",
     "start_time": "2024-06-12T19:33:53.155623Z"
    }
   },
   "source": [
    "nevecs = 50\n",
    "ncomps = 500\n",
    "nbasecomps = 25\n",
    "crop_size=180\n",
    "ncauses = 2\n",
    "dr_method = 'PCA'"
   ],
   "outputs": [],
   "execution_count": 1
  },
  {
   "metadata": {
    "ExecuteTime": {
     "end_time": "2024-06-12T19:33:54.367592Z",
     "start_time": "2024-06-12T19:33:53.172663Z"
    }
   },
   "cell_type": "code",
   "source": [
    "from pathlib import Path\n",
    "import os, sys\n",
    "import torchvision.transforms.functional as F\n",
    "import matplotlib.pyplot as plt\n",
    "import numpy as np\n",
    "import seaborn as sns"
   ],
   "id": "fcd9e09a79faea7c",
   "outputs": [],
   "execution_count": 2
  },
  {
   "cell_type": "code",
   "id": "dc4bfa8c-b51e-4db7-a6c6-48e284f06081",
   "metadata": {
    "ExecuteTime": {
     "end_time": "2024-06-12T19:33:54.371220Z",
     "start_time": "2024-06-12T19:33:54.368549Z"
    }
   },
   "source": [
    "\n",
    "macaw_path = Path(os.getcwd())\n",
    "sys.path.append(str(macaw_path) +'/')\n",
    "\n",
    "exp_name = 'far_bias'\n",
    "\n",
    "train_csv_path = macaw_path/'splits'/'train.csv'\n",
    "train_img_path = macaw_path/'no_bias'/'train'\n",
    "\n",
    "val_csv_path = macaw_path/'splits'/'val.csv'\n",
    "val_img_path = macaw_path/exp_name/'val'\n",
    "\n",
    "pca_path = macaw_path/exp_name/f'train_hc_pca_{ncomps}.pkl'\n",
    "\n",
    "train_path = macaw_path/exp_name/f'train_hc_data_PCA_{ncomps}.pkl'\n",
    "val_path = macaw_path/exp_name/f'val_hc_data_PCA_{ncomps}.pkl'\n",
    "model_base_path = macaw_path/'models'/exp_name/f'{dr_method}_{ncomps}'/f'{nevecs}'\n",
    "\n",
    "if not os.path.exists(model_base_path):\n",
    "    os.makedirs(model_base_path)"
   ],
   "outputs": [],
   "execution_count": 3
  },
  {
   "cell_type": "code",
   "id": "5a5449c7-9cf7-45db-9535-4c0eb6ce6da9",
   "metadata": {
    "ExecuteTime": {
     "end_time": "2024-06-12T19:33:54.488160Z",
     "start_time": "2024-06-12T19:33:54.371816Z"
    }
   },
   "source": [
    "import pickle\n",
    "\n",
    "with open(train_path, 'rb') as f:\n",
    "    train = pickle.load(f)\n",
    "    \n",
    "disease_t = train['disease']\n",
    "bias_t = train['bias']\n",
    "\n",
    "encoded_t = train['encoded_data']\n",
    "pca_t = train['pca']"
   ],
   "outputs": [],
   "execution_count": 4
  },
  {
   "metadata": {
    "ExecuteTime": {
     "end_time": "2024-06-12T19:33:54.540108Z",
     "start_time": "2024-06-12T19:33:54.489242Z"
    }
   },
   "cell_type": "code",
   "source": [
    "with open(val_path, 'rb') as f:\n",
    "    val = pickle.load(f)\n",
    "    \n",
    "disease_v = val['disease']\n",
    "bias_v = val['bias']\n",
    "\n",
    "encoded_v = val['encoded_data']\n",
    "pca_v = val['pca']"
   ],
   "id": "7e0e3588590e626c",
   "outputs": [],
   "execution_count": 5
  },
  {
   "metadata": {
    "ExecuteTime": {
     "end_time": "2024-06-12T19:33:54.543959Z",
     "start_time": "2024-06-12T19:33:54.540707Z"
    }
   },
   "cell_type": "code",
   "source": "encoded_t.shape",
   "id": "8541fe03a78b9024",
   "outputs": [
    {
     "data": {
      "text/plain": [
       "(1005, 500)"
      ]
     },
     "execution_count": 6,
     "metadata": {},
     "output_type": "execute_result"
    }
   ],
   "execution_count": 6
  },
  {
   "metadata": {
    "ExecuteTime": {
     "end_time": "2024-06-12T19:33:54.546503Z",
     "start_time": "2024-06-12T19:33:54.544476Z"
    }
   },
   "cell_type": "code",
   "source": "encoded_v.shape",
   "id": "480a1449e0e91446",
   "outputs": [
    {
     "data": {
      "text/plain": [
       "(1005, 500)"
      ]
     },
     "execution_count": 7,
     "metadata": {},
     "output_type": "execute_result"
    }
   ],
   "execution_count": 7
  },
  {
   "cell_type": "code",
   "id": "d913b8ea-75cf-4ab0-820c-9eb460a83870",
   "metadata": {
    "ExecuteTime": {
     "end_time": "2024-06-12T19:33:54.549332Z",
     "start_time": "2024-06-12T19:33:54.547026Z"
    }
   },
   "source": "bias_t.sum()",
   "outputs": [
    {
     "data": {
      "text/plain": [
       "505"
      ]
     },
     "execution_count": 8,
     "metadata": {},
     "output_type": "execute_result"
    }
   ],
   "execution_count": 8
  },
  {
   "metadata": {
    "ExecuteTime": {
     "end_time": "2024-06-12T19:33:54.551838Z",
     "start_time": "2024-06-12T19:33:54.549813Z"
    }
   },
   "cell_type": "code",
   "source": "bias_v.sum()",
   "id": "27cf076eaabd4f99",
   "outputs": [
    {
     "data": {
      "text/plain": [
       "505"
      ]
     },
     "execution_count": 9,
     "metadata": {},
     "output_type": "execute_result"
    }
   ],
   "execution_count": 9
  },
  {
   "metadata": {
    "ExecuteTime": {
     "end_time": "2024-06-12T19:33:54.554101Z",
     "start_time": "2024-06-12T19:33:54.552292Z"
    }
   },
   "cell_type": "code",
   "source": "disease_t.sum()",
   "id": "10881b350992ae4d",
   "outputs": [
    {
     "data": {
      "text/plain": [
       "500"
      ]
     },
     "execution_count": 10,
     "metadata": {},
     "output_type": "execute_result"
    }
   ],
   "execution_count": 10
  },
  {
   "metadata": {
    "ExecuteTime": {
     "end_time": "2024-06-12T19:33:54.557823Z",
     "start_time": "2024-06-12T19:33:54.555901Z"
    }
   },
   "cell_type": "code",
   "source": "disease_v.sum()",
   "id": "7ef8bfd674404f82",
   "outputs": [
    {
     "data": {
      "text/plain": [
       "500"
      ]
     },
     "execution_count": 11,
     "metadata": {},
     "output_type": "execute_result"
    }
   ],
   "execution_count": 11
  },
  {
   "cell_type": "markdown",
   "id": "e33defe2-6af3-468d-bd9e-3f830c804527",
   "metadata": {},
   "source": [
    "## Causal Graph"
   ]
  },
  {
   "cell_type": "code",
   "id": "6daf4154-f20b-4cad-86eb-7bf0de118187",
   "metadata": {
    "ExecuteTime": {
     "end_time": "2024-06-12T19:33:54.560446Z",
     "start_time": "2024-06-12T19:33:54.558336Z"
    }
   },
   "source": [
    "disease_to_latents = [(0,i) for i in range(ncauses,nevecs+ncauses)]\n",
    "\n",
    "bias_to_latents = [(1,i) for i in range(ncauses,nevecs+ncauses)]\n",
    "\n",
    "autoregressive_latents = [(i,j) for i in range(ncauses,nevecs+ncauses) for j in range(i+1,nevecs+ncauses)]\n",
    "# autoregressive_latents = [(i,j) for i in range(ncauses,2*ncauses) for j in range(i+1,nevecs+ncauses)]\n",
    "# autoregressive_latents = []\n",
    "edges = disease_to_latents + bias_to_latents + autoregressive_latents"
   ],
   "outputs": [],
   "execution_count": 12
  },
  {
   "cell_type": "markdown",
   "id": "2aa28e2b-0e9f-4b35-88d9-20ffb827b630",
   "metadata": {},
   "source": [
    "## Priors"
   ]
  },
  {
   "cell_type": "code",
   "id": "e84c3590-a881-43a5-800a-80a19f47fe89",
   "metadata": {
    "ExecuteTime": {
     "end_time": "2024-06-12T19:33:54.563322Z",
     "start_time": "2024-06-12T19:33:54.560890Z"
    }
   },
   "source": [
    "P_bias = np.sum(bias_t)/len(bias_t)\n",
    "print(P_bias)\n",
    "\n",
    "P_dis = np.sum(disease_t)/len(disease_t)\n",
    "print(P_dis)"
   ],
   "outputs": [
    {
     "name": "stdout",
     "output_type": "stream",
     "text": [
      "0.5024875621890548\n",
      "0.4975124378109453\n"
     ]
    }
   ],
   "execution_count": 13
  },
  {
   "metadata": {
    "ExecuteTime": {
     "end_time": "2024-06-12T19:33:54.598250Z",
     "start_time": "2024-06-12T19:33:54.563874Z"
    }
   },
   "cell_type": "code",
   "source": [
    "import torch\n",
    "import yaml\n",
    "from utils.helpers import dict2namespace\n",
    "\n",
    "with open(macaw_path/'config'/'ukbb.yaml', 'r') as f:\n",
    "    config_raw = yaml.load(f, Loader=yaml.FullLoader)\n",
    "    \n",
    "config = dict2namespace(config_raw)\n",
    "config.device = torch.device('cuda') if torch.cuda.is_available() else torch.device('cpu')"
   ],
   "id": "700b254703b316a0",
   "outputs": [],
   "execution_count": 14
  },
  {
   "metadata": {
    "ExecuteTime": {
     "end_time": "2024-06-12T19:33:54.602487Z",
     "start_time": "2024-06-12T19:33:54.599457Z"
    }
   },
   "cell_type": "code",
   "source": "config.device",
   "id": "86c08c0619624c25",
   "outputs": [
    {
     "data": {
      "text/plain": [
       "device(type='cuda')"
      ]
     },
     "execution_count": 15,
     "metadata": {},
     "output_type": "execute_result"
    }
   ],
   "execution_count": 15
  },
  {
   "cell_type": "code",
   "id": "e9e4cdea-a3ed-4b41-9c93-59a4b048e7e4",
   "metadata": {
    "ExecuteTime": {
     "end_time": "2024-06-12T19:33:54.683271Z",
     "start_time": "2024-06-12T19:33:54.603201Z"
    }
   },
   "source": [
    "import torch.distributions as td\n",
    "\n",
    "priors = [(slice(0,1),td.Bernoulli(torch.tensor([P_dis]).to(torch.device(config.device)))), # disease\n",
    "          (slice(1,2),td.Bernoulli(torch.tensor([P_bias]).to(torch.device(config.device)))), # bias\n",
    "          (slice(2,nbasecomps+2),td.Normal(torch.zeros(nbasecomps).to(config.device), torch.ones(nbasecomps).to(config.device))), # base_comps\n",
    "          (slice(nbasecomps+2,nevecs+2),td.Normal(torch.zeros(nevecs-nbasecomps).to(config.device), torch.ones(nevecs-nbasecomps).to(config.device))), # new_comps\n",
    "         ]"
   ],
   "outputs": [],
   "execution_count": 16
  },
  {
   "metadata": {
    "ExecuteTime": {
     "end_time": "2024-06-12T19:33:54.685457Z",
     "start_time": "2024-06-12T19:33:54.683857Z"
    }
   },
   "cell_type": "code",
   "source": [
    "import torch.distributions as td\n",
    "# \n",
    "# priors = [(slice(0,1),td.Bernoulli(torch.tensor([P_dis]).to(torch.device(config.device)))), # disease\n",
    "#           (slice(1,2),td.Bernoulli(torch.tensor([P_bias]).to(torch.device(torch.device(config.device))))), # bias\n",
    "#           (slice(2,nbasecomps+2),td.Normal(torch.zeros(nbasecomps).to(torch.device(config.device)), torch.ones(nbasecomps).to(torch.device(config.device)))), # base_comps\n",
    "#           (slice(nbasecomps+2,nevecs+2),td.Normal(torch.zeros(nevecs-nbasecomps).to(torch.device(config.device)), torch.ones(nevecs-nbasecomps).to(torch.device(config.device)))), # new_comps\n",
    "#          ]"
   ],
   "id": "b7cd3b9f4dba160a",
   "outputs": [],
   "execution_count": 17
  },
  {
   "cell_type": "code",
   "id": "63391695-0396-45ac-ad67-9e62e7340c3e",
   "metadata": {
    "ExecuteTime": {
     "end_time": "2024-06-12T19:33:55.676346Z",
     "start_time": "2024-06-12T19:33:54.685965Z"
    }
   },
   "source": [
    "from torch.utils.tensorboard import SummaryWriter\n",
    "from torchvision import datasets, transforms\n",
    "\n",
    "# Writer will output to ./runs/ directory by default\n",
    "writer = SummaryWriter()"
   ],
   "outputs": [
    {
     "name": "stderr",
     "output_type": "stream",
     "text": [
      "2024-06-12 13:33:54.851730: I tensorflow/core/util/port.cc:110] oneDNN custom operations are on. You may see slightly different numerical results due to floating-point round-off errors from different computation orders. To turn them off, set the environment variable `TF_ENABLE_ONEDNN_OPTS=0`.\n",
      "2024-06-12 13:33:54.852898: I tensorflow/tsl/cuda/cudart_stub.cc:28] Could not find cuda drivers on your machine, GPU will not be used.\n",
      "2024-06-12 13:33:54.878852: I tensorflow/core/platform/cpu_feature_guard.cc:182] This TensorFlow binary is optimized to use available CPU instructions in performance-critical operations.\n",
      "To enable the following instructions: AVX2 AVX512F AVX512_VNNI FMA, in other operations, rebuild TensorFlow with the appropriate compiler flags.\n",
      "2024-06-12 13:33:55.402382: W tensorflow/compiler/tf2tensorrt/utils/py_utils.cc:38] TF-TRT Warning: Could not find TensorRT\n"
     ]
    }
   ],
   "execution_count": 18
  },
  {
   "metadata": {
    "ExecuteTime": {
     "end_time": "2024-06-12T19:33:55.678591Z",
     "start_time": "2024-06-12T19:33:55.676945Z"
    }
   },
   "cell_type": "code",
   "source": "loss_vals = []",
   "id": "f285ab184989a6f",
   "outputs": [],
   "execution_count": 19
  },
  {
   "metadata": {
    "ExecuteTime": {
     "end_time": "2024-06-12T19:33:55.682465Z",
     "start_time": "2024-06-12T19:33:55.679299Z"
    }
   },
   "cell_type": "code",
   "source": [
    "# from macaw import MACAW\n",
    "# \n",
    "# e=0\n",
    "# \n",
    "# save_path = model_base_path/f'0.pt'    \n",
    "# ed_t = encoded_t[:,e:e+nevecs]\n",
    "# ed_v = encoded_v[:,e:e+nevecs]\n",
    "# print(e,e+nevecs)\n",
    "# \n",
    "# # if os.path.exists(save_path): \n",
    "# \n",
    "# X = np.hstack([disease_t[:,np.newaxis], bias_t[:,np.newaxis], ed_t])   \n",
    "# Y = np.hstack([disease_v[:,np.newaxis], bias_v[:,np.newaxis], ed_v])   \n",
    "# \n",
    "# # config.training.num_epochs = 20\n",
    "# # config.optim.learning_rate = 0.001\n",
    "# \n",
    "# macaw = MACAW.MACAW(config)\n",
    "# loss_vals.append(macaw.fit_with_priors(X, Y, edges, priors))\n",
    "# \n",
    "# torch.save(macaw,save_path)"
   ],
   "id": "51d226739a35255c",
   "outputs": [],
   "execution_count": 20
  },
  {
   "cell_type": "code",
   "id": "d7f8b8f4-7da3-4a47-a923-b7840808a8a5",
   "metadata": {
    "ExecuteTime": {
     "end_time": "2024-06-12T19:36:09.113214Z",
     "start_time": "2024-06-12T19:33:55.683127Z"
    }
   },
   "source": [
    "from macaw import MACAW\n",
    "\n",
    "for e in range(0,ncomps-nbasecomps-1,nevecs-nbasecomps):\n",
    "    save_path = model_base_path/f'{e}.pt'    \n",
    "    ed_t = encoded_t[:,e:e+nevecs]\n",
    "    ed_v = encoded_v[:,e:e+nevecs]\n",
    "    print(e,e+nevecs)\n",
    "\n",
    "    # if os.path.exists(save_path): \n",
    "\n",
    "    X = np.hstack([disease_t[:,np.newaxis], bias_t[:,np.newaxis], ed_t])   \n",
    "    Y = np.hstack([disease_v[:,np.newaxis], bias_v[:,np.newaxis], ed_v])   \n",
    "\n",
    "    macaw = MACAW.MACAW(config)\n",
    "    loss_vals.append(macaw.fit_with_priors(X, Y, edges, priors, e))\n",
    "\n",
    "    torch.save(macaw,save_path)"
   ],
   "outputs": [
    {
     "name": "stdout",
     "output_type": "stream",
     "text": [
      "0 50\n"
     ]
    },
    {
     "data": {
      "text/plain": [
       "  0%|          | 0/200 [00:00<?, ?it/s]"
      ],
      "application/vnd.jupyter.widget-view+json": {
       "version_major": 2,
       "version_minor": 0,
       "model_id": "79c24a3651644e6c87f9b55edb61c326"
      }
     },
     "metadata": {},
     "output_type": "display_data"
    },
    {
     "name": "stdout",
     "output_type": "stream",
     "text": [
      "0 0.001\n",
      "105 0.0001\n",
      "151 1e-05\n",
      "Early stopping at epoch 152\n",
      "25 75\n"
     ]
    },
    {
     "data": {
      "text/plain": [
       "  0%|          | 0/200 [00:00<?, ?it/s]"
      ],
      "application/vnd.jupyter.widget-view+json": {
       "version_major": 2,
       "version_minor": 0,
       "model_id": "d458baa086854b48a7f1bbc56128b6c9"
      }
     },
     "metadata": {},
     "output_type": "display_data"
    },
    {
     "name": "stdout",
     "output_type": "stream",
     "text": [
      "0 0.001\n",
      "60 0.0001\n",
      "108 1e-05\n",
      "Early stopping at epoch 111\n",
      "50 100\n"
     ]
    },
    {
     "data": {
      "text/plain": [
       "  0%|          | 0/200 [00:00<?, ?it/s]"
      ],
      "application/vnd.jupyter.widget-view+json": {
       "version_major": 2,
       "version_minor": 0,
       "model_id": "d47fc788fb9647a8aa440339f2c9ffc0"
      }
     },
     "metadata": {},
     "output_type": "display_data"
    },
    {
     "name": "stdout",
     "output_type": "stream",
     "text": [
      "0 0.001\n",
      "61 0.0001\n",
      "Early stopping at epoch 62\n",
      "75 125\n"
     ]
    },
    {
     "data": {
      "text/plain": [
       "  0%|          | 0/200 [00:00<?, ?it/s]"
      ],
      "application/vnd.jupyter.widget-view+json": {
       "version_major": 2,
       "version_minor": 0,
       "model_id": "88b35a5f89db472b9495b94e415c504c"
      }
     },
     "metadata": {},
     "output_type": "display_data"
    },
    {
     "name": "stdout",
     "output_type": "stream",
     "text": [
      "0 0.001\n",
      "83 0.0001\n",
      "Early stopping at epoch 107\n",
      "100 150\n"
     ]
    },
    {
     "data": {
      "text/plain": [
       "  0%|          | 0/200 [00:00<?, ?it/s]"
      ],
      "application/vnd.jupyter.widget-view+json": {
       "version_major": 2,
       "version_minor": 0,
       "model_id": "d629ebe3adfb438880acbdefa71dbd47"
      }
     },
     "metadata": {},
     "output_type": "display_data"
    },
    {
     "name": "stdout",
     "output_type": "stream",
     "text": [
      "0 0.001\n",
      "Early stopping at epoch 75\n",
      "125 175\n"
     ]
    },
    {
     "data": {
      "text/plain": [
       "  0%|          | 0/200 [00:00<?, ?it/s]"
      ],
      "application/vnd.jupyter.widget-view+json": {
       "version_major": 2,
       "version_minor": 0,
       "model_id": "5c77fb7cfb044ef29171442d413c49b7"
      }
     },
     "metadata": {},
     "output_type": "display_data"
    },
    {
     "name": "stdout",
     "output_type": "stream",
     "text": [
      "0 0.001\n",
      "Early stopping at epoch 62\n",
      "150 200\n"
     ]
    },
    {
     "data": {
      "text/plain": [
       "  0%|          | 0/200 [00:00<?, ?it/s]"
      ],
      "application/vnd.jupyter.widget-view+json": {
       "version_major": 2,
       "version_minor": 0,
       "model_id": "c4a6b43e8c6544fcaa9c5abbdddd053b"
      }
     },
     "metadata": {},
     "output_type": "display_data"
    },
    {
     "name": "stdout",
     "output_type": "stream",
     "text": [
      "0 0.001\n",
      "Early stopping at epoch 57\n",
      "175 225\n"
     ]
    },
    {
     "data": {
      "text/plain": [
       "  0%|          | 0/200 [00:00<?, ?it/s]"
      ],
      "application/vnd.jupyter.widget-view+json": {
       "version_major": 2,
       "version_minor": 0,
       "model_id": "23193c984f1048c3a92bfa959d3dd87a"
      }
     },
     "metadata": {},
     "output_type": "display_data"
    },
    {
     "name": "stdout",
     "output_type": "stream",
     "text": [
      "0 0.001\n",
      "Early stopping at epoch 39\n",
      "200 250\n"
     ]
    },
    {
     "data": {
      "text/plain": [
       "  0%|          | 0/200 [00:00<?, ?it/s]"
      ],
      "application/vnd.jupyter.widget-view+json": {
       "version_major": 2,
       "version_minor": 0,
       "model_id": "b130702e7806496f92a8bce77f5250d9"
      }
     },
     "metadata": {},
     "output_type": "display_data"
    },
    {
     "name": "stdout",
     "output_type": "stream",
     "text": [
      "0 0.001\n",
      "Early stopping at epoch 47\n",
      "225 275\n"
     ]
    },
    {
     "data": {
      "text/plain": [
       "  0%|          | 0/200 [00:00<?, ?it/s]"
      ],
      "application/vnd.jupyter.widget-view+json": {
       "version_major": 2,
       "version_minor": 0,
       "model_id": "a9c3f738fca040c981184ad5eaad4de6"
      }
     },
     "metadata": {},
     "output_type": "display_data"
    },
    {
     "name": "stdout",
     "output_type": "stream",
     "text": [
      "0 0.001\n",
      "Early stopping at epoch 49\n",
      "250 300\n"
     ]
    },
    {
     "data": {
      "text/plain": [
       "  0%|          | 0/200 [00:00<?, ?it/s]"
      ],
      "application/vnd.jupyter.widget-view+json": {
       "version_major": 2,
       "version_minor": 0,
       "model_id": "682c3c049c9d40f7a5acf97a2fd5ab65"
      }
     },
     "metadata": {},
     "output_type": "display_data"
    },
    {
     "name": "stdout",
     "output_type": "stream",
     "text": [
      "0 0.001\n",
      "Early stopping at epoch 45\n",
      "275 325\n"
     ]
    },
    {
     "data": {
      "text/plain": [
       "  0%|          | 0/200 [00:00<?, ?it/s]"
      ],
      "application/vnd.jupyter.widget-view+json": {
       "version_major": 2,
       "version_minor": 0,
       "model_id": "c7ef8fde1fbf42f9ad4e2e66177d2184"
      }
     },
     "metadata": {},
     "output_type": "display_data"
    },
    {
     "name": "stdout",
     "output_type": "stream",
     "text": [
      "0 0.001\n",
      "Early stopping at epoch 51\n",
      "300 350\n"
     ]
    },
    {
     "data": {
      "text/plain": [
       "  0%|          | 0/200 [00:00<?, ?it/s]"
      ],
      "application/vnd.jupyter.widget-view+json": {
       "version_major": 2,
       "version_minor": 0,
       "model_id": "fb15731e508d4914aeda02cbdc219382"
      }
     },
     "metadata": {},
     "output_type": "display_data"
    },
    {
     "name": "stdout",
     "output_type": "stream",
     "text": [
      "0 0.001\n",
      "Early stopping at epoch 47\n",
      "325 375\n"
     ]
    },
    {
     "data": {
      "text/plain": [
       "  0%|          | 0/200 [00:00<?, ?it/s]"
      ],
      "application/vnd.jupyter.widget-view+json": {
       "version_major": 2,
       "version_minor": 0,
       "model_id": "197218438fe34e5f8e65665934418c16"
      }
     },
     "metadata": {},
     "output_type": "display_data"
    },
    {
     "name": "stdout",
     "output_type": "stream",
     "text": [
      "0 0.001\n",
      "Early stopping at epoch 55\n",
      "350 400\n"
     ]
    },
    {
     "data": {
      "text/plain": [
       "  0%|          | 0/200 [00:00<?, ?it/s]"
      ],
      "application/vnd.jupyter.widget-view+json": {
       "version_major": 2,
       "version_minor": 0,
       "model_id": "07cec9c65f7541f581afe295e8d99947"
      }
     },
     "metadata": {},
     "output_type": "display_data"
    },
    {
     "name": "stdout",
     "output_type": "stream",
     "text": [
      "0 0.001\n",
      "Early stopping at epoch 61\n",
      "375 425\n"
     ]
    },
    {
     "data": {
      "text/plain": [
       "  0%|          | 0/200 [00:00<?, ?it/s]"
      ],
      "application/vnd.jupyter.widget-view+json": {
       "version_major": 2,
       "version_minor": 0,
       "model_id": "a811ef22e6c44dcb9cdd3d35cce604a0"
      }
     },
     "metadata": {},
     "output_type": "display_data"
    },
    {
     "name": "stdout",
     "output_type": "stream",
     "text": [
      "0 0.001\n",
      "Early stopping at epoch 53\n",
      "400 450\n"
     ]
    },
    {
     "data": {
      "text/plain": [
       "  0%|          | 0/200 [00:00<?, ?it/s]"
      ],
      "application/vnd.jupyter.widget-view+json": {
       "version_major": 2,
       "version_minor": 0,
       "model_id": "f875be8542a5463da4528920c52b737c"
      }
     },
     "metadata": {},
     "output_type": "display_data"
    },
    {
     "name": "stdout",
     "output_type": "stream",
     "text": [
      "0 0.001\n",
      "Early stopping at epoch 58\n",
      "425 475\n"
     ]
    },
    {
     "data": {
      "text/plain": [
       "  0%|          | 0/200 [00:00<?, ?it/s]"
      ],
      "application/vnd.jupyter.widget-view+json": {
       "version_major": 2,
       "version_minor": 0,
       "model_id": "68cd51e06a0245d499c37d0d2ff6c909"
      }
     },
     "metadata": {},
     "output_type": "display_data"
    },
    {
     "name": "stdout",
     "output_type": "stream",
     "text": [
      "0 0.001\n",
      "Early stopping at epoch 59\n",
      "450 500\n"
     ]
    },
    {
     "data": {
      "text/plain": [
       "  0%|          | 0/200 [00:00<?, ?it/s]"
      ],
      "application/vnd.jupyter.widget-view+json": {
       "version_major": 2,
       "version_minor": 0,
       "model_id": "63294de3ae53461499e4281eeb7db795"
      }
     },
     "metadata": {},
     "output_type": "display_data"
    },
    {
     "name": "stdout",
     "output_type": "stream",
     "text": [
      "0 0.001\n",
      "Early stopping at epoch 59\n"
     ]
    }
   ],
   "execution_count": 21
  },
  {
   "metadata": {
    "ExecuteTime": {
     "end_time": "2024-06-12T19:36:09.116413Z",
     "start_time": "2024-06-12T19:36:09.113871Z"
    }
   },
   "cell_type": "code",
   "source": "len(loss_vals)",
   "id": "a8df5daa19131318",
   "outputs": [
    {
     "data": {
      "text/plain": [
       "19"
      ]
     },
     "execution_count": 22,
     "metadata": {},
     "output_type": "execute_result"
    }
   ],
   "execution_count": 22
  },
  {
   "metadata": {
    "ExecuteTime": {
     "end_time": "2024-06-12T19:36:09.121360Z",
     "start_time": "2024-06-12T19:36:09.117063Z"
    }
   },
   "cell_type": "code",
   "source": "len(loss_vals[0][0])",
   "id": "b4319e0bec7c6e3d",
   "outputs": [
    {
     "data": {
      "text/plain": [
       "152"
      ]
     },
     "execution_count": 23,
     "metadata": {},
     "output_type": "execute_result"
    }
   ],
   "execution_count": 23
  },
  {
   "metadata": {
    "ExecuteTime": {
     "end_time": "2024-06-12T19:41:01.001891Z",
     "start_time": "2024-06-12T19:40:59.358050Z"
    }
   },
   "cell_type": "code",
   "source": [
    "# Set up a grid with 3 rows and 4 columns\n",
    "fig, axs = plt.subplots(5, 4, figsize=(15, 10))\n",
    "\n",
    "# Flatten the axes array for easy iteration\n",
    "axs = axs.flatten()\n",
    "\n",
    "# Plot each loss value in the grid\n",
    "for i in range(len(loss_vals)):\n",
    "    axs[i].plot(np.array(loss_vals[i][0]), 'r+')\n",
    "    axs[i].plot(np.array(loss_vals[i][1]), 'b.')\n",
    "    axs[i].set_title(f'Plot {i+1}')\n",
    "\n",
    "# Hide any empty subplots\n",
    "for i in range(len(loss_vals), len(axs)):\n",
    "    fig.delaxes(axs[i])\n",
    "\n",
    "plt.tight_layout()\n",
    "plt.show()"
   ],
   "id": "b398086578c6b01a",
   "outputs": [
    {
     "data": {
      "text/plain": [
       "<Figure size 1500x1000 with 19 Axes>"
      ],
      "image/png": "[encoded data removed]"
     },
     "metadata": {},
     "output_type": "display_data"
    }
   ],
   "execution_count": 28
  },
  {
   "metadata": {
    "ExecuteTime": {
     "end_time": "2024-06-12T19:36:10.779001Z",
     "start_time": "2024-06-12T19:36:10.777475Z"
    }
   },
   "cell_type": "code",
   "source": [
    "# for i in range(len(loss_vals)):\n",
    "#     plt.figure(i)  # Create a new figure for each plot\n",
    "#     plt.plot(np.array(loss_vals[i][0]), 'r+')\n",
    "#     plt.plot(np.array(loss_vals[i][1]), 'b.')\n",
    "#     plt.show()  # Display the plot"
   ],
   "id": "a6b91ebf4e3a2e6f",
   "outputs": [],
   "execution_count": 25
  },
  {
   "cell_type": "code",
   "id": "8e05c561-30a9-4328-be20-06302dc7425c",
   "metadata": {
    "ExecuteTime": {
     "end_time": "2024-06-12T19:36:10.781954Z",
     "start_time": "2024-06-12T19:36:10.779591Z"
    }
   },
   "source": [
    "model_path = model_base_path/'hyperparameters.pkl'\n",
    "\n",
    "with open(model_path, 'wb') as f:\n",
    "    pickle.dump({'ncomps':ncomps, 'nevecs':nevecs,'nbasecomps':nbasecomps, 'ncauses':ncauses, 'crop_size':crop_size}, f)"
   ],
   "outputs": [],
   "execution_count": 26
  },
  {
   "metadata": {
    "ExecuteTime": {
     "end_time": "2024-06-12T19:36:10.786059Z",
     "start_time": "2024-06-12T19:36:10.782510Z"
    }
   },
   "cell_type": "code",
   "source": "loss_vals[0][1]",
   "id": "ffd9b08a4d664a7d",
   "outputs": [
    {
     "data": {
      "text/plain": [
       "[4351.381851196289,\n",
       " 3357.1700744628906,\n",
       " 3008.995620727539,\n",
       " 2755.7351684570312,\n",
       " 2548.211135864258,\n",
       " 2368.727394104004,\n",
       " 2209.20987701416,\n",
       " 2058.0265731811523,\n",
       " 1899.1696395874023,\n",
       " 1733.0552978515625,\n",
       " 1592.7220993041992,\n",
       " 1497.5585479736328,\n",
       " 1428.7610549926758,\n",
       " 1365.5966262817383,\n",
       " 1310.7951622009277,\n",
       " 1242.1973838806152,\n",
       " 1163.1340408325195,\n",
       " 1097.6495361328125,\n",
       " 1005.6099128723145,\n",
       " 945.938606262207,\n",
       " 824.9198265075684,\n",
       " 736.7254962921143,\n",
       " 634.0989017486572,\n",
       " 490.98395347595215,\n",
       " 409.43008518218994,\n",
       " 249.11022853851318,\n",
       " 37.13860630989075,\n",
       " -24.772711277008057,\n",
       " -199.44070768356323,\n",
       " -211.0054624080658,\n",
       " -415.2788276672363,\n",
       " -525.0543441772461,\n",
       " -539.9907097816467,\n",
       " -727.5340538024902,\n",
       " -770.7630596160889,\n",
       " -845.855993270874,\n",
       " -1060.211082458496,\n",
       " -1135.8036727905273,\n",
       " -1123.363182067871,\n",
       " -1333.4833221435547,\n",
       " -1437.5634269714355,\n",
       " -1516.3540229797363,\n",
       " -1583.2466850280762,\n",
       " -1686.9693756103516,\n",
       " -1693.2577896118164,\n",
       " -1834.640968322754,\n",
       " -1913.9140090942383,\n",
       " -1983.2713088989258,\n",
       " -1949.071273803711,\n",
       " -2151.6352767944336,\n",
       " -2205.043815612793,\n",
       " -2298.0916442871094,\n",
       " -2297.515670776367,\n",
       " -2298.5173950195312,\n",
       " -2357.439666748047,\n",
       " -2436.108673095703,\n",
       " -2365.2294387817383,\n",
       " -2408.4716033935547,\n",
       " -2565.0315170288086,\n",
       " -2619.70108795166,\n",
       " -2593.0673828125,\n",
       " -2672.1947708129883,\n",
       " -2735.780418395996,\n",
       " -2662.8009338378906,\n",
       " -2810.7915802001953,\n",
       " -2850.8778915405273,\n",
       " -2827.2367095947266,\n",
       " -3006.2169494628906,\n",
       " -3000.104965209961,\n",
       " -2944.1276626586914,\n",
       " -3014.0264434814453,\n",
       " -3104.609634399414,\n",
       " -3048.727828979492,\n",
       " -2976.224922180176,\n",
       " -3128.763214111328,\n",
       " -3097.257125854492,\n",
       " -2985.851676940918,\n",
       " -2957.9310302734375,\n",
       " -3176.345413208008,\n",
       " -3374.3294067382812,\n",
       " -3329.3772888183594,\n",
       " -3321.5498046875,\n",
       " -3286.6131439208984,\n",
       " -3260.552291870117,\n",
       " -3467.5534057617188,\n",
       " -3329.2469024658203,\n",
       " -3573.1851348876953,\n",
       " -3434.3030700683594,\n",
       " -3624.031448364258,\n",
       " -3481.187789916992,\n",
       " -3457.8423919677734,\n",
       " -3616.7183380126953,\n",
       " -3469.496826171875,\n",
       " -3646.332733154297,\n",
       " -3626.128189086914,\n",
       " -3833.987274169922,\n",
       " -3620.9412231445312,\n",
       " -3868.006591796875,\n",
       " -3703.810577392578,\n",
       " -3799.049606323242,\n",
       " -4009.95263671875,\n",
       " -3915.154312133789,\n",
       " -4011.031997680664,\n",
       " -3805.692886352539,\n",
       " -3917.140335083008,\n",
       " -3776.786148071289,\n",
       " -4502.009780883789,\n",
       " -4700.0689697265625,\n",
       " -4787.556091308594,\n",
       " -4851.4755859375,\n",
       " -4882.471649169922,\n",
       " -4914.955093383789,\n",
       " -4941.243194580078,\n",
       " -4959.650390625,\n",
       " -4973.491516113281,\n",
       " -4987.401763916016,\n",
       " -5003.615692138672,\n",
       " -5021.707336425781,\n",
       " -5037.86799621582,\n",
       " -5051.153778076172,\n",
       " -5062.515319824219,\n",
       " -5074.588180541992,\n",
       " -5087.597152709961,\n",
       " -5101.1036376953125,\n",
       " -5113.881988525391,\n",
       " -5125.975723266602,\n",
       " -5136.768051147461,\n",
       " -5146.550720214844,\n",
       " -5156.82682800293,\n",
       " -5166.016387939453,\n",
       " -5175.760665893555,\n",
       " -5184.07389831543,\n",
       " -5193.104507446289,\n",
       " -5201.0506591796875,\n",
       " -5210.410675048828,\n",
       " -5217.511566162109,\n",
       " -5226.294708251953,\n",
       " -5234.370666503906,\n",
       " -5242.130828857422,\n",
       " -5250.756820678711,\n",
       " -5258.359832763672,\n",
       " -5266.404693603516,\n",
       " -5272.880706787109,\n",
       " -5280.247665405273,\n",
       " -5285.627731323242,\n",
       " -5290.000762939453,\n",
       " -5290.59375,\n",
       " -5292.074905395508,\n",
       " -5299.962188720703,\n",
       " -5313.271682739258,\n",
       " -5292.214614868164,\n",
       " -5267.57275390625]"
      ]
     },
     "execution_count": 27,
     "metadata": {},
     "output_type": "execute_result"
    }
   ],
   "execution_count": 27
  },
  {
   "metadata": {
    "ExecuteTime": {
     "end_time": "2024-06-12T19:36:10.788043Z",
     "start_time": "2024-06-12T19:36:10.786717Z"
    }
   },
   "cell_type": "code",
   "source": "",
   "id": "6e42e0ae2f53ab12",
   "outputs": [],
   "execution_count": 27
  }
 ],
 "metadata": {
  "kernelspec": {
   "display_name": "Python 3",
   "language": "python",
   "name": "python3"
  },
  "language_info": {
   "codemirror_mode": {
    "name": "ipython",
    "version": 3
   },
   "file_extension": ".py",
   "mimetype": "text/x-python",
   "name": "python",
   "nbconvert_exporter": "python",
   "pygments_lexer": "ipython3",
   "version": "3.8.13"
  }
 },
 "nbformat": 4,
 "nbformat_minor": 5
}
