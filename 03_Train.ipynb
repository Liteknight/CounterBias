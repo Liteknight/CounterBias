{
 "cells": [
  {
   "cell_type": "code",
   "id": "ac8ed1c3-9496-49a4-865c-56314f141a9c",
   "metadata": {
    "ExecuteTime": {
     "end_time": "2024-07-18T18:07:31.918697Z",
     "start_time": "2024-07-18T18:07:31.916510Z"
    }
   },
   "source": [
    "nevecs = 50\n",
    "ncomps = 500\n",
    "nbasecomps = 25\n",
    "crop_size=180\n",
    "ncauses = 2\n",
    "dr_method = 'PCA'"
   ],
   "outputs": [],
   "execution_count": 1
  },
  {
   "metadata": {
    "ExecuteTime": {
     "end_time": "2024-07-18T18:07:33.126662Z",
     "start_time": "2024-07-18T18:07:31.927442Z"
    }
   },
   "cell_type": "code",
   "source": [
    "from pathlib import Path\n",
    "import os, sys\n",
    "import torchvision.transforms.functional as F\n",
    "import matplotlib.pyplot as plt\n",
    "import numpy as np\n",
    "import seaborn as sns"
   ],
   "id": "fcd9e09a79faea7c",
   "outputs": [],
   "execution_count": 2
  },
  {
   "cell_type": "code",
   "id": "dc4bfa8c-b51e-4db7-a6c6-48e284f06081",
   "metadata": {
    "ExecuteTime": {
     "end_time": "2024-07-18T18:07:33.130496Z",
     "start_time": "2024-07-18T18:07:33.127681Z"
    }
   },
   "source": [
    "\n",
    "macaw_path = Path(os.getcwd())\n",
    "sys.path.append(str(macaw_path) +'/')\n",
    "\n",
    "exp_name = 'moin_bias'\n",
    "\n",
    "train_csv_path = macaw_path/'splits2/exp199/train.csv'\n",
    "train_img_path = macaw_path/exp_name/'train'\n",
    "\n",
    "val_csv_path = macaw_path/'splits2/exp199/val.csv'\n",
    "val_img_path = macaw_path/exp_name/'val'\n",
    "\n",
    "pca_path = macaw_path/exp_name/f'train_hc_pca_{ncomps}.pkl'\n",
    "\n",
    "train_path = macaw_path/exp_name/f'train_hc_data_{dr_method}_{ncomps}.pkl'\n",
    "val_path = macaw_path/exp_name/f'val_hc_data_{dr_method}_{ncomps}.pkl'\n",
    "model_base_path = macaw_path/'models'/exp_name/f'{dr_method}_{ncomps}'/f'{nevecs}'\n",
    "\n",
    "if not os.path.exists(model_base_path):\n",
    "    os.makedirs(model_base_path)"
   ],
   "outputs": [],
   "execution_count": 3
  },
  {
   "cell_type": "code",
   "id": "5a5449c7-9cf7-45db-9535-4c0eb6ce6da9",
   "metadata": {
    "ExecuteTime": {
     "end_time": "2024-07-18T18:07:33.251882Z",
     "start_time": "2024-07-18T18:07:33.131079Z"
    }
   },
   "source": [
    "import pickle\n",
    "\n",
    "with open(train_path, 'rb') as f:\n",
    "    train = pickle.load(f)\n",
    "    \n",
    "disease_t = train['disease']\n",
    "bias_t = train['bias']\n",
    "\n",
    "encoded_t = train['encoded_data']\n",
    "pca_t = train['pca']"
   ],
   "outputs": [],
   "execution_count": 4
  },
  {
   "metadata": {
    "ExecuteTime": {
     "end_time": "2024-07-18T18:07:33.309349Z",
     "start_time": "2024-07-18T18:07:33.252944Z"
    }
   },
   "cell_type": "code",
   "source": [
    "with open(val_path, 'rb') as f:\n",
    "    val = pickle.load(f)\n",
    "    \n",
    "disease_v = val['disease']\n",
    "bias_v = val['bias']\n",
    "\n",
    "encoded_v = val['encoded_data']\n",
    "pca_v = val['pca']"
   ],
   "id": "7e0e3588590e626c",
   "outputs": [],
   "execution_count": 5
  },
  {
   "metadata": {},
   "cell_type": "markdown",
   "source": "## Causal Graph",
   "id": "e33defe2-6af3-468d-bd9e-3f830c804527"
  },
  {
   "cell_type": "code",
   "id": "6daf4154-f20b-4cad-86eb-7bf0de118187",
   "metadata": {
    "ExecuteTime": {
     "end_time": "2024-07-18T18:07:33.312684Z",
     "start_time": "2024-07-18T18:07:33.309966Z"
    }
   },
   "source": [
    "disease_to_latents = [(0,i) for i in range(ncauses,nevecs+ncauses)]\n",
    "bias_to_latents = [(1,i) for i in range(ncauses,nevecs+ncauses)]\n",
    "\n",
    "autoregressive_latents = [(i,j) for i in range(ncauses,nevecs+ncauses) for j in range(i+1,nevecs+ncauses)]\n",
    "edges = disease_to_latents + bias_to_latents + autoregressive_latents"
   ],
   "outputs": [],
   "execution_count": 6
  },
  {
   "cell_type": "markdown",
   "id": "2aa28e2b-0e9f-4b35-88d9-20ffb827b630",
   "metadata": {},
   "source": [
    "## Priors"
   ]
  },
  {
   "cell_type": "code",
   "id": "e84c3590-a881-43a5-800a-80a19f47fe89",
   "metadata": {
    "ExecuteTime": {
     "end_time": "2024-07-18T18:07:33.316249Z",
     "start_time": "2024-07-18T18:07:33.313337Z"
    }
   },
   "source": [
    "P_bias = np.sum(bias_t)/len(bias_t)\n",
    "print(P_bias)\n",
    "\n",
    "P_dis = np.sum(disease_t)/len(disease_t)\n",
    "print(P_dis)"
   ],
   "outputs": [
    {
     "name": "stdout",
     "output_type": "stream",
     "text": [
      "0.620633631194151\n",
      "0.5418359057676686\n"
     ]
    }
   ],
   "execution_count": 7
  },
  {
   "metadata": {
    "ExecuteTime": {
     "end_time": "2024-07-18T18:07:33.324954Z",
     "start_time": "2024-07-18T18:07:33.316896Z"
    }
   },
   "cell_type": "code",
   "source": [
    "import torch\n",
    "import yaml\n",
    "from utils.helpers import dict2namespace\n",
    "\n",
    "with open(macaw_path/'config'/'ukbb.yaml', 'r') as f:\n",
    "    config_raw = yaml.load(f, Loader=yaml.FullLoader)\n",
    "    \n",
    "config = dict2namespace(config_raw)\n",
    "config.device = torch.device('cuda') if torch.cuda.is_available() else torch.device('cpu')"
   ],
   "id": "700b254703b316a0",
   "outputs": [],
   "execution_count": 8
  },
  {
   "metadata": {
    "ExecuteTime": {
     "end_time": "2024-07-18T18:07:33.328928Z",
     "start_time": "2024-07-18T18:07:33.325694Z"
    }
   },
   "cell_type": "code",
   "source": "config.device",
   "id": "86c08c0619624c25",
   "outputs": [
    {
     "data": {
      "text/plain": [
       "device(type='cuda')"
      ]
     },
     "execution_count": 9,
     "metadata": {},
     "output_type": "execute_result"
    }
   ],
   "execution_count": 9
  },
  {
   "cell_type": "code",
   "id": "e9e4cdea-a3ed-4b41-9c93-59a4b048e7e4",
   "metadata": {
    "ExecuteTime": {
     "end_time": "2024-07-18T18:07:33.399448Z",
     "start_time": "2024-07-18T18:07:33.329383Z"
    }
   },
   "source": [
    "import torch.distributions as td\n",
    "\n",
    "priors = [(slice(0,1),td.Bernoulli(torch.tensor([P_dis]).to(torch.device(config.device)))), # disease\n",
    "          (slice(1,2),td.Bernoulli(torch.tensor([P_bias]).to(torch.device(config.device)))), # bias\n",
    "          (slice(2,nbasecomps+2),td.Normal(torch.zeros(nbasecomps).to(config.device), torch.ones(nbasecomps).to(config.device))), # base_comps\n",
    "          (slice(nbasecomps+2,nevecs+2),td.Normal(torch.zeros(nevecs-nbasecomps).to(config.device), torch.ones(nevecs-nbasecomps).to(config.device))), # new_comps\n",
    "         ]"
   ],
   "outputs": [],
   "execution_count": 10
  },
  {
   "cell_type": "code",
   "id": "63391695-0396-45ac-ad67-9e62e7340c3e",
   "metadata": {
    "ExecuteTime": {
     "end_time": "2024-07-18T18:07:34.398353Z",
     "start_time": "2024-07-18T18:07:33.400710Z"
    }
   },
   "source": [
    "from torch.utils.tensorboard import SummaryWriter\n",
    "from torchvision import datasets, transforms\n",
    "\n",
    "# Writer will output to ./runs/ directory by default\n",
    "writer = SummaryWriter()"
   ],
   "outputs": [
    {
     "name": "stderr",
     "output_type": "stream",
     "text": [
      "2024-07-18 12:07:33.567399: I tensorflow/core/util/port.cc:110] oneDNN custom operations are on. You may see slightly different numerical results due to floating-point round-off errors from different computation orders. To turn them off, set the environment variable `TF_ENABLE_ONEDNN_OPTS=0`.\n",
      "2024-07-18 12:07:33.568445: I tensorflow/tsl/cuda/cudart_stub.cc:28] Could not find cuda drivers on your machine, GPU will not be used.\n",
      "2024-07-18 12:07:33.592892: I tensorflow/core/platform/cpu_feature_guard.cc:182] This TensorFlow binary is optimized to use available CPU instructions in performance-critical operations.\n",
      "To enable the following instructions: AVX2 AVX512F AVX512_VNNI FMA, in other operations, rebuild TensorFlow with the appropriate compiler flags.\n",
      "2024-07-18 12:07:34.120967: W tensorflow/compiler/tf2tensorrt/utils/py_utils.cc:38] TF-TRT Warning: Could not find TensorRT\n"
     ]
    }
   ],
   "execution_count": 11
  },
  {
   "metadata": {
    "ExecuteTime": {
     "end_time": "2024-07-18T18:07:34.400858Z",
     "start_time": "2024-07-18T18:07:34.399055Z"
    }
   },
   "cell_type": "code",
   "source": "loss_vals = []",
   "id": "f285ab184989a6f",
   "outputs": [],
   "execution_count": 12
  },
  {
   "cell_type": "code",
   "id": "d7f8b8f4-7da3-4a47-a923-b7840808a8a5",
   "metadata": {
    "ExecuteTime": {
     "end_time": "2024-07-18T18:09:57.644444Z",
     "start_time": "2024-07-18T18:07:34.401382Z"
    }
   },
   "source": [
    "from macaw import MACAW\n",
    "\n",
    "for e in range(0,ncomps-nbasecomps-1,nevecs-nbasecomps):\n",
    "    save_path = model_base_path/f'{e}.pt'    \n",
    "    ed_t = encoded_t[:,e:e+nevecs]\n",
    "    ed_v = encoded_v[:,e:e+nevecs]\n",
    "    print(e,e+nevecs)\n",
    "\n",
    "    # if os.path.exists(save_path): \n",
    "\n",
    "    X = np.hstack([disease_t[:,np.newaxis], bias_t[:,np.newaxis], ed_t])   \n",
    "    Y = np.hstack([disease_v[:,np.newaxis], bias_v[:,np.newaxis], ed_v])   \n",
    "\n",
    "    macaw = MACAW.MACAW(config)\n",
    "    loss_vals.append(macaw.fit_with_priors(X, Y, edges, priors, e))\n",
    "\n",
    "    torch.save(macaw,save_path)"
   ],
   "outputs": [
    {
     "name": "stdout",
     "output_type": "stream",
     "text": [
      "0 50\n"
     ]
    },
    {
     "data": {
      "text/plain": [
       "  0%|          | 0/200 [00:00<?, ?it/s]"
      ],
      "application/vnd.jupyter.widget-view+json": {
       "version_major": 2,
       "version_minor": 0,
       "model_id": "b756246934af4d30aad056b8f8c139a4"
      }
     },
     "metadata": {},
     "output_type": "display_data"
    },
    {
     "name": "stdout",
     "output_type": "stream",
     "text": [
      "0 0.001\n",
      "104 0.0001\n",
      "159 1e-05\n",
      "Early stopping at epoch 183\n",
      "25 75\n"
     ]
    },
    {
     "data": {
      "text/plain": [
       "  0%|          | 0/200 [00:00<?, ?it/s]"
      ],
      "application/vnd.jupyter.widget-view+json": {
       "version_major": 2,
       "version_minor": 0,
       "model_id": "f6c49fd8cdb740e1b83bbca199f55ee6"
      }
     },
     "metadata": {},
     "output_type": "display_data"
    },
    {
     "name": "stdout",
     "output_type": "stream",
     "text": [
      "0 0.001\n",
      "59 0.0001\n",
      "Early stopping at epoch 86\n",
      "50 100\n"
     ]
    },
    {
     "data": {
      "text/plain": [
       "  0%|          | 0/200 [00:00<?, ?it/s]"
      ],
      "application/vnd.jupyter.widget-view+json": {
       "version_major": 2,
       "version_minor": 0,
       "model_id": "a1b53e47dfdd4ff09f2183e6c91cc01b"
      }
     },
     "metadata": {},
     "output_type": "display_data"
    },
    {
     "name": "stdout",
     "output_type": "stream",
     "text": [
      "0 0.001\n",
      "66 0.0001\n",
      "Early stopping at epoch 90\n",
      "75 125\n"
     ]
    },
    {
     "data": {
      "text/plain": [
       "  0%|          | 0/200 [00:00<?, ?it/s]"
      ],
      "application/vnd.jupyter.widget-view+json": {
       "version_major": 2,
       "version_minor": 0,
       "model_id": "971a1de14f4f4612bbe52556b542ec3d"
      }
     },
     "metadata": {},
     "output_type": "display_data"
    },
    {
     "name": "stdout",
     "output_type": "stream",
     "text": [
      "0 0.001\n",
      "55 0.0001\n",
      "Early stopping at epoch 70\n",
      "100 150\n"
     ]
    },
    {
     "data": {
      "text/plain": [
       "  0%|          | 0/200 [00:00<?, ?it/s]"
      ],
      "application/vnd.jupyter.widget-view+json": {
       "version_major": 2,
       "version_minor": 0,
       "model_id": "4e61f0297d2c499a8682b661bb7f7095"
      }
     },
     "metadata": {},
     "output_type": "display_data"
    },
    {
     "name": "stdout",
     "output_type": "stream",
     "text": [
      "0 0.001\n",
      "51 0.0001\n",
      "Early stopping at epoch 63\n",
      "125 175\n"
     ]
    },
    {
     "data": {
      "text/plain": [
       "  0%|          | 0/200 [00:00<?, ?it/s]"
      ],
      "application/vnd.jupyter.widget-view+json": {
       "version_major": 2,
       "version_minor": 0,
       "model_id": "49b0ba5734054a60b1584535e28acbbc"
      }
     },
     "metadata": {},
     "output_type": "display_data"
    },
    {
     "name": "stdout",
     "output_type": "stream",
     "text": [
      "0 0.001\n",
      "81 0.0001\n",
      "Early stopping at epoch 98\n",
      "150 200\n"
     ]
    },
    {
     "data": {
      "text/plain": [
       "  0%|          | 0/200 [00:00<?, ?it/s]"
      ],
      "application/vnd.jupyter.widget-view+json": {
       "version_major": 2,
       "version_minor": 0,
       "model_id": "9b2c6a8263f44ff79a6093b3c9bd4731"
      }
     },
     "metadata": {},
     "output_type": "display_data"
    },
    {
     "name": "stdout",
     "output_type": "stream",
     "text": [
      "0 0.001\n",
      "Early stopping at epoch 34\n",
      "175 225\n"
     ]
    },
    {
     "data": {
      "text/plain": [
       "  0%|          | 0/200 [00:00<?, ?it/s]"
      ],
      "application/vnd.jupyter.widget-view+json": {
       "version_major": 2,
       "version_minor": 0,
       "model_id": "3e385824b46a44aaac0e24a2994c6ca2"
      }
     },
     "metadata": {},
     "output_type": "display_data"
    },
    {
     "name": "stdout",
     "output_type": "stream",
     "text": [
      "0 0.001\n",
      "Early stopping at epoch 41\n",
      "200 250\n"
     ]
    },
    {
     "data": {
      "text/plain": [
       "  0%|          | 0/200 [00:00<?, ?it/s]"
      ],
      "application/vnd.jupyter.widget-view+json": {
       "version_major": 2,
       "version_minor": 0,
       "model_id": "1777f82a24c540f683b69c9f38ed1a0e"
      }
     },
     "metadata": {},
     "output_type": "display_data"
    },
    {
     "name": "stdout",
     "output_type": "stream",
     "text": [
      "0 0.001\n",
      "Early stopping at epoch 43\n",
      "225 275\n"
     ]
    },
    {
     "data": {
      "text/plain": [
       "  0%|          | 0/200 [00:00<?, ?it/s]"
      ],
      "application/vnd.jupyter.widget-view+json": {
       "version_major": 2,
       "version_minor": 0,
       "model_id": "a5926de297164bf4848bf4dfc9683fb2"
      }
     },
     "metadata": {},
     "output_type": "display_data"
    },
    {
     "name": "stdout",
     "output_type": "stream",
     "text": [
      "0 0.001\n",
      "Early stopping at epoch 41\n",
      "250 300\n"
     ]
    },
    {
     "data": {
      "text/plain": [
       "  0%|          | 0/200 [00:00<?, ?it/s]"
      ],
      "application/vnd.jupyter.widget-view+json": {
       "version_major": 2,
       "version_minor": 0,
       "model_id": "7fb46e5779bf4a168f478d3f70760287"
      }
     },
     "metadata": {},
     "output_type": "display_data"
    },
    {
     "name": "stdout",
     "output_type": "stream",
     "text": [
      "0 0.001\n",
      "Early stopping at epoch 39\n",
      "275 325\n"
     ]
    },
    {
     "data": {
      "text/plain": [
       "  0%|          | 0/200 [00:00<?, ?it/s]"
      ],
      "application/vnd.jupyter.widget-view+json": {
       "version_major": 2,
       "version_minor": 0,
       "model_id": "b543333333bb4d3f966d232b6707b557"
      }
     },
     "metadata": {},
     "output_type": "display_data"
    },
    {
     "name": "stdout",
     "output_type": "stream",
     "text": [
      "0 0.001\n",
      "Early stopping at epoch 39\n",
      "300 350\n"
     ]
    },
    {
     "data": {
      "text/plain": [
       "  0%|          | 0/200 [00:00<?, ?it/s]"
      ],
      "application/vnd.jupyter.widget-view+json": {
       "version_major": 2,
       "version_minor": 0,
       "model_id": "2308a995972949148a1ac2663638baa9"
      }
     },
     "metadata": {},
     "output_type": "display_data"
    },
    {
     "name": "stdout",
     "output_type": "stream",
     "text": [
      "0 0.001\n",
      "Early stopping at epoch 47\n",
      "325 375\n"
     ]
    },
    {
     "data": {
      "text/plain": [
       "  0%|          | 0/200 [00:00<?, ?it/s]"
      ],
      "application/vnd.jupyter.widget-view+json": {
       "version_major": 2,
       "version_minor": 0,
       "model_id": "690438e2e9a448b1b661816243eaf336"
      }
     },
     "metadata": {},
     "output_type": "display_data"
    },
    {
     "name": "stdout",
     "output_type": "stream",
     "text": [
      "0 0.001\n",
      "Early stopping at epoch 44\n",
      "350 400\n"
     ]
    },
    {
     "data": {
      "text/plain": [
       "  0%|          | 0/200 [00:00<?, ?it/s]"
      ],
      "application/vnd.jupyter.widget-view+json": {
       "version_major": 2,
       "version_minor": 0,
       "model_id": "2ee37f3f4b9c489290df2aedcf6a24ae"
      }
     },
     "metadata": {},
     "output_type": "display_data"
    },
    {
     "name": "stdout",
     "output_type": "stream",
     "text": [
      "0 0.001\n",
      "Early stopping at epoch 39\n",
      "375 425\n"
     ]
    },
    {
     "data": {
      "text/plain": [
       "  0%|          | 0/200 [00:00<?, ?it/s]"
      ],
      "application/vnd.jupyter.widget-view+json": {
       "version_major": 2,
       "version_minor": 0,
       "model_id": "f75a8adb3aec4affac81bf3316b4d775"
      }
     },
     "metadata": {},
     "output_type": "display_data"
    },
    {
     "name": "stdout",
     "output_type": "stream",
     "text": [
      "0 0.001\n",
      "Early stopping at epoch 48\n",
      "400 450\n"
     ]
    },
    {
     "data": {
      "text/plain": [
       "  0%|          | 0/200 [00:00<?, ?it/s]"
      ],
      "application/vnd.jupyter.widget-view+json": {
       "version_major": 2,
       "version_minor": 0,
       "model_id": "13bafd8a88494937b4febd96d5fdd7fa"
      }
     },
     "metadata": {},
     "output_type": "display_data"
    },
    {
     "name": "stdout",
     "output_type": "stream",
     "text": [
      "0 0.001\n",
      "Early stopping at epoch 43\n",
      "425 475\n"
     ]
    },
    {
     "data": {
      "text/plain": [
       "  0%|          | 0/200 [00:00<?, ?it/s]"
      ],
      "application/vnd.jupyter.widget-view+json": {
       "version_major": 2,
       "version_minor": 0,
       "model_id": "17d375fc1cb24742ad50bc58d207db61"
      }
     },
     "metadata": {},
     "output_type": "display_data"
    },
    {
     "name": "stdout",
     "output_type": "stream",
     "text": [
      "0 0.001\n",
      "Early stopping at epoch 41\n",
      "450 500\n"
     ]
    },
    {
     "data": {
      "text/plain": [
       "  0%|          | 0/200 [00:00<?, ?it/s]"
      ],
      "application/vnd.jupyter.widget-view+json": {
       "version_major": 2,
       "version_minor": 0,
       "model_id": "7d93bbfde84746eda538b65e563a40ef"
      }
     },
     "metadata": {},
     "output_type": "display_data"
    },
    {
     "name": "stdout",
     "output_type": "stream",
     "text": [
      "0 0.001\n",
      "Early stopping at epoch 44\n"
     ]
    }
   ],
   "execution_count": 13
  },
  {
   "metadata": {
    "ExecuteTime": {
     "end_time": "2024-07-18T18:09:57.647469Z",
     "start_time": "2024-07-18T18:09:57.644996Z"
    }
   },
   "cell_type": "code",
   "source": "len(loss_vals)",
   "id": "a8df5daa19131318",
   "outputs": [
    {
     "data": {
      "text/plain": [
       "19"
      ]
     },
     "execution_count": 14,
     "metadata": {},
     "output_type": "execute_result"
    }
   ],
   "execution_count": 14
  },
  {
   "metadata": {
    "ExecuteTime": {
     "end_time": "2024-07-18T18:09:57.650210Z",
     "start_time": "2024-07-18T18:09:57.648043Z"
    }
   },
   "cell_type": "code",
   "source": "len(loss_vals[0][0])",
   "id": "b4319e0bec7c6e3d",
   "outputs": [
    {
     "data": {
      "text/plain": [
       "183"
      ]
     },
     "execution_count": 15,
     "metadata": {},
     "output_type": "execute_result"
    }
   ],
   "execution_count": 15
  },
  {
   "metadata": {
    "ExecuteTime": {
     "end_time": "2024-07-18T18:09:59.303037Z",
     "start_time": "2024-07-18T18:09:57.650715Z"
    }
   },
   "cell_type": "code",
   "source": [
    "# Set up a grid with 3 rows and 4 columns\n",
    "fig, axs = plt.subplots(5, 4, figsize=(15, 10))\n",
    "\n",
    "# Flatten the axes array for easy iteration\n",
    "axs = axs.flatten()\n",
    "\n",
    "# Plot each loss value in the grid\n",
    "for i in range(len(loss_vals)):\n",
    "    axs[i].plot(np.array(loss_vals[i][0]), 'r+')\n",
    "    axs[i].plot(np.array(loss_vals[i][1]), 'b.')\n",
    "    axs[i].set_title(f'Plot {i+1}')\n",
    "\n",
    "# Hide any empty subplots\n",
    "for i in range(len(loss_vals), len(axs)):\n",
    "    fig.delaxes(axs[i])\n",
    "\n",
    "plt.tight_layout()\n",
    "plt.show()"
   ],
   "id": "b398086578c6b01a",
   "outputs": [
    {
     "data": {
      "text/plain": [
       "<Figure size 1500x1000 with 19 Axes>"
      ],
      "image/png": "[encoded data removed]"
     },
     "metadata": {},
     "output_type": "display_data"
    }
   ],
   "execution_count": 16
  },
  {
   "metadata": {
    "ExecuteTime": {
     "end_time": "2024-07-18T18:09:59.305133Z",
     "start_time": "2024-07-18T18:09:59.303656Z"
    }
   },
   "cell_type": "code",
   "source": [
    "# for i in range(len(loss_vals)):\n",
    "#     plt.figure(i)  # Create a new figure for each plot\n",
    "#     plt.plot(np.array(loss_vals[i][0]), 'r+')\n",
    "#     plt.plot(np.array(loss_vals[i][1]), 'b.')\n",
    "#     plt.show()  # Display the plot"
   ],
   "id": "a6b91ebf4e3a2e6f",
   "outputs": [],
   "execution_count": 17
  },
  {
   "cell_type": "code",
   "id": "8e05c561-30a9-4328-be20-06302dc7425c",
   "metadata": {
    "ExecuteTime": {
     "end_time": "2024-07-18T18:09:59.308635Z",
     "start_time": "2024-07-18T18:09:59.305625Z"
    }
   },
   "source": [
    "model_path = model_base_path/'hyperparameters.pkl'\n",
    "\n",
    "with open(model_path, 'wb') as f:\n",
    "    pickle.dump({'ncomps':ncomps, 'nevecs':nevecs,'nbasecomps':nbasecomps, 'ncauses':ncauses, 'crop_size':crop_size}, f)"
   ],
   "outputs": [],
   "execution_count": 18
  },
  {
   "metadata": {
    "ExecuteTime": {
     "end_time": "2024-07-18T18:09:59.312383Z",
     "start_time": "2024-07-18T18:09:59.309319Z"
    }
   },
   "cell_type": "code",
   "source": "loss_vals[0][1]",
   "id": "ffd9b08a4d664a7d",
   "outputs": [
    {
     "data": {
      "text/plain": [
       "[5127.371783447265,\n",
       " 4421.557208251953,\n",
       " 3997.1665771484377,\n",
       " 3664.146807861328,\n",
       " 3364.21022644043,\n",
       " 3076.0226318359373,\n",
       " 2781.606640625,\n",
       " 2502.1103271484376,\n",
       " 2311.901983642578,\n",
       " 2185.0351837158205,\n",
       " 2072.3688934326174,\n",
       " 1957.2202911376953,\n",
       " 1860.8739852905273,\n",
       " 1881.7578903198241,\n",
       " 1646.8162384033203,\n",
       " 1535.2476303100586,\n",
       " 1605.6066329956054,\n",
       " 1490.3181076049805,\n",
       " 1228.7000045776367,\n",
       " 1079.601821899414,\n",
       " 895.2439735412597,\n",
       " 881.2574920654297,\n",
       " 676.5315765380859,\n",
       " 570.2442001342773,\n",
       " 646.3970794677734,\n",
       " 395.8699378967285,\n",
       " 405.6749126434326,\n",
       " 184.85182704925538,\n",
       " 5.341350555419922,\n",
       " -37.225593948364256,\n",
       " -221.07960357666016,\n",
       " -152.6103542327881,\n",
       " -247.83912200927733,\n",
       " -278.5332206726074,\n",
       " -259.8644220352173,\n",
       " -452.3914852142334,\n",
       " -492.4496885299683,\n",
       " -856.8814338684082,\n",
       " -732.260334777832,\n",
       " -754.6223136901856,\n",
       " -902.7610763549804,\n",
       " -869.7086082458496,\n",
       " -937.9091430664063,\n",
       " -987.5744094848633,\n",
       " -1038.5281127929688,\n",
       " -817.4879737854004,\n",
       " -1070.42705078125,\n",
       " -1211.264910888672,\n",
       " -1382.262109375,\n",
       " -1233.3185150146485,\n",
       " -1160.974691772461,\n",
       " -1128.5276657104491,\n",
       " -1350.827456665039,\n",
       " -1512.4203552246095,\n",
       " -1420.76923828125,\n",
       " -1503.339776611328,\n",
       " -1622.0799942016602,\n",
       " -1521.1220428466797,\n",
       " -1502.9056762695313,\n",
       " -1505.785562133789,\n",
       " -1532.2896728515625,\n",
       " -1668.5427703857422,\n",
       " -1514.4803466796875,\n",
       " -1707.9658599853515,\n",
       " -1860.8104187011718,\n",
       " -1995.1045272827148,\n",
       " -1879.2524948120117,\n",
       " -1923.1614898681642,\n",
       " -2080.3961196899413,\n",
       " -2112.5142456054687,\n",
       " -2226.279789733887,\n",
       " -1926.2249786376954,\n",
       " -2332.759262084961,\n",
       " -2294.4390411376953,\n",
       " -2293.2829727172852,\n",
       " -2371.0048828125,\n",
       " -2414.5716659545897,\n",
       " -2422.273387145996,\n",
       " -2262.7294860839843,\n",
       " -2370.811508178711,\n",
       " -2394.638021850586,\n",
       " -2412.682336425781,\n",
       " -2163.0682525634766,\n",
       " -2468.5537963867187,\n",
       " -1938.5090377807617,\n",
       " -2448.4533874511717,\n",
       " -2571.9760559082033,\n",
       " -2580.9613342285156,\n",
       " -2821.426129150391,\n",
       " -2734.004458618164,\n",
       " -2564.278579711914,\n",
       " -2355.022283935547,\n",
       " -2632.6978240966796,\n",
       " -2638.44384765625,\n",
       " -2706.921350097656,\n",
       " -2957.983059692383,\n",
       " -2882.04794921875,\n",
       " -2723.5912963867186,\n",
       " -2920.2123138427733,\n",
       " -2956.6924377441405,\n",
       " -2880.8050903320313,\n",
       " -2763.326644897461,\n",
       " -2793.9131591796877,\n",
       " -2749.9999816894533,\n",
       " -2817.9411285400392,\n",
       " -3804.397113037109,\n",
       " -4065.3567626953127,\n",
       " -4115.216394042969,\n",
       " -4132.357501220703,\n",
       " -4156.723352050782,\n",
       " -4181.773162841797,\n",
       " -4211.335684204101,\n",
       " -4236.296038818359,\n",
       " -4257.280496215821,\n",
       " -4273.616659545898,\n",
       " -4286.343286132813,\n",
       " -4297.773272705078,\n",
       " -4307.014654541015,\n",
       " -4314.6951904296875,\n",
       " -4322.248281860351,\n",
       " -4329.489477539062,\n",
       " -4341.152450561523,\n",
       " -4357.329696655273,\n",
       " -4378.812951660157,\n",
       " -4400.103341674805,\n",
       " -4401.608209228516,\n",
       " -4363.532980346679,\n",
       " -4415.141058349609,\n",
       " -4460.566976928711,\n",
       " -4468.791641235352,\n",
       " -4470.868170166015,\n",
       " -4461.606616210937,\n",
       " -4479.190631103515,\n",
       " -4482.90523071289,\n",
       " -4486.31337890625,\n",
       " -4508.122668457031,\n",
       " -4534.929315185547,\n",
       " -4546.862841796875,\n",
       " -4556.171691894531,\n",
       " -4564.404223632812,\n",
       " -4567.717401123047,\n",
       " -4567.305822753906,\n",
       " -4572.220031738281,\n",
       " -4593.248968505859,\n",
       " -4594.892761230469,\n",
       " -4602.358721923828,\n",
       " -4622.048999023437,\n",
       " -4608.164581298828,\n",
       " -4591.269848632813,\n",
       " -4633.852166748047,\n",
       " -4636.130688476563,\n",
       " -4635.333367919922,\n",
       " -4651.652258300781,\n",
       " -4656.885192871094,\n",
       " -4645.013879394532,\n",
       " -4619.111065673828,\n",
       " -4625.292150878906,\n",
       " -4643.9652648925785,\n",
       " -4532.347402954101,\n",
       " -4516.223284912109,\n",
       " -4843.224450683594,\n",
       " -4893.160229492188,\n",
       " -4913.747662353516,\n",
       " -4923.42275390625,\n",
       " -4930.412438964844,\n",
       " -4936.562414550781,\n",
       " -4942.098571777344,\n",
       " -4946.921350097657,\n",
       " -4951.258709716797,\n",
       " -4955.19291381836,\n",
       " -4958.853125,\n",
       " -4962.2115234375,\n",
       " -4965.367340087891,\n",
       " -4968.315173339844,\n",
       " -4971.1463623046875,\n",
       " -4973.819622802735,\n",
       " -4976.375830078125,\n",
       " -4978.807287597656,\n",
       " -4981.142260742187,\n",
       " -4983.382269287109,\n",
       " -4985.5958801269535,\n",
       " -4987.662780761719,\n",
       " -4989.687902832031]"
      ]
     },
     "execution_count": 19,
     "metadata": {},
     "output_type": "execute_result"
    }
   ],
   "execution_count": 19
  },
  {
   "metadata": {
    "ExecuteTime": {
     "end_time": "2024-07-18T18:09:59.314251Z",
     "start_time": "2024-07-18T18:09:59.312879Z"
    }
   },
   "cell_type": "code",
   "source": "",
   "id": "6e42e0ae2f53ab12",
   "outputs": [],
   "execution_count": 19
  }
 ],
 "metadata": {
  "kernelspec": {
   "display_name": "Python 3",
   "language": "python",
   "name": "python3"
  },
  "language_info": {
   "codemirror_mode": {
    "name": "ipython",
    "version": 3
   },
   "file_extension": ".py",
   "mimetype": "text/x-python",
   "name": "python",
   "nbconvert_exporter": "python",
   "pygments_lexer": "ipython3",
   "version": "3.8.13"
  }
 },
 "nbformat": 4,
 "nbformat_minor": 5
}
