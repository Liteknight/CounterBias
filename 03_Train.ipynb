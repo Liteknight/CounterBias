{
 "cells": [
  {
   "cell_type": "code",
   "id": "ac8ed1c3-9496-49a4-865c-56314f141a9c",
   "metadata": {
    "ExecuteTime": {
     "end_time": "2024-05-28T19:46:04.900365Z",
     "start_time": "2024-05-28T19:46:04.898158Z"
    }
   },
   "source": [
    "nevecs = 60\n",
    "ncomps = 500\n",
    "nbasecomps = 20\n",
    "crop_size=180\n",
    "ncauses = 2\n",
    "dr_method = 'PCA'"
   ],
   "outputs": [],
   "execution_count": 22
  },
  {
   "metadata": {
    "ExecuteTime": {
     "end_time": "2024-05-28T19:46:04.980554Z",
     "start_time": "2024-05-28T19:46:04.978821Z"
    }
   },
   "cell_type": "code",
   "source": [
    "from pathlib import Path\n",
    "import os, sys"
   ],
   "id": "fcd9e09a79faea7c",
   "outputs": [],
   "execution_count": 23
  },
  {
   "cell_type": "code",
   "id": "dc4bfa8c-b51e-4db7-a6c6-48e284f06081",
   "metadata": {
    "ExecuteTime": {
     "end_time": "2024-05-28T19:46:04.990723Z",
     "start_time": "2024-05-28T19:46:04.987972Z"
    }
   },
   "source": [
    "\n",
    "macaw_path = Path(os.getcwd())\n",
    "sys.path.append(str(macaw_path) +'/')\n",
    "\n",
    "exp_name = 'far_bias'\n",
    "\n",
    "train_csv_path = macaw_path/'splits'/'train.csv'\n",
    "train_img_path = macaw_path/'no_bias'/'train'\n",
    "\n",
    "# test_csv_path = macaw_path/'data'/'ukbb'/'test_hc.csv'\n",
    "# test_img_path = macaw_path/'data'/'ukbb'/'axial'/'test_hc'\n",
    "# \n",
    "pca_path = macaw_path/exp_name/f'train_hc_pca_{ncomps}.pkl'\n",
    "# \n",
    "train_path = macaw_path/exp_name/f'train_hc_data_PCA_{ncomps}.pkl'\n",
    "# test_path = macaw_path/'data'/'ukbb'/'axial'/f'test_hc_data_PCA_{ncomps}.pkl'\n",
    "model_base_path = macaw_path/'models'/exp_name/f'{dr_method}_{ncomps}'/f'{nevecs}'\n",
    "\n",
    "if not os.path.exists(model_base_path):\n",
    "    os.makedirs(model_base_path)"
   ],
   "outputs": [],
   "execution_count": 24
  },
  {
   "cell_type": "code",
   "id": "5a5449c7-9cf7-45db-9535-4c0eb6ce6da9",
   "metadata": {
    "ExecuteTime": {
     "end_time": "2024-05-28T19:46:05.060598Z",
     "start_time": "2024-05-28T19:46:04.998052Z"
    }
   },
   "source": [
    "import pickle\n",
    "\n",
    "with open(train_path, 'rb') as f:\n",
    "    train = pickle.load(f)\n",
    "    \n",
    "disease = train['disease']\n",
    "bias = train['bias']\n",
    "\n",
    "encoded_data = train['encoded_data']\n",
    "pca = train['pca']"
   ],
   "outputs": [],
   "execution_count": 25
  },
  {
   "metadata": {
    "ExecuteTime": {
     "end_time": "2024-05-28T19:46:05.063573Z",
     "start_time": "2024-05-28T19:46:05.061377Z"
    }
   },
   "cell_type": "code",
   "source": "encoded_data.shape",
   "id": "8541fe03a78b9024",
   "outputs": [
    {
     "data": {
      "text/plain": [
       "(1005, 500)"
      ]
     },
     "execution_count": 26,
     "metadata": {},
     "output_type": "execute_result"
    }
   ],
   "execution_count": 26
  },
  {
   "cell_type": "code",
   "id": "00a80963-08f9-42d0-a786-304c80838e59",
   "metadata": {
    "ExecuteTime": {
     "end_time": "2024-05-28T19:46:05.066186Z",
     "start_time": "2024-05-28T19:46:05.064258Z"
    }
   },
   "source": [
    "import torchvision.transforms.functional as F\n",
    "import matplotlib.pyplot as plt\n",
    "import numpy as np"
   ],
   "outputs": [],
   "execution_count": 27
  },
  {
   "cell_type": "code",
   "id": "d913b8ea-75cf-4ab0-820c-9eb460a83870",
   "metadata": {
    "ExecuteTime": {
     "end_time": "2024-05-28T19:46:05.336753Z",
     "start_time": "2024-05-28T19:46:05.067361Z"
    }
   },
   "source": [
    "import seaborn as sns\n",
    "\n",
    "sb = 2\n",
    "fig, axs = plt.subplots(1,sb, figsize=(sb*5,5))\n",
    "\n",
    "sns.histplot(bias,ax=axs[0],fill=True)\n",
    "axs[0].set(title = \"bias\")\n",
    "sns.histplot(disease,ax=axs[1], fill=True)\n",
    "axs[1].set(title=\"disease\")\n",
    "# sns.histplot(encoded_data[0],ax=axs[3], fill=True)\n",
    "# axs[3].set(title=\"PCA0\")"
   ],
   "outputs": [
    {
     "data": {
      "text/plain": [
       "[Text(0.5, 1.0, 'disease')]"
      ]
     },
     "execution_count": 28,
     "metadata": {},
     "output_type": "execute_result"
    },
    {
     "data": {
      "text/plain": [
       "<Figure size 1000x500 with 2 Axes>"
      ],
      "image/png": "[encoded data removed]"
     },
     "metadata": {},
     "output_type": "display_data"
    }
   ],
   "execution_count": 28
  },
  {
   "cell_type": "markdown",
   "id": "e33defe2-6af3-468d-bd9e-3f830c804527",
   "metadata": {},
   "source": [
    "## Causal Graph"
   ]
  },
  {
   "cell_type": "code",
   "id": "6daf4154-f20b-4cad-86eb-7bf0de118187",
   "metadata": {
    "ExecuteTime": {
     "end_time": "2024-05-28T19:46:05.339772Z",
     "start_time": "2024-05-28T19:46:05.337366Z"
    }
   },
   "source": [
    "disease_to_latents = [(0,i) for i in range(ncauses,nevecs+ncauses)]\n",
    "\n",
    "bias_to_latents = [(1,i) for i in range(ncauses,nevecs+ncauses)]\n",
    "\n",
    "autoregressive_latents = [(i,j) for i in range(ncauses,nevecs+ncauses) for j in range(i+1,nevecs+ncauses)]\n",
    "# autoregressive_latents = [(i,j) for i in range(ncauses,2*ncauses) for j in range(i+1,nevecs+ncauses)]\n",
    "# autoregressive_latents = []\n",
    "edges = disease_to_latents + bias_to_latents + autoregressive_latents"
   ],
   "outputs": [],
   "execution_count": 29
  },
  {
   "cell_type": "markdown",
   "id": "2aa28e2b-0e9f-4b35-88d9-20ffb827b630",
   "metadata": {},
   "source": [
    "## Priors"
   ]
  },
  {
   "cell_type": "code",
   "id": "e84c3590-a881-43a5-800a-80a19f47fe89",
   "metadata": {
    "ExecuteTime": {
     "end_time": "2024-05-28T19:46:05.342950Z",
     "start_time": "2024-05-28T19:46:05.340422Z"
    }
   },
   "source": [
    "P_bias = np.sum(bias)/len(bias)\n",
    "print(P_bias)\n",
    "\n",
    "P_dis = np.sum(disease)/len(disease)\n",
    "print(P_dis)"
   ],
   "outputs": [
    {
     "name": "stdout",
     "output_type": "stream",
     "text": [
      "0.5024875621890548\n",
      "0.4975124378109453\n"
     ]
    }
   ],
   "execution_count": 30
  },
  {
   "metadata": {
    "ExecuteTime": {
     "end_time": "2024-05-28T19:46:05.346529Z",
     "start_time": "2024-05-28T19:46:05.343513Z"
    }
   },
   "cell_type": "code",
   "source": [
    "import torch\n",
    "import yaml\n",
    "from utils.helpers import dict2namespace\n",
    "\n",
    "with open(macaw_path/'config'/'ukbb.yaml', 'r') as f:\n",
    "    config_raw = yaml.load(f, Loader=yaml.FullLoader)\n",
    "    \n",
    "config = dict2namespace(config_raw)\n",
    "config.device = torch.device('cuda') if torch.cuda.is_available() else torch.device('cpu')"
   ],
   "id": "700b254703b316a0",
   "outputs": [],
   "execution_count": 31
  },
  {
   "metadata": {
    "ExecuteTime": {
     "end_time": "2024-05-28T19:46:05.349575Z",
     "start_time": "2024-05-28T19:46:05.347011Z"
    }
   },
   "cell_type": "code",
   "source": "torch.cuda.is_available()",
   "id": "f9bed2886d08b24c",
   "outputs": [
    {
     "data": {
      "text/plain": [
       "True"
      ]
     },
     "execution_count": 32,
     "metadata": {},
     "output_type": "execute_result"
    }
   ],
   "execution_count": 32
  },
  {
   "metadata": {
    "ExecuteTime": {
     "end_time": "2024-05-28T19:46:05.352131Z",
     "start_time": "2024-05-28T19:46:05.350055Z"
    }
   },
   "cell_type": "code",
   "source": "config.device",
   "id": "86c08c0619624c25",
   "outputs": [
    {
     "data": {
      "text/plain": [
       "device(type='cuda')"
      ]
     },
     "execution_count": 33,
     "metadata": {},
     "output_type": "execute_result"
    }
   ],
   "execution_count": 33
  },
  {
   "cell_type": "code",
   "id": "e9e4cdea-a3ed-4b41-9c93-59a4b048e7e4",
   "metadata": {
    "ExecuteTime": {
     "end_time": "2024-05-28T19:46:05.359328Z",
     "start_time": "2024-05-28T19:46:05.353269Z"
    }
   },
   "source": [
    "import torch.distributions as td\n",
    "\n",
    "priors = [(slice(0,1),td.Bernoulli(torch.tensor([P_bias]).to(torch.device(config.device)))), # bias\n",
    "          (slice(1,2),td.Bernoulli(torch.tensor([P_dis]).to(torch.device(config.device)))), # disease\n",
    "          (slice(nbasecomps+2,nevecs+2),td.Normal(torch.zeros(nevecs-nbasecomps).to(torch.device(config.device)), torch.ones(nevecs-nbasecomps).to(torch.device(config.device)))), # new_comps\n",
    "         ]"
   ],
   "outputs": [],
   "execution_count": 34
  },
  {
   "cell_type": "code",
   "id": "63391695-0396-45ac-ad67-9e62e7340c3e",
   "metadata": {
    "ExecuteTime": {
     "end_time": "2024-05-28T19:46:05.362083Z",
     "start_time": "2024-05-28T19:46:05.359892Z"
    }
   },
   "source": [
    "from torch.utils.tensorboard import SummaryWriter\n",
    "from torchvision import datasets, transforms\n",
    "\n",
    "# Writer will output to ./runs/ directory by default\n",
    "writer = SummaryWriter()"
   ],
   "outputs": [],
   "execution_count": 35
  },
  {
   "metadata": {
    "ExecuteTime": {
     "end_time": "2024-05-28T19:46:05.364284Z",
     "start_time": "2024-05-28T19:46:05.362584Z"
    }
   },
   "cell_type": "code",
   "source": "loss_vals = []",
   "id": "f285ab184989a6f",
   "outputs": [],
   "execution_count": 36
  },
  {
   "cell_type": "code",
   "id": "d7f8b8f4-7da3-4a47-a923-b7840808a8a5",
   "metadata": {
    "ExecuteTime": {
     "end_time": "2024-05-28T19:46:58.340977Z",
     "start_time": "2024-05-28T19:46:33.990326Z"
    }
   },
   "source": [
    "from macaw import MACAW\n",
    "\n",
    "for e in range(0,479,nevecs-nbasecomps):\n",
    "    save_path = model_base_path/f'{e}.pt'    \n",
    "    ed =  encoded_data[:,e:e+nevecs]\n",
    "    print(e,e+nevecs)\n",
    "    \n",
    "    if not os.path.exists(save_path): \n",
    "       \n",
    "        X = np.hstack([bias[:,np.newaxis], disease[:,np.newaxis], ed])    \n",
    "\n",
    "        macaw = MACAW.MACAW(config)\n",
    "        loss_vals.append(macaw.fit_with_priors(X,edges, priors))\n",
    "\n",
    "        torch.save(macaw,save_path)\n",
    "    else:\n",
    "        print(\"Skipping\")"
   ],
   "outputs": [
    {
     "name": "stdout",
     "output_type": "stream",
     "text": [
      "0 60\n"
     ]
    },
    {
     "data": {
      "text/plain": [
       "  0%|          | 0/50 [00:00<?, ?it/s]"
      ],
      "application/vnd.jupyter.widget-view+json": {
       "version_major": 2,
       "version_minor": 0,
       "model_id": "49a215b96a7246b5a6d735a3e9d835af"
      }
     },
     "metadata": {},
     "output_type": "display_data"
    },
    {
     "name": "stdout",
     "output_type": "stream",
     "text": [
      "40 100\n"
     ]
    },
    {
     "data": {
      "text/plain": [
       "  0%|          | 0/50 [00:00<?, ?it/s]"
      ],
      "application/vnd.jupyter.widget-view+json": {
       "version_major": 2,
       "version_minor": 0,
       "model_id": "9caa064d4a544aa388233475df347763"
      }
     },
     "metadata": {},
     "output_type": "display_data"
    },
    {
     "name": "stdout",
     "output_type": "stream",
     "text": [
      "80 140\n"
     ]
    },
    {
     "data": {
      "text/plain": [
       "  0%|          | 0/50 [00:00<?, ?it/s]"
      ],
      "application/vnd.jupyter.widget-view+json": {
       "version_major": 2,
       "version_minor": 0,
       "model_id": "6126ea47de6e418a8dcbf657bea83ac8"
      }
     },
     "metadata": {},
     "output_type": "display_data"
    },
    {
     "name": "stdout",
     "output_type": "stream",
     "text": [
      "120 180\n"
     ]
    },
    {
     "data": {
      "text/plain": [
       "  0%|          | 0/50 [00:00<?, ?it/s]"
      ],
      "application/vnd.jupyter.widget-view+json": {
       "version_major": 2,
       "version_minor": 0,
       "model_id": "5e7c911d61cd46db80c66d01d4deefee"
      }
     },
     "metadata": {},
     "output_type": "display_data"
    },
    {
     "name": "stdout",
     "output_type": "stream",
     "text": [
      "160 220\n"
     ]
    },
    {
     "data": {
      "text/plain": [
       "  0%|          | 0/50 [00:00<?, ?it/s]"
      ],
      "application/vnd.jupyter.widget-view+json": {
       "version_major": 2,
       "version_minor": 0,
       "model_id": "7096592df7544cbca3c6c94af54372fe"
      }
     },
     "metadata": {},
     "output_type": "display_data"
    },
    {
     "name": "stdout",
     "output_type": "stream",
     "text": [
      "200 260\n"
     ]
    },
    {
     "data": {
      "text/plain": [
       "  0%|          | 0/50 [00:00<?, ?it/s]"
      ],
      "application/vnd.jupyter.widget-view+json": {
       "version_major": 2,
       "version_minor": 0,
       "model_id": "2ab80ad59f044c6a8729b2dbc5bd586b"
      }
     },
     "metadata": {},
     "output_type": "display_data"
    },
    {
     "name": "stdout",
     "output_type": "stream",
     "text": [
      "240 300\n"
     ]
    },
    {
     "data": {
      "text/plain": [
       "  0%|          | 0/50 [00:00<?, ?it/s]"
      ],
      "application/vnd.jupyter.widget-view+json": {
       "version_major": 2,
       "version_minor": 0,
       "model_id": "40972697737e4d5289ae6359daf04b06"
      }
     },
     "metadata": {},
     "output_type": "display_data"
    },
    {
     "name": "stdout",
     "output_type": "stream",
     "text": [
      "280 340\n"
     ]
    },
    {
     "data": {
      "text/plain": [
       "  0%|          | 0/50 [00:00<?, ?it/s]"
      ],
      "application/vnd.jupyter.widget-view+json": {
       "version_major": 2,
       "version_minor": 0,
       "model_id": "67afc714f04a4ae7a83e11142de65157"
      }
     },
     "metadata": {},
     "output_type": "display_data"
    },
    {
     "name": "stdout",
     "output_type": "stream",
     "text": [
      "320 380\n"
     ]
    },
    {
     "data": {
      "text/plain": [
       "  0%|          | 0/50 [00:00<?, ?it/s]"
      ],
      "application/vnd.jupyter.widget-view+json": {
       "version_major": 2,
       "version_minor": 0,
       "model_id": "8ddc79d5532b44729f88a4513ed05c9f"
      }
     },
     "metadata": {},
     "output_type": "display_data"
    },
    {
     "name": "stdout",
     "output_type": "stream",
     "text": [
      "360 420\n"
     ]
    },
    {
     "data": {
      "text/plain": [
       "  0%|          | 0/50 [00:00<?, ?it/s]"
      ],
      "application/vnd.jupyter.widget-view+json": {
       "version_major": 2,
       "version_minor": 0,
       "model_id": "972ccee71b304a6a8a81f51d9c51af64"
      }
     },
     "metadata": {},
     "output_type": "display_data"
    },
    {
     "name": "stdout",
     "output_type": "stream",
     "text": [
      "400 460\n"
     ]
    },
    {
     "data": {
      "text/plain": [
       "  0%|          | 0/50 [00:00<?, ?it/s]"
      ],
      "application/vnd.jupyter.widget-view+json": {
       "version_major": 2,
       "version_minor": 0,
       "model_id": "f69eb10681f748448d4d0f1abfd379f7"
      }
     },
     "metadata": {},
     "output_type": "display_data"
    },
    {
     "name": "stdout",
     "output_type": "stream",
     "text": [
      "440 500\n"
     ]
    },
    {
     "data": {
      "text/plain": [
       "  0%|          | 0/50 [00:00<?, ?it/s]"
      ],
      "application/vnd.jupyter.widget-view+json": {
       "version_major": 2,
       "version_minor": 0,
       "model_id": "ab6f275b4bcf4df1815930b9ee47149f"
      }
     },
     "metadata": {},
     "output_type": "display_data"
    }
   ],
   "execution_count": 40
  },
  {
   "metadata": {
    "ExecuteTime": {
     "end_time": "2024-05-28T19:50:32.516602Z",
     "start_time": "2024-05-28T19:50:32.508527Z"
    }
   },
   "cell_type": "code",
   "source": "loss_vals",
   "id": "f69389db8c55c45f",
   "outputs": [
    {
     "data": {
      "text/plain": [
       "[([4357.155776977539,\n",
       "   4261.30770111084,\n",
       "   4158.14005279541,\n",
       "   4035.116142272949,\n",
       "   3874.6436653137207,\n",
       "   3651.7027320861816,\n",
       "   3327.095844268799,\n",
       "   2852.842540740967,\n",
       "   2244.290725708008,\n",
       "   1709.8396396636963,\n",
       "   1133.7023134231567,\n",
       "   615.951774597168,\n",
       "   117.36667394638062,\n",
       "   -347.17776679992676,\n",
       "   -742.3579611778259,\n",
       "   -1056.1162776947021,\n",
       "   -1307.2970066070557,\n",
       "   -1516.3980655670166,\n",
       "   -1686.997423171997,\n",
       "   -1840.7844543457031,\n",
       "   -1967.123127937317,\n",
       "   -2076.416624069214,\n",
       "   -2175.0854721069336,\n",
       "   -2266.63374710083,\n",
       "   -2354.60502243042,\n",
       "   -2440.522678375244,\n",
       "   -2526.1086950302124,\n",
       "   -2616.1639404296875,\n",
       "   -2710.4603328704834,\n",
       "   -2810.9095497131348,\n",
       "   -2921.357921600342,\n",
       "   -3045.5230255126953,\n",
       "   -3185.5893726348877,\n",
       "   -3346.7899322509766,\n",
       "   -3534.916187286377,\n",
       "   -3754.641613006592,\n",
       "   -4017.42378616333,\n",
       "   -4333.17497253418,\n",
       "   -4713.475830078125,\n",
       "   -5179.576042175293,\n",
       "   -5733.8417892456055,\n",
       "   -6393.8535079956055,\n",
       "   -7169.183906555176,\n",
       "   -8108.819869995117,\n",
       "   -9176.005325317383,\n",
       "   -10171.397155761719,\n",
       "   -11116.581665039062,\n",
       "   -12123.927780151367,\n",
       "   -13155.527732849121,\n",
       "   -14277.46792602539],\n",
       "  [3832.241455078125,\n",
       "   3744.115234375,\n",
       "   3642.18505859375,\n",
       "   3513.651123046875,\n",
       "   3338.813232421875,\n",
       "   3086.7041015625,\n",
       "   2713.3369140625,\n",
       "   2170.4189453125,\n",
       "   1537.239501953125,\n",
       "   997.6829833984375,\n",
       "   521.9176635742188,\n",
       "   51.49534225463867,\n",
       "   -372.6474914550781,\n",
       "   -727.6478271484375,\n",
       "   -1018.390380859375,\n",
       "   -1240.30859375,\n",
       "   -1419.855224609375,\n",
       "   -1582.9591064453125,\n",
       "   -1720.9072265625,\n",
       "   -1840.3306884765625,\n",
       "   -1939.2384033203125,\n",
       "   -2030.758056640625,\n",
       "   -2114.076416015625,\n",
       "   -2198.24365234375,\n",
       "   -2280.74169921875,\n",
       "   -2355.695068359375,\n",
       "   -2440.0859375,\n",
       "   -2524.568603515625,\n",
       "   -2609.43603515625,\n",
       "   -2708.137451171875,\n",
       "   -2812.16357421875,\n",
       "   -2934.15283203125,\n",
       "   -3068.421142578125,\n",
       "   -3231.78271484375,\n",
       "   -3425.009765625,\n",
       "   -3639.49658203125,\n",
       "   -3918.965576171875,\n",
       "   -4239.7333984375,\n",
       "   -4625.61669921875,\n",
       "   -5106.25341796875,\n",
       "   -5669.6650390625,\n",
       "   -6321.3330078125,\n",
       "   -7114.6474609375,\n",
       "   -8082.3974609375,\n",
       "   -9029.7802734375,\n",
       "   -9877.4716796875,\n",
       "   -10744.03515625,\n",
       "   -11594.779296875,\n",
       "   -12351.998046875,\n",
       "   -12896.45703125]),\n",
       " ([4235.146293640137,\n",
       "   4156.689449310303,\n",
       "   4078.266487121582,\n",
       "   3996.2044944763184,\n",
       "   3907.4995651245117,\n",
       "   3808.748435974121,\n",
       "   3695.7571182250977,\n",
       "   3562.5246353149414,\n",
       "   3400.839454650879,\n",
       "   3199.2340126037598,\n",
       "   2941.3158416748047,\n",
       "   2605.298583984375,\n",
       "   2163.658660888672,\n",
       "   1577.7996501922607,\n",
       "   809.300671339035,\n",
       "   -135.1505241394043,\n",
       "   -1003.101728439331,\n",
       "   -1752.515079498291,\n",
       "   -2468.4354934692383,\n",
       "   -3082.8144340515137,\n",
       "   -3602.557228088379,\n",
       "   -4073.500801086426,\n",
       "   -4506.776149749756,\n",
       "   -4903.125099182129,\n",
       "   -5248.494667053223,\n",
       "   -5551.205307006836,\n",
       "   -5821.370651245117,\n",
       "   -6064.916976928711,\n",
       "   -6295.42805480957,\n",
       "   -6501.527366638184,\n",
       "   -6694.987190246582,\n",
       "   -6875.218898773193,\n",
       "   -7043.808032989502,\n",
       "   -7199.648498535156,\n",
       "   -7343.258804321289,\n",
       "   -7479.525165557861,\n",
       "   -7608.433395385742,\n",
       "   -7735.177509307861,\n",
       "   -7859.152114868164,\n",
       "   -7978.25915145874,\n",
       "   -8093.165367126465,\n",
       "   -8210.022689819336,\n",
       "   -8320.904754638672,\n",
       "   -8434.39712524414,\n",
       "   -8550.203689575195,\n",
       "   -8670.546417236328,\n",
       "   -8796.743362426758,\n",
       "   -8931.860237121582,\n",
       "   -9075.18766784668,\n",
       "   -9232.880012512207],\n",
       "  [3741.66259765625,\n",
       "   3672.30615234375,\n",
       "   3600.54833984375,\n",
       "   3524.0556640625,\n",
       "   3439.64306640625,\n",
       "   3344.22265625,\n",
       "   3232.920166015625,\n",
       "   3099.53173828125,\n",
       "   2934.8701171875,\n",
       "   2726.59326171875,\n",
       "   2456.81787109375,\n",
       "   2102.93505859375,\n",
       "   1634.9195556640625,\n",
       "   1016.229248046875,\n",
       "   216.60525512695312,\n",
       "   -664.525146484375,\n",
       "   -1385.78466796875,\n",
       "   -2059.939208984375,\n",
       "   -2649.38720703125,\n",
       "   -3154.3251953125,\n",
       "   -3579.123046875,\n",
       "   -3947.96533203125,\n",
       "   -4293.9345703125,\n",
       "   -4587.966796875,\n",
       "   -4861.462890625,\n",
       "   -5102.3974609375,\n",
       "   -5323.08203125,\n",
       "   -5518.96923828125,\n",
       "   -5701.94384765625,\n",
       "   -5874.6708984375,\n",
       "   -6037.6708984375,\n",
       "   -6193.8017578125,\n",
       "   -6345.0966796875,\n",
       "   -6486.47265625,\n",
       "   -6619.1416015625,\n",
       "   -6746.654296875,\n",
       "   -6868.4501953125,\n",
       "   -6984.2392578125,\n",
       "   -7092.7880859375,\n",
       "   -7204.310546875,\n",
       "   -7298.09423828125,\n",
       "   -7408.04296875,\n",
       "   -7502.330078125,\n",
       "   -7609.96044921875,\n",
       "   -7710.03662109375,\n",
       "   -7821.5888671875,\n",
       "   -7938.6962890625,\n",
       "   -8061.38427734375,\n",
       "   -8197.404296875,\n",
       "   -8337.7744140625]),\n",
       " ([4302.920509338379,\n",
       "   4221.208435058594,\n",
       "   4140.173927307129,\n",
       "   4056.0657119750977,\n",
       "   3965.559242248535,\n",
       "   3864.77042388916,\n",
       "   3749.8086166381836,\n",
       "   3614.8168449401855,\n",
       "   3452.0110454559326,\n",
       "   3250.233371734619,\n",
       "   2993.287425994873,\n",
       "   2660.674907684326,\n",
       "   2224.2295303344727,\n",
       "   1646.151023864746,\n",
       "   876.720546245575,\n",
       "   -132.17403554916382,\n",
       "   -1379.5211753845215,\n",
       "   -2483.2147274017334,\n",
       "   -3413.6024055480957,\n",
       "   -4229.437721252441,\n",
       "   -4868.440521240234,\n",
       "   -5475.660865783691,\n",
       "   -5993.386245727539,\n",
       "   -6462.734516143799,\n",
       "   -6910.743183135986,\n",
       "   -7319.8751220703125,\n",
       "   -7696.813034057617,\n",
       "   -8044.521881103516,\n",
       "   -8372.643478393555,\n",
       "   -8669.857360839844,\n",
       "   -8952.622695922852,\n",
       "   -9207.324340820312,\n",
       "   -9428.041343688965,\n",
       "   -9631.217903137207,\n",
       "   -9824.503616333008,\n",
       "   -10004.812622070312,\n",
       "   -10178.675407409668,\n",
       "   -10340.74031829834,\n",
       "   -10493.432647705078,\n",
       "   -10641.513442993164,\n",
       "   -10780.397079467773,\n",
       "   -10912.276550292969,\n",
       "   -11042.625518798828,\n",
       "   -11166.152824401855,\n",
       "   -11287.868225097656,\n",
       "   -11406.646675109863,\n",
       "   -11529.249755859375,\n",
       "   -11649.913269042969,\n",
       "   -11778.69677734375,\n",
       "   -11904.173355102539],\n",
       "  [3799.892578125,\n",
       "   3727.966552734375,\n",
       "   3654.171875,\n",
       "   3575.94091796875,\n",
       "   3489.706298828125,\n",
       "   3392.2490234375,\n",
       "   3279.024658203125,\n",
       "   3143.767578125,\n",
       "   2977.7412109375,\n",
       "   2768.227294921875,\n",
       "   2498.310546875,\n",
       "   2145.482421875,\n",
       "   1678.591064453125,\n",
       "   1057.437255859375,\n",
       "   234.34857177734375,\n",
       "   -831.5399169921875,\n",
       "   -1982.2579345703125,\n",
       "   -2782.431396484375,\n",
       "   -3553.9501953125,\n",
       "   -4145.62744140625,\n",
       "   -4704.7421875,\n",
       "   -5199.8837890625,\n",
       "   -5617.17138671875,\n",
       "   -6065.0390625,\n",
       "   -6426.0419921875,\n",
       "   -6798.1611328125,\n",
       "   -7114.8701171875,\n",
       "   -7442.478515625,\n",
       "   -7721.7841796875,\n",
       "   -7979.0703125,\n",
       "   -8216.509765625,\n",
       "   -8417.326171875,\n",
       "   -8606.4453125,\n",
       "   -8777.6015625,\n",
       "   -8937.4345703125,\n",
       "   -9087.783203125,\n",
       "   -9246.5673828125,\n",
       "   -9365.8544921875,\n",
       "   -9516.849609375,\n",
       "   -9626.4140625,\n",
       "   -9754.97265625,\n",
       "   -9862.88671875,\n",
       "   -9973.384765625,\n",
       "   -10078.7255859375,\n",
       "   -10187.4892578125,\n",
       "   -10296.125,\n",
       "   -10401.14453125,\n",
       "   -10510.23046875,\n",
       "   -10624.646484375,\n",
       "   -10743.30078125]),\n",
       " ([4232.154716491699,\n",
       "   4152.560543060303,\n",
       "   4073.6090087890625,\n",
       "   3991.349838256836,\n",
       "   3902.7765579223633,\n",
       "   3804.6836585998535,\n",
       "   3692.876884460449,\n",
       "   3561.7295932769775,\n",
       "   3403.526174545288,\n",
       "   3207.026372909546,\n",
       "   2957.1989345550537,\n",
       "   2633.0825901031494,\n",
       "   2208.584300994873,\n",
       "   1644.797170639038,\n",
       "   892.0228848457336,\n",
       "   -104.24976778030396,\n",
       "   -1366.001989364624,\n",
       "   -2511.588779449463,\n",
       "   -3480.8358001708984,\n",
       "   -4459.866065979004,\n",
       "   -5264.0532150268555,\n",
       "   -5992.269680023193,\n",
       "   -6674.569751739502,\n",
       "   -7275.928237915039,\n",
       "   -7818.569435119629,\n",
       "   -8347.39485168457,\n",
       "   -8826.94068145752,\n",
       "   -9269.419052124023,\n",
       "   -9672.312126159668,\n",
       "   -10056.52197265625,\n",
       "   -10412.786247253418,\n",
       "   -10754.74146270752,\n",
       "   -11077.18197631836,\n",
       "   -11392.192398071289,\n",
       "   -11688.169570922852,\n",
       "   -11960.043853759766,\n",
       "   -12209.200134277344,\n",
       "   -12446.441040039062,\n",
       "   -12671.269989013672,\n",
       "   -12871.362747192383,\n",
       "   -13065.377563476562,\n",
       "   -13241.930572509766,\n",
       "   -13415.188522338867,\n",
       "   -13584.981155395508,\n",
       "   -13753.355880737305,\n",
       "   -13914.421669006348,\n",
       "   -14071.612548828125,\n",
       "   -14230.644203186035,\n",
       "   -14386.615661621094,\n",
       "   -14554.476837158203],\n",
       "  [3737.94482421875,\n",
       "   3667.899658203125,\n",
       "   3595.868408203125,\n",
       "   3519.2138671875,\n",
       "   3435.192138671875,\n",
       "   3340.47900390625,\n",
       "   3230.61376953125,\n",
       "   3099.49169921875,\n",
       "   2938.505859375,\n",
       "   2735.411376953125,\n",
       "   2473.58203125,\n",
       "   2131.961181640625,\n",
       "   1679.348876953125,\n",
       "   1077.582275390625,\n",
       "   275.82244873046875,\n",
       "   -779.0449829101562,\n",
       "   -1975.757568359375,\n",
       "   -2789.898681640625,\n",
       "   -3731.0263671875,\n",
       "   -4514.0341796875,\n",
       "   -5158.6962890625,\n",
       "   -5816.71435546875,\n",
       "   -6394.1494140625,\n",
       "   -6923.39013671875,\n",
       "   -7405.34521484375,\n",
       "   -7859.17529296875,\n",
       "   -8255.3125,\n",
       "   -8658.7705078125,\n",
       "   -8976.8408203125,\n",
       "   -9320.927734375,\n",
       "   -9616.0126953125,\n",
       "   -9915.2529296875,\n",
       "   -10194.4267578125,\n",
       "   -10451.1953125,\n",
       "   -10680.41015625,\n",
       "   -10912.6103515625,\n",
       "   -11117.751953125,\n",
       "   -11303.498046875,\n",
       "   -11506.2890625,\n",
       "   -11667.966796875,\n",
       "   -11842.3310546875,\n",
       "   -11988.5029296875,\n",
       "   -12156.8203125,\n",
       "   -12306.548828125,\n",
       "   -12459.716796875,\n",
       "   -12602.4580078125,\n",
       "   -12751.185546875,\n",
       "   -12883.189453125,\n",
       "   -13045.90234375,\n",
       "   -13191.33984375]),\n",
       " ([4242.456344604492,\n",
       "   4162.766204833984,\n",
       "   4084.2063064575195,\n",
       "   4002.477767944336,\n",
       "   3914.7713928222656,\n",
       "   3817.4081497192383,\n",
       "   3706.6585998535156,\n",
       "   3577.320957183838,\n",
       "   3421.569025039673,\n",
       "   3228.930145263672,\n",
       "   2984.5682373046875,\n",
       "   2668.4923782348633,\n",
       "   2256.374979019165,\n",
       "   1713.9099216461182,\n",
       "   994.9517180919647,\n",
       "   43.48461627960205,\n",
       "   -1204.5847911834717,\n",
       "   -2678.849422454834,\n",
       "   -3798.1819229125977,\n",
       "   -4843.136932373047,\n",
       "   -5757.019443511963,\n",
       "   -6569.622215270996,\n",
       "   -7310.26717376709,\n",
       "   -7992.9844970703125,\n",
       "   -8673.571838378906,\n",
       "   -9274.590217590332,\n",
       "   -9819.34270477295,\n",
       "   -10359.44497680664,\n",
       "   -10853.5345993042,\n",
       "   -11327.549728393555,\n",
       "   -11772.236358642578,\n",
       "   -12171.76569366455,\n",
       "   -12540.607223510742,\n",
       "   -12873.525833129883,\n",
       "   -13184.60856628418,\n",
       "   -13494.655197143555,\n",
       "   -13778.067825317383,\n",
       "   -14045.113792419434,\n",
       "   -14277.757690429688,\n",
       "   -14501.279357910156,\n",
       "   -14698.85025024414,\n",
       "   -14890.491165161133,\n",
       "   -15078.096618652344,\n",
       "   -15249.430847167969,\n",
       "   -15408.367141723633,\n",
       "   -15553.359771728516,\n",
       "   -15693.858154296875,\n",
       "   -15834.816802978516,\n",
       "   -15964.844497680664,\n",
       "   -16111.71859741211],\n",
       "  [3747.132080078125,\n",
       "   3677.451171875,\n",
       "   3605.832275390625,\n",
       "   3529.9375,\n",
       "   3446.7353515625,\n",
       "   3352.822265625,\n",
       "   3244.4638671875,\n",
       "   3115.5458984375,\n",
       "   2957.802001953125,\n",
       "   2759.345703125,\n",
       "   2504.772216796875,\n",
       "   2173.86474609375,\n",
       "   1739.668212890625,\n",
       "   1166.3828125,\n",
       "   407.3728332519531,\n",
       "   -593.4961547851562,\n",
       "   -1859.636474609375,\n",
       "   -2992.919677734375,\n",
       "   -3863.848388671875,\n",
       "   -4831.51708984375,\n",
       "   -5617.2724609375,\n",
       "   -6314.43359375,\n",
       "   -6898.263671875,\n",
       "   -7552.97119140625,\n",
       "   -8084.9482421875,\n",
       "   -8560.49609375,\n",
       "   -9068.263671875,\n",
       "   -9482.234375,\n",
       "   -9898.98828125,\n",
       "   -10303.5234375,\n",
       "   -10639.7001953125,\n",
       "   -10987.2109375,\n",
       "   -11283.474609375,\n",
       "   -11591.19921875,\n",
       "   -11881.6611328125,\n",
       "   -12114.505859375,\n",
       "   -12394.9990234375,\n",
       "   -12606.599609375,\n",
       "   -12819.54296875,\n",
       "   -13002.6162109375,\n",
       "   -13199.794921875,\n",
       "   -13348.4833984375,\n",
       "   -13530.341796875,\n",
       "   -13662.740234375,\n",
       "   -13786.7890625,\n",
       "   -13928.3876953125,\n",
       "   -14054.0419921875,\n",
       "   -14169.5,\n",
       "   -14297.3232421875,\n",
       "   -14422.373046875]),\n",
       " ([4370.910491943359,\n",
       "   4290.535171508789,\n",
       "   4211.2937660217285,\n",
       "   4129.20915222168,\n",
       "   4041.5119819641113,\n",
       "   3944.7824935913086,\n",
       "   3834.9597244262695,\n",
       "   3706.6277770996094,\n",
       "   3551.5583305358887,\n",
       "   3360.2199325561523,\n",
       "   3119.521625518799,\n",
       "   2811.283248901367,\n",
       "   2407.922378540039,\n",
       "   1880.3582935333252,\n",
       "   1183.9369201660156,\n",
       "   265.07446575164795,\n",
       "   -932.0992679595947,\n",
       "   -2312.5638217926025,\n",
       "   -3394.4285316467285,\n",
       "   -4528.761657714844,\n",
       "   -5540.776405334473,\n",
       "   -6464.991554260254,\n",
       "   -7333.357971191406,\n",
       "   -8203.296981811523,\n",
       "   -9040.866622924805,\n",
       "   -9773.194442749023,\n",
       "   -10441.247093200684,\n",
       "   -11061.004341125488,\n",
       "   -11635.996452331543,\n",
       "   -12138.237716674805,\n",
       "   -12558.917846679688,\n",
       "   -12960.950469970703,\n",
       "   -13315.385536193848,\n",
       "   -13650.86572265625,\n",
       "   -13964.996490478516,\n",
       "   -14264.981063842773,\n",
       "   -14554.398483276367,\n",
       "   -14834.507736206055,\n",
       "   -15105.686126708984,\n",
       "   -15380.995834350586,\n",
       "   -15629.765594482422,\n",
       "   -15872.900161743164,\n",
       "   -16094.909301757812,\n",
       "   -16314.867889404297,\n",
       "   -16505.741165161133,\n",
       "   -16699.880584716797,\n",
       "   -16874.69448852539,\n",
       "   -17035.70100402832,\n",
       "   -17185.856414794922,\n",
       "   -17326.65838623047],\n",
       "  [3861.35888671875,\n",
       "   3790.853515625,\n",
       "   3718.82861328125,\n",
       "   3642.652587890625,\n",
       "   3559.623046875,\n",
       "   3466.393310546875,\n",
       "   3358.57177734375,\n",
       "   3229.875732421875,\n",
       "   3071.951171875,\n",
       "   2874.71484375,\n",
       "   2623.268310546875,\n",
       "   2296.34033203125,\n",
       "   1868.018310546875,\n",
       "   1303.400146484375,\n",
       "   558.2297973632812,\n",
       "   -421.53668212890625,\n",
       "   -1660.172607421875,\n",
       "   -2709.92919921875,\n",
       "   -3728.383056640625,\n",
       "   -4663.9384765625,\n",
       "   -5600.25146484375,\n",
       "   -6377.9541015625,\n",
       "   -7157.9931640625,\n",
       "   -7938.47265625,\n",
       "   -8655.9541015625,\n",
       "   -9221.10546875,\n",
       "   -9752.349609375,\n",
       "   -10269.4833984375,\n",
       "   -10738.419921875,\n",
       "   -11128.1171875,\n",
       "   -11481.373046875,\n",
       "   -11801.08203125,\n",
       "   -12124.5302734375,\n",
       "   -12430.5712890625,\n",
       "   -12663.865234375,\n",
       "   -12948.55859375,\n",
       "   -13194.162109375,\n",
       "   -13416.580078125,\n",
       "   -13683.7587890625,\n",
       "   -13896.4921875,\n",
       "   -14144.5283203125,\n",
       "   -14320.982421875,\n",
       "   -14551.7158203125,\n",
       "   -14731.447265625,\n",
       "   -14913.708984375,\n",
       "   -15057.37109375,\n",
       "   -15215.767578125,\n",
       "   -15334.9140625,\n",
       "   -15476.2431640625,\n",
       "   -15625.0458984375]),\n",
       " ([4297.522960662842,\n",
       "   4214.124855041504,\n",
       "   4130.997955322266,\n",
       "   4043.85164642334,\n",
       "   3949.7001037597656,\n",
       "   3844.700855255127,\n",
       "   3724.337490081787,\n",
       "   3582.358070373535,\n",
       "   3409.6130657196045,\n",
       "   3193.893840789795,\n",
       "   2919.4048500061035,\n",
       "   2564.5240211486816,\n",
       "   2099.8733501434326,\n",
       "   1488.8900413513184,\n",
       "   678.2267575263977,\n",
       "   -392.55363035202026,\n",
       "   -1774.3400039672852,\n",
       "   -3217.6268196105957,\n",
       "   -4324.71492767334,\n",
       "   -5398.024059295654,\n",
       "   -6398.584495544434,\n",
       "   -7298.354675292969,\n",
       "   -8106.0137939453125,\n",
       "   -8882.979049682617,\n",
       "   -9628.676719665527,\n",
       "   -10319.758483886719,\n",
       "   -10966.108680725098,\n",
       "   -11539.55248260498,\n",
       "   -12104.143844604492,\n",
       "   -12641.728378295898,\n",
       "   -13134.891067504883,\n",
       "   -13608.791442871094,\n",
       "   -14078.874465942383,\n",
       "   -14493.382995605469,\n",
       "   -14913.812286376953,\n",
       "   -15278.986343383789,\n",
       "   -15633.265441894531,\n",
       "   -15966.825469970703,\n",
       "   -16296.83349609375,\n",
       "   -16593.420684814453,\n",
       "   -16863.871795654297,\n",
       "   -17140.341278076172,\n",
       "   -17390.371520996094,\n",
       "   -17591.51040649414,\n",
       "   -17789.80177307129,\n",
       "   -17995.569290161133,\n",
       "   -18198.23745727539,\n",
       "   -18385.80157470703,\n",
       "   -18557.174926757812,\n",
       "   -18732.495040893555],\n",
       "  [3794.25341796875,\n",
       "   3720.68212890625,\n",
       "   3644.638671875,\n",
       "   3563.302978515625,\n",
       "   3473.8515625,\n",
       "   3372.29150390625,\n",
       "   3254.058837890625,\n",
       "   3111.98095703125,\n",
       "   2936.30810546875,\n",
       "   2714.634765625,\n",
       "   2429.8447265625,\n",
       "   2059.3525390625,\n",
       "   1573.1505126953125,\n",
       "   931.0844116210938,\n",
       "   81.76905822753906,\n",
       "   -1033.6309814453125,\n",
       "   -2368.670166015625,\n",
       "   -3351.658203125,\n",
       "   -4390.4697265625,\n",
       "   -5309.3232421875,\n",
       "   -6183.416015625,\n",
       "   -6945.06640625,\n",
       "   -7645.43994140625,\n",
       "   -8333.484375,\n",
       "   -9000.8583984375,\n",
       "   -9622.212890625,\n",
       "   -10133.822265625,\n",
       "   -10676.46875,\n",
       "   -11184.4306640625,\n",
       "   -11598.9736328125,\n",
       "   -12000.908203125,\n",
       "   -12483.298828125,\n",
       "   -12848.099609375,\n",
       "   -13260.298828125,\n",
       "   -13609.29296875,\n",
       "   -13934.982421875,\n",
       "   -14220.91796875,\n",
       "   -14557.712890625,\n",
       "   -14817.740234375,\n",
       "   -15069.08203125,\n",
       "   -15311.013671875,\n",
       "   -15549.537109375,\n",
       "   -15727.904296875,\n",
       "   -15927.9619140625,\n",
       "   -16097.619140625,\n",
       "   -16266.9404296875,\n",
       "   -16451.16796875,\n",
       "   -16590.71875,\n",
       "   -16762.00390625,\n",
       "   -16880.265625]),\n",
       " ([4399.111557006836,\n",
       "   4318.074287414551,\n",
       "   4237.882347106934,\n",
       "   4154.415172576904,\n",
       "   4064.8717308044434,\n",
       "   3966.0926818847656,\n",
       "   3853.5157051086426,\n",
       "   3721.8229484558105,\n",
       "   3564.2399864196777,\n",
       "   3370.3676166534424,\n",
       "   3127.0670318603516,\n",
       "   2815.8568534851074,\n",
       "   2413.800827026367,\n",
       "   1890.1489276885986,\n",
       "   1203.013828277588,\n",
       "   303.059823513031,\n",
       "   -878.6160697937012,\n",
       "   -2406.6247577667236,\n",
       "   -4072.319450378418,\n",
       "   -5240.2977867126465,\n",
       "   -6420.598949432373,\n",
       "   -7366.054473876953,\n",
       "   -8267.27530670166,\n",
       "   -9132.036087036133,\n",
       "   -9928.17586517334,\n",
       "   -10704.513259887695,\n",
       "   -11437.37678527832,\n",
       "   -12097.806198120117,\n",
       "   -12673.680603027344,\n",
       "   -13162.362503051758,\n",
       "   -13631.579849243164,\n",
       "   -14106.488037109375,\n",
       "   -14522.820098876953,\n",
       "   -14944.070373535156,\n",
       "   -15358.958862304688,\n",
       "   -15722.671295166016,\n",
       "   -16079.756896972656,\n",
       "   -16416.47184753418,\n",
       "   -16737.95590209961,\n",
       "   -17028.639923095703,\n",
       "   -17284.818084716797,\n",
       "   -17546.017623901367,\n",
       "   -17812.081588745117,\n",
       "   -18058.663131713867,\n",
       "   -18283.496383666992,\n",
       "   -18512.59487915039,\n",
       "   -18733.495330810547,\n",
       "   -18947.967864990234,\n",
       "   -19142.628326416016,\n",
       "   -19329.71533203125],\n",
       "  [3886.256103515625,\n",
       "   3815.0478515625,\n",
       "   3741.927490234375,\n",
       "   3664.28955078125,\n",
       "   3579.568359375,\n",
       "   3484.15625,\n",
       "   3373.60107421875,\n",
       "   3242.410888671875,\n",
       "   3082.56103515625,\n",
       "   2883.35009765625,\n",
       "   2630.326171875,\n",
       "   2303.902099609375,\n",
       "   1879.490478515625,\n",
       "   1324.1064453125,\n",
       "   595.3370361328125,\n",
       "   -361.8103332519531,\n",
       "   -1613.11767578125,\n",
       "   -3141.8388671875,\n",
       "   -4143.14453125,\n",
       "   -5443.6357421875,\n",
       "   -6361.5947265625,\n",
       "   -7157.0986328125,\n",
       "   -7916.76953125,\n",
       "   -8588.755859375,\n",
       "   -9365.306640625,\n",
       "   -10024.35546875,\n",
       "   -10615.05859375,\n",
       "   -11115.8701171875,\n",
       "   -11567.3359375,\n",
       "   -12036.744140625,\n",
       "   -12472.451171875,\n",
       "   -12851.19921875,\n",
       "   -13264.9775390625,\n",
       "   -13630.9013671875,\n",
       "   -13944.548828125,\n",
       "   -14264.3291015625,\n",
       "   -14552.982421875,\n",
       "   -14893.83984375,\n",
       "   -15171.599609375,\n",
       "   -15376.791015625,\n",
       "   -15609.4345703125,\n",
       "   -15861.58203125,\n",
       "   -16079.1796875,\n",
       "   -16286.3876953125,\n",
       "   -16501.01171875,\n",
       "   -16640.234375,\n",
       "   -16878.84765625,\n",
       "   -17050.3828125,\n",
       "   -17227.69921875,\n",
       "   -17360.205078125]),\n",
       " ([4387.815460205078,\n",
       "   4310.145008087158,\n",
       "   4233.509185791016,\n",
       "   4154.000316619873,\n",
       "   4068.7850074768066,\n",
       "   3974.5737495422363,\n",
       "   3866.994010925293,\n",
       "   3740.3832626342773,\n",
       "   3588.073905944824,\n",
       "   3400.3148498535156,\n",
       "   3163.3646450042725,\n",
       "   2858.2967224121094,\n",
       "   2459.733242034912,\n",
       "   1933.7164497375488,\n",
       "   1235.9387798309326,\n",
       "   311.147789478302,\n",
       "   -922.4150047302246,\n",
       "   -2516.615608215332,\n",
       "   -4044.030204772949,\n",
       "   -5263.3864822387695,\n",
       "   -6487.8840408325195,\n",
       "   -7511.834869384766,\n",
       "   -8384.0693359375,\n",
       "   -9234.151596069336,\n",
       "   -10181.267791748047,\n",
       "   -10957.235107421875,\n",
       "   -11691.971923828125,\n",
       "   -12364.476783752441,\n",
       "   -13020.039405822754,\n",
       "   -13608.574951171875,\n",
       "   -14232.501541137695,\n",
       "   -14782.31802368164,\n",
       "   -15304.880157470703,\n",
       "   -15763.928146362305,\n",
       "   -16165.929382324219,\n",
       "   -16556.62730407715,\n",
       "   -16915.908233642578,\n",
       "   -17232.380950927734,\n",
       "   -17508.011596679688,\n",
       "   -17760.38052368164,\n",
       "   -17984.587493896484,\n",
       "   -18216.33660888672,\n",
       "   -18433.024444580078,\n",
       "   -18660.911010742188,\n",
       "   -18876.346557617188,\n",
       "   -19101.922912597656,\n",
       "   -19309.581954956055,\n",
       "   -19530.35954284668,\n",
       "   -19714.585845947266,\n",
       "   -19924.884338378906],\n",
       "  [3877.817626953125,\n",
       "   3809.69482421875,\n",
       "   3739.873291015625,\n",
       "   3666.005126953125,\n",
       "   3585.17626953125,\n",
       "   3494.0478515625,\n",
       "   3387.739990234375,\n",
       "   3260.7685546875,\n",
       "   3105.725830078125,\n",
       "   2911.34423828125,\n",
       "   2662.66455078125,\n",
       "   2338.56640625,\n",
       "   1911.8995361328125,\n",
       "   1346.839599609375,\n",
       "   595.4705810546875,\n",
       "   -405.0278625488281,\n",
       "   -1727.001708984375,\n",
       "   -3293.23291015625,\n",
       "   -4360.78857421875,\n",
       "   -5484.7529296875,\n",
       "   -6456.62109375,\n",
       "   -7206.3681640625,\n",
       "   -7906.61328125,\n",
       "   -8808.73828125,\n",
       "   -9502.6982421875,\n",
       "   -10190.4404296875,\n",
       "   -10771.90234375,\n",
       "   -11447.15234375,\n",
       "   -11949.4482421875,\n",
       "   -12527.939453125,\n",
       "   -13018.2890625,\n",
       "   -13504.9013671875,\n",
       "   -13993.861328125,\n",
       "   -14331.224609375,\n",
       "   -14708.681640625,\n",
       "   -15021.423828125,\n",
       "   -15376.7490234375,\n",
       "   -15627.203125,\n",
       "   -15880.6123046875,\n",
       "   -16081.87109375,\n",
       "   -16272.0029296875,\n",
       "   -16475.59375,\n",
       "   -16696.23828125,\n",
       "   -16897.66015625,\n",
       "   -17097.474609375,\n",
       "   -17285.52734375,\n",
       "   -17477.4375,\n",
       "   -17636.82421875,\n",
       "   -17858.513671875,\n",
       "   -17994.724609375]),\n",
       " ([4280.0553550720215,\n",
       "   4197.5849533081055,\n",
       "   4115.468803405762,\n",
       "   4029.264907836914,\n",
       "   3936.1013565063477,\n",
       "   3832.6249465942383,\n",
       "   3714.2279014587402,\n",
       "   3574.7326850891113,\n",
       "   3405.87215423584,\n",
       "   3197.057819366455,\n",
       "   2932.771390914917,\n",
       "   2591.7021484375,\n",
       "   2146.797742843628,\n",
       "   1563.4246788024902,\n",
       "   796.0021347999573,\n",
       "   -216.8733034133911,\n",
       "   -1549.1080894470215,\n",
       "   -3252.123825073242,\n",
       "   -4729.268577575684,\n",
       "   -5683.6824951171875,\n",
       "   -6809.794464111328,\n",
       "   -7907.9215087890625,\n",
       "   -8896.187866210938,\n",
       "   -9824.264488220215,\n",
       "   -10617.081932067871,\n",
       "   -11301.6070022583,\n",
       "   -11942.257545471191,\n",
       "   -12534.307518005371,\n",
       "   -13123.257766723633,\n",
       "   -13663.446876525879,\n",
       "   -14231.314979553223,\n",
       "   -14790.907043457031,\n",
       "   -15317.460723876953,\n",
       "   -15799.400177001953,\n",
       "   -16271.087127685547,\n",
       "   -16771.069244384766,\n",
       "   -17238.99644470215,\n",
       "   -17702.11654663086,\n",
       "   -18124.48504638672,\n",
       "   -18524.14323425293,\n",
       "   -18864.632110595703,\n",
       "   -19208.646087646484,\n",
       "   -19518.822311401367,\n",
       "   -19828.876708984375,\n",
       "   -20096.580505371094,\n",
       "   -20352.235565185547,\n",
       "   -20581.288940429688,\n",
       "   -20834.3212890625,\n",
       "   -21077.486083984375,\n",
       "   -21317.44859313965],\n",
       "  [3779.11376953125,\n",
       "   3706.546875,\n",
       "   3631.301025390625,\n",
       "   3550.9013671875,\n",
       "   3462.47216796875,\n",
       "   3362.6025390625,\n",
       "   3246.2822265625,\n",
       "   3106.908935546875,\n",
       "   2936.3095703125,\n",
       "   2722.19775390625,\n",
       "   2448.10107421875,\n",
       "   2092.3623046875,\n",
       "   1627.2752685546875,\n",
       "   1016.2549438476562,\n",
       "   211.80392456054688,\n",
       "   -848.0654907226562,\n",
       "   -2233.91943359375,\n",
       "   -3858.06103515625,\n",
       "   -4528.21875,\n",
       "   -5657.8310546875,\n",
       "   -6635.4384765625,\n",
       "   -7498.056640625,\n",
       "   -8465.408203125,\n",
       "   -9087.90625,\n",
       "   -9791.833984375,\n",
       "   -10380.10546875,\n",
       "   -10953.232421875,\n",
       "   -11460.89453125,\n",
       "   -11937.064453125,\n",
       "   -12444.080078125,\n",
       "   -12962.578125,\n",
       "   -13453.142578125,\n",
       "   -13850.5224609375,\n",
       "   -14245.8671875,\n",
       "   -14729.1875,\n",
       "   -15125.3291015625,\n",
       "   -15537.3955078125,\n",
       "   -15889.1806640625,\n",
       "   -16298.3076171875,\n",
       "   -16592.40625,\n",
       "   -16939.0,\n",
       "   -17231.67578125,\n",
       "   -17532.705078125,\n",
       "   -17767.015625,\n",
       "   -17988.734375,\n",
       "   -18210.40234375,\n",
       "   -18440.875,\n",
       "   -18625.01953125,\n",
       "   -18858.87109375,\n",
       "   -19078.361328125]),\n",
       " ([4103.492523193359,\n",
       "   4020.427104949951,\n",
       "   3937.5749740600586,\n",
       "   3850.702178955078,\n",
       "   3756.3900756835938,\n",
       "   3651.127223968506,\n",
       "   3530.96950340271,\n",
       "   3389.521978378296,\n",
       "   3218.2139644622803,\n",
       "   3005.145715713501,\n",
       "   2734.5960998535156,\n",
       "   2385.122943878174,\n",
       "   1930.0748329162598,\n",
       "   1329.7502136230469,\n",
       "   536.3441801071167,\n",
       "   -512.8746118545532,\n",
       "   -1896.7869720458984,\n",
       "   -3581.0076599121094,\n",
       "   -4510.015998840332,\n",
       "   -5671.484477996826,\n",
       "   -6705.244979858398,\n",
       "   -7726.4851150512695,\n",
       "   -8692.391311645508,\n",
       "   -9572.435668945312,\n",
       "   -10454.618774414062,\n",
       "   -11288.949203491211,\n",
       "   -12067.760131835938,\n",
       "   -12848.56037902832,\n",
       "   -13580.252182006836,\n",
       "   -14248.499603271484,\n",
       "   -14892.398712158203,\n",
       "   -15408.422470092773,\n",
       "   -15919.13070678711,\n",
       "   -16387.57275390625,\n",
       "   -16835.530334472656,\n",
       "   -17246.81121826172,\n",
       "   -17621.77749633789,\n",
       "   -17986.754302978516,\n",
       "   -18324.371871948242,\n",
       "   -18642.503341674805,\n",
       "   -18945.178802490234,\n",
       "   -19226.528747558594,\n",
       "   -19509.06558227539,\n",
       "   -19772.44744873047,\n",
       "   -20032.49887084961,\n",
       "   -20260.410369873047,\n",
       "   -20495.038467407227,\n",
       "   -20710.49639892578,\n",
       "   -20898.408126831055,\n",
       "   -21078.955932617188],\n",
       "  [3621.125,\n",
       "   3547.7333984375,\n",
       "   3471.857421875,\n",
       "   3390.54638671875,\n",
       "   3300.564697265625,\n",
       "   3198.8232421875,\n",
       "   3080.47314453125,\n",
       "   2938.63232421875,\n",
       "   2763.9833984375,\n",
       "   2543.684814453125,\n",
       "   2260.530517578125,\n",
       "   1892.6387939453125,\n",
       "   1409.0430908203125,\n",
       "   770.4703369140625,\n",
       "   -74.79335021972656,\n",
       "   -1193.229736328125,\n",
       "   -2635.1455078125,\n",
       "   -3751.1025390625,\n",
       "   -4788.2978515625,\n",
       "   -5691.9404296875,\n",
       "   -6545.99853515625,\n",
       "   -7401.6171875,\n",
       "   -8218.51953125,\n",
       "   -9048.89453125,\n",
       "   -9753.9794921875,\n",
       "   -10405.0,\n",
       "   -11150.583984375,\n",
       "   -11797.5146484375,\n",
       "   -12379.5615234375,\n",
       "   -12983.8369140625,\n",
       "   -13415.55859375,\n",
       "   -13948.888671875,\n",
       "   -14365.986328125,\n",
       "   -14771.7109375,\n",
       "   -15181.8466796875,\n",
       "   -15531.537109375,\n",
       "   -15828.23046875,\n",
       "   -16130.6083984375,\n",
       "   -16416.56640625,\n",
       "   -16702.244140625,\n",
       "   -16964.1015625,\n",
       "   -17214.826171875,\n",
       "   -17439.544921875,\n",
       "   -17656.4375,\n",
       "   -17842.685546875,\n",
       "   -18088.7265625,\n",
       "   -18271.046875,\n",
       "   -18443.64453125,\n",
       "   -18593.5625,\n",
       "   -18785.25390625]),\n",
       " ([4236.242721557617,\n",
       "   4153.599086761475,\n",
       "   4071.510223388672,\n",
       "   3986.0135955810547,\n",
       "   3894.28763961792,\n",
       "   3792.856258392334,\n",
       "   3677.902519226074,\n",
       "   3544.0802001953125,\n",
       "   3383.9695472717285,\n",
       "   3187.807378768921,\n",
       "   2942.2208309173584,\n",
       "   2628.6261863708496,\n",
       "   2223.064130783081,\n",
       "   1691.3067150115967,\n",
       "   987.9506483078003,\n",
       "   59.037519454956055,\n",
       "   -1174.249122619629,\n",
       "   -2792.7407722473145,\n",
       "   -4609.132827758789,\n",
       "   -5683.346309661865,\n",
       "   -6814.935127258301,\n",
       "   -7939.691879272461,\n",
       "   -8997.635360717773,\n",
       "   -9953.052604675293,\n",
       "   -10887.481712341309,\n",
       "   -11757.802635192871,\n",
       "   -12593.008277893066,\n",
       "   -13406.39924621582,\n",
       "   -14210.764739990234,\n",
       "   -14921.503936767578,\n",
       "   -15551.536499023438,\n",
       "   -16129.627868652344,\n",
       "   -16724.443969726562,\n",
       "   -17235.681610107422,\n",
       "   -17730.50650024414,\n",
       "   -18166.24234008789,\n",
       "   -18544.53921508789,\n",
       "   -18899.15121459961,\n",
       "   -19213.903411865234,\n",
       "   -19513.66375732422,\n",
       "   -19817.30923461914,\n",
       "   -20152.315155029297,\n",
       "   -20463.407196044922,\n",
       "   -20762.173309326172,\n",
       "   -21062.693145751953,\n",
       "   -21323.631454467773,\n",
       "   -21561.542709350586,\n",
       "   -21783.241638183594,\n",
       "   -22005.910247802734,\n",
       "   -22213.491424560547],\n",
       "  [3739.86279296875,\n",
       "   3667.1318359375,\n",
       "   3592.253662109375,\n",
       "   3512.857177734375,\n",
       "   3426.0712890625,\n",
       "   3328.585693359375,\n",
       "   3216.462890625,\n",
       "   3083.7333984375,\n",
       "   2922.7705078125,\n",
       "   2723.075439453125,\n",
       "   2470.449951171875,\n",
       "   2145.49658203125,\n",
       "   1721.844970703125,\n",
       "   1163.9150390625,\n",
       "   427.25750732421875,\n",
       "   -548.2906494140625,\n",
       "   -1835.8804931640625,\n",
       "   -3483.669921875,\n",
       "   -4724.892578125,\n",
       "   -5482.11328125,\n",
       "   -6574.72216796875,\n",
       "   -7574.38427734375,\n",
       "   -8463.7255859375,\n",
       "   -9343.005859375,\n",
       "   -10122.724609375,\n",
       "   -10863.548828125,\n",
       "   -11644.099609375,\n",
       "   -12358.44921875,\n",
       "   -13004.408203125,\n",
       "   -13631.3134765625,\n",
       "   -14105.396484375,\n",
       "   -14703.5849609375,\n",
       "   -15235.546875,\n",
       "   -15664.3984375,\n",
       "   -16052.70703125,\n",
       "   -16412.353515625,\n",
       "   -16754.38671875,\n",
       "   -17060.173828125,\n",
       "   -17326.54296875,\n",
       "   -17596.58203125,\n",
       "   -17962.41015625,\n",
       "   -18235.00390625,\n",
       "   -18484.34375,\n",
       "   -18736.546875,\n",
       "   -18941.140625,\n",
       "   -19168.658203125,\n",
       "   -19373.990234375,\n",
       "   -19624.34375,\n",
       "   -19795.98828125,\n",
       "   -19939.1875])]"
      ]
     },
     "execution_count": 41,
     "metadata": {},
     "output_type": "execute_result"
    }
   ],
   "execution_count": 41
  },
  {
   "metadata": {
    "ExecuteTime": {
     "end_time": "2024-05-28T19:50:34.379900Z",
     "start_time": "2024-05-28T19:50:33.532615Z"
    }
   },
   "cell_type": "code",
   "source": [
    "for i in range(10):\n",
    "    plt.figure(i)  # Create a new figure for each plot\n",
    "    plt.plot(np.array(loss_vals[i][0]))\n",
    "    plt.plot(np.array(loss_vals[i][1]))\n",
    "    plt.show()  # Display the plot"
   ],
   "id": "a6b91ebf4e3a2e6f",
   "outputs": [
    {
     "data": {
      "text/plain": [
       "<Figure size 640x480 with 1 Axes>"
      ],
      "image/png": "[encoded data removed]"
     },
     "metadata": {},
     "output_type": "display_data"
    },
    {
     "data": {
      "text/plain": [
       "<Figure size 640x480 with 1 Axes>"
      ],
      "image/png": "[encoded data removed]"
     },
     "metadata": {},
     "output_type": "display_data"
    },
    {
     "data": {
      "text/plain": [
       "<Figure size 640x480 with 1 Axes>"
      ],
      "image/png": "[encoded data removed]"
     },
     "metadata": {},
     "output_type": "display_data"
    },
    {
     "data": {
      "text/plain": [
       "<Figure size 640x480 with 1 Axes>"
      ],
      "image/png": "[encoded data removed]"
     },
     "metadata": {},
     "output_type": "display_data"
    },
    {
     "data": {
      "text/plain": [
       "<Figure size 640x480 with 1 Axes>"
      ],
      "image/png": "[encoded data removed]"
     },
     "metadata": {},
     "output_type": "display_data"
    },
    {
     "data": {
      "text/plain": [
       "<Figure size 640x480 with 1 Axes>"
      ],
      "image/png": "[encoded data removed]"
     },
     "metadata": {},
     "output_type": "display_data"
    },
    {
     "data": {
      "text/plain": [
       "<Figure size 640x480 with 1 Axes>"
      ],
      "image/png": "[encoded data removed]"
     },
     "metadata": {},
     "output_type": "display_data"
    },
    {
     "data": {
      "text/plain": [
       "<Figure size 640x480 with 1 Axes>"
      ],
      "image/png": "[encoded data removed]"
     },
     "metadata": {},
     "output_type": "display_data"
    },
    {
     "data": {
      "text/plain": [
       "<Figure size 640x480 with 1 Axes>"
      ],
      "image/png": "[encoded data removed]"
     },
     "metadata": {},
     "output_type": "display_data"
    },
    {
     "data": {
      "text/plain": [
       "<Figure size 640x480 with 1 Axes>"
      ],
      "image/png": "[encoded data removed]"
     },
     "metadata": {},
     "output_type": "display_data"
    }
   ],
   "execution_count": 42
  },
  {
   "cell_type": "code",
   "id": "8e05c561-30a9-4328-be20-06302dc7425c",
   "metadata": {
    "ExecuteTime": {
     "end_time": "2024-05-28T19:50:35.506180Z",
     "start_time": "2024-05-28T19:50:35.504005Z"
    }
   },
   "source": [
    "model_path = model_base_path/'hyperparameters.pkl'\n",
    "\n",
    "with open(model_path, 'wb') as f:\n",
    "    pickle.dump({'ncomps':ncomps, 'nevecs':nevecs,'nbasecomps':nbasecomps, 'ncauses':ncauses, 'crop_size':crop_size}, f)"
   ],
   "outputs": [],
   "execution_count": 43
  },
  {
   "cell_type": "markdown",
   "id": "8c4aa32a-457e-44ea-804e-ffc137b45bbc",
   "metadata": {},
   "source": [
    "## Linear regression"
   ]
  },
  {
   "metadata": {
    "ExecuteTime": {
     "end_time": "2024-05-28T19:46:05.388564Z",
     "start_time": "2024-05-28T19:46:05.388492Z"
    }
   },
   "cell_type": "code",
   "source": [
    "import torch\n",
    "import yaml\n",
    "from utils.helpers import dict2namespace\n",
    "\n",
    "with open(macaw_path/'config'/'ukbb.yaml', 'r') as f:\n",
    "    config_raw = yaml.load(f, Loader=yaml.FullLoader)\n",
    "    \n",
    "config = dict2namespace(config_raw)\n",
    "config.device = torch.device('cuda') if torch.cuda.is_available() else torch.device('cpu')"
   ],
   "id": "d46b7a4d-6573-454d-b6dc-cb53cb9c4b8e",
   "outputs": [],
   "execution_count": null
  },
  {
   "cell_type": "code",
   "id": "e5e1a75d-d78b-4f63-a364-ba6ab01d8b95",
   "metadata": {},
   "source": [
    "ed =  encoded_data[:,:nevecs]\n",
    "X = np.hstack([sex[:,np.newaxis], bmi[:,np.newaxis], ed])    "
   ],
   "outputs": [],
   "execution_count": null
  },
  {
   "cell_type": "code",
   "id": "d4bca575-c1c5-4172-8b46-663bab7d25b4",
   "metadata": {},
   "source": [
    "from sklearn.linear_model import LinearRegression\n",
    "reg = LinearRegression().fit(X, age)"
   ],
   "outputs": [],
   "execution_count": null
  },
  {
   "cell_type": "code",
   "id": "b17490f3-02df-44b5-9904-c84e286a1e9f",
   "metadata": {},
   "source": [
    "reg.score(X, age)"
   ],
   "outputs": [],
   "execution_count": null
  },
  {
   "cell_type": "code",
   "id": "b1c6039d-93e2-44f3-91b8-8fac4f1a37b2",
   "metadata": {},
   "source": [
    "lr_path = model_base_path/'lr.pkl'\n",
    "\n",
    "with open(lr_path, 'wb') as f:\n",
    "    pickle.dump({'reg':reg}, f)"
   ],
   "outputs": [],
   "execution_count": null
  },
  {
   "cell_type": "code",
   "id": "64d8691b-68ee-4b77-8f17-a9b97b71f900",
   "metadata": {},
   "source": [
    "lr_path"
   ],
   "outputs": [],
   "execution_count": null
  },
  {
   "cell_type": "code",
   "id": "0b0ab90e-6bd4-417b-89a0-784773a9c82c",
   "metadata": {},
   "source": [
    "reg.coef_"
   ],
   "outputs": [],
   "execution_count": null
  },
  {
   "cell_type": "code",
   "id": "2c83dd74-2b7b-43d2-b56f-34ab907b6e35",
   "metadata": {},
   "source": [
    "np.mean(np.abs(reg.predict(X) - age))"
   ],
   "outputs": [],
   "execution_count": null
  },
  {
   "cell_type": "code",
   "id": "32e7720e-e9c7-4377-a86d-b5be161c3c12",
   "metadata": {},
   "source": [
    "idx = 0\n",
    "macaw = torch.load(model_base_path/f'{idx}.pt')\n",
    "X_test = np.hstack([sex[:,np.newaxis], age[:,np.newaxis], bmi[:,np.newaxis], encoded_data[:,idx:nevecs+idx]])"
   ],
   "outputs": [],
   "execution_count": null
  },
  {
   "cell_type": "code",
   "id": "b9f68acb-c37c-4da3-bd4b-20a22b2496f8",
   "metadata": {},
   "source": [
    "encoded_data.shape"
   ],
   "outputs": [],
   "execution_count": null
  },
  {
   "cell_type": "code",
   "id": "d0d12a02-37c0-448f-8bb5-0f26dd70758a",
   "metadata": {},
   "source": [
    "probs=[]\n",
    "for i in range(36):\n",
    "    X_test[:,1] = i\n",
    "    probs.append(macaw.log_likelihood(X_test))"
   ],
   "outputs": [],
   "execution_count": null
  },
  {
   "cell_type": "code",
   "id": "ceb04aa1-9cba-4977-9465-8f7ce52f7be3",
   "metadata": {},
   "source": [
    "pexp = np.exp(np.array(probs))\n",
    "pexp_sum = np.sum(pexp,axis=0)\n",
    "p = pexp/pexp_sum"
   ],
   "outputs": [],
   "execution_count": null
  },
  {
   "cell_type": "code",
   "id": "dd3010e4-fb4f-41e6-9099-39e1f76b9eff",
   "metadata": {},
   "source": [
    "pred_labels = np.argmax(probs, axis=0)"
   ],
   "outputs": [],
   "execution_count": null
  },
  {
   "cell_type": "code",
   "id": "26f76ba2-a646-47d8-87b9-29c3883725b1",
   "metadata": {},
   "source": [
    "age_bins=36"
   ],
   "outputs": [],
   "execution_count": null
  },
  {
   "cell_type": "code",
   "id": "8f865e26-867d-4372-acbe-27e201d54bde",
   "metadata": {},
   "source": [
    "sns.histplot(age, bins=age_bins)\n",
    "sns.histplot(pred_labels,bins=age_bins)"
   ],
   "outputs": [],
   "execution_count": null
  },
  {
   "cell_type": "code",
   "id": "03e95595-9173-4561-ac6c-39d91843db9c",
   "metadata": {},
   "source": [
    "l = np.array(probs)[:,80]\n",
    "plt.bar(np.arange(36),l-np.min(l))"
   ],
   "outputs": [],
   "execution_count": null
  },
  {
   "cell_type": "code",
   "id": "c55aab19-9403-42aa-86c9-561ce71e7f2f",
   "metadata": {},
   "source": [
    "sns.histplot(age-pred_labels, bins=age_bins)"
   ],
   "outputs": [],
   "execution_count": null
  },
  {
   "cell_type": "code",
   "id": "572878ef-3df8-4d69-8df0-4141a7f262ed",
   "metadata": {},
   "source": [
    "np.mean(np.abs(pred_labels - age))"
   ],
   "outputs": [],
   "execution_count": null
  },
  {
   "cell_type": "code",
   "id": "c925f853-d3ce-4c70-9830-5f3bbb4572fe",
   "metadata": {},
   "source": [],
   "outputs": [],
   "execution_count": null
  },
  {
   "cell_type": "code",
   "id": "32e37e65-74b9-49b1-b3b4-97ecbff3415c",
   "metadata": {},
   "source": [],
   "outputs": [],
   "execution_count": null
  }
 ],
 "metadata": {
  "kernelspec": {
   "display_name": "Python 3",
   "language": "python",
   "name": "python3"
  },
  "language_info": {
   "codemirror_mode": {
    "name": "ipython",
    "version": 3
   },
   "file_extension": ".py",
   "mimetype": "text/x-python",
   "name": "python",
   "nbconvert_exporter": "python",
   "pygments_lexer": "ipython3",
   "version": "3.8.13"
  }
 },
 "nbformat": 4,
 "nbformat_minor": 5
}
