{
 "cells": [
  {
   "cell_type": "code",
   "id": "ac8ed1c3-9496-49a4-865c-56314f141a9c",
   "metadata": {
    "ExecuteTime": {
     "end_time": "2024-05-21T17:42:37.962934Z",
     "start_time": "2024-05-21T17:42:37.960038Z"
    }
   },
   "source": [
    "nevecs = 60\n",
    "ncomps = 500\n",
    "nbasecomps = 20\n",
    "crop_size=180\n",
    "ncauses = 2\n",
    "dr_method = 'KPCA'"
   ],
   "outputs": [],
   "execution_count": 14
  },
  {
   "metadata": {
    "ExecuteTime": {
     "end_time": "2024-05-21T17:42:38.051554Z",
     "start_time": "2024-05-21T17:42:38.049228Z"
    }
   },
   "cell_type": "code",
   "source": [
    "from pathlib import Path\n",
    "import os, sys"
   ],
   "id": "fcd9e09a79faea7c",
   "outputs": [],
   "execution_count": 15
  },
  {
   "cell_type": "code",
   "id": "dc4bfa8c-b51e-4db7-a6c6-48e284f06081",
   "metadata": {
    "ExecuteTime": {
     "end_time": "2024-05-21T17:42:38.080907Z",
     "start_time": "2024-05-21T17:42:38.077239Z"
    }
   },
   "source": [
    "\n",
    "macaw_path = Path(os.getcwd())\n",
    "sys.path.append(str(macaw_path) +'/')\n",
    "\n",
    "train_csv_path = macaw_path/'splits'/'train.csv'\n",
    "train_img_path = macaw_path/'no_bias'/'train'\n",
    "\n",
    "# test_csv_path = macaw_path/'data'/'ukbb'/'test_hc.csv'\n",
    "# test_img_path = macaw_path/'data'/'ukbb'/'axial'/'test_hc'\n",
    "# \n",
    "kpca_path = macaw_path/'splits'/f'train_hc_kpca_{ncomps}.pkl'\n",
    "# \n",
    "train_path = macaw_path/'splits'/f'train_hc_data_KPCA_{ncomps}.pkl'\n",
    "# test_path = macaw_path/'data'/'ukbb'/'axial'/f'test_hc_data_KPCA_{ncomps}.pkl'\n",
    "model_base_path = macaw_path/'models'/f'{dr_method}_{ncomps}'/f'{nevecs}'\n",
    "\n",
    "if not os.path.exists(model_base_path):\n",
    "    os.makedirs(model_base_path)"
   ],
   "outputs": [],
   "execution_count": 16
  },
  {
   "cell_type": "code",
   "id": "5a5449c7-9cf7-45db-9535-4c0eb6ce6da9",
   "metadata": {
    "ExecuteTime": {
     "end_time": "2024-05-21T17:42:38.244734Z",
     "start_time": "2024-05-21T17:42:38.097081Z"
    }
   },
   "source": [
    "import pickle\n",
    "\n",
    "with open(train_path, 'rb') as f:\n",
    "    train = pickle.load(f)\n",
    "    \n",
    "disease = train['disease']\n",
    "bias = train['bias']\n",
    "\n",
    "encoded_data = train['encoded_data']\n",
    "kpca = train['kpca']"
   ],
   "outputs": [],
   "execution_count": 17
  },
  {
   "metadata": {
    "ExecuteTime": {
     "end_time": "2024-05-21T17:42:38.248084Z",
     "start_time": "2024-05-21T17:42:38.245693Z"
    }
   },
   "cell_type": "code",
   "source": "encoded_data.shape",
   "id": "8541fe03a78b9024",
   "outputs": [
    {
     "data": {
      "text/plain": [
       "(1005, 500)"
      ]
     },
     "execution_count": 18,
     "metadata": {},
     "output_type": "execute_result"
    }
   ],
   "execution_count": 18
  },
  {
   "cell_type": "code",
   "id": "00a80963-08f9-42d0-a786-304c80838e59",
   "metadata": {
    "ExecuteTime": {
     "end_time": "2024-05-21T17:42:38.251444Z",
     "start_time": "2024-05-21T17:42:38.248979Z"
    }
   },
   "source": [
    "import torchvision.transforms.functional as F\n",
    "import matplotlib.pyplot as plt\n",
    "import numpy as np\n",
    "\n",
    "def recons(age,bmi,latents, latent_offset=0):\n",
    "    age+=min_age\n",
    "    \n",
    "    latent_enc = np.zeros((latents.shape[0],ncomps))\n",
    "    latent_enc[:,latent_offset:latent_offset+latents.shape[1]] = latents    \n",
    "    imgs = kpca.inverse_transform(latent_enc)\n",
    "    return age,bmi,imgs"
   ],
   "outputs": [],
   "execution_count": 19
  },
  {
   "cell_type": "code",
   "id": "d913b8ea-75cf-4ab0-820c-9eb460a83870",
   "metadata": {
    "ExecuteTime": {
     "end_time": "2024-05-21T17:42:38.728176Z",
     "start_time": "2024-05-21T17:42:38.252746Z"
    }
   },
   "source": [
    "import seaborn as sns\n",
    "\n",
    "sb = 4\n",
    "fig, axs = plt.subplots(1,sb, figsize=(sb*5,5))\n",
    "\n",
    "sns.histplot(bias,ax=axs[0],fill=True)\n",
    "axs[0].set(title = \"bias\")\n",
    "sns.histplot(disease,ax=axs[1], fill=True)\n",
    "axs[1].set(title=\"disease\")\n",
    "# sns.histplot(encoded_data[0],ax=axs[3], fill=True)\n",
    "# axs[3].set(title=\"PCA0\")"
   ],
   "outputs": [
    {
     "data": {
      "text/plain": [
       "[Text(0.5, 1.0, 'disease')]"
      ]
     },
     "execution_count": 20,
     "metadata": {},
     "output_type": "execute_result"
    },
    {
     "data": {
      "text/plain": [
       "<Figure size 2000x500 with 4 Axes>"
      ],
      "image/png": "[encoded data removed]"
     },
     "metadata": {},
     "output_type": "display_data"
    }
   ],
   "execution_count": 20
  },
  {
   "cell_type": "code",
   "id": "f1aa2a96-05b7-49a7-b022-7995e99d4952",
   "metadata": {
    "ExecuteTime": {
     "end_time": "2024-05-21T17:42:38.730519Z",
     "start_time": "2024-05-21T17:42:38.728754Z"
    }
   },
   "source": [
    "# import utils.visualize as vis\n",
    "# \n",
    "# plt.rcParams['figure.figsize'] = (20,4)\n",
    "# nsamples = 5\n",
    "# \n",
    "# idx = np.random.randint(0,disease.shape[0],nsamples)\n",
    "# re = recons(disease[idx],bias[idx],encoded_data[idx])\n",
    "# \n",
    "# sex_t = ['Male' if round(s) else 'Female' for s in disease[idx]]\n",
    "# titles_sam = [f'Sex:{s}, Age:{a}, BMI:{np.round(b)}' for s,a,b in zip(sex_t, re[0],re[1])]\n",
    "# fig  = vis.img_grid([i.reshape(crop_size,crop_size).T for i in re[2]],cols=nsamples,titles=titles_sam)"
   ],
   "outputs": [],
   "execution_count": 21
  },
  {
   "cell_type": "markdown",
   "id": "e33defe2-6af3-468d-bd9e-3f830c804527",
   "metadata": {},
   "source": [
    "## Causal Graph"
   ]
  },
  {
   "cell_type": "code",
   "id": "6daf4154-f20b-4cad-86eb-7bf0de118187",
   "metadata": {
    "ExecuteTime": {
     "end_time": "2024-05-21T17:42:38.733909Z",
     "start_time": "2024-05-21T17:42:38.731023Z"
    }
   },
   "source": [
    "disease_to_latents = [(0,i) for i in range(ncauses,nevecs+ncauses)]\n",
    "\n",
    "bias_to_latents = [(1,i) for i in range(ncauses,nevecs+ncauses)]\n",
    "\n",
    "autoregressive_latents = [(i,j) for i in range(ncauses,nevecs+ncauses) for j in range(i+1,nevecs+ncauses)]\n",
    "# autoregressive_latents = [(i,j) for i in range(ncauses,2*ncauses) for j in range(i+1,nevecs+ncauses)]\n",
    "# autoregressive_latents = []\n",
    "edges = disease_to_latents + bias_to_latents + autoregressive_latents"
   ],
   "outputs": [],
   "execution_count": 22
  },
  {
   "cell_type": "markdown",
   "id": "2aa28e2b-0e9f-4b35-88d9-20ffb827b630",
   "metadata": {},
   "source": [
    "## Priors"
   ]
  },
  {
   "cell_type": "code",
   "id": "e84c3590-a881-43a5-800a-80a19f47fe89",
   "metadata": {
    "ExecuteTime": {
     "end_time": "2024-05-21T17:42:38.740461Z",
     "start_time": "2024-05-21T17:42:38.734605Z"
    }
   },
   "source": [
    "P_bias = np.sum(bias)/len(bias)\n",
    "print(P_bias)\n",
    "\n",
    "P_dis = np.sum(disease)/len(disease)\n",
    "print(P_dis)"
   ],
   "outputs": [
    {
     "name": "stdout",
     "output_type": "stream",
     "text": [
      "0.5024875621890548\n",
      "0.4975124378109453\n"
     ]
    }
   ],
   "execution_count": 23
  },
  {
   "metadata": {
    "ExecuteTime": {
     "end_time": "2024-05-21T17:42:38.743992Z",
     "start_time": "2024-05-21T17:42:38.741026Z"
    }
   },
   "cell_type": "code",
   "source": [
    "import torch\n",
    "import yaml\n",
    "from utils.helpers import dict2namespace\n",
    "\n",
    "with open(macaw_path/'config'/'ukbb.yaml', 'r') as f:\n",
    "    config_raw = yaml.load(f, Loader=yaml.FullLoader)\n",
    "    \n",
    "config = dict2namespace(config_raw)\n",
    "config.device = torch.device('cuda') if torch.cuda.is_available() else torch.device('cpu')"
   ],
   "id": "700b254703b316a0",
   "outputs": [],
   "execution_count": 24
  },
  {
   "cell_type": "code",
   "id": "e9e4cdea-a3ed-4b41-9c93-59a4b048e7e4",
   "metadata": {
    "ExecuteTime": {
     "end_time": "2024-05-21T17:42:38.747171Z",
     "start_time": "2024-05-21T17:42:38.744568Z"
    }
   },
   "source": [
    "import torch.distributions as td\n",
    "\n",
    "dev='cpu'\n",
    "\n",
    "priors = [(slice(0,1),td.Bernoulli(torch.tensor([P_bias]).to(torch.device(dev)))), # bias\n",
    "          (slice(1,2),td.Bernoulli(torch.tensor([P_dis]).to(torch.device(dev)))), # disease\n",
    "          (slice(nbasecomps+2,nevecs+2),td.Normal(torch.zeros(nevecs-nbasecomps).to(torch.device(dev)), torch.ones(nevecs-nbasecomps).to(torch.device(dev)))), # new_comps\n",
    "         ]"
   ],
   "outputs": [],
   "execution_count": 25
  },
  {
   "cell_type": "code",
   "id": "63391695-0396-45ac-ad67-9e62e7340c3e",
   "metadata": {
    "ExecuteTime": {
     "end_time": "2024-05-21T17:42:39.008678Z",
     "start_time": "2024-05-21T17:42:38.748381Z"
    }
   },
   "source": [
    "from torch.utils.tensorboard import SummaryWriter\n",
    "from torchvision import datasets, transforms\n",
    "\n",
    "# Writer will output to ./runs/ directory by default\n",
    "writer = SummaryWriter()"
   ],
   "outputs": [],
   "execution_count": 26
  },
  {
   "metadata": {
    "ExecuteTime": {
     "end_time": "2024-05-21T17:42:39.011453Z",
     "start_time": "2024-05-21T17:42:39.009569Z"
    }
   },
   "cell_type": "code",
   "source": "loss_vals = []",
   "id": "f285ab184989a6f",
   "outputs": [],
   "execution_count": 27
  },
  {
   "cell_type": "code",
   "id": "d7f8b8f4-7da3-4a47-a923-b7840808a8a5",
   "metadata": {
    "ExecuteTime": {
     "end_time": "2024-05-21T17:42:50.063839Z",
     "start_time": "2024-05-21T17:42:50.060464Z"
    }
   },
   "source": [
    "from macaw import MACAW\n",
    "\n",
    "for e in range(0,479,nevecs-nbasecomps):\n",
    "    save_path = model_base_path/f'{e}.pt'    \n",
    "    ed =  encoded_data[:,e:e+nevecs]\n",
    "    print(e,e+nevecs)\n",
    "    \n",
    "    if not os.path.exists(save_path): \n",
    "       \n",
    "        X = np.hstack([bias[:,np.newaxis], disease[:,np.newaxis], ed])    \n",
    "\n",
    "        macaw = MACAW.MACAW(config)\n",
    "        loss_vals.append(macaw.fit_with_priors(X,edges, priors))\n",
    "\n",
    "        torch.save(macaw,save_path)\n",
    "    else:\n",
    "        print(\"Skipping\")"
   ],
   "outputs": [
    {
     "name": "stdout",
     "output_type": "stream",
     "text": [
      "0 60\n",
      "Skipping\n",
      "40 100\n",
      "Skipping\n",
      "80 140\n",
      "Skipping\n",
      "120 180\n",
      "Skipping\n",
      "160 220\n",
      "Skipping\n",
      "200 260\n",
      "Skipping\n",
      "240 300\n",
      "Skipping\n",
      "280 340\n",
      "Skipping\n",
      "320 380\n",
      "Skipping\n",
      "360 420\n",
      "Skipping\n",
      "400 460\n",
      "Skipping\n",
      "440 500\n",
      "Skipping\n"
     ]
    }
   ],
   "execution_count": 29
  },
  {
   "metadata": {
    "ExecuteTime": {
     "end_time": "2024-05-21T17:42:52.612052Z",
     "start_time": "2024-05-21T17:42:52.609871Z"
    }
   },
   "cell_type": "code",
   "source": "loss_vals",
   "id": "f69389db8c55c45f",
   "outputs": [
    {
     "data": {
      "text/plain": [
       "[]"
      ]
     },
     "execution_count": 30,
     "metadata": {},
     "output_type": "execute_result"
    }
   ],
   "execution_count": 30
  },
  {
   "cell_type": "code",
   "id": "84c1ebc0-3d71-47b8-8709-7a758113d675",
   "metadata": {
    "ExecuteTime": {
     "end_time": "2024-05-21T17:42:54.119568Z",
     "start_time": "2024-05-21T17:42:54.102187Z"
    }
   },
   "source": [
    "plt.plot(np.array(loss_vals[0][0]))\n",
    "plt.plot(np.array(loss_vals[0][1]))"
   ],
   "outputs": [
    {
     "ename": "IndexError",
     "evalue": "list index out of range",
     "output_type": "error",
     "traceback": [
      "\u001B[0;31m---------------------------------------------------------------------------\u001B[0m",
      "\u001B[0;31mIndexError\u001B[0m                                Traceback (most recent call last)",
      "Cell \u001B[0;32mIn[31], line 1\u001B[0m\n\u001B[0;32m----> 1\u001B[0m plt\u001B[38;5;241m.\u001B[39mplot(np\u001B[38;5;241m.\u001B[39marray(loss_vals[\u001B[38;5;241m0\u001B[39m][\u001B[38;5;241m0\u001B[39m]))\n\u001B[1;32m      2\u001B[0m plt\u001B[38;5;241m.\u001B[39mplot(np\u001B[38;5;241m.\u001B[39marray(loss_vals[\u001B[38;5;241m0\u001B[39m][\u001B[38;5;241m1\u001B[39m]))\n",
      "\u001B[0;31mIndexError\u001B[0m: list index out of range"
     ]
    }
   ],
   "execution_count": 31
  },
  {
   "cell_type": "code",
   "id": "8e05c561-30a9-4328-be20-06302dc7425c",
   "metadata": {},
   "source": [
    "model_path = model_base_path/'hyperparameters.pkl'\n",
    "\n",
    "with open(model_path, 'wb') as f:\n",
    "    pickle.dump({'ncomps':ncomps, 'nevecs':nevecs,'nbasecomps':nbasecomps, 'ncauses':ncauses, 'crop_size':crop_size}, f)"
   ],
   "outputs": [],
   "execution_count": null
  },
  {
   "cell_type": "markdown",
   "id": "8c4aa32a-457e-44ea-804e-ffc137b45bbc",
   "metadata": {},
   "source": [
    "## Linear regression"
   ]
  },
  {
   "metadata": {},
   "cell_type": "code",
   "source": [
    "import torch\n",
    "import yaml\n",
    "from utils.helpers import dict2namespace\n",
    "\n",
    "with open(macaw_path/'config'/'ukbb.yaml', 'r') as f:\n",
    "    config_raw = yaml.load(f, Loader=yaml.FullLoader)\n",
    "    \n",
    "config = dict2namespace(config_raw)\n",
    "config.device = torch.device('cuda') if torch.cuda.is_available() else torch.device('cpu')"
   ],
   "id": "d46b7a4d-6573-454d-b6dc-cb53cb9c4b8e",
   "outputs": [],
   "execution_count": null
  },
  {
   "cell_type": "code",
   "id": "e5e1a75d-d78b-4f63-a364-ba6ab01d8b95",
   "metadata": {},
   "source": [
    "ed =  encoded_data[:,:nevecs]\n",
    "X = np.hstack([sex[:,np.newaxis], bmi[:,np.newaxis], ed])    "
   ],
   "outputs": [],
   "execution_count": null
  },
  {
   "cell_type": "code",
   "id": "d4bca575-c1c5-4172-8b46-663bab7d25b4",
   "metadata": {},
   "source": [
    "from sklearn.linear_model import LinearRegression\n",
    "reg = LinearRegression().fit(X, age)"
   ],
   "outputs": [],
   "execution_count": null
  },
  {
   "cell_type": "code",
   "id": "b17490f3-02df-44b5-9904-c84e286a1e9f",
   "metadata": {},
   "source": [
    "reg.score(X, age)"
   ],
   "outputs": [],
   "execution_count": null
  },
  {
   "cell_type": "code",
   "id": "b1c6039d-93e2-44f3-91b8-8fac4f1a37b2",
   "metadata": {},
   "source": [
    "lr_path = model_base_path/'lr.pkl'\n",
    "\n",
    "with open(lr_path, 'wb') as f:\n",
    "    pickle.dump({'reg':reg}, f)"
   ],
   "outputs": [],
   "execution_count": null
  },
  {
   "cell_type": "code",
   "id": "64d8691b-68ee-4b77-8f17-a9b97b71f900",
   "metadata": {},
   "source": [
    "lr_path"
   ],
   "outputs": [],
   "execution_count": null
  },
  {
   "cell_type": "code",
   "id": "0b0ab90e-6bd4-417b-89a0-784773a9c82c",
   "metadata": {},
   "source": [
    "reg.coef_"
   ],
   "outputs": [],
   "execution_count": null
  },
  {
   "cell_type": "code",
   "id": "2c83dd74-2b7b-43d2-b56f-34ab907b6e35",
   "metadata": {},
   "source": [
    "np.mean(np.abs(reg.predict(X) - age))"
   ],
   "outputs": [],
   "execution_count": null
  },
  {
   "cell_type": "code",
   "id": "32e7720e-e9c7-4377-a86d-b5be161c3c12",
   "metadata": {},
   "source": [
    "idx = 0\n",
    "macaw = torch.load(model_base_path/f'{idx}.pt')\n",
    "X_test = np.hstack([sex[:,np.newaxis], age[:,np.newaxis], bmi[:,np.newaxis], encoded_data[:,idx:nevecs+idx]])"
   ],
   "outputs": [],
   "execution_count": null
  },
  {
   "cell_type": "code",
   "id": "b9f68acb-c37c-4da3-bd4b-20a22b2496f8",
   "metadata": {},
   "source": [
    "encoded_data.shape"
   ],
   "outputs": [],
   "execution_count": null
  },
  {
   "cell_type": "code",
   "id": "d0d12a02-37c0-448f-8bb5-0f26dd70758a",
   "metadata": {},
   "source": [
    "probs=[]\n",
    "for i in range(36):\n",
    "    X_test[:,1] = i\n",
    "    probs.append(macaw.log_likelihood(X_test))"
   ],
   "outputs": [],
   "execution_count": null
  },
  {
   "cell_type": "code",
   "id": "ceb04aa1-9cba-4977-9465-8f7ce52f7be3",
   "metadata": {},
   "source": [
    "pexp = np.exp(np.array(probs))\n",
    "pexp_sum = np.sum(pexp,axis=0)\n",
    "p = pexp/pexp_sum"
   ],
   "outputs": [],
   "execution_count": null
  },
  {
   "cell_type": "code",
   "id": "dd3010e4-fb4f-41e6-9099-39e1f76b9eff",
   "metadata": {},
   "source": [
    "pred_labels = np.argmax(probs, axis=0)"
   ],
   "outputs": [],
   "execution_count": null
  },
  {
   "cell_type": "code",
   "id": "26f76ba2-a646-47d8-87b9-29c3883725b1",
   "metadata": {},
   "source": [
    "age_bins=36"
   ],
   "outputs": [],
   "execution_count": null
  },
  {
   "cell_type": "code",
   "id": "8f865e26-867d-4372-acbe-27e201d54bde",
   "metadata": {},
   "source": [
    "sns.histplot(age, bins=age_bins)\n",
    "sns.histplot(pred_labels,bins=age_bins)"
   ],
   "outputs": [],
   "execution_count": null
  },
  {
   "cell_type": "code",
   "id": "03e95595-9173-4561-ac6c-39d91843db9c",
   "metadata": {},
   "source": [
    "l = np.array(probs)[:,80]\n",
    "plt.bar(np.arange(36),l-np.min(l))"
   ],
   "outputs": [],
   "execution_count": null
  },
  {
   "cell_type": "code",
   "id": "c55aab19-9403-42aa-86c9-561ce71e7f2f",
   "metadata": {},
   "source": [
    "sns.histplot(age-pred_labels, bins=age_bins)"
   ],
   "outputs": [],
   "execution_count": null
  },
  {
   "cell_type": "code",
   "id": "572878ef-3df8-4d69-8df0-4141a7f262ed",
   "metadata": {},
   "source": [
    "np.mean(np.abs(pred_labels - age))"
   ],
   "outputs": [],
   "execution_count": null
  },
  {
   "cell_type": "code",
   "id": "c925f853-d3ce-4c70-9830-5f3bbb4572fe",
   "metadata": {},
   "source": [],
   "outputs": [],
   "execution_count": null
  },
  {
   "cell_type": "code",
   "id": "32e37e65-74b9-49b1-b3b4-97ecbff3415c",
   "metadata": {},
   "source": [],
   "outputs": [],
   "execution_count": null
  }
 ],
 "metadata": {
  "kernelspec": {
   "display_name": "Python 3",
   "language": "python",
   "name": "python3"
  },
  "language_info": {
   "codemirror_mode": {
    "name": "ipython",
    "version": 3
   },
   "file_extension": ".py",
   "mimetype": "text/x-python",
   "name": "python",
   "nbconvert_exporter": "python",
   "pygments_lexer": "ipython3",
   "version": "3.8.13"
  }
 },
 "nbformat": 4,
 "nbformat_minor": 5
}
