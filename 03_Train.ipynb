{
 "cells": [
  {
   "cell_type": "code",
   "id": "ac8ed1c3-9496-49a4-865c-56314f141a9c",
   "metadata": {
    "ExecuteTime": {
     "end_time": "2024-05-23T23:19:00.922346Z",
     "start_time": "2024-05-23T23:19:00.920302Z"
    }
   },
   "source": [
    "nevecs = 60\n",
    "ncomps = 500\n",
    "nbasecomps = 20\n",
    "crop_size=180\n",
    "ncauses = 2\n",
    "dr_method = 'PCA'"
   ],
   "outputs": [],
   "execution_count": 1
  },
  {
   "metadata": {
    "ExecuteTime": {
     "end_time": "2024-05-23T23:19:01.006151Z",
     "start_time": "2024-05-23T23:19:01.003799Z"
    }
   },
   "cell_type": "code",
   "source": [
    "from pathlib import Path\n",
    "import os, sys"
   ],
   "id": "fcd9e09a79faea7c",
   "outputs": [],
   "execution_count": 2
  },
  {
   "cell_type": "code",
   "id": "dc4bfa8c-b51e-4db7-a6c6-48e284f06081",
   "metadata": {
    "ExecuteTime": {
     "end_time": "2024-05-23T23:19:01.015634Z",
     "start_time": "2024-05-23T23:19:01.013150Z"
    }
   },
   "source": [
    "\n",
    "macaw_path = Path(os.getcwd())\n",
    "sys.path.append(str(macaw_path) +'/')\n",
    "\n",
    "exp_name = 'no_bias'\n",
    "\n",
    "train_csv_path = macaw_path/'splits'/'train.csv'\n",
    "train_img_path = macaw_path/'no_bias'/'train'\n",
    "\n",
    "# test_csv_path = macaw_path/'data'/'ukbb'/'test_hc.csv'\n",
    "# test_img_path = macaw_path/'data'/'ukbb'/'axial'/'test_hc'\n",
    "# \n",
    "kpca_path = macaw_path/exp_name/f'train_hc_pca_{ncomps}.pkl'\n",
    "# \n",
    "train_path = macaw_path/exp_name/f'train_hc_data_PCA_{ncomps}.pkl'\n",
    "# test_path = macaw_path/'data'/'ukbb'/'axial'/f'test_hc_data_KPCA_{ncomps}.pkl'\n",
    "model_base_path = macaw_path/'models'/exp_name/f'{dr_method}_{ncomps}'/f'{nevecs}'\n",
    "\n",
    "if not os.path.exists(model_base_path):\n",
    "    os.makedirs(model_base_path)"
   ],
   "outputs": [],
   "execution_count": 3
  },
  {
   "cell_type": "code",
   "id": "5a5449c7-9cf7-45db-9535-4c0eb6ce6da9",
   "metadata": {
    "ExecuteTime": {
     "end_time": "2024-05-23T23:19:01.201093Z",
     "start_time": "2024-05-23T23:19:01.017133Z"
    }
   },
   "source": [
    "import pickle\n",
    "\n",
    "with open(train_path, 'rb') as f:\n",
    "    train = pickle.load(f)\n",
    "    \n",
    "disease = train['disease']\n",
    "bias = train['bias']\n",
    "\n",
    "encoded_data = train['encoded_data']\n",
    "pca = train['pca']"
   ],
   "outputs": [],
   "execution_count": 4
  },
  {
   "metadata": {
    "ExecuteTime": {
     "end_time": "2024-05-23T23:19:01.205227Z",
     "start_time": "2024-05-23T23:19:01.201966Z"
    }
   },
   "cell_type": "code",
   "source": "encoded_data.shape",
   "id": "8541fe03a78b9024",
   "outputs": [
    {
     "data": {
      "text/plain": [
       "(1005, 500)"
      ]
     },
     "execution_count": 5,
     "metadata": {},
     "output_type": "execute_result"
    }
   ],
   "execution_count": 5
  },
  {
   "cell_type": "code",
   "id": "00a80963-08f9-42d0-a786-304c80838e59",
   "metadata": {
    "ExecuteTime": {
     "end_time": "2024-05-23T23:19:02.388891Z",
     "start_time": "2024-05-23T23:19:01.205670Z"
    }
   },
   "source": [
    "import torchvision.transforms.functional as F\n",
    "import matplotlib.pyplot as plt\n",
    "import numpy as np"
   ],
   "outputs": [],
   "execution_count": 6
  },
  {
   "cell_type": "code",
   "id": "d913b8ea-75cf-4ab0-820c-9eb460a83870",
   "metadata": {
    "ExecuteTime": {
     "end_time": "2024-05-23T23:19:02.646541Z",
     "start_time": "2024-05-23T23:19:02.389813Z"
    }
   },
   "source": [
    "import seaborn as sns\n",
    "\n",
    "sb = 2\n",
    "fig, axs = plt.subplots(1,sb, figsize=(sb*5,5))\n",
    "\n",
    "sns.histplot(bias,ax=axs[0],fill=True)\n",
    "axs[0].set(title = \"bias\")\n",
    "sns.histplot(disease,ax=axs[1], fill=True)\n",
    "axs[1].set(title=\"disease\")\n",
    "# sns.histplot(encoded_data[0],ax=axs[3], fill=True)\n",
    "# axs[3].set(title=\"PCA0\")"
   ],
   "outputs": [
    {
     "data": {
      "text/plain": [
       "[Text(0.5, 1.0, 'disease')]"
      ]
     },
     "execution_count": 7,
     "metadata": {},
     "output_type": "execute_result"
    },
    {
     "data": {
      "text/plain": [
       "<Figure size 1000x500 with 2 Axes>"
      ],
      "image/png": "[encoded data removed]"
     },
     "metadata": {},
     "output_type": "display_data"
    }
   ],
   "execution_count": 7
  },
  {
   "cell_type": "markdown",
   "id": "e33defe2-6af3-468d-bd9e-3f830c804527",
   "metadata": {},
   "source": [
    "## Causal Graph"
   ]
  },
  {
   "cell_type": "code",
   "id": "6daf4154-f20b-4cad-86eb-7bf0de118187",
   "metadata": {
    "ExecuteTime": {
     "end_time": "2024-05-23T23:19:02.650038Z",
     "start_time": "2024-05-23T23:19:02.647266Z"
    }
   },
   "source": [
    "disease_to_latents = [(0,i) for i in range(ncauses,nevecs+ncauses)]\n",
    "\n",
    "bias_to_latents = [(1,i) for i in range(ncauses,nevecs+ncauses)]\n",
    "\n",
    "autoregressive_latents = [(i,j) for i in range(ncauses,nevecs+ncauses) for j in range(i+1,nevecs+ncauses)]\n",
    "# autoregressive_latents = [(i,j) for i in range(ncauses,2*ncauses) for j in range(i+1,nevecs+ncauses)]\n",
    "# autoregressive_latents = []\n",
    "edges = disease_to_latents + bias_to_latents + autoregressive_latents"
   ],
   "outputs": [],
   "execution_count": 8
  },
  {
   "cell_type": "markdown",
   "id": "2aa28e2b-0e9f-4b35-88d9-20ffb827b630",
   "metadata": {},
   "source": [
    "## Priors"
   ]
  },
  {
   "cell_type": "code",
   "id": "e84c3590-a881-43a5-800a-80a19f47fe89",
   "metadata": {
    "ExecuteTime": {
     "end_time": "2024-05-23T23:19:02.653120Z",
     "start_time": "2024-05-23T23:19:02.650524Z"
    }
   },
   "source": [
    "P_bias = np.sum(bias)/len(bias)\n",
    "print(P_bias)\n",
    "\n",
    "P_dis = np.sum(disease)/len(disease)\n",
    "print(P_dis)"
   ],
   "outputs": [
    {
     "name": "stdout",
     "output_type": "stream",
     "text": [
      "0.5024875621890548\n",
      "0.4975124378109453\n"
     ]
    }
   ],
   "execution_count": 9
  },
  {
   "metadata": {
    "ExecuteTime": {
     "end_time": "2024-05-23T23:19:02.656773Z",
     "start_time": "2024-05-23T23:19:02.653595Z"
    }
   },
   "cell_type": "code",
   "source": [
    "import torch\n",
    "import yaml\n",
    "from utils.helpers import dict2namespace\n",
    "\n",
    "with open(macaw_path/'config'/'ukbb.yaml', 'r') as f:\n",
    "    config_raw = yaml.load(f, Loader=yaml.FullLoader)\n",
    "    \n",
    "config = dict2namespace(config_raw)\n",
    "config.device = torch.device('cuda') if torch.cuda.is_available() else torch.device('cpu')"
   ],
   "id": "700b254703b316a0",
   "outputs": [],
   "execution_count": 10
  },
  {
   "metadata": {
    "ExecuteTime": {
     "end_time": "2024-05-23T23:19:02.659333Z",
     "start_time": "2024-05-23T23:19:02.657267Z"
    }
   },
   "cell_type": "code",
   "source": "torch.cuda.is_available()",
   "id": "f9bed2886d08b24c",
   "outputs": [
    {
     "data": {
      "text/plain": [
       "False"
      ]
     },
     "execution_count": 11,
     "metadata": {},
     "output_type": "execute_result"
    }
   ],
   "execution_count": 11
  },
  {
   "metadata": {
    "ExecuteTime": {
     "end_time": "2024-05-23T23:19:02.662228Z",
     "start_time": "2024-05-23T23:19:02.659896Z"
    }
   },
   "cell_type": "code",
   "source": "config.device",
   "id": "86c08c0619624c25",
   "outputs": [
    {
     "data": {
      "text/plain": [
       "device(type='cpu')"
      ]
     },
     "execution_count": 12,
     "metadata": {},
     "output_type": "execute_result"
    }
   ],
   "execution_count": 12
  },
  {
   "cell_type": "code",
   "id": "e9e4cdea-a3ed-4b41-9c93-59a4b048e7e4",
   "metadata": {
    "ExecuteTime": {
     "end_time": "2024-05-23T23:19:02.666383Z",
     "start_time": "2024-05-23T23:19:02.663491Z"
    }
   },
   "source": [
    "import torch.distributions as td\n",
    "\n",
    "dev='cpu'\n",
    "\n",
    "priors = [(slice(0,1),td.Bernoulli(torch.tensor([P_bias]).to(torch.device(dev)))), # bias\n",
    "          (slice(1,2),td.Bernoulli(torch.tensor([P_dis]).to(torch.device(dev)))), # disease\n",
    "          (slice(nbasecomps+2,nevecs+2),td.Normal(torch.zeros(nevecs-nbasecomps).to(torch.device(dev)), torch.ones(nevecs-nbasecomps).to(torch.device(dev)))), # new_comps\n",
    "         ]"
   ],
   "outputs": [],
   "execution_count": 13
  },
  {
   "cell_type": "code",
   "id": "63391695-0396-45ac-ad67-9e62e7340c3e",
   "metadata": {
    "ExecuteTime": {
     "end_time": "2024-05-23T23:19:03.705584Z",
     "start_time": "2024-05-23T23:19:02.666858Z"
    }
   },
   "source": [
    "from torch.utils.tensorboard import SummaryWriter\n",
    "from torchvision import datasets, transforms\n",
    "\n",
    "# Writer will output to ./runs/ directory by default\n",
    "writer = SummaryWriter()"
   ],
   "outputs": [
    {
     "name": "stderr",
     "output_type": "stream",
     "text": [
      "2024-05-23 17:19:02.839520: I tensorflow/core/util/port.cc:110] oneDNN custom operations are on. You may see slightly different numerical results due to floating-point round-off errors from different computation orders. To turn them off, set the environment variable `TF_ENABLE_ONEDNN_OPTS=0`.\n",
      "2024-05-23 17:19:02.840590: I tensorflow/tsl/cuda/cudart_stub.cc:28] Could not find cuda drivers on your machine, GPU will not be used.\n",
      "2024-05-23 17:19:02.865197: I tensorflow/core/platform/cpu_feature_guard.cc:182] This TensorFlow binary is optimized to use available CPU instructions in performance-critical operations.\n",
      "To enable the following instructions: AVX2 AVX512F AVX512_VNNI FMA, in other operations, rebuild TensorFlow with the appropriate compiler flags.\n",
      "2024-05-23 17:19:03.419857: W tensorflow/compiler/tf2tensorrt/utils/py_utils.cc:38] TF-TRT Warning: Could not find TensorRT\n"
     ]
    }
   ],
   "execution_count": 14
  },
  {
   "metadata": {
    "ExecuteTime": {
     "end_time": "2024-05-23T23:19:03.707995Z",
     "start_time": "2024-05-23T23:19:03.706177Z"
    }
   },
   "cell_type": "code",
   "source": "loss_vals = []",
   "id": "f285ab184989a6f",
   "outputs": [],
   "execution_count": 15
  },
  {
   "cell_type": "code",
   "id": "d7f8b8f4-7da3-4a47-a923-b7840808a8a5",
   "metadata": {
    "ExecuteTime": {
     "end_time": "2024-05-23T23:19:07.433752Z",
     "start_time": "2024-05-23T23:19:03.708461Z"
    }
   },
   "source": [
    "from macaw import MACAW\n",
    "\n",
    "for e in range(0,479,nevecs-nbasecomps):\n",
    "    save_path = model_base_path/f'{e}.pt'    \n",
    "    ed =  encoded_data[:,e:e+nevecs]\n",
    "    print(e,e+nevecs)\n",
    "    \n",
    "    if os.path.exists(save_path): \n",
    "       \n",
    "        X = np.hstack([bias[:,np.newaxis], disease[:,np.newaxis], ed])    \n",
    "\n",
    "        macaw = MACAW.MACAW(config)\n",
    "        loss_vals.append(macaw.fit_with_priors(X,edges, priors))\n",
    "\n",
    "        torch.save(macaw,save_path)\n",
    "    else:\n",
    "        print(\"Skipping\")"
   ],
   "outputs": [
    {
     "name": "stdout",
     "output_type": "stream",
     "text": [
      "0 60\n"
     ]
    },
    {
     "data": {
      "text/plain": [
       "  0%|          | 0/50 [00:00<?, ?it/s]"
      ],
      "application/vnd.jupyter.widget-view+json": {
       "version_major": 2,
       "version_minor": 0,
       "model_id": "ae5b5283be2f4c7eaf4c8788f9abf29c"
      }
     },
     "metadata": {},
     "output_type": "display_data"
    },
    {
     "name": "stdout",
     "output_type": "stream",
     "text": [
      "Epoch 1/50 - Training Loss: 4394.909, Val Loss: 3863.506, LR: 0.000100\n",
      "Epoch 2/50 - Training Loss: 4293.781, Val Loss: 3773.654, LR: 0.000100\n",
      "Epoch 3/50 - Training Loss: 4188.789, Val Loss: 3674.606, LR: 0.000100\n",
      "Epoch 4/50 - Training Loss: 4068.381, Val Loss: 3555.218, LR: 0.000100\n",
      "Epoch 5/50 - Training Loss: 3917.520, Val Loss: 3399.679, LR: 0.000100\n",
      "Epoch 6/50 - Training Loss: 3714.278, Val Loss: 3182.899, LR: 0.000100\n",
      "Epoch 7/50 - Training Loss: 3423.170, Val Loss: 2866.121, LR: 0.000100\n",
      "Epoch 8/50 - Training Loss: 2993.734, Val Loss: 2392.661, LR: 0.000100\n",
      "Epoch 9/50 - Training Loss: 2356.631, Val Loss: 1704.475, LR: 0.000100\n",
      "Epoch 10/50 - Training Loss: 1603.500, Val Loss: 930.473, LR: 0.000100\n",
      "Epoch 11/50 - Training Loss: 887.904, Val Loss: 282.547, LR: 0.000100\n",
      "Epoch 12/50 - Training Loss: 162.967, Val Loss: -376.338, LR: 0.000100\n",
      "Epoch 13/50 - Training Loss: -479.366, Val Loss: -981.963, LR: 0.000100\n",
      "Epoch 14/50 - Training Loss: -1077.468, Val Loss: -1481.622, LR: 0.000100\n",
      "Epoch 15/50 - Training Loss: -1613.131, Val Loss: -1954.202, LR: 0.000100\n",
      "Epoch 16/50 - Training Loss: -2098.482, Val Loss: -2357.972, LR: 0.000100\n",
      "Epoch 17/50 - Training Loss: -2532.142, Val Loss: -2717.544, LR: 0.000100\n",
      "Epoch 18/50 - Training Loss: -2897.480, Val Loss: -3024.373, LR: 0.000100\n",
      "Epoch 19/50 - Training Loss: -3198.739, Val Loss: -3268.323, LR: 0.000100\n",
      "Epoch 20/50 - Training Loss: -3438.324, Val Loss: -3478.775, LR: 0.000100\n",
      "Epoch 21/50 - Training Loss: -3625.254, Val Loss: -3608.825, LR: 0.000100\n",
      "Epoch 22/50 - Training Loss: -3762.384, Val Loss: -3726.835, LR: 0.000100\n",
      "Epoch 23/50 - Training Loss: -3868.968, Val Loss: -3813.859, LR: 0.000100\n",
      "Epoch 24/50 - Training Loss: -3961.899, Val Loss: -3898.865, LR: 0.000100\n",
      "Epoch 25/50 - Training Loss: -4054.505, Val Loss: -3970.885, LR: 0.000100\n"
     ]
    },
    {
     "ename": "KeyboardInterrupt",
     "evalue": "",
     "output_type": "error",
     "traceback": [
      "\u001B[0;31m---------------------------------------------------------------------------\u001B[0m",
      "\u001B[0;31mKeyboardInterrupt\u001B[0m                         Traceback (most recent call last)",
      "Cell \u001B[0;32mIn[16], line 13\u001B[0m\n\u001B[1;32m     10\u001B[0m     X \u001B[38;5;241m=\u001B[39m np\u001B[38;5;241m.\u001B[39mhstack([bias[:,np\u001B[38;5;241m.\u001B[39mnewaxis], disease[:,np\u001B[38;5;241m.\u001B[39mnewaxis], ed])    \n\u001B[1;32m     12\u001B[0m     macaw \u001B[38;5;241m=\u001B[39m MACAW\u001B[38;5;241m.\u001B[39mMACAW(config)\n\u001B[0;32m---> 13\u001B[0m     loss_vals\u001B[38;5;241m.\u001B[39mappend(macaw\u001B[38;5;241m.\u001B[39mfit_with_priors(X,edges, priors))\n\u001B[1;32m     15\u001B[0m     torch\u001B[38;5;241m.\u001B[39msave(macaw,save_path)\n\u001B[1;32m     16\u001B[0m \u001B[38;5;28;01melse\u001B[39;00m:\n",
      "File \u001B[0;32m~/PycharmProjects/CounterBias/macaw/MACAW.py:165\u001B[0m, in \u001B[0;36mMACAW.fit_with_priors\u001B[0;34m(self, data, edges, priors)\u001B[0m\n\u001B[1;32m    163\u001B[0m     \u001B[38;5;66;03m# optimize\u001B[39;00m\n\u001B[1;32m    164\u001B[0m     optimizer\u001B[38;5;241m.\u001B[39mzero_grad()\n\u001B[0;32m--> 165\u001B[0m     loss\u001B[38;5;241m.\u001B[39mbackward()\n\u001B[1;32m    166\u001B[0m     optimizer\u001B[38;5;241m.\u001B[39mstep()\n\u001B[1;32m    168\u001B[0m \u001B[38;5;28;01mif\u001B[39;00m \u001B[38;5;28mself\u001B[39m\u001B[38;5;241m.\u001B[39mc\u001B[38;5;241m.\u001B[39moptim\u001B[38;5;241m.\u001B[39mscheduler:\n",
      "File \u001B[0;32m~/Software/anaconda3/lib/python3.11/site-packages/torch/_tensor.py:525\u001B[0m, in \u001B[0;36mTensor.backward\u001B[0;34m(self, gradient, retain_graph, create_graph, inputs)\u001B[0m\n\u001B[1;32m    515\u001B[0m \u001B[38;5;28;01mif\u001B[39;00m has_torch_function_unary(\u001B[38;5;28mself\u001B[39m):\n\u001B[1;32m    516\u001B[0m     \u001B[38;5;28;01mreturn\u001B[39;00m handle_torch_function(\n\u001B[1;32m    517\u001B[0m         Tensor\u001B[38;5;241m.\u001B[39mbackward,\n\u001B[1;32m    518\u001B[0m         (\u001B[38;5;28mself\u001B[39m,),\n\u001B[0;32m   (...)\u001B[0m\n\u001B[1;32m    523\u001B[0m         inputs\u001B[38;5;241m=\u001B[39minputs,\n\u001B[1;32m    524\u001B[0m     )\n\u001B[0;32m--> 525\u001B[0m torch\u001B[38;5;241m.\u001B[39mautograd\u001B[38;5;241m.\u001B[39mbackward(\n\u001B[1;32m    526\u001B[0m     \u001B[38;5;28mself\u001B[39m, gradient, retain_graph, create_graph, inputs\u001B[38;5;241m=\u001B[39minputs\n\u001B[1;32m    527\u001B[0m )\n",
      "File \u001B[0;32m~/Software/anaconda3/lib/python3.11/site-packages/torch/autograd/__init__.py:267\u001B[0m, in \u001B[0;36mbackward\u001B[0;34m(tensors, grad_tensors, retain_graph, create_graph, grad_variables, inputs)\u001B[0m\n\u001B[1;32m    262\u001B[0m     retain_graph \u001B[38;5;241m=\u001B[39m create_graph\n\u001B[1;32m    264\u001B[0m \u001B[38;5;66;03m# The reason we repeat the same comment below is that\u001B[39;00m\n\u001B[1;32m    265\u001B[0m \u001B[38;5;66;03m# some Python versions print out the first line of a multi-line function\u001B[39;00m\n\u001B[1;32m    266\u001B[0m \u001B[38;5;66;03m# calls in the traceback and some print out the last line\u001B[39;00m\n\u001B[0;32m--> 267\u001B[0m _engine_run_backward(\n\u001B[1;32m    268\u001B[0m     tensors,\n\u001B[1;32m    269\u001B[0m     grad_tensors_,\n\u001B[1;32m    270\u001B[0m     retain_graph,\n\u001B[1;32m    271\u001B[0m     create_graph,\n\u001B[1;32m    272\u001B[0m     inputs,\n\u001B[1;32m    273\u001B[0m     allow_unreachable\u001B[38;5;241m=\u001B[39m\u001B[38;5;28;01mTrue\u001B[39;00m,\n\u001B[1;32m    274\u001B[0m     accumulate_grad\u001B[38;5;241m=\u001B[39m\u001B[38;5;28;01mTrue\u001B[39;00m,\n\u001B[1;32m    275\u001B[0m )\n",
      "File \u001B[0;32m~/Software/anaconda3/lib/python3.11/site-packages/torch/autograd/graph.py:744\u001B[0m, in \u001B[0;36m_engine_run_backward\u001B[0;34m(t_outputs, *args, **kwargs)\u001B[0m\n\u001B[1;32m    742\u001B[0m     unregister_hooks \u001B[38;5;241m=\u001B[39m _register_logging_hooks_on_whole_graph(t_outputs)\n\u001B[1;32m    743\u001B[0m \u001B[38;5;28;01mtry\u001B[39;00m:\n\u001B[0;32m--> 744\u001B[0m     \u001B[38;5;28;01mreturn\u001B[39;00m Variable\u001B[38;5;241m.\u001B[39m_execution_engine\u001B[38;5;241m.\u001B[39mrun_backward(  \u001B[38;5;66;03m# Calls into the C++ engine to run the backward pass\u001B[39;00m\n\u001B[1;32m    745\u001B[0m         t_outputs, \u001B[38;5;241m*\u001B[39margs, \u001B[38;5;241m*\u001B[39m\u001B[38;5;241m*\u001B[39mkwargs\n\u001B[1;32m    746\u001B[0m     )  \u001B[38;5;66;03m# Calls into the C++ engine to run the backward pass\u001B[39;00m\n\u001B[1;32m    747\u001B[0m \u001B[38;5;28;01mfinally\u001B[39;00m:\n\u001B[1;32m    748\u001B[0m     \u001B[38;5;28;01mif\u001B[39;00m attach_logging_hooks:\n",
      "\u001B[0;31mKeyboardInterrupt\u001B[0m: "
     ]
    }
   ],
   "execution_count": 16
  },
  {
   "metadata": {
    "ExecuteTime": {
     "end_time": "2024-05-23T23:19:07.435102Z",
     "start_time": "2024-05-23T23:19:07.434982Z"
    }
   },
   "cell_type": "code",
   "source": "loss_vals",
   "id": "f69389db8c55c45f",
   "outputs": [],
   "execution_count": null
  },
  {
   "metadata": {
    "ExecuteTime": {
     "end_time": "2024-05-23T23:19:07.436151Z",
     "start_time": "2024-05-23T23:19:07.435927Z"
    }
   },
   "cell_type": "code",
   "source": [
    "for i in range(10):\n",
    "    plt.figure(i)  # Create a new figure for each plot\n",
    "    plt.plot(np.array(loss_vals[i][0]))\n",
    "    plt.plot(np.array(loss_vals[i][1]))\n",
    "    plt.show()  # Display the plot"
   ],
   "id": "a6b91ebf4e3a2e6f",
   "outputs": [],
   "execution_count": null
  },
  {
   "cell_type": "code",
   "id": "8e05c561-30a9-4328-be20-06302dc7425c",
   "metadata": {},
   "source": [
    "model_path = model_base_path/'hyperparameters.pkl'\n",
    "\n",
    "with open(model_path, 'wb') as f:\n",
    "    pickle.dump({'ncomps':ncomps, 'nevecs':nevecs,'nbasecomps':nbasecomps, 'ncauses':ncauses, 'crop_size':crop_size}, f)"
   ],
   "outputs": [],
   "execution_count": null
  },
  {
   "cell_type": "markdown",
   "id": "8c4aa32a-457e-44ea-804e-ffc137b45bbc",
   "metadata": {},
   "source": [
    "## Linear regression"
   ]
  },
  {
   "metadata": {
    "ExecuteTime": {
     "end_time": "2024-05-23T23:19:07.437224Z",
     "start_time": "2024-05-23T23:19:07.437011Z"
    }
   },
   "cell_type": "code",
   "source": [
    "import torch\n",
    "import yaml\n",
    "from utils.helpers import dict2namespace\n",
    "\n",
    "with open(macaw_path/'config'/'ukbb.yaml', 'r') as f:\n",
    "    config_raw = yaml.load(f, Loader=yaml.FullLoader)\n",
    "    \n",
    "config = dict2namespace(config_raw)\n",
    "config.device = torch.device('cuda') if torch.cuda.is_available() else torch.device('cpu')"
   ],
   "id": "d46b7a4d-6573-454d-b6dc-cb53cb9c4b8e",
   "outputs": [],
   "execution_count": null
  },
  {
   "cell_type": "code",
   "id": "e5e1a75d-d78b-4f63-a364-ba6ab01d8b95",
   "metadata": {},
   "source": [
    "ed =  encoded_data[:,:nevecs]\n",
    "X = np.hstack([sex[:,np.newaxis], bmi[:,np.newaxis], ed])    "
   ],
   "outputs": [],
   "execution_count": null
  },
  {
   "cell_type": "code",
   "id": "d4bca575-c1c5-4172-8b46-663bab7d25b4",
   "metadata": {},
   "source": [
    "from sklearn.linear_model import LinearRegression\n",
    "reg = LinearRegression().fit(X, age)"
   ],
   "outputs": [],
   "execution_count": null
  },
  {
   "cell_type": "code",
   "id": "b17490f3-02df-44b5-9904-c84e286a1e9f",
   "metadata": {},
   "source": [
    "reg.score(X, age)"
   ],
   "outputs": [],
   "execution_count": null
  },
  {
   "cell_type": "code",
   "id": "b1c6039d-93e2-44f3-91b8-8fac4f1a37b2",
   "metadata": {},
   "source": [
    "lr_path = model_base_path/'lr.pkl'\n",
    "\n",
    "with open(lr_path, 'wb') as f:\n",
    "    pickle.dump({'reg':reg}, f)"
   ],
   "outputs": [],
   "execution_count": null
  },
  {
   "cell_type": "code",
   "id": "64d8691b-68ee-4b77-8f17-a9b97b71f900",
   "metadata": {},
   "source": [
    "lr_path"
   ],
   "outputs": [],
   "execution_count": null
  },
  {
   "cell_type": "code",
   "id": "0b0ab90e-6bd4-417b-89a0-784773a9c82c",
   "metadata": {},
   "source": [
    "reg.coef_"
   ],
   "outputs": [],
   "execution_count": null
  },
  {
   "cell_type": "code",
   "id": "2c83dd74-2b7b-43d2-b56f-34ab907b6e35",
   "metadata": {},
   "source": [
    "np.mean(np.abs(reg.predict(X) - age))"
   ],
   "outputs": [],
   "execution_count": null
  },
  {
   "cell_type": "code",
   "id": "32e7720e-e9c7-4377-a86d-b5be161c3c12",
   "metadata": {},
   "source": [
    "idx = 0\n",
    "macaw = torch.load(model_base_path/f'{idx}.pt')\n",
    "X_test = np.hstack([sex[:,np.newaxis], age[:,np.newaxis], bmi[:,np.newaxis], encoded_data[:,idx:nevecs+idx]])"
   ],
   "outputs": [],
   "execution_count": null
  },
  {
   "cell_type": "code",
   "id": "b9f68acb-c37c-4da3-bd4b-20a22b2496f8",
   "metadata": {},
   "source": [
    "encoded_data.shape"
   ],
   "outputs": [],
   "execution_count": null
  },
  {
   "cell_type": "code",
   "id": "d0d12a02-37c0-448f-8bb5-0f26dd70758a",
   "metadata": {},
   "source": [
    "probs=[]\n",
    "for i in range(36):\n",
    "    X_test[:,1] = i\n",
    "    probs.append(macaw.log_likelihood(X_test))"
   ],
   "outputs": [],
   "execution_count": null
  },
  {
   "cell_type": "code",
   "id": "ceb04aa1-9cba-4977-9465-8f7ce52f7be3",
   "metadata": {},
   "source": [
    "pexp = np.exp(np.array(probs))\n",
    "pexp_sum = np.sum(pexp,axis=0)\n",
    "p = pexp/pexp_sum"
   ],
   "outputs": [],
   "execution_count": null
  },
  {
   "cell_type": "code",
   "id": "dd3010e4-fb4f-41e6-9099-39e1f76b9eff",
   "metadata": {},
   "source": [
    "pred_labels = np.argmax(probs, axis=0)"
   ],
   "outputs": [],
   "execution_count": null
  },
  {
   "cell_type": "code",
   "id": "26f76ba2-a646-47d8-87b9-29c3883725b1",
   "metadata": {},
   "source": [
    "age_bins=36"
   ],
   "outputs": [],
   "execution_count": null
  },
  {
   "cell_type": "code",
   "id": "8f865e26-867d-4372-acbe-27e201d54bde",
   "metadata": {},
   "source": [
    "sns.histplot(age, bins=age_bins)\n",
    "sns.histplot(pred_labels,bins=age_bins)"
   ],
   "outputs": [],
   "execution_count": null
  },
  {
   "cell_type": "code",
   "id": "03e95595-9173-4561-ac6c-39d91843db9c",
   "metadata": {},
   "source": [
    "l = np.array(probs)[:,80]\n",
    "plt.bar(np.arange(36),l-np.min(l))"
   ],
   "outputs": [],
   "execution_count": null
  },
  {
   "cell_type": "code",
   "id": "c55aab19-9403-42aa-86c9-561ce71e7f2f",
   "metadata": {},
   "source": [
    "sns.histplot(age-pred_labels, bins=age_bins)"
   ],
   "outputs": [],
   "execution_count": null
  },
  {
   "cell_type": "code",
   "id": "572878ef-3df8-4d69-8df0-4141a7f262ed",
   "metadata": {},
   "source": [
    "np.mean(np.abs(pred_labels - age))"
   ],
   "outputs": [],
   "execution_count": null
  },
  {
   "cell_type": "code",
   "id": "c925f853-d3ce-4c70-9830-5f3bbb4572fe",
   "metadata": {},
   "source": [],
   "outputs": [],
   "execution_count": null
  },
  {
   "cell_type": "code",
   "id": "32e37e65-74b9-49b1-b3b4-97ecbff3415c",
   "metadata": {},
   "source": [],
   "outputs": [],
   "execution_count": null
  }
 ],
 "metadata": {
  "kernelspec": {
   "display_name": "Python 3",
   "language": "python",
   "name": "python3"
  },
  "language_info": {
   "codemirror_mode": {
    "name": "ipython",
    "version": 3
   },
   "file_extension": ".py",
   "mimetype": "text/x-python",
   "name": "python",
   "nbconvert_exporter": "python",
   "pygments_lexer": "ipython3",
   "version": "3.8.13"
  }
 },
 "nbformat": 4,
 "nbformat_minor": 5
}
