{
 "cells": [
  {
   "cell_type": "code",
   "execution_count": 1,
   "id": "ac8ed1c3-9496-49a4-865c-56314f141a9c",
   "metadata": {},
   "source": [
    "nevecs = 60\n",
    "ncomps = 1500\n",
    "nbasecomps = 20\n",
    "crop_size=180\n",
    "ncauses = 3\n",
    "dr_method = 'KPCA'"
   ],
   "outputs": []
  },
  {
   "cell_type": "code",
   "execution_count": 2,
   "id": "dc4bfa8c-b51e-4db7-a6c6-48e284f06081",
   "metadata": {},
   "source": [
    "import os, sys\n",
    "from pathlib import Path\n",
    "\n",
    "macaw_path = Path(os.getcwd()).parent.parent.parent\n",
    "sys.path.append(str(macaw_path) +'/')\n",
    "\n",
    "train_path = macaw_path/'data'/'ukbb'/'axial'/f'train_hc_data_{dr_method}_{ncomps}.pkl'\n",
    "model_base_path = macaw_path/'models'/f'{dr_method}_{ncomps}'/f'{nevecs}'\n",
    "\n",
    "if not os.path.exists(model_base_path):\n",
    "    os.makedirs(model_base_path)"
   ],
   "outputs": []
  },
  {
   "cell_type": "code",
   "execution_count": 3,
   "id": "5a5449c7-9cf7-45db-9535-4c0eb6ce6da9",
   "metadata": {},
   "source": [
    "import pickle\n",
    "\n",
    "with open(train_path, 'rb') as f:\n",
    "    train = pickle.load(f)\n",
    "    \n",
    "sex = train['sex']\n",
    "age = train['age']\n",
    "bmi = train['bmi']\n",
    "# imgs = train['imgs']\n",
    "min_age = train['min_age']\n",
    "\n",
    "encoded_data = train['encoded_data']\n",
    "kpca = train['kpca']"
   ],
   "outputs": []
  },
  {
   "cell_type": "code",
   "execution_count": 4,
   "id": "00a80963-08f9-42d0-a786-304c80838e59",
   "metadata": {},
   "source": [
    "import torchvision.transforms.functional as F\n",
    "import matplotlib.pyplot as plt\n",
    "import numpy as np\n",
    "\n",
    "def recons(age,bmi,latents, latent_offset=0):\n",
    "    age+=min_age\n",
    "    \n",
    "    latent_enc = np.zeros((latents.shape[0],ncomps))\n",
    "    latent_enc[:,latent_offset:latent_offset+latents.shape[1]] = latents    \n",
    "    imgs = kpca.inverse_transform(latent_enc)\n",
    "    return age,bmi,imgs"
   ],
   "outputs": []
  },
  {
   "cell_type": "code",
   "execution_count": 5,
   "id": "d913b8ea-75cf-4ab0-820c-9eb460a83870",
   "metadata": {},
   "source": [
    "import seaborn as sns\n",
    "\n",
    "sb = 4\n",
    "fig, axs = plt.subplots(1,sb, figsize=(sb*5,5))\n",
    "\n",
    "sns.histplot(sex,ax=axs[0],fill=True)\n",
    "axs[0].set(title = \"Sex\")\n",
    "sns.histplot(age,ax=axs[1], fill=True)\n",
    "axs[1].set(title=\"Age\")\n",
    "sns.histplot(bmi,ax=axs[2], fill=True)\n",
    "axs[2].set(title=\"BMI\")\n",
    "sns.histplot(encoded_data[0],ax=axs[3], fill=True)\n",
    "axs[3].set(title=\"PCA0\")"
   ],
   "outputs": []
  },
  {
   "cell_type": "code",
   "execution_count": 6,
   "id": "f1aa2a96-05b7-49a7-b022-7995e99d4952",
   "metadata": {},
   "source": [
    "import utils.visualize as vis\n",
    "\n",
    "plt.rcParams['figure.figsize'] = (20,4)\n",
    "nsamples = 5\n",
    "\n",
    "idx = np.random.randint(0,age.shape[0],nsamples)\n",
    "re = recons(age[idx],bmi[idx],encoded_data[idx])\n",
    "\n",
    "sex_t = ['Male' if round(s) else 'Female' for s in sex[idx]]\n",
    "titles_sam = [f'Sex:{s}, Age:{a}, BMI:{np.round(b)}' for s,a,b in zip(sex_t, re[0],re[1])]\n",
    "fig  = vis.img_grid([i.reshape(crop_size,crop_size).T for i in re[2]],cols=nsamples,titles=titles_sam)"
   ],
   "outputs": []
  },
  {
   "cell_type": "markdown",
   "id": "e33defe2-6af3-468d-bd9e-3f830c804527",
   "metadata": {},
   "source": [
    "## Causal Graph"
   ]
  },
  {
   "cell_type": "code",
   "execution_count": 7,
   "id": "6daf4154-f20b-4cad-86eb-7bf0de118187",
   "metadata": {},
   "source": [
    "sex_to_latents = [(0,i) for i in range(ncauses,nevecs+ncauses)]\n",
    "sex_to_bmi = [(0,2)]\n",
    "\n",
    "age_to_latents = [(1,i) for i in range(ncauses,nevecs+ncauses)]\n",
    "age_to_bmi = [(1,2)]\n",
    "\n",
    "bmi_to_latents = [(2,i) for i in range(ncauses,nevecs+ncauses)]\n",
    "autoregressive_latents = [(i,j) for i in range(ncauses,nevecs+ncauses) for j in range(i+1,nevecs+ncauses)]\n",
    "# autoregressive_latents = [(i,j) for i in range(ncauses,2*ncauses) for j in range(i+1,nevecs+ncauses)]\n",
    "# autoregressive_latents = []\n",
    "edges = sex_to_latents + sex_to_bmi+ age_to_latents + age_to_bmi+bmi_to_latents + autoregressive_latents"
   ],
   "outputs": []
  },
  {
   "cell_type": "markdown",
   "id": "2aa28e2b-0e9f-4b35-88d9-20ffb827b630",
   "metadata": {},
   "source": [
    "## Priors"
   ]
  },
  {
   "cell_type": "code",
   "execution_count": 8,
   "id": "e84c3590-a881-43a5-800a-80a19f47fe89",
   "metadata": {},
   "source": [
    "P_sex = np.sum(sex)/len(sex)\n",
    "print(P_sex)\n",
    "\n",
    "unique_values, counts = np.unique(age, return_counts=True)\n",
    "P_age = counts/np.sum(counts)\n",
    "P_age"
   ],
   "outputs": []
  },
  {
   "cell_type": "code",
   "execution_count": 9,
   "id": "5d528734-9304-4651-b7cd-34514297d68c",
   "metadata": {},
   "source": [
    "plt.bar(np.arange(36),P_age)"
   ],
   "outputs": []
  },
  {
   "cell_type": "code",
   "execution_count": 10,
   "id": "d46b7a4d-6573-454d-b6dc-cb53cb9c4b8e",
   "metadata": {},
   "source": [
    "import torch\n",
    "import yaml\n",
    "from utils.helpers import dict2namespace\n",
    "\n",
    "with open(macaw_path/'config'/'ukbb.yaml', 'r') as f:\n",
    "    config_raw = yaml.load(f, Loader=yaml.FullLoader)\n",
    "    \n",
    "config = dict2namespace(config_raw)\n",
    "config.device = torch.device('cuda') if torch.cuda.is_available() else torch.device('cpu')"
   ],
   "outputs": []
  },
  {
   "cell_type": "code",
   "execution_count": 11,
   "id": "e9e4cdea-a3ed-4b41-9c93-59a4b048e7e4",
   "metadata": {},
   "source": [
    "import torch.distributions as td\n",
    "import torch\n",
    "\n",
    "priors = [(slice(0,1),td.Bernoulli(torch.tensor([P_sex]).to(config.device))), # sex\n",
    "          (slice(1,2),td.Categorical(torch.tensor([P_age]).to(config.device))), # age\n",
    "          (slice(2,3),td.Normal(torch.zeros(1).to(config.device), torch.ones(1).to(config.device))), #BMI\n",
    "          (slice(3,nbasecomps+3),td.Normal(torch.zeros(nbasecomps).to(config.device), torch.ones(nbasecomps).to(config.device))), # base_comps\n",
    "          (slice(nbasecomps+3,nevecs+3),td.Normal(torch.zeros(nevecs-nbasecomps).to(config.device), torch.ones(nevecs-nbasecomps).to(config.device))), # new_comps\n",
    "         ]"
   ],
   "outputs": []
  },
  {
   "cell_type": "code",
   "execution_count": 12,
   "id": "63391695-0396-45ac-ad67-9e62e7340c3e",
   "metadata": {},
   "source": [
    "from torch.utils.tensorboard import SummaryWriter\n",
    "from torchvision import datasets, transforms\n",
    "\n",
    "# Writer will output to ./runs/ directory by default\n",
    "writer = SummaryWriter()"
   ],
   "outputs": []
  },
  {
   "cell_type": "code",
   "execution_count": 13,
   "id": "d7f8b8f4-7da3-4a47-a923-b7840808a8a5",
   "metadata": {},
   "source": [
    "from macaw import MACAW\n",
    "\n",
    "loss_vals = []\n",
    "for e in range(0,ncomps-nbasecomps,nevecs-nbasecomps):\n",
    "    save_path = model_base_path/f'{e}.pt'    \n",
    "    ed =  encoded_data[:,e:e+nevecs]\n",
    "    print(e,e+nevecs)\n",
    "    \n",
    "    if not os.path.exists(save_path): \n",
    "       \n",
    "        X = np.hstack([sex[:,np.newaxis], age[:,np.newaxis], bmi[:,np.newaxis], ed])    \n",
    "\n",
    "        macaw = MACAW.MACAW(config)\n",
    "        loss_vals.append(macaw.fit_with_priors(X,edges, priors))\n",
    "\n",
    "        torch.save(macaw,save_path)\n",
    "    else:\n",
    "        print(\"Skipping\")"
   ],
   "outputs": []
  },
  {
   "cell_type": "code",
   "execution_count": 14,
   "id": "84c1ebc0-3d71-47b8-8709-7a758113d675",
   "metadata": {},
   "source": [
    "plt.plot(np.array(loss_vals[0][0]))\n",
    "plt.plot(np.array(loss_vals[0][1]))"
   ],
   "outputs": []
  },
  {
   "cell_type": "code",
   "execution_count": 15,
   "id": "8e05c561-30a9-4328-be20-06302dc7425c",
   "metadata": {},
   "source": [
    "model_path = model_base_path/'hyperparameters.pkl'\n",
    "\n",
    "with open(model_path, 'wb') as f:\n",
    "    pickle.dump({'ncomps':ncomps, 'nevecs':nevecs,'nbasecomps':nbasecomps, 'ncauses':ncauses, 'crop_size':crop_size, 'age_bins':len(P_age)}, f)"
   ],
   "outputs": []
  },
  {
   "cell_type": "markdown",
   "id": "8c4aa32a-457e-44ea-804e-ffc137b45bbc",
   "metadata": {},
   "source": [
    "## Linear regression"
   ]
  },
  {
   "cell_type": "code",
   "execution_count": 16,
   "id": "e5e1a75d-d78b-4f63-a364-ba6ab01d8b95",
   "metadata": {},
   "source": [
    "ed =  encoded_data[:,:nevecs]\n",
    "X = np.hstack([sex[:,np.newaxis], bmi[:,np.newaxis], ed])    "
   ],
   "outputs": []
  },
  {
   "cell_type": "code",
   "execution_count": 17,
   "id": "d4bca575-c1c5-4172-8b46-663bab7d25b4",
   "metadata": {},
   "source": [
    "from sklearn.linear_model import LinearRegression\n",
    "reg = LinearRegression().fit(X, age)"
   ],
   "outputs": []
  },
  {
   "cell_type": "code",
   "execution_count": 18,
   "id": "b17490f3-02df-44b5-9904-c84e286a1e9f",
   "metadata": {},
   "source": [
    "reg.score(X, age)"
   ],
   "outputs": []
  },
  {
   "cell_type": "code",
   "execution_count": 19,
   "id": "b1c6039d-93e2-44f3-91b8-8fac4f1a37b2",
   "metadata": {},
   "source": [
    "lr_path = model_base_path/'lr.pkl'\n",
    "\n",
    "with open(lr_path, 'wb') as f:\n",
    "    pickle.dump({'reg':reg}, f)"
   ],
   "outputs": []
  },
  {
   "cell_type": "code",
   "execution_count": 20,
   "id": "64d8691b-68ee-4b77-8f17-a9b97b71f900",
   "metadata": {},
   "source": [
    "lr_path"
   ],
   "outputs": []
  },
  {
   "cell_type": "code",
   "execution_count": 21,
   "id": "0b0ab90e-6bd4-417b-89a0-784773a9c82c",
   "metadata": {},
   "source": [
    "reg.coef_"
   ],
   "outputs": []
  },
  {
   "cell_type": "code",
   "execution_count": 22,
   "id": "2c83dd74-2b7b-43d2-b56f-34ab907b6e35",
   "metadata": {},
   "source": [
    "np.mean(np.abs(reg.predict(X) - age))"
   ],
   "outputs": []
  },
  {
   "cell_type": "code",
   "execution_count": 23,
   "id": "32e7720e-e9c7-4377-a86d-b5be161c3c12",
   "metadata": {},
   "source": [
    "idx = 0\n",
    "macaw = torch.load(model_base_path/f'{idx}.pt')\n",
    "X_test = np.hstack([sex[:,np.newaxis], age[:,np.newaxis], bmi[:,np.newaxis], encoded_data[:,idx:nevecs+idx]])"
   ],
   "outputs": []
  },
  {
   "cell_type": "code",
   "execution_count": 24,
   "id": "b9f68acb-c37c-4da3-bd4b-20a22b2496f8",
   "metadata": {},
   "source": [
    "encoded_data.shape"
   ],
   "outputs": []
  },
  {
   "cell_type": "code",
   "execution_count": 25,
   "id": "d0d12a02-37c0-448f-8bb5-0f26dd70758a",
   "metadata": {},
   "source": [
    "probs=[]\n",
    "for i in range(36):\n",
    "    X_test[:,1] = i\n",
    "    probs.append(macaw.log_likelihood(X_test))"
   ],
   "outputs": []
  },
  {
   "cell_type": "code",
   "execution_count": 26,
   "id": "ceb04aa1-9cba-4977-9465-8f7ce52f7be3",
   "metadata": {},
   "source": [
    "pexp = np.exp(np.array(probs))\n",
    "pexp_sum = np.sum(pexp,axis=0)\n",
    "p = pexp/pexp_sum"
   ],
   "outputs": []
  },
  {
   "cell_type": "code",
   "execution_count": 27,
   "id": "dd3010e4-fb4f-41e6-9099-39e1f76b9eff",
   "metadata": {},
   "source": [
    "pred_labels = np.argmax(probs, axis=0)"
   ],
   "outputs": []
  },
  {
   "cell_type": "code",
   "execution_count": 28,
   "id": "26f76ba2-a646-47d8-87b9-29c3883725b1",
   "metadata": {},
   "source": [
    "age_bins=36"
   ],
   "outputs": []
  },
  {
   "cell_type": "code",
   "execution_count": 29,
   "id": "8f865e26-867d-4372-acbe-27e201d54bde",
   "metadata": {},
   "source": [
    "sns.histplot(age, bins=age_bins)\n",
    "sns.histplot(pred_labels,bins=age_bins)"
   ],
   "outputs": []
  },
  {
   "cell_type": "code",
   "execution_count": 30,
   "id": "03e95595-9173-4561-ac6c-39d91843db9c",
   "metadata": {},
   "source": [
    "l = np.array(probs)[:,80]\n",
    "plt.bar(np.arange(36),l-np.min(l))"
   ],
   "outputs": []
  },
  {
   "cell_type": "code",
   "execution_count": 31,
   "id": "c55aab19-9403-42aa-86c9-561ce71e7f2f",
   "metadata": {},
   "source": [
    "sns.histplot(age-pred_labels, bins=age_bins)"
   ],
   "outputs": []
  },
  {
   "cell_type": "code",
   "execution_count": 32,
   "id": "572878ef-3df8-4d69-8df0-4141a7f262ed",
   "metadata": {},
   "source": [
    "np.mean(np.abs(pred_labels - age))"
   ],
   "outputs": []
  },
  {
   "cell_type": "code",
   "execution_count": null,
   "id": "c925f853-d3ce-4c70-9830-5f3bbb4572fe",
   "metadata": {},
   "source": [],
   "outputs": []
  },
  {
   "cell_type": "code",
   "execution_count": null,
   "id": "32e37e65-74b9-49b1-b3b4-97ecbff3415c",
   "metadata": {},
   "source": [],
   "outputs": []
  }
 ],
 "metadata": {
  "kernelspec": {
   "display_name": "Python 3",
   "language": "python",
   "name": "python3"
  },
  "language_info": {
   "codemirror_mode": {
    "name": "ipython",
    "version": 3
   },
   "file_extension": ".py",
   "mimetype": "text/x-python",
   "name": "python",
   "nbconvert_exporter": "python",
   "pygments_lexer": "ipython3",
   "version": "3.8.13"
  }
 },
 "nbformat": 4,
 "nbformat_minor": 5
}
