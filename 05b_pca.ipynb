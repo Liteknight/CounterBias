{
 "cells": [
  {
   "metadata": {
    "ExecuteTime": {
     "end_time": "2024-06-19T17:56:39.105508Z",
     "start_time": "2024-06-19T17:56:39.097468Z"
    }
   },
   "cell_type": "code",
   "source": [
    "import os, sys\n",
    "from pathlib import Path\n",
    "import torch\n",
    "import tifffile as tiff\n",
    "\n",
    "macaw_path = Path(os.getcwd())\n",
    "sys.path.append(str(macaw_path) +'/')\n",
    "\n",
    "ncomps = 50\n",
    "model_comps = 500\n",
    "dr_method = 'PCA'\n",
    "\n",
    "exp_name=\"far_bias\"\n",
    "\n",
    "test_path = train_path = macaw_path/exp_name/f'test_hc_data_PCA_{model_comps}.pkl'\n",
    "model_base_path = macaw_path/'models'/exp_name/f'{dr_method}_{model_comps}'/f'{ncomps}'"
   ],
   "id": "initial_id",
   "execution_count": 2,
   "outputs": []
  },
  {
   "metadata": {
    "ExecuteTime": {
     "end_time": "2024-06-19T17:56:39.217878Z",
     "start_time": "2024-06-19T17:56:39.106535Z"
    }
   },
   "cell_type": "code",
   "source": [
    "import pickle\n",
    "\n",
    "with open(test_path, 'rb') as f:\n",
    "    test = pickle.load(f)\n",
    "    \n",
    "disease = test['disease']\n",
    "bias = test['bias']\n",
    "test_imgs = test['imgs']\n",
    "\n",
    "encoded_data = test['encoded_data']\n",
    "pca = test['pca']\n",
    "\n",
    "img_names = test['img_names']"
   ],
   "id": "c0e8522f070024f6",
   "execution_count": 3,
   "outputs": []
  },
  {
   "metadata": {
    "ExecuteTime": {
     "end_time": "2024-06-19T17:56:39.221263Z",
     "start_time": "2024-06-19T17:56:39.218602Z"
    }
   },
   "cell_type": "code",
   "source": [
    "with open(model_base_path/'hyperparameters.pkl', 'rb') as f:\n",
    "    hp = pickle.load(f)\n",
    "    \n",
    "ncomps= hp['ncomps']\n",
    "nevecs= hp['nevecs']\n",
    "nbasecomps= hp['nbasecomps']\n",
    "ncauses= hp['ncauses']\n",
    "crop_size= hp['crop_size']"
   ],
   "id": "ffb6c3fe15b1243c",
   "execution_count": 4,
   "outputs": []
  },
  {
   "metadata": {
    "ExecuteTime": {
     "end_time": "2024-06-19T17:56:39.888668Z",
     "start_time": "2024-06-19T17:56:39.222099Z"
    }
   },
   "cell_type": "code",
   "source": [
    "import torchvision.transforms.functional as F\n",
    "import matplotlib.pyplot as plt\n",
    "import numpy as np\n",
    "\n",
    "def recons(age,bmi,latents, latent_offset=0):\n",
    "    \n",
    "    # bmi = scaler_b.inverse_transform(bmi)\n",
    "    # print(age)\n",
    "    latent_enc = np.zeros((latents.shape[0],ncomps))\n",
    "    latent_enc[:,latent_offset:latent_offset+latents.shape[1]] = latents    \n",
    "    # latent_enc = scaler_i.inverse_transform(latent_enc)\n",
    "    imgs = pca.inverse_transform(latent_enc)\n",
    "    return age,bmi,imgs"
   ],
   "id": "7016f42e95479030",
   "execution_count": 5,
   "outputs": []
  },
  {
   "metadata": {
    "ExecuteTime": {
     "end_time": "2024-06-19T17:56:39.899312Z",
     "start_time": "2024-06-19T17:56:39.889383Z"
    }
   },
   "cell_type": "code",
   "source": [
    "sample_imgs = test_imgs[:5,:]\n",
    "t = pca.transform(sample_imgs)\n",
    "X_recon = pca.inverse_transform(t)"
   ],
   "id": "302ad7c430bdfe1f",
   "execution_count": 6,
   "outputs": []
  },
  {
   "metadata": {
    "ExecuteTime": {
     "end_time": "2024-06-19T17:56:39.901879Z",
     "start_time": "2024-06-19T17:56:39.899968Z"
    }
   },
   "cell_type": "code",
   "source": [
    "def make_img(x):\n",
    "    img = (255*x/np.max(x)).reshape(crop_size,crop_size)\n",
    "    return np.clip(img,0, 255).astype('uint8')"
   ],
   "id": "8bc112239b561b94",
   "execution_count": 7,
   "outputs": []
  },
  {
   "metadata": {
    "ExecuteTime": {
     "end_time": "2024-06-19T17:56:39.905690Z",
     "start_time": "2024-06-19T17:56:39.902645Z"
    }
   },
   "cell_type": "code",
   "source": [
    "import glob\n",
    "from PIL import Image\n",
    "\n",
    "def make_gif(frames, save_name):    \n",
    "    frames = [Image.fromarray(f) for f in frames]\n",
    "    frame_one = frames[0]\n",
    "    return frame_one.save(save_name, format=\"GIF\", append_images=frames, save_all=True, duration=100, loop=0)"
   ],
   "id": "5c2c31c31c5d17ce",
   "execution_count": 8,
   "outputs": []
  },
  {
   "metadata": {
    "ExecuteTime": {
     "end_time": "2024-06-19T17:56:41.221331Z",
     "start_time": "2024-06-19T17:56:39.906487Z"
    }
   },
   "cell_type": "code",
   "source": [
    "from torchvision.transforms import CenterCrop\n",
    "from utils.customTransforms import ToFloatUKBB\n",
    "from monai.transforms import Compose, ToTensor\n",
    "transforms = Compose([ToTensor(),CenterCrop(crop_size),ToFloatUKBB()])"
   ],
   "id": "f68a67e80461df3e",
   "execution_count": 9,
   "outputs": []
  },
  {
   "metadata": {
    "ExecuteTime": {
     "end_time": "2024-06-19T20:12:42.832878Z",
     "start_time": "2024-06-19T20:12:40.600212Z"
    }
   },
   "cell_type": "code",
   "source": [
    "import textwrap\n",
    "import SimpleITK as sitk\n",
    "import numpy as np\n",
    "import torch\n",
    "\n",
    "save_name = f'data/{exp_name}/cntr/'\n",
    "cf_vals = {1:0}\n",
    "nsamples = 4\n",
    "image_shape = (180, 180)  # Assuming each image is 180x180\n",
    "\n",
    "rands = np.random.randint(0, encoded_data.shape[0], nsamples)\n",
    "d_obs = test_imgs[rands, :]\n",
    "encoded_obs = encoded_data[rands, :]\n",
    "\n",
    "names = img_names[rands]\n",
    "dis_obs = disease[rands]\n",
    "bias_obs = bias[rands]\n",
    "residuals = d_obs - pca.inverse_transform(encoded_obs)\n",
    "\n",
    "cf = np.zeros((nsamples, ncomps))\n",
    "for ev in range(0, ncomps - nbasecomps, nevecs - nbasecomps):\n",
    "    ed = encoded_obs[:, ev:ev + nevecs]\n",
    "    X_obs = np.hstack([dis_obs[:, np.newaxis], bias_obs[:, np.newaxis], ed])\n",
    "    try:\n",
    "        macaw = torch.load(model_base_path / f'{ev}.pt')\n",
    "        cc = macaw.counterfactual(X_obs, cf_vals)\n",
    "    except Exception as e:\n",
    "        print(e, \"Using original\")\n",
    "        cc[:, ncauses:] = X_obs[:, ncauses:].copy()\n",
    "\n",
    "    cf[:, ev:ev + nevecs] = cc[:, ncauses:]\n",
    "\n",
    "re_cf = recons(cc[:, 0], cc[:, 1], cf)\n",
    "re_cf_resd = re_cf[2] + residuals\n",
    "\n",
    "# Convert numpy arrays to SimpleITK images\n",
    "def numpy_to_sitk(img):\n",
    "    return sitk.GetImageFromArray(img.astype(np.float32))\n",
    "\n",
    "def sitk_to_numpy(img):\n",
    "    return sitk.GetArrayFromImage(img)\n",
    "\n",
    "# Perform histogram matching\n",
    "matched_images = []\n",
    "for i in range(nsamples):\n",
    "    # Reshape the arrays to 2D images\n",
    "    source_img_2d = re_cf_resd[i].reshape(image_shape).astype(np.float32)\n",
    "    reference_img_2d = d_obs[i].reshape(image_shape).astype(np.float32)\n",
    "\n",
    "    source_img = numpy_to_sitk(source_img_2d)\n",
    "    reference_img = numpy_to_sitk(reference_img_2d)\n",
    "\n",
    "    matcher = sitk.HistogramMatchingImageFilter()\n",
    "    matcher.SetNumberOfHistogramLevels(500)\n",
    "    matcher.SetNumberOfMatchPoints(50)\n",
    "    matcher.SetThresholdAtMeanIntensity(False)\n",
    "    matched_img = matcher.Execute(source_img, reference_img)\n",
    "\n",
    "    # Convert the matched image back to a numpy array and reshape to original shape\n",
    "    matched_img_array = sitk_to_numpy(matched_img).reshape(-1)\n",
    "    matched_images.append(matched_img_array)\n",
    "\n",
    "# Convert the matched images back to a numpy array\n",
    "re_cf_resd = np.array(matched_images)\n",
    "\n",
    "# Ensuring values are still in the range [0, 1] after histogram matching\n",
    "re_cf_resd = np.clip(re_cf_resd, 0, 1)\n",
    "\n",
    "t = pca.transform(d_obs)\n",
    "X_recon = pca.inverse_transform(t)\n",
    "diff2 = d_obs - X_recon\n",
    "\n",
    "diff = d_obs - re_cf_resd\n",
    "\n",
    "fig,axs = plt.subplots(3,nsamples, figsize=(15,10))\n",
    "\n",
    "lim=.1\n",
    "lims=(-lim,lim)\n",
    "\n",
    "for i in range(nsamples):\n",
    "    axs[0,i].imshow(d_obs[i].reshape(crop_size,crop_size),cmap='gray')\n",
    "    axs[0,i].set(xticklabels=[], yticklabels=[], xticks=[], yticks=[], title=f'{names[i]}\\n\\nDisease:{X_obs[i,0]}, Bias:{X_obs[i,1]}')\n",
    "\n",
    "    # axs[1,i].imshow(make_img(re_cf_resd[i]),cmap='gray')\n",
    "    # axs[1,i].set(xticklabels=[], yticklabels=[], xticks=[], yticks=[], title=f'Disease:{cc[i,0]}, Bias:{cc[i,1]}')\n",
    "    # \n",
    "    # axs[2,i].imshow(diff[i].reshape(crop_size,crop_size),cmap='seismic', clim=lims)\n",
    "    # axs[2,i].set(xticklabels=[], yticklabels=[], xticks=[], yticks=[])\n",
    "    \n",
    "    # reconstruction\n",
    "    axs[1,i].imshow(X_recon[i].reshape(crop_size,crop_size),cmap='gray')\n",
    "    axs[1,i].set(xticklabels=[], yticklabels=[], xticks=[], yticks=[])\n",
    "    \n",
    "    # reconstruction error, should be zero\n",
    "    axs[2,i].imshow(diff2[i].reshape(crop_size,crop_size),cmap='seismic', clim=lims)\n",
    "    axs[2,i].set(xticklabels=[], yticklabels=[], xticks=[], yticks=[])\n",
    "    \n",
    "    # cf changes with PCA changes removed\n",
    "    # axs[5,i].imshow((diff[i]-diff2[i]).reshape(crop_size,crop_size),cmap='seismic', clim=lims)\n",
    "    # axs[5,i].set(xticklabels=[], yticklabels=[], xticks=[], yticks=[])\n",
    "    \n",
    "# labels = ['Original image', 'Counterfactual image', 'Diff of Original and CF', 'Reconstructed original', 'Diff of recons and orig', 'Diff of diffs']\n",
    "labels = ['Original image', 'Reconstructed original', f'Diff of recons and orig\\nLimits: {lims}']\n",
    "# wrapped_labels = [textwrap.fill(label, width=15) for label in labels] \n",
    "    \n",
    "# Add labels to the left side of each row\n",
    "for ax, label in zip(axs[:, 0], labels):\n",
    "    ax.annotate(label, xy=(0, 0.5), xytext=(-ax.yaxis.labelpad - 5, 0),\n",
    "                xycoords=ax.yaxis.label, textcoords='offset points',\n",
    "                size='large', ha='right', va='center')\n",
    "\n",
    "plt.tight_layout()\n",
    "plt.subplots_adjust(left=0.15)  # Adjust to make room for the labels\n",
    "    \n",
    "if not os.path.exists(save_name):\n",
    "    os.makedirs(save_name)\n",
    "\n",
    "plt.savefig(save_name+f\"cf1.pdf\")\n",
    "plt.show()"
   ],
   "id": "dd05e9deac2d0eec",
   "execution_count": 59,
   "outputs": []
  },
  {
   "metadata": {
    "ExecuteTime": {
     "end_time": "2024-06-19T17:56:43.903723Z",
     "start_time": "2024-06-19T17:56:43.902186Z"
    }
   },
   "cell_type": "code",
   "source": "\n",
   "id": "335b31f43f706a8c",
   "execution_count": 10,
   "outputs": []
  }
 ],
 "metadata": {
  "kernelspec": {
   "display_name": "Python 3",
   "language": "python",
   "name": "python3"
  },
  "language_info": {
   "codemirror_mode": {
    "name": "ipython",
    "version": 2
   },
   "file_extension": ".py",
   "mimetype": "text/x-python",
   "name": "python",
   "nbconvert_exporter": "python",
   "pygments_lexer": "ipython2",
   "version": "2.7.6"
  }
 },
 "nbformat": 4,
 "nbformat_minor": 5
}
